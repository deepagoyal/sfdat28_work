{
 "cells": [
  {
   "cell_type": "code",
   "execution_count": 720,
   "metadata": {
    "collapsed": true
   },
   "outputs": [],
   "source": [
    "##\n",
    "##Script to get List of categories available in Yelp that list restraurants in ranking\n",
    "##\n",
    "import pandas as pd\n",
    "import numpy as np\n",
    "#for creating geo coordinate combinations\n",
    "import itertools  as it\n",
    "from yelpapi import YelpAPI\n",
    "import requests     # how python goes onto the internet!\n",
    "import re           # regex\n",
    "from bs4 import BeautifulSoup # a python HTML parser (version 3)\n",
    "from urllib2 import Request, urlopen\n",
    "import json\n",
    "from pandas.io.json import json_normalize\n",
    "%matplotlib inline\n",
    "from pprint import pprint\n",
    "import urllib\n"
   ]
  },
  {
   "cell_type": "code",
   "execution_count": 721,
   "metadata": {
    "collapsed": false
   },
   "outputs": [],
   "source": [
    "def find_between( s, first, last ):\n",
    "    try:\n",
    "        start = s.index( first ) + len( first )\n",
    "        end = s.index( last, start )\n",
    "        return s[start:end]\n",
    "    except ValueError:\n",
    "        return \"\""
   ]
  },
  {
   "cell_type": "code",
   "execution_count": 820,
   "metadata": {
    "collapsed": false
   },
   "outputs": [],
   "source": [
    "def met(url):\n",
    "    r = requests.get(url)\n",
    "    b = BeautifulSoup(r.text, 'html.parser') # try this line instead if you have problems\n",
    "    #Make a dictionary of description table\n",
    "    dl = b.find_all(\"dl\")\n",
    "    dc = {}\n",
    "    for i in dl:\n",
    "        dd = []\n",
    "        for d in i.find_all(\"dd\"):\n",
    "            dd += [d.text.replace('\\n', '').replace('\\r', '').replace('\\u', '')]\n",
    "        dc[i.find_all(\"dt\")[0].text.split(\":\")[:1][0]] = dd\n",
    "    \n",
    "    #dc is the top table\n",
    "    #creating tc to get rest of the detail about the artwork\n",
    "    h = [span.get_text() for span in b.find_all(\"header\",{\"class\":\"accordion__header\"})][1:]\n",
    "    d = [span.get_text() for span in b.find_all(\"div\",{\"class\":\"accordion__content ng-hide\"})]\n",
    "    #for i in h:i.replace(' ', '')\n",
    "    h = [i.replace('\\n', '').replace('\\r', '').replace('  ','') for i in h]\n",
    "    d = [i.replace('\\n', '').replace('\\r', '').replace('  ','') for i in d]\n",
    "    tc = dict(zip(h, d))\n",
    "    met = dict(dc, **tc)\n",
    "    \n",
    "    #Add new columns\n",
    "    met['SourceLink'] = url\n",
    "    #met['ImageURL'] = find_between(str(b.findAll('div', attrs={'class' : 'collection-results'})[0].find_all('img')[0]['ng-src']).replace(\"'\", ''), '(', ')')\n",
    "    #met['ImageURL'] = str(b.findAll('div', attrs={'class' : 'collection-results'})[0].find_all('img')[0])\n",
    "#    met['ImageURL'] = b.findAll('div', attrs={'class' : 'collection-results'})[0].find_all('img')[0].get('ng-src') if b.findAll('div', attrs={'class' : 'collection-results'})[0].find_all('img')[0].get('src') is None\n",
    "    #if b.findAll('div', attrs={'class' : 'collection-results'})[0].find_all('img')[0].get('src') is None:\n",
    "    met['ImageURL'] = find_between(str(b.findAll('div', attrs={'class' : 'collection-results'})[0].find_all('img')[0].get('ng-src')).replace(\"'\", ''), '(', ')')\n",
    "    met['ImageURL2'] = (str(b.findAll('div', attrs={'class' : 'collection-results'})[0].find_all('img')[0].get('src')))\n",
    "    \n",
    "    \n",
    "    met['gallery'] = [span.get_text() for span in b.find_all(\"span\",{\"class\":\"card__meta-gallery\"})][0].split(\":\",1)[1]\n",
    "    met['Title'] = b.findAll('h1', attrs={'class' : 'collection-details__object-title'})[0].text\n",
    "    met = pd.DataFrame(met)  \n",
    "    nxt_url = 'http://www.metmuseum.org' + b.findAll('a', attrs={'class':'collection-results__nav collection-results__nav-next'})[0]['href']\n",
    "    return met, nxt_url;"
   ]
  },
  {
   "cell_type": "code",
   "execution_count": 821,
   "metadata": {
    "collapsed": false
   },
   "outputs": [],
   "source": [
    "url = 'http://www.metmuseum.org/art/collection/search/38780?pos=1&pg=1&rpp=20&offset=0&rndkey=20161127&ft=*&deptids=6'\n",
    "temp = met(url)\n",
    "a = temp[0]"
   ]
  },
  {
   "cell_type": "code",
   "execution_count": 822,
   "metadata": {
    "collapsed": false
   },
   "outputs": [
    {
     "data": {
      "text/html": [
       "<div>\n",
       "<table border=\"1\" class=\"dataframe\">\n",
       "  <thead>\n",
       "    <tr style=\"text-align: right;\">\n",
       "      <th></th>\n",
       "      <th>Accession Number</th>\n",
       "      <th>Classification</th>\n",
       "      <th>Credit Line</th>\n",
       "      <th>Culture</th>\n",
       "      <th>Date</th>\n",
       "      <th>Dimensions</th>\n",
       "      <th>ImageURL</th>\n",
       "      <th>ImageURL2</th>\n",
       "      <th>Medium</th>\n",
       "      <th>SourceLink</th>\n",
       "      <th>Timeline of Art History (2000-present)</th>\n",
       "      <th>Title</th>\n",
       "      <th>gallery</th>\n",
       "    </tr>\n",
       "  </thead>\n",
       "  <tbody>\n",
       "    <tr>\n",
       "      <th>0</th>\n",
       "      <td>13.96.8</td>\n",
       "      <td>Sculpture</td>\n",
       "      <td>Rogers Fund, 1913</td>\n",
       "      <td>Pakistan (ancient region of Gandhara)</td>\n",
       "      <td>3rd–5th century</td>\n",
       "      <td>H. 5 1/8 in. (13 cm)</td>\n",
       "      <td>http://images.metmuseum.org/CRDImages/as/web-l...</td>\n",
       "      <td>None</td>\n",
       "      <td>Stone</td>\n",
       "      <td>http://www.metmuseum.org/art/collection/search...</td>\n",
       "      <td>[ Colonel M. C. Cooke-Collis , England, ca. 18...</td>\n",
       "      <td>Head of a Bodhisattva</td>\n",
       "      <td>Gallery 235</td>\n",
       "    </tr>\n",
       "  </tbody>\n",
       "</table>\n",
       "</div>"
      ],
      "text/plain": [
       "  Accession Number Classification        Credit Line  \\\n",
       "0          13.96.8      Sculpture  Rogers Fund, 1913   \n",
       "\n",
       "                                 Culture             Date  \\\n",
       "0  Pakistan (ancient region of Gandhara)  3rd–5th century   \n",
       "\n",
       "             Dimensions                                           ImageURL  \\\n",
       "0  H. 5 1/8 in. (13 cm)  http://images.metmuseum.org/CRDImages/as/web-l...   \n",
       "\n",
       "  ImageURL2 Medium                                         SourceLink  \\\n",
       "0      None  Stone  http://www.metmuseum.org/art/collection/search...   \n",
       "\n",
       "              Timeline of Art History (2000-present)                  Title  \\\n",
       "0  [ Colonel M. C. Cooke-Collis , England, ca. 18...  Head of a Bodhisattva   \n",
       "\n",
       "       gallery  \n",
       "0  Gallery 235  "
      ]
     },
     "execution_count": 822,
     "metadata": {},
     "output_type": "execute_result"
    }
   ],
   "source": [
    "a"
   ]
  },
  {
   "cell_type": "code",
   "execution_count": 823,
   "metadata": {
    "collapsed": false
   },
   "outputs": [],
   "source": [
    "url = 'http://www.metmuseum.org/art/collection/search/38780?pos=1&pg=1&rpp=20&offset=0&rndkey=20161127&ft=*&deptids=6'    \n",
    "i = 1\n",
    "while i<= 5:\n",
    "    c = met(url)\n",
    "    a = a.append(c[0])\n",
    "    url = c[1]\n",
    "    i+=1;"
   ]
  },
  {
   "cell_type": "code",
   "execution_count": 848,
   "metadata": {
    "collapsed": false
   },
   "outputs": [],
   "source": [
    "a.to_csv('../data/met_asianart.csv',encoding='utf-8')"
   ]
  },
  {
   "cell_type": "code",
   "execution_count": null,
   "metadata": {
    "collapsed": true
   },
   "outputs": [],
   "source": []
  }
 ],
 "metadata": {
  "kernelspec": {
   "display_name": "Python 2",
   "language": "python",
   "name": "python2"
  },
  "language_info": {
   "codemirror_mode": {
    "name": "ipython",
    "version": 2
   },
   "file_extension": ".py",
   "mimetype": "text/x-python",
   "name": "python",
   "nbconvert_exporter": "python",
   "pygments_lexer": "ipython2",
   "version": "2.7.11"
  }
 },
 "nbformat": 4,
 "nbformat_minor": 0
}
