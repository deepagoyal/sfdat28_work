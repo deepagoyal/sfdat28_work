{
 "cells": [
  {
   "cell_type": "code",
   "execution_count": 68,
   "metadata": {
    "collapsed": false
   },
   "outputs": [],
   "source": [
    "##\n",
    "##Script to get List of categories available in Yelp that list restraurants in ranking\n",
    "##\n",
    "import pandas as pd\n",
    "import numpy as np\n",
    "\n",
    "from yelpapi import YelpAPI\n",
    "import requests     # how python goes onto the internet!\n",
    "import re           # regex\n",
    "from bs4 import BeautifulSoup # a python HTML parser (version 3)\n",
    "from urllib2 import Request, urlopen\n",
    "import json\n",
    "from pandas.io.json import json_normalize\n",
    "%matplotlib inline"
   ]
  },
  {
   "cell_type": "code",
   "execution_count": 52,
   "metadata": {
    "collapsed": true
   },
   "outputs": [],
   "source": [
    "#https://www.yelp.com/developers/v2/manage_api_keys refresh to generate new keys\n",
    "api_key = 'SD5ybcet2QSwWXz2N7M5lw'\n",
    "api_secret = 'EJBXJBAFgEka0br1ynT6HwWJVT8'\n",
    "access_token = 'EESADq5kSfBL4XkbxzwJxsqhZIgQHbJs'\n",
    "access_secret = 'JMU-eh8i0eVUUYxJcjelLkZEfTY'"
   ]
  },
  {
   "cell_type": "code",
   "execution_count": 53,
   "metadata": {
    "collapsed": true
   },
   "outputs": [],
   "source": [
    "yelp_api = YelpAPI(api_key, api_secret, access_token, access_secret)"
   ]
  },
  {
   "cell_type": "code",
   "execution_count": 75,
   "metadata": {
    "collapsed": false
   },
   "outputs": [],
   "source": [
    "sw_latitude = '38.807244'\n",
    "sw_longitude = '-121.446011'\n",
    "nw_latitude = '37.807244'\n",
    "nw_longitude = '-122.446011'\n",
    "bounds = sw_latitude+','+sw_longitude+'|'+nw_latitude+','+nw_longitude\n",
    "#search_results = yelp_api.search_query(term = 'bar',ll='37.807244, -122.446011')"
   ]
  },
  {
   "cell_type": "code",
   "execution_count": 76,
   "metadata": {
    "collapsed": false
   },
   "outputs": [],
   "source": [
    "search_results = yelp_api.search_query(term= 'bar', bounds=bounds)\n",
    "yelpbars = json_normalize(search_results['businesses'])"
   ]
  },
  {
   "cell_type": "code",
   "execution_count": 77,
   "metadata": {
    "collapsed": false
   },
   "outputs": [],
   "source": [
    "business_detail = yelp_api.business_query(id='causwells-san-francisco-5')\n",
    "business = json_normalize(business_detail)"
   ]
  },
  {
   "cell_type": "code",
   "execution_count": 78,
   "metadata": {
    "collapsed": false
   },
   "outputs": [
    {
     "ename": "NameError",
     "evalue": "name 'arange' is not defined",
     "output_type": "error",
     "traceback": [
      "\u001b[0;31m---------------------------------------------------------------------------\u001b[0m",
      "\u001b[0;31mNameError\u001b[0m                                 Traceback (most recent call last)",
      "\u001b[0;32m<ipython-input-78-f49385f2eb73>\u001b[0m in \u001b[0;36m<module>\u001b[0;34m()\u001b[0m\n\u001b[1;32m      1\u001b[0m \u001b[0;31m#arange(-1,1,0.1)\u001b[0m\u001b[0;34m\u001b[0m\u001b[0;34m\u001b[0m\u001b[0m\n\u001b[0;32m----> 2\u001b[0;31m \u001b[0marange\u001b[0m\u001b[0;34m(\u001b[0m\u001b[0;36m1\u001b[0m\u001b[0;34m,\u001b[0m\u001b[0;36m11\u001b[0m\u001b[0;34m,\u001b[0m\u001b[0;36m3\u001b[0m\u001b[0;34m)\u001b[0m\u001b[0;34m\u001b[0m\u001b[0m\n\u001b[0m",
      "\u001b[0;31mNameError\u001b[0m: name 'arange' is not defined"
     ]
    }
   ],
   "source": [
    "#arange(-1,1,0.1)\n",
    "arange(1,11,3)"
   ]
  },
  {
   "cell_type": "code",
   "execution_count": null,
   "metadata": {
    "collapsed": true
   },
   "outputs": [],
   "source": []
  }
 ],
 "metadata": {
  "kernelspec": {
   "display_name": "Python 2",
   "language": "python",
   "name": "python2"
  },
  "language_info": {
   "codemirror_mode": {
    "name": "ipython",
    "version": 2
   },
   "file_extension": ".py",
   "mimetype": "text/x-python",
   "name": "python",
   "nbconvert_exporter": "python",
   "pygments_lexer": "ipython2",
   "version": "2.7.11"
  }
 },
 "nbformat": 4,
 "nbformat_minor": 0
}
