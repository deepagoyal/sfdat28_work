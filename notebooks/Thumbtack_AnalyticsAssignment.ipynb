{
 "cells": [
  {
   "cell_type": "markdown",
   "metadata": {},
   "source": [
    "# Thumbtack Analytics take-home Assignment\n",
    "#### Deepa Goyal 11/22/2016"
   ]
  },
  {
   "cell_type": "code",
   "execution_count": 2,
   "metadata": {
    "collapsed": true
   },
   "outputs": [],
   "source": [
    "import pandas as pd\n",
    "# pd.set_option('max_colwidth', 50)\n",
    "# set this if you need to\n",
    "import seaborn as sns\n",
    "import numpy as np\n",
    "import matplotlib.pyplot as plt\n",
    "%matplotlib inline\n",
    "import requests"
   ]
  },
  {
   "cell_type": "markdown",
   "metadata": {},
   "source": [
    "### Import csv to dataframe"
   ]
  },
  {
   "cell_type": "code",
   "execution_count": 43,
   "metadata": {
    "collapsed": true
   },
   "outputs": [],
   "source": [
    "quotes = pd.read_csv('../data/quotes.csv', parse_dates=True)\n",
    "visitors = pd.read_csv('../data/visitors.csv', parse_dates=True)"
   ]
  },
  {
   "cell_type": "markdown",
   "metadata": {},
   "source": [
    "### Let's take a look at these datasets"
   ]
  },
  {
   "cell_type": "code",
   "execution_count": 44,
   "metadata": {
    "collapsed": false
   },
   "outputs": [
    {
     "name": "stdout",
     "output_type": "stream",
     "text": [
      "(64330, 5)\n",
      "(59996, 8)\n"
     ]
    }
   ],
   "source": [
    "print quotes.shape\n",
    "print visitors.shape"
   ]
  },
  {
   "cell_type": "code",
   "execution_count": 45,
   "metadata": {
    "collapsed": false
   },
   "outputs": [
    {
     "data": {
      "text/html": [
       "<div>\n",
       "<table border=\"1\" class=\"dataframe\">\n",
       "  <thead>\n",
       "    <tr style=\"text-align: right;\">\n",
       "      <th></th>\n",
       "      <th>request_id</th>\n",
       "      <th>quote_id</th>\n",
       "      <th>quote_price</th>\n",
       "      <th>hired</th>\n",
       "      <th>pro_id</th>\n",
       "    </tr>\n",
       "  </thead>\n",
       "  <tbody>\n",
       "    <tr>\n",
       "      <th>0</th>\n",
       "      <td>1</td>\n",
       "      <td>38912310</td>\n",
       "      <td>NaN</td>\n",
       "      <td>0</td>\n",
       "      <td>851539</td>\n",
       "    </tr>\n",
       "    <tr>\n",
       "      <th>1</th>\n",
       "      <td>1</td>\n",
       "      <td>38912311</td>\n",
       "      <td>210.0</td>\n",
       "      <td>0</td>\n",
       "      <td>10113954</td>\n",
       "    </tr>\n",
       "    <tr>\n",
       "      <th>2</th>\n",
       "      <td>1</td>\n",
       "      <td>38913628</td>\n",
       "      <td>NaN</td>\n",
       "      <td>0</td>\n",
       "      <td>13498826</td>\n",
       "    </tr>\n",
       "    <tr>\n",
       "      <th>3</th>\n",
       "      <td>1</td>\n",
       "      <td>38914071</td>\n",
       "      <td>NaN</td>\n",
       "      <td>0</td>\n",
       "      <td>15921289</td>\n",
       "    </tr>\n",
       "    <tr>\n",
       "      <th>4</th>\n",
       "      <td>1</td>\n",
       "      <td>38912344</td>\n",
       "      <td>NaN</td>\n",
       "      <td>0</td>\n",
       "      <td>14506387</td>\n",
       "    </tr>\n",
       "  </tbody>\n",
       "</table>\n",
       "</div>"
      ],
      "text/plain": [
       "   request_id  quote_id  quote_price  hired    pro_id\n",
       "0           1  38912310          NaN      0    851539\n",
       "1           1  38912311        210.0      0  10113954\n",
       "2           1  38913628          NaN      0  13498826\n",
       "3           1  38914071          NaN      0  15921289\n",
       "4           1  38912344          NaN      0  14506387"
      ]
     },
     "execution_count": 45,
     "metadata": {},
     "output_type": "execute_result"
    }
   ],
   "source": [
    "quotes.head()"
   ]
  },
  {
   "cell_type": "code",
   "execution_count": 46,
   "metadata": {
    "collapsed": false
   },
   "outputs": [
    {
     "data": {
      "text/html": [
       "<div>\n",
       "<table border=\"1\" class=\"dataframe\">\n",
       "  <thead>\n",
       "    <tr style=\"text-align: right;\">\n",
       "      <th></th>\n",
       "      <th>session_date</th>\n",
       "      <th>device</th>\n",
       "      <th>category_name</th>\n",
       "      <th>sent_request</th>\n",
       "      <th>request_id</th>\n",
       "      <th>how_far</th>\n",
       "      <th>num_bedrooms</th>\n",
       "      <th>num_bathrooms</th>\n",
       "    </tr>\n",
       "  </thead>\n",
       "  <tbody>\n",
       "    <tr>\n",
       "      <th>0</th>\n",
       "      <td>8/1/16</td>\n",
       "      <td>desktop</td>\n",
       "      <td>House Cleaning (One Time)</td>\n",
       "      <td>1</td>\n",
       "      <td>9067.0</td>\n",
       "      <td>NaN</td>\n",
       "      <td>1 bedroom</td>\n",
       "      <td>1 bathroom</td>\n",
       "    </tr>\n",
       "    <tr>\n",
       "      <th>1</th>\n",
       "      <td>8/1/16</td>\n",
       "      <td>desktop</td>\n",
       "      <td>Local Moving (under 50 miles)</td>\n",
       "      <td>1</td>\n",
       "      <td>12707.0</td>\n",
       "      <td>Less than 5 miles</td>\n",
       "      <td>NaN</td>\n",
       "      <td>NaN</td>\n",
       "    </tr>\n",
       "    <tr>\n",
       "      <th>2</th>\n",
       "      <td>8/1/16</td>\n",
       "      <td>desktop</td>\n",
       "      <td>Local Moving (under 50 miles)</td>\n",
       "      <td>1</td>\n",
       "      <td>19561.0</td>\n",
       "      <td>Less than 5 miles</td>\n",
       "      <td>NaN</td>\n",
       "      <td>NaN</td>\n",
       "    </tr>\n",
       "    <tr>\n",
       "      <th>3</th>\n",
       "      <td>8/1/16</td>\n",
       "      <td>mobile</td>\n",
       "      <td>Local Moving (under 50 miles)</td>\n",
       "      <td>1</td>\n",
       "      <td>31010.0</td>\n",
       "      <td>Less than 5 miles</td>\n",
       "      <td>NaN</td>\n",
       "      <td>NaN</td>\n",
       "    </tr>\n",
       "    <tr>\n",
       "      <th>4</th>\n",
       "      <td>8/1/16</td>\n",
       "      <td>mobile</td>\n",
       "      <td>Local Moving (under 50 miles)</td>\n",
       "      <td>1</td>\n",
       "      <td>6887.0</td>\n",
       "      <td>11 - 20 miles</td>\n",
       "      <td>NaN</td>\n",
       "      <td>NaN</td>\n",
       "    </tr>\n",
       "  </tbody>\n",
       "</table>\n",
       "</div>"
      ],
      "text/plain": [
       "  session_date   device                  category_name  sent_request  \\\n",
       "0       8/1/16  desktop      House Cleaning (One Time)             1   \n",
       "1       8/1/16  desktop  Local Moving (under 50 miles)             1   \n",
       "2       8/1/16  desktop  Local Moving (under 50 miles)             1   \n",
       "3       8/1/16   mobile  Local Moving (under 50 miles)             1   \n",
       "4       8/1/16   mobile  Local Moving (under 50 miles)             1   \n",
       "\n",
       "   request_id            how_far num_bedrooms num_bathrooms  \n",
       "0      9067.0                NaN    1 bedroom    1 bathroom  \n",
       "1     12707.0  Less than 5 miles          NaN           NaN  \n",
       "2     19561.0  Less than 5 miles          NaN           NaN  \n",
       "3     31010.0  Less than 5 miles          NaN           NaN  \n",
       "4      6887.0      11 - 20 miles          NaN           NaN  "
      ]
     },
     "execution_count": 46,
     "metadata": {},
     "output_type": "execute_result"
    }
   ],
   "source": [
    "visitors.head()"
   ]
  },
  {
   "cell_type": "code",
   "execution_count": 50,
   "metadata": {
    "collapsed": false
   },
   "outputs": [],
   "source": [
    "visitors['session_date'] = pd.to_datetime(visitors['session_date'])"
   ]
  },
  {
   "cell_type": "markdown",
   "metadata": {},
   "source": [
    "### 1. Visitors and Conversion rate\n",
    "#### How does the number of users change over time? "
   ]
  },
  {
   "cell_type": "code",
   "execution_count": 143,
   "metadata": {
    "collapsed": false
   },
   "outputs": [
    {
     "data": {
      "text/plain": [
       "<matplotlib.axes._subplots.AxesSubplot at 0x125892e90>"
      ]
     },
     "execution_count": 143,
     "metadata": {},
     "output_type": "execute_result"
    },
    {
     "data": {
      "image/png": "[encoded data removed]",
      "text/plain": [
       "<matplotlib.figure.Figure at 0x12719d910>"
      ]
     },
     "metadata": {},
     "output_type": "display_data"
    }
   ],
   "source": [
    "visitors.session_date.value_counts().sort_index().plot(kind='line', figsize = (12,6))"
   ]
  },
  {
   "cell_type": "markdown",
   "metadata": {},
   "source": [
    "##### Observations\n",
    "1. We have data for all dates starting 08/01/2016 to 08/28/2016 with no dates missing.\n",
    "2. Exactly 4 weeks of data\n",
    "3. There seems to be a 7 day repeating pattern with number of visitors spiking on day 1.\n",
    "4. Since 08/01/2016 was a monday, we can interpret the spikes on mondays while weekends being fairly low."
   ]
  },
  {
   "cell_type": "markdown",
   "metadata": {
    "collapsed": true
   },
   "source": [
    "#### What percent of users submit a project request?"
   ]
  },
  {
   "cell_type": "code",
   "execution_count": 136,
   "metadata": {
    "collapsed": false
   },
   "outputs": [
    {
     "name": "stdout",
     "output_type": "stream",
     "text": [
      "34146\n",
      "59996\n",
      "In the time frame of this data 56.913794253% of users sent requests\n"
     ]
    }
   ],
   "source": [
    "from __future__ import division\n",
    "#Users with sent request = 1\n",
    "print visitors[visitors.sent_request==1].shape[0]\n",
    "#All Users\n",
    "print visitors.shape[0]\n",
    "#Users who sent request as a percent of total users\n",
    "print 'In the time frame of this data ' + str(100* visitors[visitors.sent_request==1].shape[0] / visitors.shape[0]) + '% of users sent requests'"
   ]
  },
  {
   "cell_type": "markdown",
   "metadata": {},
   "source": [
    "#### How do category and device influence these metrics?"
   ]
  },
  {
   "cell_type": "code",
   "execution_count": 141,
   "metadata": {
    "collapsed": false
   },
   "outputs": [
    {
     "data": {
      "image/png": "[encoded data removed]",
      "text/plain": [
       "<matplotlib.figure.Figure at 0x121b10390>"
      ]
     },
     "metadata": {},
     "output_type": "display_data"
    }
   ],
   "source": [
    "sns.violinplot(x=\"session_date\", y=\"sent_request\", hue=\"device\", data=visitors, split=True);"
   ]
  },
  {
   "cell_type": "markdown",
   "metadata": {},
   "source": [
    "### 2. Quotes per request"
   ]
  },
  {
   "cell_type": "markdown",
   "metadata": {},
   "source": [
    "#### What is the distribution of number of quotes per request?"
   ]
  },
  {
   "cell_type": "code",
   "execution_count": null,
   "metadata": {
    "collapsed": true
   },
   "outputs": [],
   "source": []
  }
 ],
 "metadata": {
  "kernelspec": {
   "display_name": "Python 2",
   "language": "python",
   "name": "python2"
  },
  "language_info": {
   "codemirror_mode": {
    "name": "ipython",
    "version": 2
   },
   "file_extension": ".py",
   "mimetype": "text/x-python",
   "name": "python",
   "nbconvert_exporter": "python",
   "pygments_lexer": "ipython2",
   "version": "2.7.11"
  }
 },
 "nbformat": 4,
 "nbformat_minor": 0
}
