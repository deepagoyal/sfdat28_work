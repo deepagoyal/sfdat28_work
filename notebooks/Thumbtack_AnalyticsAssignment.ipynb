{
 "cells": [
  {
   "cell_type": "code",
   "execution_count": 1,
   "metadata": {
    "collapsed": true
   },
   "outputs": [],
   "source": [
    "import pandas as pd\n",
    "# pd.set_option('max_colwidth', 50)\n",
    "# set this if you need to\n",
    "import seaborn as sns\n",
    "import numpy as np\n",
    "import matplotlib.pyplot as plt\n",
    "%matplotlib inline\n",
    "import requests"
   ]
  },
  {
   "cell_type": "markdown",
   "metadata": {},
   "source": [
    "### Import csv to dataframe"
   ]
  },
  {
   "cell_type": "code",
   "execution_count": 11,
   "metadata": {
    "collapsed": true
   },
   "outputs": [],
   "source": [
    "quotes = pd.read_csv('../data/quotes.csv', parse_dates=True)\n",
    "visitors = pd.read_csv('../data/visitors.csv', parse_dates=True)"
   ]
  },
  {
   "cell_type": "markdown",
   "metadata": {},
   "source": [
    "### Let's take a look at these datasets"
   ]
  },
  {
   "cell_type": "code",
   "execution_count": 12,
   "metadata": {
    "collapsed": false
   },
   "outputs": [
    {
     "name": "stdout",
     "output_type": "stream",
     "text": [
      "(64330, 5)\n",
      "(59996, 8)\n"
     ]
    }
   ],
   "source": [
    "print quotes.shape\n",
    "print visitors.shape"
   ]
  },
  {
   "cell_type": "code",
   "execution_count": 13,
   "metadata": {
    "collapsed": false
   },
   "outputs": [
    {
     "data": {
      "text/html": [
       "<div>\n",
       "<table border=\"1\" class=\"dataframe\">\n",
       "  <thead>\n",
       "    <tr style=\"text-align: right;\">\n",
       "      <th></th>\n",
       "      <th>request_id</th>\n",
       "      <th>quote_id</th>\n",
       "      <th>quote_price</th>\n",
       "      <th>hired</th>\n",
       "      <th>pro_id</th>\n",
       "    </tr>\n",
       "  </thead>\n",
       "  <tbody>\n",
       "    <tr>\n",
       "      <th>0</th>\n",
       "      <td>1</td>\n",
       "      <td>38912310</td>\n",
       "      <td>NaN</td>\n",
       "      <td>0</td>\n",
       "      <td>851539</td>\n",
       "    </tr>\n",
       "    <tr>\n",
       "      <th>1</th>\n",
       "      <td>1</td>\n",
       "      <td>38912311</td>\n",
       "      <td>210.0</td>\n",
       "      <td>0</td>\n",
       "      <td>10113954</td>\n",
       "    </tr>\n",
       "    <tr>\n",
       "      <th>2</th>\n",
       "      <td>1</td>\n",
       "      <td>38913628</td>\n",
       "      <td>NaN</td>\n",
       "      <td>0</td>\n",
       "      <td>13498826</td>\n",
       "    </tr>\n",
       "    <tr>\n",
       "      <th>3</th>\n",
       "      <td>1</td>\n",
       "      <td>38914071</td>\n",
       "      <td>NaN</td>\n",
       "      <td>0</td>\n",
       "      <td>15921289</td>\n",
       "    </tr>\n",
       "    <tr>\n",
       "      <th>4</th>\n",
       "      <td>1</td>\n",
       "      <td>38912344</td>\n",
       "      <td>NaN</td>\n",
       "      <td>0</td>\n",
       "      <td>14506387</td>\n",
       "    </tr>\n",
       "  </tbody>\n",
       "</table>\n",
       "</div>"
      ],
      "text/plain": [
       "   request_id  quote_id  quote_price  hired    pro_id\n",
       "0           1  38912310          NaN      0    851539\n",
       "1           1  38912311        210.0      0  10113954\n",
       "2           1  38913628          NaN      0  13498826\n",
       "3           1  38914071          NaN      0  15921289\n",
       "4           1  38912344          NaN      0  14506387"
      ]
     },
     "execution_count": 13,
     "metadata": {},
     "output_type": "execute_result"
    }
   ],
   "source": [
    "quotes.head()"
   ]
  },
  {
   "cell_type": "code",
   "execution_count": 14,
   "metadata": {
    "collapsed": false
   },
   "outputs": [
    {
     "data": {
      "text/html": [
       "<div>\n",
       "<table border=\"1\" class=\"dataframe\">\n",
       "  <thead>\n",
       "    <tr style=\"text-align: right;\">\n",
       "      <th></th>\n",
       "      <th>session_date</th>\n",
       "      <th>device</th>\n",
       "      <th>category_name</th>\n",
       "      <th>sent_request</th>\n",
       "      <th>request_id</th>\n",
       "      <th>how_far</th>\n",
       "      <th>num_bedrooms</th>\n",
       "      <th>num_bathrooms</th>\n",
       "    </tr>\n",
       "  </thead>\n",
       "  <tbody>\n",
       "    <tr>\n",
       "      <th>0</th>\n",
       "      <td>8/1/16</td>\n",
       "      <td>desktop</td>\n",
       "      <td>House Cleaning (One Time)</td>\n",
       "      <td>1</td>\n",
       "      <td>9067.0</td>\n",
       "      <td>NaN</td>\n",
       "      <td>1 bedroom</td>\n",
       "      <td>1 bathroom</td>\n",
       "    </tr>\n",
       "    <tr>\n",
       "      <th>1</th>\n",
       "      <td>8/1/16</td>\n",
       "      <td>desktop</td>\n",
       "      <td>Local Moving (under 50 miles)</td>\n",
       "      <td>1</td>\n",
       "      <td>12707.0</td>\n",
       "      <td>Less than 5 miles</td>\n",
       "      <td>NaN</td>\n",
       "      <td>NaN</td>\n",
       "    </tr>\n",
       "    <tr>\n",
       "      <th>2</th>\n",
       "      <td>8/1/16</td>\n",
       "      <td>desktop</td>\n",
       "      <td>Local Moving (under 50 miles)</td>\n",
       "      <td>1</td>\n",
       "      <td>19561.0</td>\n",
       "      <td>Less than 5 miles</td>\n",
       "      <td>NaN</td>\n",
       "      <td>NaN</td>\n",
       "    </tr>\n",
       "    <tr>\n",
       "      <th>3</th>\n",
       "      <td>8/1/16</td>\n",
       "      <td>mobile</td>\n",
       "      <td>Local Moving (under 50 miles)</td>\n",
       "      <td>1</td>\n",
       "      <td>31010.0</td>\n",
       "      <td>Less than 5 miles</td>\n",
       "      <td>NaN</td>\n",
       "      <td>NaN</td>\n",
       "    </tr>\n",
       "    <tr>\n",
       "      <th>4</th>\n",
       "      <td>8/1/16</td>\n",
       "      <td>mobile</td>\n",
       "      <td>Local Moving (under 50 miles)</td>\n",
       "      <td>1</td>\n",
       "      <td>6887.0</td>\n",
       "      <td>11 - 20 miles</td>\n",
       "      <td>NaN</td>\n",
       "      <td>NaN</td>\n",
       "    </tr>\n",
       "  </tbody>\n",
       "</table>\n",
       "</div>"
      ],
      "text/plain": [
       "  session_date   device                  category_name  sent_request  \\\n",
       "0       8/1/16  desktop      House Cleaning (One Time)             1   \n",
       "1       8/1/16  desktop  Local Moving (under 50 miles)             1   \n",
       "2       8/1/16  desktop  Local Moving (under 50 miles)             1   \n",
       "3       8/1/16   mobile  Local Moving (under 50 miles)             1   \n",
       "4       8/1/16   mobile  Local Moving (under 50 miles)             1   \n",
       "\n",
       "   request_id            how_far num_bedrooms num_bathrooms  \n",
       "0      9067.0                NaN    1 bedroom    1 bathroom  \n",
       "1     12707.0  Less than 5 miles          NaN           NaN  \n",
       "2     19561.0  Less than 5 miles          NaN           NaN  \n",
       "3     31010.0  Less than 5 miles          NaN           NaN  \n",
       "4      6887.0      11 - 20 miles          NaN           NaN  "
      ]
     },
     "execution_count": 14,
     "metadata": {},
     "output_type": "execute_result"
    }
   ],
   "source": [
    "visitors.head()"
   ]
  },
  {
   "cell_type": "markdown",
   "metadata": {},
   "source": [
    "## 1. Visitors and Conversion rate\n",
    "### How does the number of users change over time? "
   ]
  },
  {
   "cell_type": "code",
   "execution_count": 18,
   "metadata": {
    "collapsed": false
   },
   "outputs": [
    {
     "data": {
      "text/plain": [
       "8/22/16    2825\n",
       "8/15/16    2791\n",
       "8/1/16     2718\n",
       "8/8/16     2661\n",
       "8/23/16    2518\n",
       "8/24/16    2495\n",
       "8/9/16     2491\n",
       "8/16/16    2489\n",
       "8/17/16    2435\n",
       "8/2/16     2428\n",
       "8/25/16    2378\n",
       "8/3/16     2347\n",
       "8/10/16    2329\n",
       "8/4/16     2249\n",
       "8/18/16    2198\n",
       "8/11/16    2174\n",
       "8/26/16    2070\n",
       "8/12/16    1910\n",
       "8/5/16     1893\n",
       "8/19/16    1887\n",
       "8/27/16    1680\n",
       "8/14/16    1649\n",
       "8/28/16    1648\n",
       "8/21/16    1603\n",
       "8/13/16    1562\n",
       "8/20/16    1535\n",
       "8/6/16     1530\n",
       "8/7/16     1503\n",
       "Name: session_date, dtype: int64"
      ]
     },
     "execution_count": 18,
     "metadata": {},
     "output_type": "execute_result"
    }
   ],
   "source": [
    "# Lets start by looking at how number of users across session date.\n",
    "# It might also be interesting to see number of users distributed by divices and category_names\n",
    "visitors.session_date.value_counts()\n",
    "#.plot(x = 'Date', y = 'Population', legend = False)\n",
    "#us_population.plot(x = 'Date', y = 'Population', legend = False)"
   ]
  },
  {
   "cell_type": "code",
   "execution_count": 21,
   "metadata": {
    "collapsed": false
   },
   "outputs": [
    {
     "ename": "AttributeError",
     "evalue": "'DataFrame' object has no attribute 'session_datetime'",
     "output_type": "error",
     "traceback": [
      "\u001b[0;31m---------------------------------------------------------------------------\u001b[0m",
      "\u001b[0;31mAttributeError\u001b[0m                            Traceback (most recent call last)",
      "\u001b[0;32m<ipython-input-21-274851e0aa14>\u001b[0m in \u001b[0;36m<module>\u001b[0;34m()\u001b[0m\n\u001b[0;32m----> 1\u001b[0;31m \u001b[0mpd\u001b[0m\u001b[0;34m.\u001b[0m\u001b[0mto_datetime\u001b[0m\u001b[0;34m(\u001b[0m\u001b[0mvisitors\u001b[0m\u001b[0;34m.\u001b[0m\u001b[0msession_datetime\u001b[0m\u001b[0;34m,\u001b[0m \u001b[0minfer_datetime_format\u001b[0m\u001b[0;34m=\u001b[0m\u001b[0mTrue\u001b[0m\u001b[0;34m)\u001b[0m\u001b[0;34m\u001b[0m\u001b[0m\n\u001b[0m",
      "\u001b[0;32m/Users/thakurs/anaconda2/lib/python2.7/site-packages/pandas/core/generic.pyc\u001b[0m in \u001b[0;36m__getattr__\u001b[0;34m(self, name)\u001b[0m\n\u001b[1;32m   2667\u001b[0m             \u001b[0;32mif\u001b[0m \u001b[0mname\u001b[0m \u001b[0;32min\u001b[0m \u001b[0mself\u001b[0m\u001b[0;34m.\u001b[0m\u001b[0m_info_axis\u001b[0m\u001b[0;34m:\u001b[0m\u001b[0;34m\u001b[0m\u001b[0m\n\u001b[1;32m   2668\u001b[0m                 \u001b[0;32mreturn\u001b[0m \u001b[0mself\u001b[0m\u001b[0;34m[\u001b[0m\u001b[0mname\u001b[0m\u001b[0;34m]\u001b[0m\u001b[0;34m\u001b[0m\u001b[0m\n\u001b[0;32m-> 2669\u001b[0;31m             \u001b[0;32mreturn\u001b[0m \u001b[0mobject\u001b[0m\u001b[0;34m.\u001b[0m\u001b[0m__getattribute__\u001b[0m\u001b[0;34m(\u001b[0m\u001b[0mself\u001b[0m\u001b[0;34m,\u001b[0m \u001b[0mname\u001b[0m\u001b[0;34m)\u001b[0m\u001b[0;34m\u001b[0m\u001b[0m\n\u001b[0m\u001b[1;32m   2670\u001b[0m \u001b[0;34m\u001b[0m\u001b[0m\n\u001b[1;32m   2671\u001b[0m     \u001b[0;32mdef\u001b[0m \u001b[0m__setattr__\u001b[0m\u001b[0;34m(\u001b[0m\u001b[0mself\u001b[0m\u001b[0;34m,\u001b[0m \u001b[0mname\u001b[0m\u001b[0;34m,\u001b[0m \u001b[0mvalue\u001b[0m\u001b[0;34m)\u001b[0m\u001b[0;34m:\u001b[0m\u001b[0;34m\u001b[0m\u001b[0m\n",
      "\u001b[0;31mAttributeError\u001b[0m: 'DataFrame' object has no attribute 'session_datetime'"
     ]
    }
   ],
   "source": [
    "pd.to_datetime(visitors.session_datetime, infer_datetime_format=True)"
   ]
  },
  {
   "cell_type": "code",
   "execution_count": null,
   "metadata": {
    "collapsed": true
   },
   "outputs": [],
   "source": []
  }
 ],
 "metadata": {
  "kernelspec": {
   "display_name": "Python 2",
   "language": "python",
   "name": "python2"
  },
  "language_info": {
   "codemirror_mode": {
    "name": "ipython",
    "version": 2
   },
   "file_extension": ".py",
   "mimetype": "text/x-python",
   "name": "python",
   "nbconvert_exporter": "python",
   "pygments_lexer": "ipython2",
   "version": "2.7.11"
  }
 },
 "nbformat": 4,
 "nbformat_minor": 0
}
