{
 "cells": [
  {
   "cell_type": "markdown",
   "metadata": {},
   "source": [
    "# October 20 (Mandatory): Three potential Questions"
   ]
  },
  {
   "cell_type": "markdown",
   "metadata": {},
   "source": [
    "What are three potential questions you would like to try and answer? What data are you planning to use to answer that question? What do you know about the data so far? Why did you choose these topics? Upload this as a MARKDOWN file in your sfdat26_work repo. Keep in mind these might not be your final questions, but I want you to start thinking as soon as possible. If you know exactly what you want to do and don't want to icnlude two other ideas, please still try to think of two more ideas (just in case).\n",
    "\n",
    "Example:\n",
    "\n",
    "I'm planning to predict passenger survival on the Titanic.\n",
    "I have Kaggle's Titanic dataset with 10 passenger characteristics.\n",
    "I know that many of the fields have missing values, that some of the text fields are messy and will require cleaning, and that about 38% of the passengers in the training set survive.\n",
    "I chose this topic because I'm fascinated by the history of the Titanic."
   ]
  },
  {
   "cell_type": "markdown",
   "metadata": {},
   "source": [
    "### 1. Barhop Engine"
   ]
  },
  {
   "cell_type": "markdown",
   "metadata": {},
   "source": [
    "I wish to be able to create a recommendation engine that can create Bar hopping paths!\n",
    "* Given a start location and price Preference, I want to create a path of bars in the area\n",
    "* Rank bars on basis of price\n",
    "* What should the data be designed for to support a thumbs up or thumbs down feature in an app version?\n",
    "* Remember last bar and recommend next bar to avoid repeats\n",
    "* Potentially Suggest drinks from popular comments\n",
    "\n",
    "I plan the get the data by:\n",
    "* Scrape Yelp/Tripadvisor for data\n",
    "* Potentially get personal history by user for the purpose of customizations, and knowing favorite bars\n",
    "\n",
    "Reason I like this project:\n",
    "* I am trying to build a bar hopping recommendation app to help local businesses by having more people bar hop!\n",
    "* I have a friend helping me to build the front end of the app."
   ]
  },
  {
   "cell_type": "markdown",
   "metadata": {},
   "source": [
    "### 2. Restaurant Analysis"
   ]
  },
  {
   "cell_type": "markdown",
   "metadata": {},
   "source": [
    "I wish to find trends in the restaurant and cafe business. The Verge wrote an article about how most and more businesses the becoming the same across the globe as restaurants and coffee shops exhibit similar menus and interiors.\n",
    "* Are there clear trends in cuisines of trending restaurants?\n",
    "* Are there restaurant names that are more suitable for a certain price range?\n",
    "* How can we spot such trends?\n",
    "\n",
    "I plan to get the data by:\n",
    "* Yelp restaurant ranks\n",
    "\n",
    "Reason I like this project:\n",
    "* I want to explore how data science can help me spot trends and explore/evaluate business ideas\n",
    "* Market research"
   ]
  },
  {
   "cell_type": "markdown",
   "metadata": {},
   "source": [
    "### 3. Prosper Loans Analysis"
   ]
  },
  {
   "cell_type": "markdown",
   "metadata": {},
   "source": [
    "I am helping to develop a better forecast engine that can help us predict the origination potential for a customer as we market to them. This is a multi tiered process and has never been acceptably accurate in the organization.\n",
    "* Given a limited set of user attributes, can we predict if he/she would take a loan from prosper?\n",
    "* Can we make the prediction across time and volume?\n",
    "\n",
    "I have all of prosper data available to me:\n",
    "* Prosper customer data\n",
    "* Loans data\n",
    "* Marketing campaign data\n",
    "\n",
    "Reason I like this project:\n",
    "* Working in Analytics, building finance,marketing,revenue forecasts is relevant for my career growth."
   ]
  },
  {
   "cell_type": "code",
   "execution_count": null,
   "metadata": {
    "collapsed": true
   },
   "outputs": [],
   "source": []
  }
 ],
 "metadata": {
  "kernelspec": {
   "display_name": "Python 2",
   "language": "python",
   "name": "python2"
  },
  "language_info": {
   "codemirror_mode": {
    "name": "ipython",
    "version": 2
   },
   "file_extension": ".py",
   "mimetype": "text/x-python",
   "name": "python",
   "nbconvert_exporter": "python",
   "pygments_lexer": "ipython2",
   "version": "2.7.11"
  }
 },
 "nbformat": 4,
 "nbformat_minor": 0
}
