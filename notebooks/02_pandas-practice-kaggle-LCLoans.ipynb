{
 "cells": [
  {
   "cell_type": "markdown",
   "metadata": {
    "collapsed": true
   },
   "source": [
    "# Lending Club Loans Data from Kaggle"
   ]
  },
  {
   "cell_type": "markdown",
   "metadata": {
    "collapsed": false
   },
   "source": [
    "'''\n",
    "CLASS: Pandas for Data Exploration, Analysis, and Visualization\n",
    "\n",
    "These files contain complete loan data for all loans issued through the 2007-2015, including the current loan status (Current, Late, Fully Paid, etc.) and latest payment information. The file containing loan data through the \"present\" contains complete loan data for all loans issued through the previous completed calendar quarter.\n",
    "'''"
   ]
  },
  {
   "cell_type": "code",
   "execution_count": 38,
   "metadata": {
    "collapsed": false
   },
   "outputs": [
    {
     "ename": "ImportError",
     "evalue": "No module named seaborn",
     "output_type": "error",
     "traceback": [
      "\u001b[1;31m\u001b[0m",
      "\u001b[1;31mImportError\u001b[0mTraceback (most recent call last)",
      "\u001b[1;32m<ipython-input-38-d8aafd01a11a>\u001b[0m in \u001b[0;36m<module>\u001b[1;34m()\u001b[0m\n\u001b[0;32m      4\u001b[0m \u001b[1;32mimport\u001b[0m \u001b[0mmatplotlib\u001b[0m\u001b[1;33m.\u001b[0m\u001b[0mpyplot\u001b[0m \u001b[1;32mas\u001b[0m \u001b[0mplt\u001b[0m\u001b[1;33m\u001b[0m\u001b[0m\n\u001b[0;32m      5\u001b[0m \u001b[0mget_ipython\u001b[0m\u001b[1;33m(\u001b[0m\u001b[1;33m)\u001b[0m\u001b[1;33m.\u001b[0m\u001b[0mmagic\u001b[0m\u001b[1;33m(\u001b[0m\u001b[1;34mu'matplotlib inline'\u001b[0m\u001b[1;33m)\u001b[0m\u001b[1;33m\u001b[0m\u001b[0m\n\u001b[1;32m----> 6\u001b[1;33m \u001b[1;32mimport\u001b[0m \u001b[0mseaborn\u001b[0m \u001b[1;32mas\u001b[0m \u001b[0msns\u001b[0m\u001b[1;33m\u001b[0m\u001b[0m\n\u001b[0m",
      "\u001b[1;31mImportError\u001b[0m: No module named seaborn"
     ]
    }
   ],
   "source": [
    "# imports\n",
    "import pandas as pd\n",
    "import numpy as np\n",
    "import matplotlib.pyplot as plt\n",
    "%matplotlib inline"
   ]
  },
  {
   "cell_type": "code",
   "execution_count": 4,
   "metadata": {
    "collapsed": false
   },
   "outputs": [
    {
     "name": "stderr",
     "output_type": "stream",
     "text": [
      "C:\\Users\\dgoyal\\AppData\\Local\\Continuum\\Anaconda2\\lib\\site-packages\\IPython\\core\\interactiveshell.py:2723: DtypeWarning: Columns (19,55) have mixed types. Specify dtype option on import or set low_memory=False.\n",
      "  interactivity=interactivity, compiler=compiler, result=result)\n"
     ]
    },
    {
     "ename": "NameError",
     "evalue": "name 'drinks' is not defined",
     "output_type": "error",
     "traceback": [
      "\u001b[1;31m\u001b[0m",
      "\u001b[1;31mNameError\u001b[0mTraceback (most recent call last)",
      "\u001b[1;32m<ipython-input-4-a315f284c866>\u001b[0m in \u001b[0;36m<module>\u001b[1;34m()\u001b[0m\n\u001b[0;32m      6\u001b[0m \u001b[0mloans\u001b[0m \u001b[1;33m=\u001b[0m \u001b[0mpd\u001b[0m\u001b[1;33m.\u001b[0m\u001b[0mread_csv\u001b[0m\u001b[1;33m(\u001b[0m\u001b[1;34m'../data/loan.csv'\u001b[0m\u001b[1;33m)\u001b[0m\u001b[1;33m\u001b[0m\u001b[0m\n\u001b[0;32m      7\u001b[0m \u001b[1;33m\u001b[0m\u001b[0m\n\u001b[1;32m----> 8\u001b[1;33m \u001b[0mtype\u001b[0m\u001b[1;33m(\u001b[0m\u001b[0mdrinks\u001b[0m\u001b[1;33m)\u001b[0m            \u001b[1;31m# Use the type method to check python type\u001b[0m\u001b[1;33m\u001b[0m\u001b[0m\n\u001b[0m",
      "\u001b[1;31mNameError\u001b[0m: name 'drinks' is not defined"
     ]
    }
   ],
   "source": [
    "'''\n",
    "Pandas Basics: Reading Files, Summarizing, Handling Missing Values, Filtering, Sorting\n",
    "'''\n",
    "\n",
    "# read in the CSV file from a URL\n",
    "loans = pd.read_csv('../data/loan.csv')\n",
    "\n",
    "#type(drinks)            # Use the type method to check python type\n"
   ]
  },
  {
   "cell_type": "code",
   "execution_count": 5,
   "metadata": {
    "collapsed": false
   },
   "outputs": [
    {
     "data": {
      "text/html": [
       "<div>\n",
       "<table border=\"1\" class=\"dataframe\">\n",
       "  <thead>\n",
       "    <tr style=\"text-align: right;\">\n",
       "      <th></th>\n",
       "      <th>id</th>\n",
       "      <th>member_id</th>\n",
       "      <th>loan_amnt</th>\n",
       "      <th>funded_amnt</th>\n",
       "      <th>funded_amnt_inv</th>\n",
       "      <th>term</th>\n",
       "      <th>int_rate</th>\n",
       "      <th>installment</th>\n",
       "      <th>grade</th>\n",
       "      <th>sub_grade</th>\n",
       "      <th>...</th>\n",
       "      <th>total_bal_il</th>\n",
       "      <th>il_util</th>\n",
       "      <th>open_rv_12m</th>\n",
       "      <th>open_rv_24m</th>\n",
       "      <th>max_bal_bc</th>\n",
       "      <th>all_util</th>\n",
       "      <th>total_rev_hi_lim</th>\n",
       "      <th>inq_fi</th>\n",
       "      <th>total_cu_tl</th>\n",
       "      <th>inq_last_12m</th>\n",
       "    </tr>\n",
       "  </thead>\n",
       "  <tbody>\n",
       "    <tr>\n",
       "      <th>0</th>\n",
       "      <td>1077501</td>\n",
       "      <td>1296599</td>\n",
       "      <td>5000.0</td>\n",
       "      <td>5000.0</td>\n",
       "      <td>4975.0</td>\n",
       "      <td>36 months</td>\n",
       "      <td>10.65</td>\n",
       "      <td>162.87</td>\n",
       "      <td>B</td>\n",
       "      <td>B2</td>\n",
       "      <td>...</td>\n",
       "      <td>NaN</td>\n",
       "      <td>NaN</td>\n",
       "      <td>NaN</td>\n",
       "      <td>NaN</td>\n",
       "      <td>NaN</td>\n",
       "      <td>NaN</td>\n",
       "      <td>NaN</td>\n",
       "      <td>NaN</td>\n",
       "      <td>NaN</td>\n",
       "      <td>NaN</td>\n",
       "    </tr>\n",
       "    <tr>\n",
       "      <th>1</th>\n",
       "      <td>1077430</td>\n",
       "      <td>1314167</td>\n",
       "      <td>2500.0</td>\n",
       "      <td>2500.0</td>\n",
       "      <td>2500.0</td>\n",
       "      <td>60 months</td>\n",
       "      <td>15.27</td>\n",
       "      <td>59.83</td>\n",
       "      <td>C</td>\n",
       "      <td>C4</td>\n",
       "      <td>...</td>\n",
       "      <td>NaN</td>\n",
       "      <td>NaN</td>\n",
       "      <td>NaN</td>\n",
       "      <td>NaN</td>\n",
       "      <td>NaN</td>\n",
       "      <td>NaN</td>\n",
       "      <td>NaN</td>\n",
       "      <td>NaN</td>\n",
       "      <td>NaN</td>\n",
       "      <td>NaN</td>\n",
       "    </tr>\n",
       "    <tr>\n",
       "      <th>2</th>\n",
       "      <td>1077175</td>\n",
       "      <td>1313524</td>\n",
       "      <td>2400.0</td>\n",
       "      <td>2400.0</td>\n",
       "      <td>2400.0</td>\n",
       "      <td>36 months</td>\n",
       "      <td>15.96</td>\n",
       "      <td>84.33</td>\n",
       "      <td>C</td>\n",
       "      <td>C5</td>\n",
       "      <td>...</td>\n",
       "      <td>NaN</td>\n",
       "      <td>NaN</td>\n",
       "      <td>NaN</td>\n",
       "      <td>NaN</td>\n",
       "      <td>NaN</td>\n",
       "      <td>NaN</td>\n",
       "      <td>NaN</td>\n",
       "      <td>NaN</td>\n",
       "      <td>NaN</td>\n",
       "      <td>NaN</td>\n",
       "    </tr>\n",
       "    <tr>\n",
       "      <th>3</th>\n",
       "      <td>1076863</td>\n",
       "      <td>1277178</td>\n",
       "      <td>10000.0</td>\n",
       "      <td>10000.0</td>\n",
       "      <td>10000.0</td>\n",
       "      <td>36 months</td>\n",
       "      <td>13.49</td>\n",
       "      <td>339.31</td>\n",
       "      <td>C</td>\n",
       "      <td>C1</td>\n",
       "      <td>...</td>\n",
       "      <td>NaN</td>\n",
       "      <td>NaN</td>\n",
       "      <td>NaN</td>\n",
       "      <td>NaN</td>\n",
       "      <td>NaN</td>\n",
       "      <td>NaN</td>\n",
       "      <td>NaN</td>\n",
       "      <td>NaN</td>\n",
       "      <td>NaN</td>\n",
       "      <td>NaN</td>\n",
       "    </tr>\n",
       "    <tr>\n",
       "      <th>4</th>\n",
       "      <td>1075358</td>\n",
       "      <td>1311748</td>\n",
       "      <td>3000.0</td>\n",
       "      <td>3000.0</td>\n",
       "      <td>3000.0</td>\n",
       "      <td>60 months</td>\n",
       "      <td>12.69</td>\n",
       "      <td>67.79</td>\n",
       "      <td>B</td>\n",
       "      <td>B5</td>\n",
       "      <td>...</td>\n",
       "      <td>NaN</td>\n",
       "      <td>NaN</td>\n",
       "      <td>NaN</td>\n",
       "      <td>NaN</td>\n",
       "      <td>NaN</td>\n",
       "      <td>NaN</td>\n",
       "      <td>NaN</td>\n",
       "      <td>NaN</td>\n",
       "      <td>NaN</td>\n",
       "      <td>NaN</td>\n",
       "    </tr>\n",
       "  </tbody>\n",
       "</table>\n",
       "<p>5 rows × 74 columns</p>\n",
       "</div>"
      ],
      "text/plain": [
       "        id  member_id  loan_amnt  funded_amnt  funded_amnt_inv        term  \\\n",
       "0  1077501    1296599     5000.0       5000.0           4975.0   36 months   \n",
       "1  1077430    1314167     2500.0       2500.0           2500.0   60 months   \n",
       "2  1077175    1313524     2400.0       2400.0           2400.0   36 months   \n",
       "3  1076863    1277178    10000.0      10000.0          10000.0   36 months   \n",
       "4  1075358    1311748     3000.0       3000.0           3000.0   60 months   \n",
       "\n",
       "   int_rate  installment grade sub_grade     ...      total_bal_il il_util  \\\n",
       "0     10.65       162.87     B        B2     ...               NaN     NaN   \n",
       "1     15.27        59.83     C        C4     ...               NaN     NaN   \n",
       "2     15.96        84.33     C        C5     ...               NaN     NaN   \n",
       "3     13.49       339.31     C        C1     ...               NaN     NaN   \n",
       "4     12.69        67.79     B        B5     ...               NaN     NaN   \n",
       "\n",
       "  open_rv_12m  open_rv_24m max_bal_bc all_util total_rev_hi_lim inq_fi  \\\n",
       "0         NaN          NaN        NaN      NaN              NaN    NaN   \n",
       "1         NaN          NaN        NaN      NaN              NaN    NaN   \n",
       "2         NaN          NaN        NaN      NaN              NaN    NaN   \n",
       "3         NaN          NaN        NaN      NaN              NaN    NaN   \n",
       "4         NaN          NaN        NaN      NaN              NaN    NaN   \n",
       "\n",
       "  total_cu_tl inq_last_12m  \n",
       "0         NaN          NaN  \n",
       "1         NaN          NaN  \n",
       "2         NaN          NaN  \n",
       "3         NaN          NaN  \n",
       "4         NaN          NaN  \n",
       "\n",
       "[5 rows x 74 columns]"
      ]
     },
     "execution_count": 5,
     "metadata": {},
     "output_type": "execute_result"
    }
   ],
   "source": [
    "loans.head()           # print the first 5 rows"
   ]
  },
  {
   "cell_type": "code",
   "execution_count": 8,
   "metadata": {
    "collapsed": false
   },
   "outputs": [
    {
     "data": {
      "text/html": [
       "<div>\n",
       "<table border=\"1\" class=\"dataframe\">\n",
       "  <thead>\n",
       "    <tr style=\"text-align: right;\">\n",
       "      <th></th>\n",
       "      <th>id</th>\n",
       "      <th>member_id</th>\n",
       "      <th>loan_amnt</th>\n",
       "      <th>funded_amnt</th>\n",
       "      <th>funded_amnt_inv</th>\n",
       "      <th>term</th>\n",
       "      <th>int_rate</th>\n",
       "      <th>installment</th>\n",
       "      <th>grade</th>\n",
       "      <th>sub_grade</th>\n",
       "      <th>...</th>\n",
       "      <th>total_bal_il</th>\n",
       "      <th>il_util</th>\n",
       "      <th>open_rv_12m</th>\n",
       "      <th>open_rv_24m</th>\n",
       "      <th>max_bal_bc</th>\n",
       "      <th>all_util</th>\n",
       "      <th>total_rev_hi_lim</th>\n",
       "      <th>inq_fi</th>\n",
       "      <th>total_cu_tl</th>\n",
       "      <th>inq_last_12m</th>\n",
       "    </tr>\n",
       "  </thead>\n",
       "  <tbody>\n",
       "    <tr>\n",
       "      <th>887374</th>\n",
       "      <td>36371250</td>\n",
       "      <td>39102635</td>\n",
       "      <td>10000.0</td>\n",
       "      <td>10000.0</td>\n",
       "      <td>10000.0</td>\n",
       "      <td>36 months</td>\n",
       "      <td>11.99</td>\n",
       "      <td>332.10</td>\n",
       "      <td>B</td>\n",
       "      <td>B5</td>\n",
       "      <td>...</td>\n",
       "      <td>NaN</td>\n",
       "      <td>NaN</td>\n",
       "      <td>NaN</td>\n",
       "      <td>NaN</td>\n",
       "      <td>NaN</td>\n",
       "      <td>NaN</td>\n",
       "      <td>17100.0</td>\n",
       "      <td>NaN</td>\n",
       "      <td>NaN</td>\n",
       "      <td>NaN</td>\n",
       "    </tr>\n",
       "    <tr>\n",
       "      <th>887375</th>\n",
       "      <td>36441262</td>\n",
       "      <td>39152692</td>\n",
       "      <td>24000.0</td>\n",
       "      <td>24000.0</td>\n",
       "      <td>24000.0</td>\n",
       "      <td>36 months</td>\n",
       "      <td>11.99</td>\n",
       "      <td>797.03</td>\n",
       "      <td>B</td>\n",
       "      <td>B5</td>\n",
       "      <td>...</td>\n",
       "      <td>NaN</td>\n",
       "      <td>NaN</td>\n",
       "      <td>NaN</td>\n",
       "      <td>NaN</td>\n",
       "      <td>NaN</td>\n",
       "      <td>NaN</td>\n",
       "      <td>10200.0</td>\n",
       "      <td>NaN</td>\n",
       "      <td>NaN</td>\n",
       "      <td>NaN</td>\n",
       "    </tr>\n",
       "    <tr>\n",
       "      <th>887376</th>\n",
       "      <td>36271333</td>\n",
       "      <td>38982739</td>\n",
       "      <td>13000.0</td>\n",
       "      <td>13000.0</td>\n",
       "      <td>13000.0</td>\n",
       "      <td>60 months</td>\n",
       "      <td>15.99</td>\n",
       "      <td>316.07</td>\n",
       "      <td>D</td>\n",
       "      <td>D2</td>\n",
       "      <td>...</td>\n",
       "      <td>NaN</td>\n",
       "      <td>NaN</td>\n",
       "      <td>NaN</td>\n",
       "      <td>NaN</td>\n",
       "      <td>NaN</td>\n",
       "      <td>NaN</td>\n",
       "      <td>18000.0</td>\n",
       "      <td>NaN</td>\n",
       "      <td>NaN</td>\n",
       "      <td>NaN</td>\n",
       "    </tr>\n",
       "    <tr>\n",
       "      <th>887377</th>\n",
       "      <td>36490806</td>\n",
       "      <td>39222577</td>\n",
       "      <td>12000.0</td>\n",
       "      <td>12000.0</td>\n",
       "      <td>12000.0</td>\n",
       "      <td>60 months</td>\n",
       "      <td>19.99</td>\n",
       "      <td>317.86</td>\n",
       "      <td>E</td>\n",
       "      <td>E3</td>\n",
       "      <td>...</td>\n",
       "      <td>NaN</td>\n",
       "      <td>NaN</td>\n",
       "      <td>NaN</td>\n",
       "      <td>NaN</td>\n",
       "      <td>NaN</td>\n",
       "      <td>NaN</td>\n",
       "      <td>27000.0</td>\n",
       "      <td>NaN</td>\n",
       "      <td>NaN</td>\n",
       "      <td>NaN</td>\n",
       "    </tr>\n",
       "    <tr>\n",
       "      <th>887378</th>\n",
       "      <td>36271262</td>\n",
       "      <td>38982659</td>\n",
       "      <td>20000.0</td>\n",
       "      <td>20000.0</td>\n",
       "      <td>20000.0</td>\n",
       "      <td>36 months</td>\n",
       "      <td>11.99</td>\n",
       "      <td>664.20</td>\n",
       "      <td>B</td>\n",
       "      <td>B5</td>\n",
       "      <td>...</td>\n",
       "      <td>NaN</td>\n",
       "      <td>NaN</td>\n",
       "      <td>NaN</td>\n",
       "      <td>NaN</td>\n",
       "      <td>NaN</td>\n",
       "      <td>NaN</td>\n",
       "      <td>41700.0</td>\n",
       "      <td>NaN</td>\n",
       "      <td>NaN</td>\n",
       "      <td>NaN</td>\n",
       "    </tr>\n",
       "  </tbody>\n",
       "</table>\n",
       "<p>5 rows × 74 columns</p>\n",
       "</div>"
      ],
      "text/plain": [
       "              id  member_id  loan_amnt  funded_amnt  funded_amnt_inv  \\\n",
       "887374  36371250   39102635    10000.0      10000.0          10000.0   \n",
       "887375  36441262   39152692    24000.0      24000.0          24000.0   \n",
       "887376  36271333   38982739    13000.0      13000.0          13000.0   \n",
       "887377  36490806   39222577    12000.0      12000.0          12000.0   \n",
       "887378  36271262   38982659    20000.0      20000.0          20000.0   \n",
       "\n",
       "              term  int_rate  installment grade sub_grade     ...       \\\n",
       "887374   36 months     11.99       332.10     B        B5     ...        \n",
       "887375   36 months     11.99       797.03     B        B5     ...        \n",
       "887376   60 months     15.99       316.07     D        D2     ...        \n",
       "887377   60 months     19.99       317.86     E        E3     ...        \n",
       "887378   36 months     11.99       664.20     B        B5     ...        \n",
       "\n",
       "       total_bal_il il_util open_rv_12m  open_rv_24m max_bal_bc all_util  \\\n",
       "887374          NaN     NaN         NaN          NaN        NaN      NaN   \n",
       "887375          NaN     NaN         NaN          NaN        NaN      NaN   \n",
       "887376          NaN     NaN         NaN          NaN        NaN      NaN   \n",
       "887377          NaN     NaN         NaN          NaN        NaN      NaN   \n",
       "887378          NaN     NaN         NaN          NaN        NaN      NaN   \n",
       "\n",
       "       total_rev_hi_lim inq_fi total_cu_tl inq_last_12m  \n",
       "887374          17100.0    NaN         NaN          NaN  \n",
       "887375          10200.0    NaN         NaN          NaN  \n",
       "887376          18000.0    NaN         NaN          NaN  \n",
       "887377          27000.0    NaN         NaN          NaN  \n",
       "887378          41700.0    NaN         NaN          NaN  \n",
       "\n",
       "[5 rows x 74 columns]"
      ]
     },
     "execution_count": 8,
     "metadata": {},
     "output_type": "execute_result"
    }
   ],
   "source": [
    "loans.tail()           # print the last 5 rows"
   ]
  },
  {
   "cell_type": "code",
   "execution_count": 9,
   "metadata": {
    "collapsed": false
   },
   "outputs": [
    {
     "name": "stderr",
     "output_type": "stream",
     "text": [
      "C:\\Users\\dgoyal\\AppData\\Local\\Continuum\\Anaconda2\\lib\\site-packages\\numpy\\lib\\function_base.py:3834: RuntimeWarning: Invalid value encountered in percentile\n",
      "  RuntimeWarning)\n"
     ]
    },
    {
     "data": {
      "text/html": [
       "<div>\n",
       "<table border=\"1\" class=\"dataframe\">\n",
       "  <thead>\n",
       "    <tr style=\"text-align: right;\">\n",
       "      <th></th>\n",
       "      <th>id</th>\n",
       "      <th>member_id</th>\n",
       "      <th>loan_amnt</th>\n",
       "      <th>funded_amnt</th>\n",
       "      <th>funded_amnt_inv</th>\n",
       "      <th>int_rate</th>\n",
       "      <th>installment</th>\n",
       "      <th>annual_inc</th>\n",
       "      <th>dti</th>\n",
       "      <th>delinq_2yrs</th>\n",
       "      <th>...</th>\n",
       "      <th>total_bal_il</th>\n",
       "      <th>il_util</th>\n",
       "      <th>open_rv_12m</th>\n",
       "      <th>open_rv_24m</th>\n",
       "      <th>max_bal_bc</th>\n",
       "      <th>all_util</th>\n",
       "      <th>total_rev_hi_lim</th>\n",
       "      <th>inq_fi</th>\n",
       "      <th>total_cu_tl</th>\n",
       "      <th>inq_last_12m</th>\n",
       "    </tr>\n",
       "  </thead>\n",
       "  <tbody>\n",
       "    <tr>\n",
       "      <th>count</th>\n",
       "      <td>8.873790e+05</td>\n",
       "      <td>8.873790e+05</td>\n",
       "      <td>887379.000000</td>\n",
       "      <td>887379.000000</td>\n",
       "      <td>887379.000000</td>\n",
       "      <td>887379.000000</td>\n",
       "      <td>887379.000000</td>\n",
       "      <td>8.873750e+05</td>\n",
       "      <td>887379.000000</td>\n",
       "      <td>887350.000000</td>\n",
       "      <td>...</td>\n",
       "      <td>21372.000000</td>\n",
       "      <td>18617.000000</td>\n",
       "      <td>21372.000000</td>\n",
       "      <td>21372.000000</td>\n",
       "      <td>21372.000000</td>\n",
       "      <td>21372.000000</td>\n",
       "      <td>8.171030e+05</td>\n",
       "      <td>21372.000000</td>\n",
       "      <td>21372.000000</td>\n",
       "      <td>21372.000000</td>\n",
       "    </tr>\n",
       "    <tr>\n",
       "      <th>mean</th>\n",
       "      <td>3.246513e+07</td>\n",
       "      <td>3.500182e+07</td>\n",
       "      <td>14755.264605</td>\n",
       "      <td>14741.877625</td>\n",
       "      <td>14702.464383</td>\n",
       "      <td>13.246740</td>\n",
       "      <td>436.717127</td>\n",
       "      <td>7.502759e+04</td>\n",
       "      <td>18.157039</td>\n",
       "      <td>0.314442</td>\n",
       "      <td>...</td>\n",
       "      <td>36552.811389</td>\n",
       "      <td>71.535317</td>\n",
       "      <td>1.389060</td>\n",
       "      <td>2.975482</td>\n",
       "      <td>5887.979740</td>\n",
       "      <td>60.831939</td>\n",
       "      <td>3.206862e+04</td>\n",
       "      <td>0.943945</td>\n",
       "      <td>1.537058</td>\n",
       "      <td>1.977307</td>\n",
       "    </tr>\n",
       "    <tr>\n",
       "      <th>std</th>\n",
       "      <td>2.282734e+07</td>\n",
       "      <td>2.411335e+07</td>\n",
       "      <td>8435.455601</td>\n",
       "      <td>8429.897657</td>\n",
       "      <td>8442.106732</td>\n",
       "      <td>4.381867</td>\n",
       "      <td>244.186593</td>\n",
       "      <td>6.469830e+04</td>\n",
       "      <td>17.190626</td>\n",
       "      <td>0.862244</td>\n",
       "      <td>...</td>\n",
       "      <td>43103.833619</td>\n",
       "      <td>23.022862</td>\n",
       "      <td>1.520129</td>\n",
       "      <td>2.631886</td>\n",
       "      <td>5284.701239</td>\n",
       "      <td>20.013254</td>\n",
       "      <td>3.749826e+04</td>\n",
       "      <td>1.446872</td>\n",
       "      <td>2.723339</td>\n",
       "      <td>2.874067</td>\n",
       "    </tr>\n",
       "    <tr>\n",
       "      <th>min</th>\n",
       "      <td>5.473400e+04</td>\n",
       "      <td>7.047300e+04</td>\n",
       "      <td>500.000000</td>\n",
       "      <td>500.000000</td>\n",
       "      <td>0.000000</td>\n",
       "      <td>5.320000</td>\n",
       "      <td>15.670000</td>\n",
       "      <td>0.000000e+00</td>\n",
       "      <td>0.000000</td>\n",
       "      <td>0.000000</td>\n",
       "      <td>...</td>\n",
       "      <td>0.000000</td>\n",
       "      <td>0.000000</td>\n",
       "      <td>0.000000</td>\n",
       "      <td>0.000000</td>\n",
       "      <td>0.000000</td>\n",
       "      <td>0.000000</td>\n",
       "      <td>0.000000e+00</td>\n",
       "      <td>0.000000</td>\n",
       "      <td>0.000000</td>\n",
       "      <td>-4.000000</td>\n",
       "    </tr>\n",
       "    <tr>\n",
       "      <th>25%</th>\n",
       "      <td>9.206643e+06</td>\n",
       "      <td>1.087713e+07</td>\n",
       "      <td>8000.000000</td>\n",
       "      <td>8000.000000</td>\n",
       "      <td>8000.000000</td>\n",
       "      <td>9.990000</td>\n",
       "      <td>260.705000</td>\n",
       "      <td>NaN</td>\n",
       "      <td>11.910000</td>\n",
       "      <td>NaN</td>\n",
       "      <td>...</td>\n",
       "      <td>NaN</td>\n",
       "      <td>NaN</td>\n",
       "      <td>NaN</td>\n",
       "      <td>NaN</td>\n",
       "      <td>NaN</td>\n",
       "      <td>NaN</td>\n",
       "      <td>NaN</td>\n",
       "      <td>NaN</td>\n",
       "      <td>NaN</td>\n",
       "      <td>NaN</td>\n",
       "    </tr>\n",
       "    <tr>\n",
       "      <th>50%</th>\n",
       "      <td>3.443327e+07</td>\n",
       "      <td>3.709528e+07</td>\n",
       "      <td>13000.000000</td>\n",
       "      <td>13000.000000</td>\n",
       "      <td>13000.000000</td>\n",
       "      <td>12.990000</td>\n",
       "      <td>382.550000</td>\n",
       "      <td>NaN</td>\n",
       "      <td>17.650000</td>\n",
       "      <td>NaN</td>\n",
       "      <td>...</td>\n",
       "      <td>NaN</td>\n",
       "      <td>NaN</td>\n",
       "      <td>NaN</td>\n",
       "      <td>NaN</td>\n",
       "      <td>NaN</td>\n",
       "      <td>NaN</td>\n",
       "      <td>NaN</td>\n",
       "      <td>NaN</td>\n",
       "      <td>NaN</td>\n",
       "      <td>NaN</td>\n",
       "    </tr>\n",
       "    <tr>\n",
       "      <th>75%</th>\n",
       "      <td>5.490814e+07</td>\n",
       "      <td>5.847135e+07</td>\n",
       "      <td>20000.000000</td>\n",
       "      <td>20000.000000</td>\n",
       "      <td>20000.000000</td>\n",
       "      <td>16.200000</td>\n",
       "      <td>572.600000</td>\n",
       "      <td>NaN</td>\n",
       "      <td>23.950000</td>\n",
       "      <td>NaN</td>\n",
       "      <td>...</td>\n",
       "      <td>NaN</td>\n",
       "      <td>NaN</td>\n",
       "      <td>NaN</td>\n",
       "      <td>NaN</td>\n",
       "      <td>NaN</td>\n",
       "      <td>NaN</td>\n",
       "      <td>NaN</td>\n",
       "      <td>NaN</td>\n",
       "      <td>NaN</td>\n",
       "      <td>NaN</td>\n",
       "    </tr>\n",
       "    <tr>\n",
       "      <th>max</th>\n",
       "      <td>6.861706e+07</td>\n",
       "      <td>7.354484e+07</td>\n",
       "      <td>35000.000000</td>\n",
       "      <td>35000.000000</td>\n",
       "      <td>35000.000000</td>\n",
       "      <td>28.990000</td>\n",
       "      <td>1445.460000</td>\n",
       "      <td>9.500000e+06</td>\n",
       "      <td>9999.000000</td>\n",
       "      <td>39.000000</td>\n",
       "      <td>...</td>\n",
       "      <td>878459.000000</td>\n",
       "      <td>223.300000</td>\n",
       "      <td>22.000000</td>\n",
       "      <td>43.000000</td>\n",
       "      <td>127305.000000</td>\n",
       "      <td>151.400000</td>\n",
       "      <td>9.999999e+06</td>\n",
       "      <td>17.000000</td>\n",
       "      <td>35.000000</td>\n",
       "      <td>32.000000</td>\n",
       "    </tr>\n",
       "  </tbody>\n",
       "</table>\n",
       "<p>8 rows × 51 columns</p>\n",
       "</div>"
      ],
      "text/plain": [
       "                 id     member_id      loan_amnt    funded_amnt  \\\n",
       "count  8.873790e+05  8.873790e+05  887379.000000  887379.000000   \n",
       "mean   3.246513e+07  3.500182e+07   14755.264605   14741.877625   \n",
       "std    2.282734e+07  2.411335e+07    8435.455601    8429.897657   \n",
       "min    5.473400e+04  7.047300e+04     500.000000     500.000000   \n",
       "25%    9.206643e+06  1.087713e+07    8000.000000    8000.000000   \n",
       "50%    3.443327e+07  3.709528e+07   13000.000000   13000.000000   \n",
       "75%    5.490814e+07  5.847135e+07   20000.000000   20000.000000   \n",
       "max    6.861706e+07  7.354484e+07   35000.000000   35000.000000   \n",
       "\n",
       "       funded_amnt_inv       int_rate    installment    annual_inc  \\\n",
       "count    887379.000000  887379.000000  887379.000000  8.873750e+05   \n",
       "mean      14702.464383      13.246740     436.717127  7.502759e+04   \n",
       "std        8442.106732       4.381867     244.186593  6.469830e+04   \n",
       "min           0.000000       5.320000      15.670000  0.000000e+00   \n",
       "25%        8000.000000       9.990000     260.705000           NaN   \n",
       "50%       13000.000000      12.990000     382.550000           NaN   \n",
       "75%       20000.000000      16.200000     572.600000           NaN   \n",
       "max       35000.000000      28.990000    1445.460000  9.500000e+06   \n",
       "\n",
       "                 dti    delinq_2yrs      ...        total_bal_il  \\\n",
       "count  887379.000000  887350.000000      ...        21372.000000   \n",
       "mean       18.157039       0.314442      ...        36552.811389   \n",
       "std        17.190626       0.862244      ...        43103.833619   \n",
       "min         0.000000       0.000000      ...            0.000000   \n",
       "25%        11.910000            NaN      ...                 NaN   \n",
       "50%        17.650000            NaN      ...                 NaN   \n",
       "75%        23.950000            NaN      ...                 NaN   \n",
       "max      9999.000000      39.000000      ...       878459.000000   \n",
       "\n",
       "            il_util   open_rv_12m   open_rv_24m     max_bal_bc      all_util  \\\n",
       "count  18617.000000  21372.000000  21372.000000   21372.000000  21372.000000   \n",
       "mean      71.535317      1.389060      2.975482    5887.979740     60.831939   \n",
       "std       23.022862      1.520129      2.631886    5284.701239     20.013254   \n",
       "min        0.000000      0.000000      0.000000       0.000000      0.000000   \n",
       "25%             NaN           NaN           NaN            NaN           NaN   \n",
       "50%             NaN           NaN           NaN            NaN           NaN   \n",
       "75%             NaN           NaN           NaN            NaN           NaN   \n",
       "max      223.300000     22.000000     43.000000  127305.000000    151.400000   \n",
       "\n",
       "       total_rev_hi_lim        inq_fi   total_cu_tl  inq_last_12m  \n",
       "count      8.171030e+05  21372.000000  21372.000000  21372.000000  \n",
       "mean       3.206862e+04      0.943945      1.537058      1.977307  \n",
       "std        3.749826e+04      1.446872      2.723339      2.874067  \n",
       "min        0.000000e+00      0.000000      0.000000     -4.000000  \n",
       "25%                 NaN           NaN           NaN           NaN  \n",
       "50%                 NaN           NaN           NaN           NaN  \n",
       "75%                 NaN           NaN           NaN           NaN  \n",
       "max        9.999999e+06     17.000000     35.000000     32.000000  \n",
       "\n",
       "[8 rows x 51 columns]"
      ]
     },
     "execution_count": 9,
     "metadata": {},
     "output_type": "execute_result"
    }
   ],
   "source": [
    "loans.describe()       # describe any numeric columns"
   ]
  },
  {
   "cell_type": "code",
   "execution_count": 10,
   "metadata": {
    "collapsed": false
   },
   "outputs": [
    {
     "data": {
      "text/plain": [
       "Index([u'id', u'member_id', u'loan_amnt', u'funded_amnt', u'funded_amnt_inv',\n",
       "       u'term', u'int_rate', u'installment', u'grade', u'sub_grade',\n",
       "       u'emp_title', u'emp_length', u'home_ownership', u'annual_inc',\n",
       "       u'verification_status', u'issue_d', u'loan_status', u'pymnt_plan',\n",
       "       u'url', u'desc', u'purpose', u'title', u'zip_code', u'addr_state',\n",
       "       u'dti', u'delinq_2yrs', u'earliest_cr_line', u'inq_last_6mths',\n",
       "       u'mths_since_last_delinq', u'mths_since_last_record', u'open_acc',\n",
       "       u'pub_rec', u'revol_bal', u'revol_util', u'total_acc',\n",
       "       u'initial_list_status', u'out_prncp', u'out_prncp_inv', u'total_pymnt',\n",
       "       u'total_pymnt_inv', u'total_rec_prncp', u'total_rec_int',\n",
       "       u'total_rec_late_fee', u'recoveries', u'collection_recovery_fee',\n",
       "       u'last_pymnt_d', u'last_pymnt_amnt', u'next_pymnt_d',\n",
       "       u'last_credit_pull_d', u'collections_12_mths_ex_med',\n",
       "       u'mths_since_last_major_derog', u'policy_code', u'application_type',\n",
       "       u'annual_inc_joint', u'dti_joint', u'verification_status_joint',\n",
       "       u'acc_now_delinq', u'tot_coll_amt', u'tot_cur_bal', u'open_acc_6m',\n",
       "       u'open_il_6m', u'open_il_12m', u'open_il_24m', u'mths_since_rcnt_il',\n",
       "       u'total_bal_il', u'il_util', u'open_rv_12m', u'open_rv_24m',\n",
       "       u'max_bal_bc', u'all_util', u'total_rev_hi_lim', u'inq_fi',\n",
       "       u'total_cu_tl', u'inq_last_12m'],\n",
       "      dtype='object')"
      ]
     },
     "execution_count": 10,
     "metadata": {},
     "output_type": "execute_result"
    }
   ],
   "source": [
    "loans.columns        # get series of column names"
   ]
  },
  {
   "cell_type": "code",
   "execution_count": 11,
   "metadata": {
    "collapsed": false
   },
   "outputs": [
    {
     "data": {
      "text/plain": [
       "(887379, 74)"
      ]
     },
     "execution_count": 11,
     "metadata": {},
     "output_type": "execute_result"
    }
   ],
   "source": [
    "loans.shape            # tuple of (#rows, #cols)"
   ]
  },
  {
   "cell_type": "code",
   "execution_count": 13,
   "metadata": {
    "collapsed": false
   },
   "outputs": [
    {
     "data": {
      "text/plain": [
       "Series([], Name: purpose, dtype: object)"
      ]
     },
     "execution_count": 13,
     "metadata": {},
     "output_type": "execute_result"
    }
   ],
   "source": [
    "loans[loans['purpose'].isnull()]['purpose']"
   ]
  },
  {
   "cell_type": "code",
   "execution_count": 16,
   "metadata": {
    "collapsed": false
   },
   "outputs": [
    {
     "data": {
      "text/plain": [
       "debt_consolidation    524215\n",
       "credit_card           206182\n",
       "home_improvement       51829\n",
       "other                  42894\n",
       "major_purchase         17277\n",
       "small_business         10377\n",
       "car                     8863\n",
       "medical                 8540\n",
       "moving                  5414\n",
       "vacation                4736\n",
       "house                   3707\n",
       "wedding                 2347\n",
       "renewable_energy         575\n",
       "educational              423\n",
       "Name: purpose, dtype: int64"
      ]
     },
     "execution_count": 16,
     "metadata": {},
     "output_type": "execute_result"
    }
   ],
   "source": [
    "loans.purpose.value_counts()"
   ]
  },
  {
   "cell_type": "code",
   "execution_count": 17,
   "metadata": {
    "collapsed": false
   },
   "outputs": [
    {
     "data": {
      "text/plain": [
       "<matplotlib.text.Text at 0x1d3f3c50>"
      ]
     },
     "execution_count": 17,
     "metadata": {},
     "output_type": "execute_result"
    },
    {
     "data": {
      "image/png": "[encoded data removed]",
      "text/plain": [
       "<matplotlib.figure.Figure at 0x9647a90>"
      ]
     },
     "metadata": {},
     "output_type": "display_data"
    }
   ],
   "source": [
    "'''\n",
    "Plotting\n",
    "'''\n",
    "\n",
    "# bar plot of number of countries in each continent\n",
    "loans.purpose.value_counts().plot(kind='bar', title='Count by purpose')\n",
    "plt.xlabel('Purpose')\n",
    "plt.ylabel('Loans')"
   ]
  },
  {
   "cell_type": "code",
   "execution_count": 25,
   "metadata": {
    "collapsed": false
   },
   "outputs": [
    {
     "data": {
      "text/plain": [
       "<matplotlib.axes._subplots.AxesSubplot at 0x3763d860>"
      ]
     },
     "execution_count": 25,
     "metadata": {},
     "output_type": "execute_result"
    },
    {
     "data": {
      "image/png": "[encoded data removed]",
      "text/plain": [
       "<matplotlib.figure.Figure at 0x83cd780>"
      ]
     },
     "metadata": {},
     "output_type": "display_data"
    }
   ],
   "source": [
    "# histogram of beer servings\n",
    "#movie.content_rating.hist(bins=20)\n",
    "loans.funded_amnt.hist(bins=25)"
   ]
  },
  {
   "cell_type": "code",
   "execution_count": 27,
   "metadata": {
    "collapsed": false
   },
   "outputs": [
    {
     "data": {
      "text/plain": [
       "array([[<matplotlib.axes._subplots.AxesSubplot object at 0x000000001EB50CF8>,\n",
       "        <matplotlib.axes._subplots.AxesSubplot object at 0x000000002D1CE5F8>,\n",
       "        <matplotlib.axes._subplots.AxesSubplot object at 0x000000002D23F240>,\n",
       "        <matplotlib.axes._subplots.AxesSubplot object at 0x0000000024C15F98>],\n",
       "       [<matplotlib.axes._subplots.AxesSubplot object at 0x000000002E429898>,\n",
       "        <matplotlib.axes._subplots.AxesSubplot object at 0x0000000024C4B8D0>,\n",
       "        <matplotlib.axes._subplots.AxesSubplot object at 0x000000002202D9B0>,\n",
       "        <matplotlib.axes._subplots.AxesSubplot object at 0x000000000D30EF98>],\n",
       "       [<matplotlib.axes._subplots.AxesSubplot object at 0x0000000015A1E4A8>,\n",
       "        <matplotlib.axes._subplots.AxesSubplot object at 0x000000002DCF9B70>,\n",
       "        <matplotlib.axes._subplots.AxesSubplot object at 0x00000000345DE780>,\n",
       "        <matplotlib.axes._subplots.AxesSubplot object at 0x0000000016A6B080>],\n",
       "       [<matplotlib.axes._subplots.AxesSubplot object at 0x000000002F45E748>,\n",
       "        <matplotlib.axes._subplots.AxesSubplot object at 0x0000000017E32160>,\n",
       "        <matplotlib.axes._subplots.AxesSubplot object at 0x000000002690AA20>,\n",
       "        <matplotlib.axes._subplots.AxesSubplot object at 0x0000000025C6E908>]], dtype=object)"
      ]
     },
     "execution_count": 27,
     "metadata": {},
     "output_type": "execute_result"
    },
    {
     "data": {
      "image/png": "[encoded data removed]",
      "text/plain": [
       "<matplotlib.figure.Figure at 0x1eb640b8>"
      ]
     },
     "metadata": {},
     "output_type": "display_data"
    }
   ],
   "source": [
    "# grouped histogram of beer servings\n",
    "loans.funded_amnt.hist(by=loans.purpose, figsize =(10,10),sharex=True, sharey=True)\n",
    "\n",
    "# stop and think, does this make sense\n"
   ]
  },
  {
   "cell_type": "code",
   "execution_count": 36,
   "metadata": {
    "collapsed": false
   },
   "outputs": [
    {
     "data": {
      "text/plain": [
       "Index([u'id', u'member_id', u'loan_amnt', u'funded_amnt', u'funded_amnt_inv',\n",
       "       u'term', u'int_rate', u'installment', u'grade', u'sub_grade',\n",
       "       u'emp_title', u'emp_length', u'home_ownership', u'annual_inc',\n",
       "       u'verification_status', u'issue_d', u'loan_status', u'pymnt_plan',\n",
       "       u'url', u'desc', u'purpose', u'title', u'zip_code', u'addr_state',\n",
       "       u'dti', u'delinq_2yrs', u'earliest_cr_line', u'inq_last_6mths',\n",
       "       u'mths_since_last_delinq', u'mths_since_last_record', u'open_acc',\n",
       "       u'pub_rec', u'revol_bal', u'revol_util', u'total_acc',\n",
       "       u'initial_list_status', u'out_prncp', u'out_prncp_inv', u'total_pymnt',\n",
       "       u'total_pymnt_inv', u'total_rec_prncp', u'total_rec_int',\n",
       "       u'total_rec_late_fee', u'recoveries', u'collection_recovery_fee',\n",
       "       u'last_pymnt_d', u'last_pymnt_amnt', u'next_pymnt_d',\n",
       "       u'last_credit_pull_d', u'collections_12_mths_ex_med',\n",
       "       u'mths_since_last_major_derog', u'policy_code', u'application_type',\n",
       "       u'annual_inc_joint', u'dti_joint', u'verification_status_joint',\n",
       "       u'acc_now_delinq', u'tot_coll_amt', u'tot_cur_bal', u'open_acc_6m',\n",
       "       u'open_il_6m', u'open_il_12m', u'open_il_24m', u'mths_since_rcnt_il',\n",
       "       u'total_bal_il', u'il_util', u'open_rv_12m', u'open_rv_24m',\n",
       "       u'max_bal_bc', u'all_util', u'total_rev_hi_lim', u'inq_fi',\n",
       "       u'total_cu_tl', u'inq_last_12m'],\n",
       "      dtype='object')"
      ]
     },
     "execution_count": 36,
     "metadata": {},
     "output_type": "execute_result"
    },
    {
     "data": {
      "image/png": "[encoded data removed]",
      "text/plain": [
       "<matplotlib.figure.Figure at 0x34f10a20>"
      ]
     },
     "metadata": {},
     "output_type": "display_data"
    }
   ],
   "source": [
    "# boxplot of beer servings by continent\n",
    "loans.boxplot(column='funded_amnt', by='loan_status', figsize=(14,14))\n",
    "loans.columns\n"
   ]
  },
  {
   "cell_type": "code",
   "execution_count": 34,
   "metadata": {
    "collapsed": false
   },
   "outputs": [
    {
     "data": {
      "text/plain": [
       "<matplotlib.axes._subplots.AxesSubplot at 0x187ad0b8>"
      ]
     },
     "execution_count": 34,
     "metadata": {},
     "output_type": "execute_result"
    },
    {
     "data": {
      "image/png": "[encoded data removed]",
      "text/plain": [
       "<matplotlib.figure.Figure at 0x29319160>"
      ]
     },
     "metadata": {},
     "output_type": "display_data"
    }
   ],
   "source": [
    "# scatterplot of beer servings versus wine servings\n",
    "loans.plot(x='funded_amnt', y='loan_amnt', kind='scatter', alpha=0.15)"
   ]
  },
  {
   "cell_type": "code",
   "execution_count": null,
   "metadata": {
    "collapsed": false
   },
   "outputs": [],
   "source": []
  },
  {
   "cell_type": "code",
   "execution_count": null,
   "metadata": {
    "collapsed": true
   },
   "outputs": [],
   "source": []
  },
  {
   "cell_type": "code",
   "execution_count": 136,
   "metadata": {
    "collapsed": false
   },
   "outputs": [
    {
     "data": {
      "text/plain": [
       "array(['b', 'r', 'b', 'r', 'b', 'b', 'b', 'r', 'b', 'r', 'r', 'b', 'b',\n",
       "       'b', 'b', 'r', 'r', 'b', 'b', 'b', 'b', 'r', 'b', 'b', 'b', 'r',\n",
       "       'b', 'b', 'b', 'b', 'b', 'b', 'b', 'b', 'b', 'b', 'b', 'b', 'b',\n",
       "       'b', 'b', 'b', 'r', 'b', 'r', 'r', 'b', 'b', 'r', 'b', 'b', 'b',\n",
       "       'b', 'b', 'b', 'b', 'b', 'r', 'b', 'b', 'r', 'r', 'b', 'b', 'r',\n",
       "       'r', 'b', 'r', 'b', 'b', 'b', 'b', 'b', 'b', 'b', 'r', 'r', 'b',\n",
       "       'b', 'b', 'b', 'r', 'b', 'r', 'b', 'b', 'b', 'b', 'b', 'b', 'b',\n",
       "       'b', 'b', 'r', 'b', 'b', 'b', 'b', 'r', 'r', 'b', 'b', 'b', 'b',\n",
       "       'b', 'r', 'b', 'b', 'b', 'b', 'b', 'r', 'b', 'r', 'b', 'b', 'b',\n",
       "       'b', 'b', 'b', 'r', 'b', 'b', 'b', 'b', 'b', 'r', 'b', 'b', 'b',\n",
       "       'b', 'b', 'b', 'b', 'b', 'r', 'r', 'b', 'b', 'r', 'r', 'b', 'b',\n",
       "       'b', 'b', 'b', 'b', 'r', 'b', 'b', 'b', 'r', 'b', 'b', 'b', 'r',\n",
       "       'r', 'b', 'b', 'b', 'r', 'b', 'b', 'b', 'b', 'r', 'r', 'b', 'b',\n",
       "       'b', 'r', 'b', 'b', 'b', 'b', 'b', 'b', 'b', 'b', 'b', 'r', 'b',\n",
       "       'r', 'b', 'b', 'b', 'b', 'b', 'b', 'b', 'b', 'b', 'b'], \n",
       "      dtype='|S1')"
      ]
     },
     "execution_count": 136,
     "metadata": {},
     "output_type": "execute_result"
    }
   ],
   "source": [
    "# same scatterplot, except all European countries are colored red\n",
    "colors = np.where(loans.loan_status=='EU', 'r', 'b')\n",
    "\n",
    "loans.plot(x='funded_amnt', y='loan_amnt', kind='scatter', alpha=0.15)\n",
    "#colors      # is a series of 'r' and 'b' that \n",
    "            # correspond to countries"
   ]
  },
  {
   "cell_type": "code",
   "execution_count": 137,
   "metadata": {
    "collapsed": false
   },
   "outputs": [
    {
     "data": {
      "text/plain": [
       "array(['a', 'b', 'b'], \n",
       "      dtype='|S1')"
      ]
     },
     "execution_count": 137,
     "metadata": {},
     "output_type": "execute_result"
    }
   ],
   "source": [
    "'''\n",
    "np.where is like a condensed if statement\n",
    "it's like a list comprehension for pandas!\n",
    "\n",
    "it will loop through drinks.continent which is a series\n",
    "for each element:\n",
    "    if it is \"EU\":\n",
    "        make it 'r'\n",
    "    else:\n",
    "        make it 'b'\n",
    "\n",
    "More in depth:\n",
    "    drinks.continent=='EU' is a logical statement\n",
    "        It will return a bunch of Trues and Falses\n",
    "        and np.where makes the True ones 'r' and\n",
    "        the False ones 'b'\n",
    "        \n",
    "        Recall logical filtering!\n",
    "\n",
    "'''\n",
    "\n",
    "# Side quest\n",
    "np.where([True, False, False], 'a', 'b')\n",
    "\n",
    "# 10 gold coins earned"
   ]
  },
  {
   "cell_type": "code",
   "execution_count": 138,
   "metadata": {
    "collapsed": false
   },
   "outputs": [
    {
     "data": {
      "text/plain": [
       "<matplotlib.axes._subplots.AxesSubplot at 0xf7d6da0>"
      ]
     },
     "execution_count": 138,
     "metadata": {},
     "output_type": "execute_result"
    },
    {
     "data": {
      "image/png": "[encoded data removed]",
      "text/plain": [
       "<matplotlib.figure.Figure at 0xf839940>"
      ]
     },
     "metadata": {},
     "output_type": "display_data"
    }
   ],
   "source": [
    "drinks.plot(x='beer_servings', y='wine_servings', kind='scatter', c=colors)\n",
    "# passing colors into the chart makes the european dots, red!"
   ]
  },
  {
   "cell_type": "code",
   "execution_count": 139,
   "metadata": {
    "collapsed": false
   },
   "outputs": [
    {
     "data": {
      "text/plain": [
       "'\\n----UFO data----\\nScraped from: http://www.nuforc.org/webreports.html\\n'"
      ]
     },
     "execution_count": 139,
     "metadata": {},
     "output_type": "execute_result"
    }
   ],
   "source": [
    "'''\n",
    "----UFO data----\n",
    "Scraped from: http://www.nuforc.org/webreports.html\n",
    "'''"
   ]
  },
  {
   "cell_type": "code",
   "execution_count": 149,
   "metadata": {
    "collapsed": true
   },
   "outputs": [],
   "source": [
    "ufo = pd.read_csv('../data/ufo.csv')   "
   ]
  },
  {
   "cell_type": "code",
   "execution_count": 150,
   "metadata": {
    "collapsed": false
   },
   "outputs": [
    {
     "data": {
      "text/html": [
       "<div>\n",
       "<table border=\"1\" class=\"dataframe\">\n",
       "  <thead>\n",
       "    <tr style=\"text-align: right;\">\n",
       "      <th></th>\n",
       "      <th>City</th>\n",
       "      <th>Colors Reported</th>\n",
       "      <th>Shape Reported</th>\n",
       "      <th>State</th>\n",
       "      <th>Time</th>\n",
       "    </tr>\n",
       "  </thead>\n",
       "  <tbody>\n",
       "    <tr>\n",
       "      <th>0</th>\n",
       "      <td>Ithaca</td>\n",
       "      <td>NaN</td>\n",
       "      <td>TRIANGLE</td>\n",
       "      <td>NY</td>\n",
       "      <td>6/1/1930 22:00</td>\n",
       "    </tr>\n",
       "    <tr>\n",
       "      <th>1</th>\n",
       "      <td>Willingboro</td>\n",
       "      <td>NaN</td>\n",
       "      <td>OTHER</td>\n",
       "      <td>NJ</td>\n",
       "      <td>6/30/1930 20:00</td>\n",
       "    </tr>\n",
       "    <tr>\n",
       "      <th>2</th>\n",
       "      <td>Holyoke</td>\n",
       "      <td>NaN</td>\n",
       "      <td>OVAL</td>\n",
       "      <td>CO</td>\n",
       "      <td>2/15/1931 14:00</td>\n",
       "    </tr>\n",
       "    <tr>\n",
       "      <th>3</th>\n",
       "      <td>Abilene</td>\n",
       "      <td>NaN</td>\n",
       "      <td>DISK</td>\n",
       "      <td>KS</td>\n",
       "      <td>6/1/1931 13:00</td>\n",
       "    </tr>\n",
       "    <tr>\n",
       "      <th>4</th>\n",
       "      <td>New York Worlds Fair</td>\n",
       "      <td>NaN</td>\n",
       "      <td>LIGHT</td>\n",
       "      <td>NY</td>\n",
       "      <td>4/18/1933 19:00</td>\n",
       "    </tr>\n",
       "  </tbody>\n",
       "</table>\n",
       "</div>"
      ],
      "text/plain": [
       "                   City Colors Reported Shape Reported State             Time\n",
       "0                Ithaca             NaN       TRIANGLE    NY   6/1/1930 22:00\n",
       "1           Willingboro             NaN          OTHER    NJ  6/30/1930 20:00\n",
       "2               Holyoke             NaN           OVAL    CO  2/15/1931 14:00\n",
       "3               Abilene             NaN           DISK    KS   6/1/1931 13:00\n",
       "4  New York Worlds Fair             NaN          LIGHT    NY  4/18/1933 19:00"
      ]
     },
     "execution_count": 150,
     "metadata": {},
     "output_type": "execute_result"
    }
   ],
   "source": [
    "ufo.head()              # Look at the top 5 observations"
   ]
  },
  {
   "cell_type": "code",
   "execution_count": 151,
   "metadata": {
    "collapsed": false
   },
   "outputs": [
    {
     "data": {
      "text/html": [
       "<div>\n",
       "<table border=\"1\" class=\"dataframe\">\n",
       "  <thead>\n",
       "    <tr style=\"text-align: right;\">\n",
       "      <th></th>\n",
       "      <th>City</th>\n",
       "      <th>Colors Reported</th>\n",
       "      <th>Shape Reported</th>\n",
       "      <th>State</th>\n",
       "      <th>Time</th>\n",
       "    </tr>\n",
       "  </thead>\n",
       "  <tbody>\n",
       "    <tr>\n",
       "      <th>80538</th>\n",
       "      <td>Neligh</td>\n",
       "      <td>NaN</td>\n",
       "      <td>CIRCLE</td>\n",
       "      <td>NE</td>\n",
       "      <td>9/4/2014 23:20</td>\n",
       "    </tr>\n",
       "    <tr>\n",
       "      <th>80539</th>\n",
       "      <td>Uhrichsville</td>\n",
       "      <td>NaN</td>\n",
       "      <td>LIGHT</td>\n",
       "      <td>OH</td>\n",
       "      <td>9/5/2014 1:14</td>\n",
       "    </tr>\n",
       "    <tr>\n",
       "      <th>80540</th>\n",
       "      <td>Tucson</td>\n",
       "      <td>RED BLUE</td>\n",
       "      <td>NaN</td>\n",
       "      <td>AZ</td>\n",
       "      <td>9/5/2014 2:40</td>\n",
       "    </tr>\n",
       "    <tr>\n",
       "      <th>80541</th>\n",
       "      <td>Orland park</td>\n",
       "      <td>RED</td>\n",
       "      <td>LIGHT</td>\n",
       "      <td>IL</td>\n",
       "      <td>9/5/2014 3:43</td>\n",
       "    </tr>\n",
       "    <tr>\n",
       "      <th>80542</th>\n",
       "      <td>Loughman</td>\n",
       "      <td>NaN</td>\n",
       "      <td>LIGHT</td>\n",
       "      <td>FL</td>\n",
       "      <td>9/5/2014 5:30</td>\n",
       "    </tr>\n",
       "  </tbody>\n",
       "</table>\n",
       "</div>"
      ],
      "text/plain": [
       "               City Colors Reported Shape Reported State            Time\n",
       "80538        Neligh             NaN         CIRCLE    NE  9/4/2014 23:20\n",
       "80539  Uhrichsville             NaN          LIGHT    OH   9/5/2014 1:14\n",
       "80540        Tucson        RED BLUE            NaN    AZ   9/5/2014 2:40\n",
       "80541   Orland park             RED          LIGHT    IL   9/5/2014 3:43\n",
       "80542      Loughman             NaN          LIGHT    FL   9/5/2014 5:30"
      ]
     },
     "execution_count": 151,
     "metadata": {},
     "output_type": "execute_result"
    }
   ],
   "source": [
    "ufo.tail()              # Look at the bottom 5 observations"
   ]
  },
  {
   "cell_type": "code",
   "execution_count": 152,
   "metadata": {
    "collapsed": true
   },
   "outputs": [],
   "source": [
    "ufo['Location'] = ufo['City'] + ', ' + ufo['State']"
   ]
  },
  {
   "cell_type": "code",
   "execution_count": 153,
   "metadata": {
    "collapsed": false
   },
   "outputs": [
    {
     "data": {
      "text/html": [
       "<div>\n",
       "<table border=\"1\" class=\"dataframe\">\n",
       "  <thead>\n",
       "    <tr style=\"text-align: right;\">\n",
       "      <th></th>\n",
       "      <th>City</th>\n",
       "      <th>Colors Reported</th>\n",
       "      <th>Shape Reported</th>\n",
       "      <th>State</th>\n",
       "      <th>Time</th>\n",
       "      <th>Location</th>\n",
       "    </tr>\n",
       "  </thead>\n",
       "  <tbody>\n",
       "    <tr>\n",
       "      <th>0</th>\n",
       "      <td>Ithaca</td>\n",
       "      <td>NaN</td>\n",
       "      <td>TRIANGLE</td>\n",
       "      <td>NY</td>\n",
       "      <td>6/1/1930 22:00</td>\n",
       "      <td>Ithaca, NY</td>\n",
       "    </tr>\n",
       "    <tr>\n",
       "      <th>1</th>\n",
       "      <td>Willingboro</td>\n",
       "      <td>NaN</td>\n",
       "      <td>OTHER</td>\n",
       "      <td>NJ</td>\n",
       "      <td>6/30/1930 20:00</td>\n",
       "      <td>Willingboro, NJ</td>\n",
       "    </tr>\n",
       "    <tr>\n",
       "      <th>2</th>\n",
       "      <td>Holyoke</td>\n",
       "      <td>NaN</td>\n",
       "      <td>OVAL</td>\n",
       "      <td>CO</td>\n",
       "      <td>2/15/1931 14:00</td>\n",
       "      <td>Holyoke, CO</td>\n",
       "    </tr>\n",
       "    <tr>\n",
       "      <th>3</th>\n",
       "      <td>Abilene</td>\n",
       "      <td>NaN</td>\n",
       "      <td>DISK</td>\n",
       "      <td>KS</td>\n",
       "      <td>6/1/1931 13:00</td>\n",
       "      <td>Abilene, KS</td>\n",
       "    </tr>\n",
       "    <tr>\n",
       "      <th>4</th>\n",
       "      <td>New York Worlds Fair</td>\n",
       "      <td>NaN</td>\n",
       "      <td>LIGHT</td>\n",
       "      <td>NY</td>\n",
       "      <td>4/18/1933 19:00</td>\n",
       "      <td>New York Worlds Fair, NY</td>\n",
       "    </tr>\n",
       "  </tbody>\n",
       "</table>\n",
       "</div>"
      ],
      "text/plain": [
       "                   City Colors Reported Shape Reported State             Time  \\\n",
       "0                Ithaca             NaN       TRIANGLE    NY   6/1/1930 22:00   \n",
       "1           Willingboro             NaN          OTHER    NJ  6/30/1930 20:00   \n",
       "2               Holyoke             NaN           OVAL    CO  2/15/1931 14:00   \n",
       "3               Abilene             NaN           DISK    KS   6/1/1931 13:00   \n",
       "4  New York Worlds Fair             NaN          LIGHT    NY  4/18/1933 19:00   \n",
       "\n",
       "                   Location  \n",
       "0                Ithaca, NY  \n",
       "1           Willingboro, NJ  \n",
       "2               Holyoke, CO  \n",
       "3               Abilene, KS  \n",
       "4  New York Worlds Fair, NY  "
      ]
     },
     "execution_count": 153,
     "metadata": {},
     "output_type": "execute_result"
    }
   ],
   "source": [
    "ufo.head()"
   ]
  },
  {
   "cell_type": "code",
   "execution_count": 154,
   "metadata": {
    "collapsed": true
   },
   "outputs": [],
   "source": [
    "# rename some columns\n",
    "ufo.rename(columns={'Colors Reported':'Colors', 'Shape Reported':'Shape'}, inplace=True)"
   ]
  },
  {
   "cell_type": "code",
   "execution_count": 147,
   "metadata": {
    "collapsed": false
   },
   "outputs": [
    {
     "data": {
      "text/html": [
       "<div>\n",
       "<table border=\"1\" class=\"dataframe\">\n",
       "  <thead>\n",
       "    <tr style=\"text-align: right;\">\n",
       "      <th></th>\n",
       "      <th>City</th>\n",
       "      <th>Colors</th>\n",
       "      <th>Shape</th>\n",
       "      <th>State</th>\n",
       "      <th>Time</th>\n",
       "      <th>Location</th>\n",
       "    </tr>\n",
       "  </thead>\n",
       "  <tbody>\n",
       "    <tr>\n",
       "      <th>0</th>\n",
       "      <td>Ithaca</td>\n",
       "      <td>NaN</td>\n",
       "      <td>TRIANGLE</td>\n",
       "      <td>NY</td>\n",
       "      <td>6/1/1930 22:00</td>\n",
       "      <td>Ithaca, NY</td>\n",
       "    </tr>\n",
       "    <tr>\n",
       "      <th>1</th>\n",
       "      <td>Willingboro</td>\n",
       "      <td>NaN</td>\n",
       "      <td>OTHER</td>\n",
       "      <td>NJ</td>\n",
       "      <td>6/30/1930 20:00</td>\n",
       "      <td>Willingboro, NJ</td>\n",
       "    </tr>\n",
       "    <tr>\n",
       "      <th>2</th>\n",
       "      <td>Holyoke</td>\n",
       "      <td>NaN</td>\n",
       "      <td>OVAL</td>\n",
       "      <td>CO</td>\n",
       "      <td>2/15/1931 14:00</td>\n",
       "      <td>Holyoke, CO</td>\n",
       "    </tr>\n",
       "    <tr>\n",
       "      <th>3</th>\n",
       "      <td>Abilene</td>\n",
       "      <td>NaN</td>\n",
       "      <td>DISK</td>\n",
       "      <td>KS</td>\n",
       "      <td>6/1/1931 13:00</td>\n",
       "      <td>Abilene, KS</td>\n",
       "    </tr>\n",
       "    <tr>\n",
       "      <th>4</th>\n",
       "      <td>New York Worlds Fair</td>\n",
       "      <td>NaN</td>\n",
       "      <td>LIGHT</td>\n",
       "      <td>NY</td>\n",
       "      <td>4/18/1933 19:00</td>\n",
       "      <td>New York Worlds Fair, NY</td>\n",
       "    </tr>\n",
       "  </tbody>\n",
       "</table>\n",
       "</div>"
      ],
      "text/plain": [
       "                   City Colors     Shape State             Time  \\\n",
       "0                Ithaca    NaN  TRIANGLE    NY   6/1/1930 22:00   \n",
       "1           Willingboro    NaN     OTHER    NJ  6/30/1930 20:00   \n",
       "2               Holyoke    NaN      OVAL    CO  2/15/1931 14:00   \n",
       "3               Abilene    NaN      DISK    KS   6/1/1931 13:00   \n",
       "4  New York Worlds Fair    NaN     LIGHT    NY  4/18/1933 19:00   \n",
       "\n",
       "                   Location  \n",
       "0                Ithaca, NY  \n",
       "1           Willingboro, NJ  \n",
       "2               Holyoke, CO  \n",
       "3               Abilene, KS  \n",
       "4  New York Worlds Fair, NY  "
      ]
     },
     "execution_count": 147,
     "metadata": {},
     "output_type": "execute_result"
    }
   ],
   "source": [
    "ufo.head()"
   ]
  },
  {
   "cell_type": "code",
   "execution_count": 148,
   "metadata": {
    "collapsed": false
   },
   "outputs": [],
   "source": [
    "del ufo['City']                  # delete a column (permanently)\n",
    "del ufo['State']                 # delete a column (permanently)"
   ]
  },
  {
   "cell_type": "code",
   "execution_count": 90,
   "metadata": {
    "collapsed": false
   },
   "outputs": [
    {
     "data": {
      "text/plain": [
       "LIGHT        16332\n",
       "TRIANGLE      7816\n",
       "CIRCLE        7725\n",
       "FIREBALL      6249\n",
       "OTHER         5506\n",
       "SPHERE        5231\n",
       "DISK          5226\n",
       "OVAL          3721\n",
       "FORMATION     2405\n",
       "CIGAR         1983\n",
       "VARIOUS       1957\n",
       "FLASH         1329\n",
       "RECTANGLE     1295\n",
       "CYLINDER      1252\n",
       "DIAMOND       1152\n",
       "CHEVRON        940\n",
       "EGG            733\n",
       "TEARDROP       723\n",
       "CONE           310\n",
       "CROSS          241\n",
       "DELTA            7\n",
       "CRESCENT         2\n",
       "ROUND            2\n",
       "HEXAGON          1\n",
       "FLARE            1\n",
       "PYRAMID          1\n",
       "DOME             1\n",
       "Name: Shape, dtype: int64"
      ]
     },
     "execution_count": 90,
     "metadata": {},
     "output_type": "execute_result"
    }
   ],
   "source": [
    "ufo.Shape.value_counts()                # excludes missing values"
   ]
  },
  {
   "cell_type": "code",
   "execution_count": 91,
   "metadata": {
    "collapsed": false
   },
   "outputs": [
    {
     "data": {
      "text/plain": [
       "LIGHT        16332\n",
       "NaN           8402\n",
       "TRIANGLE      7816\n",
       "CIRCLE        7725\n",
       "FIREBALL      6249\n",
       "OTHER         5506\n",
       "SPHERE        5231\n",
       "DISK          5226\n",
       "OVAL          3721\n",
       "FORMATION     2405\n",
       "CIGAR         1983\n",
       "VARIOUS       1957\n",
       "FLASH         1329\n",
       "RECTANGLE     1295\n",
       "CYLINDER      1252\n",
       "DIAMOND       1152\n",
       "CHEVRON        940\n",
       "EGG            733\n",
       "TEARDROP       723\n",
       "CONE           310\n",
       "CROSS          241\n",
       "DELTA            7\n",
       "CRESCENT         2\n",
       "ROUND            2\n",
       "HEXAGON          1\n",
       "PYRAMID          1\n",
       "DOME             1\n",
       "FLARE            1\n",
       "Name: Shape, dtype: int64"
      ]
     },
     "execution_count": 91,
     "metadata": {},
     "output_type": "execute_result"
    }
   ],
   "source": [
    "ufo.Shape.value_counts(dropna=False)    # includes missing values"
   ]
  },
  {
   "cell_type": "code",
   "execution_count": 92,
   "metadata": {
    "collapsed": false
   },
   "outputs": [
    {
     "data": {
      "text/plain": [
       "8402"
      ]
     },
     "execution_count": 92,
     "metadata": {},
     "output_type": "execute_result"
    }
   ],
   "source": [
    "ufo.Shape.isnull().sum() # count the missing values in the shape column"
   ]
  },
  {
   "cell_type": "code",
   "execution_count": 93,
   "metadata": {
    "collapsed": false
   },
   "outputs": [
    {
     "data": {
      "text/plain": [
       "Colors      63509\n",
       "Shape        8402\n",
       "Time            0\n",
       "Location       47\n",
       "dtype: int64"
      ]
     },
     "execution_count": 93,
     "metadata": {},
     "output_type": "execute_result"
    }
   ],
   "source": [
    "ufo.isnull().sum()       # returns a count of missing values in all columns"
   ]
  },
  {
   "cell_type": "code",
   "execution_count": 99,
   "metadata": {
    "collapsed": false
   },
   "outputs": [
    {
     "data": {
      "text/html": [
       "<div>\n",
       "<table border=\"1\" class=\"dataframe\">\n",
       "  <thead>\n",
       "    <tr style=\"text-align: right;\">\n",
       "      <th></th>\n",
       "      <th>Colors</th>\n",
       "      <th>Shape</th>\n",
       "      <th>Time</th>\n",
       "      <th>Location</th>\n",
       "    </tr>\n",
       "  </thead>\n",
       "  <tbody>\n",
       "    <tr>\n",
       "      <th>12</th>\n",
       "      <td>RED</td>\n",
       "      <td>SPHERE</td>\n",
       "      <td>6/30/1939 20:00</td>\n",
       "      <td>Belton, SC</td>\n",
       "    </tr>\n",
       "    <tr>\n",
       "      <th>19</th>\n",
       "      <td>RED</td>\n",
       "      <td>OTHER</td>\n",
       "      <td>4/30/1943 23:00</td>\n",
       "      <td>Bering Sea, AK</td>\n",
       "    </tr>\n",
       "    <tr>\n",
       "      <th>36</th>\n",
       "      <td>RED</td>\n",
       "      <td>FORMATION</td>\n",
       "      <td>7/10/1945 1:30</td>\n",
       "      <td>Portsmouth, VA</td>\n",
       "    </tr>\n",
       "    <tr>\n",
       "      <th>44</th>\n",
       "      <td>GREEN</td>\n",
       "      <td>SPHERE</td>\n",
       "      <td>6/30/1946 19:00</td>\n",
       "      <td>Blairsden, CA</td>\n",
       "    </tr>\n",
       "    <tr>\n",
       "      <th>82</th>\n",
       "      <td>BLUE</td>\n",
       "      <td>CHEVRON</td>\n",
       "      <td>7/15/1947 21:00</td>\n",
       "      <td>San Jose, CA</td>\n",
       "    </tr>\n",
       "    <tr>\n",
       "      <th>84</th>\n",
       "      <td>BLUE</td>\n",
       "      <td>DISK</td>\n",
       "      <td>8/8/1947 22:00</td>\n",
       "      <td>Modesto, CA</td>\n",
       "    </tr>\n",
       "    <tr>\n",
       "      <th>91</th>\n",
       "      <td>RED</td>\n",
       "      <td>SPHERE</td>\n",
       "      <td>5/10/1948 19:00</td>\n",
       "      <td>Scipio, IN</td>\n",
       "    </tr>\n",
       "    <tr>\n",
       "      <th>111</th>\n",
       "      <td>ORANGE</td>\n",
       "      <td>CIRCLE</td>\n",
       "      <td>8/15/1949 22:00</td>\n",
       "      <td>Tarrant City, AL</td>\n",
       "    </tr>\n",
       "    <tr>\n",
       "      <th>129</th>\n",
       "      <td>GREEN</td>\n",
       "      <td>DISK</td>\n",
       "      <td>6/10/1950 0:00</td>\n",
       "      <td>Napa, CA</td>\n",
       "    </tr>\n",
       "    <tr>\n",
       "      <th>138</th>\n",
       "      <td>ORANGE</td>\n",
       "      <td>CIGAR</td>\n",
       "      <td>7/2/1950 13:00</td>\n",
       "      <td>Coeur d'Alene, ID</td>\n",
       "    </tr>\n",
       "    <tr>\n",
       "      <th>152</th>\n",
       "      <td>BLUE</td>\n",
       "      <td>DISK</td>\n",
       "      <td>4/15/1951 0:30</td>\n",
       "      <td>Irving, KS</td>\n",
       "    </tr>\n",
       "    <tr>\n",
       "      <th>157</th>\n",
       "      <td>GREEN</td>\n",
       "      <td>DISK</td>\n",
       "      <td>6/15/1951 20:30</td>\n",
       "      <td>Greenville, MS</td>\n",
       "    </tr>\n",
       "    <tr>\n",
       "      <th>163</th>\n",
       "      <td>GREEN</td>\n",
       "      <td>SPHERE</td>\n",
       "      <td>7/3/1951 12:00</td>\n",
       "      <td>Green River, WY</td>\n",
       "    </tr>\n",
       "    <tr>\n",
       "      <th>164</th>\n",
       "      <td>BLUE</td>\n",
       "      <td>DISK</td>\n",
       "      <td>7/10/1951 23:30</td>\n",
       "      <td>Provo, UT</td>\n",
       "    </tr>\n",
       "    <tr>\n",
       "      <th>174</th>\n",
       "      <td>ORANGE</td>\n",
       "      <td>TRIANGLE</td>\n",
       "      <td>4/15/1952 16:00</td>\n",
       "      <td>Greenville, TX</td>\n",
       "    </tr>\n",
       "    <tr>\n",
       "      <th>178</th>\n",
       "      <td>RED</td>\n",
       "      <td>FIREBALL</td>\n",
       "      <td>6/1/1952 22:00</td>\n",
       "      <td>Norfolk, VA</td>\n",
       "    </tr>\n",
       "    <tr>\n",
       "      <th>202</th>\n",
       "      <td>GREEN</td>\n",
       "      <td>OVAL</td>\n",
       "      <td>7/13/1952 21:00</td>\n",
       "      <td>Arlington, VA</td>\n",
       "    </tr>\n",
       "    <tr>\n",
       "      <th>226</th>\n",
       "      <td>RED</td>\n",
       "      <td>SPHERE</td>\n",
       "      <td>4/1/1953 18:00</td>\n",
       "      <td>Cambridge, MA</td>\n",
       "    </tr>\n",
       "    <tr>\n",
       "      <th>229</th>\n",
       "      <td>YELLOW</td>\n",
       "      <td>FIREBALL</td>\n",
       "      <td>4/15/1953 16:00</td>\n",
       "      <td>Midwest City, OK</td>\n",
       "    </tr>\n",
       "    <tr>\n",
       "      <th>238</th>\n",
       "      <td>RED</td>\n",
       "      <td>FIREBALL</td>\n",
       "      <td>6/30/1953 0:00</td>\n",
       "      <td>Cleveland, OH</td>\n",
       "    </tr>\n",
       "    <tr>\n",
       "      <th>241</th>\n",
       "      <td>BLUE</td>\n",
       "      <td>DISK</td>\n",
       "      <td>7/4/1953 14:00</td>\n",
       "      <td>NaN</td>\n",
       "    </tr>\n",
       "    <tr>\n",
       "      <th>249</th>\n",
       "      <td>ORANGE</td>\n",
       "      <td>OTHER</td>\n",
       "      <td>8/15/1953 19:00</td>\n",
       "      <td>Artesia, NM</td>\n",
       "    </tr>\n",
       "    <tr>\n",
       "      <th>256</th>\n",
       "      <td>GREEN</td>\n",
       "      <td>DISK</td>\n",
       "      <td>11/21/1953 22:30</td>\n",
       "      <td>Pendleton, IN</td>\n",
       "    </tr>\n",
       "    <tr>\n",
       "      <th>288</th>\n",
       "      <td>RED</td>\n",
       "      <td>OVAL</td>\n",
       "      <td>7/1/1954 21:00</td>\n",
       "      <td>St. Louis Airport, MO</td>\n",
       "    </tr>\n",
       "    <tr>\n",
       "      <th>289</th>\n",
       "      <td>RED</td>\n",
       "      <td>CIRCLE</td>\n",
       "      <td>7/1/1954 22:00</td>\n",
       "      <td>Los Angeles, CA</td>\n",
       "    </tr>\n",
       "    <tr>\n",
       "      <th>304</th>\n",
       "      <td>RED</td>\n",
       "      <td>DISK</td>\n",
       "      <td>9/9/1954 12:30</td>\n",
       "      <td>Beaumont, TX</td>\n",
       "    </tr>\n",
       "    <tr>\n",
       "      <th>311</th>\n",
       "      <td>ORANGE</td>\n",
       "      <td>CIRCLE</td>\n",
       "      <td>12/15/1954 23:10</td>\n",
       "      <td>Red Bank, NJ</td>\n",
       "    </tr>\n",
       "    <tr>\n",
       "      <th>314</th>\n",
       "      <td>YELLOW</td>\n",
       "      <td>EGG</td>\n",
       "      <td>5/1/1955 15:00</td>\n",
       "      <td>Holbrook, MA</td>\n",
       "    </tr>\n",
       "    <tr>\n",
       "      <th>323</th>\n",
       "      <td>ORANGE</td>\n",
       "      <td>CIRCLE</td>\n",
       "      <td>6/15/1955 0:00</td>\n",
       "      <td>Terre Haute, IN</td>\n",
       "    </tr>\n",
       "    <tr>\n",
       "      <th>354</th>\n",
       "      <td>ORANGE</td>\n",
       "      <td>CYLINDER</td>\n",
       "      <td>6/1/1956 20:00</td>\n",
       "      <td>Memphis, TN</td>\n",
       "    </tr>\n",
       "    <tr>\n",
       "      <th>...</th>\n",
       "      <td>...</td>\n",
       "      <td>...</td>\n",
       "      <td>...</td>\n",
       "      <td>...</td>\n",
       "    </tr>\n",
       "    <tr>\n",
       "      <th>80429</th>\n",
       "      <td>RED</td>\n",
       "      <td>CIRCLE</td>\n",
       "      <td>8/31/2014 20:50</td>\n",
       "      <td>Bettendorf, IA</td>\n",
       "    </tr>\n",
       "    <tr>\n",
       "      <th>80430</th>\n",
       "      <td>RED</td>\n",
       "      <td>SPHERE</td>\n",
       "      <td>8/31/2014 21:00</td>\n",
       "      <td>Pompton Lakes, NJ</td>\n",
       "    </tr>\n",
       "    <tr>\n",
       "      <th>80436</th>\n",
       "      <td>ORANGE</td>\n",
       "      <td>SPHERE</td>\n",
       "      <td>8/31/2014 21:45</td>\n",
       "      <td>Montrose, MI</td>\n",
       "    </tr>\n",
       "    <tr>\n",
       "      <th>80438</th>\n",
       "      <td>ORANGE</td>\n",
       "      <td>CYLINDER</td>\n",
       "      <td>8/31/2014 22:00</td>\n",
       "      <td>Brunswick, OH</td>\n",
       "    </tr>\n",
       "    <tr>\n",
       "      <th>80441</th>\n",
       "      <td>RED</td>\n",
       "      <td>TEARDROP</td>\n",
       "      <td>8/31/2014 22:30</td>\n",
       "      <td>Scribner, NE</td>\n",
       "    </tr>\n",
       "    <tr>\n",
       "      <th>80453</th>\n",
       "      <td>RED ORANGE GREEN BLUE</td>\n",
       "      <td>TRIANGLE</td>\n",
       "      <td>9/1/2014 11:56</td>\n",
       "      <td>Minersville, PA</td>\n",
       "    </tr>\n",
       "    <tr>\n",
       "      <th>80457</th>\n",
       "      <td>ORANGE</td>\n",
       "      <td>CIRCLE</td>\n",
       "      <td>9/1/2014 16:05</td>\n",
       "      <td>Syracuse, NY</td>\n",
       "    </tr>\n",
       "    <tr>\n",
       "      <th>80458</th>\n",
       "      <td>ORANGE</td>\n",
       "      <td>FIREBALL</td>\n",
       "      <td>9/1/2014 20:00</td>\n",
       "      <td>Parma, OH</td>\n",
       "    </tr>\n",
       "    <tr>\n",
       "      <th>80459</th>\n",
       "      <td>ORANGE</td>\n",
       "      <td>CIRCLE</td>\n",
       "      <td>9/1/2014 20:00</td>\n",
       "      <td>Roswell, NM</td>\n",
       "    </tr>\n",
       "    <tr>\n",
       "      <th>80465</th>\n",
       "      <td>GREEN</td>\n",
       "      <td>VARIOUS</td>\n",
       "      <td>9/1/2014 21:30</td>\n",
       "      <td>South Londonderry, VT</td>\n",
       "    </tr>\n",
       "    <tr>\n",
       "      <th>80467</th>\n",
       "      <td>ORANGE</td>\n",
       "      <td>LIGHT</td>\n",
       "      <td>9/1/2014 22:00</td>\n",
       "      <td>Gold Hill, NC</td>\n",
       "    </tr>\n",
       "    <tr>\n",
       "      <th>80469</th>\n",
       "      <td>ORANGE</td>\n",
       "      <td>CIRCLE</td>\n",
       "      <td>9/1/2014 22:19</td>\n",
       "      <td>Milford, DE</td>\n",
       "    </tr>\n",
       "    <tr>\n",
       "      <th>80473</th>\n",
       "      <td>BLUE</td>\n",
       "      <td>TRIANGLE</td>\n",
       "      <td>9/2/2014 5:50</td>\n",
       "      <td>Trevose, PA</td>\n",
       "    </tr>\n",
       "    <tr>\n",
       "      <th>80482</th>\n",
       "      <td>ORANGE</td>\n",
       "      <td>FIREBALL</td>\n",
       "      <td>9/2/2014 22:30</td>\n",
       "      <td>Spearfish, SD</td>\n",
       "    </tr>\n",
       "    <tr>\n",
       "      <th>80489</th>\n",
       "      <td>ORANGE</td>\n",
       "      <td>SPHERE</td>\n",
       "      <td>9/3/2014 5:00</td>\n",
       "      <td>Pleasure Island, NC</td>\n",
       "    </tr>\n",
       "    <tr>\n",
       "      <th>80494</th>\n",
       "      <td>RED GREEN</td>\n",
       "      <td>CIRCLE</td>\n",
       "      <td>9/3/2014 19:00</td>\n",
       "      <td>Boca Raton, FL</td>\n",
       "    </tr>\n",
       "    <tr>\n",
       "      <th>80495</th>\n",
       "      <td>YELLOW</td>\n",
       "      <td>FLASH</td>\n",
       "      <td>9/3/2014 19:00</td>\n",
       "      <td>Kingston, NH</td>\n",
       "    </tr>\n",
       "    <tr>\n",
       "      <th>80496</th>\n",
       "      <td>RED</td>\n",
       "      <td>FLASH</td>\n",
       "      <td>9/3/2014 19:00</td>\n",
       "      <td>New York City, NY</td>\n",
       "    </tr>\n",
       "    <tr>\n",
       "      <th>80500</th>\n",
       "      <td>RED BLUE</td>\n",
       "      <td>LIGHT</td>\n",
       "      <td>9/3/2014 21:00</td>\n",
       "      <td>Johnsburg, IL</td>\n",
       "    </tr>\n",
       "    <tr>\n",
       "      <th>80503</th>\n",
       "      <td>ORANGE</td>\n",
       "      <td>VARIOUS</td>\n",
       "      <td>9/3/2014 21:15</td>\n",
       "      <td>Bethel Park, PA</td>\n",
       "    </tr>\n",
       "    <tr>\n",
       "      <th>80505</th>\n",
       "      <td>YELLOW</td>\n",
       "      <td>TRIANGLE</td>\n",
       "      <td>9/3/2014 21:30</td>\n",
       "      <td>Clarence, NY</td>\n",
       "    </tr>\n",
       "    <tr>\n",
       "      <th>80509</th>\n",
       "      <td>RED BLUE</td>\n",
       "      <td>CIRCLE</td>\n",
       "      <td>9/3/2014 23:30</td>\n",
       "      <td>Chesapeake Beach, MD</td>\n",
       "    </tr>\n",
       "    <tr>\n",
       "      <th>80510</th>\n",
       "      <td>RED</td>\n",
       "      <td>OVAL</td>\n",
       "      <td>9/4/2014 0:00</td>\n",
       "      <td>Rogersville, TN</td>\n",
       "    </tr>\n",
       "    <tr>\n",
       "      <th>80519</th>\n",
       "      <td>RED</td>\n",
       "      <td>CIRCLE</td>\n",
       "      <td>9/4/2014 20:20</td>\n",
       "      <td>Glen Ellyn, IL</td>\n",
       "    </tr>\n",
       "    <tr>\n",
       "      <th>80522</th>\n",
       "      <td>ORANGE</td>\n",
       "      <td>LIGHT</td>\n",
       "      <td>9/4/2014 20:30</td>\n",
       "      <td>Lawrence, MA</td>\n",
       "    </tr>\n",
       "    <tr>\n",
       "      <th>80524</th>\n",
       "      <td>RED</td>\n",
       "      <td>LIGHT</td>\n",
       "      <td>9/4/2014 21:10</td>\n",
       "      <td>Olympia, WA</td>\n",
       "    </tr>\n",
       "    <tr>\n",
       "      <th>80525</th>\n",
       "      <td>BLUE</td>\n",
       "      <td>LIGHT</td>\n",
       "      <td>9/4/2014 21:11</td>\n",
       "      <td>Iowa City, IA</td>\n",
       "    </tr>\n",
       "    <tr>\n",
       "      <th>80528</th>\n",
       "      <td>RED</td>\n",
       "      <td>TRIANGLE</td>\n",
       "      <td>9/4/2014 21:30</td>\n",
       "      <td>North Royalton, OH</td>\n",
       "    </tr>\n",
       "    <tr>\n",
       "      <th>80536</th>\n",
       "      <td>RED</td>\n",
       "      <td>DISK</td>\n",
       "      <td>9/4/2014 23:00</td>\n",
       "      <td>Wyoming, PA</td>\n",
       "    </tr>\n",
       "    <tr>\n",
       "      <th>80541</th>\n",
       "      <td>RED</td>\n",
       "      <td>LIGHT</td>\n",
       "      <td>9/5/2014 3:43</td>\n",
       "      <td>Orland park, IL</td>\n",
       "    </tr>\n",
       "  </tbody>\n",
       "</table>\n",
       "<p>15516 rows × 4 columns</p>\n",
       "</div>"
      ],
      "text/plain": [
       "                      Colors      Shape              Time  \\\n",
       "12                       RED     SPHERE   6/30/1939 20:00   \n",
       "19                       RED      OTHER   4/30/1943 23:00   \n",
       "36                       RED  FORMATION    7/10/1945 1:30   \n",
       "44                     GREEN     SPHERE   6/30/1946 19:00   \n",
       "82                      BLUE    CHEVRON   7/15/1947 21:00   \n",
       "84                      BLUE       DISK    8/8/1947 22:00   \n",
       "91                       RED     SPHERE   5/10/1948 19:00   \n",
       "111                   ORANGE     CIRCLE   8/15/1949 22:00   \n",
       "129                    GREEN       DISK    6/10/1950 0:00   \n",
       "138                   ORANGE      CIGAR    7/2/1950 13:00   \n",
       "152                     BLUE       DISK    4/15/1951 0:30   \n",
       "157                    GREEN       DISK   6/15/1951 20:30   \n",
       "163                    GREEN     SPHERE    7/3/1951 12:00   \n",
       "164                     BLUE       DISK   7/10/1951 23:30   \n",
       "174                   ORANGE   TRIANGLE   4/15/1952 16:00   \n",
       "178                      RED   FIREBALL    6/1/1952 22:00   \n",
       "202                    GREEN       OVAL   7/13/1952 21:00   \n",
       "226                      RED     SPHERE    4/1/1953 18:00   \n",
       "229                   YELLOW   FIREBALL   4/15/1953 16:00   \n",
       "238                      RED   FIREBALL    6/30/1953 0:00   \n",
       "241                     BLUE       DISK    7/4/1953 14:00   \n",
       "249                   ORANGE      OTHER   8/15/1953 19:00   \n",
       "256                    GREEN       DISK  11/21/1953 22:30   \n",
       "288                      RED       OVAL    7/1/1954 21:00   \n",
       "289                      RED     CIRCLE    7/1/1954 22:00   \n",
       "304                      RED       DISK    9/9/1954 12:30   \n",
       "311                   ORANGE     CIRCLE  12/15/1954 23:10   \n",
       "314                   YELLOW        EGG    5/1/1955 15:00   \n",
       "323                   ORANGE     CIRCLE    6/15/1955 0:00   \n",
       "354                   ORANGE   CYLINDER    6/1/1956 20:00   \n",
       "...                      ...        ...               ...   \n",
       "80429                    RED     CIRCLE   8/31/2014 20:50   \n",
       "80430                    RED     SPHERE   8/31/2014 21:00   \n",
       "80436                 ORANGE     SPHERE   8/31/2014 21:45   \n",
       "80438                 ORANGE   CYLINDER   8/31/2014 22:00   \n",
       "80441                    RED   TEARDROP   8/31/2014 22:30   \n",
       "80453  RED ORANGE GREEN BLUE   TRIANGLE    9/1/2014 11:56   \n",
       "80457                 ORANGE     CIRCLE    9/1/2014 16:05   \n",
       "80458                 ORANGE   FIREBALL    9/1/2014 20:00   \n",
       "80459                 ORANGE     CIRCLE    9/1/2014 20:00   \n",
       "80465                  GREEN    VARIOUS    9/1/2014 21:30   \n",
       "80467                 ORANGE      LIGHT    9/1/2014 22:00   \n",
       "80469                 ORANGE     CIRCLE    9/1/2014 22:19   \n",
       "80473                   BLUE   TRIANGLE     9/2/2014 5:50   \n",
       "80482                 ORANGE   FIREBALL    9/2/2014 22:30   \n",
       "80489                 ORANGE     SPHERE     9/3/2014 5:00   \n",
       "80494              RED GREEN     CIRCLE    9/3/2014 19:00   \n",
       "80495                 YELLOW      FLASH    9/3/2014 19:00   \n",
       "80496                    RED      FLASH    9/3/2014 19:00   \n",
       "80500               RED BLUE      LIGHT    9/3/2014 21:00   \n",
       "80503                 ORANGE    VARIOUS    9/3/2014 21:15   \n",
       "80505                 YELLOW   TRIANGLE    9/3/2014 21:30   \n",
       "80509               RED BLUE     CIRCLE    9/3/2014 23:30   \n",
       "80510                    RED       OVAL     9/4/2014 0:00   \n",
       "80519                    RED     CIRCLE    9/4/2014 20:20   \n",
       "80522                 ORANGE      LIGHT    9/4/2014 20:30   \n",
       "80524                    RED      LIGHT    9/4/2014 21:10   \n",
       "80525                   BLUE      LIGHT    9/4/2014 21:11   \n",
       "80528                    RED   TRIANGLE    9/4/2014 21:30   \n",
       "80536                    RED       DISK    9/4/2014 23:00   \n",
       "80541                    RED      LIGHT     9/5/2014 3:43   \n",
       "\n",
       "                    Location  \n",
       "12                Belton, SC  \n",
       "19            Bering Sea, AK  \n",
       "36            Portsmouth, VA  \n",
       "44             Blairsden, CA  \n",
       "82              San Jose, CA  \n",
       "84               Modesto, CA  \n",
       "91                Scipio, IN  \n",
       "111         Tarrant City, AL  \n",
       "129                 Napa, CA  \n",
       "138        Coeur d'Alene, ID  \n",
       "152               Irving, KS  \n",
       "157           Greenville, MS  \n",
       "163          Green River, WY  \n",
       "164                Provo, UT  \n",
       "174           Greenville, TX  \n",
       "178              Norfolk, VA  \n",
       "202            Arlington, VA  \n",
       "226            Cambridge, MA  \n",
       "229         Midwest City, OK  \n",
       "238            Cleveland, OH  \n",
       "241                      NaN  \n",
       "249              Artesia, NM  \n",
       "256            Pendleton, IN  \n",
       "288    St. Louis Airport, MO  \n",
       "289          Los Angeles, CA  \n",
       "304             Beaumont, TX  \n",
       "311             Red Bank, NJ  \n",
       "314             Holbrook, MA  \n",
       "323          Terre Haute, IN  \n",
       "354              Memphis, TN  \n",
       "...                      ...  \n",
       "80429         Bettendorf, IA  \n",
       "80430      Pompton Lakes, NJ  \n",
       "80436           Montrose, MI  \n",
       "80438          Brunswick, OH  \n",
       "80441           Scribner, NE  \n",
       "80453        Minersville, PA  \n",
       "80457           Syracuse, NY  \n",
       "80458              Parma, OH  \n",
       "80459            Roswell, NM  \n",
       "80465  South Londonderry, VT  \n",
       "80467          Gold Hill, NC  \n",
       "80469            Milford, DE  \n",
       "80473            Trevose, PA  \n",
       "80482          Spearfish, SD  \n",
       "80489    Pleasure Island, NC  \n",
       "80494         Boca Raton, FL  \n",
       "80495           Kingston, NH  \n",
       "80496      New York City, NY  \n",
       "80500          Johnsburg, IL  \n",
       "80503        Bethel Park, PA  \n",
       "80505           Clarence, NY  \n",
       "80509   Chesapeake Beach, MD  \n",
       "80510        Rogersville, TN  \n",
       "80519         Glen Ellyn, IL  \n",
       "80522           Lawrence, MA  \n",
       "80524            Olympia, WA  \n",
       "80525          Iowa City, IA  \n",
       "80528     North Royalton, OH  \n",
       "80536            Wyoming, PA  \n",
       "80541        Orland park, IL  \n",
       "\n",
       "[15516 rows x 4 columns]"
      ]
     },
     "execution_count": 99,
     "metadata": {},
     "output_type": "execute_result"
    }
   ],
   "source": [
    "# Shows how many rows has a not null shape AND a not null color\n",
    "ufo[(ufo.Shape.notnull()) & (ufo.Colors.notnull())]"
   ]
  },
  {
   "cell_type": "code",
   "execution_count": 100,
   "metadata": {
    "collapsed": false
   },
   "outputs": [
    {
     "name": "stdout",
     "output_type": "stream",
     "text": [
      "(15510, 4)\n",
      "(80543, 4)\n"
     ]
    }
   ],
   "source": [
    "ufo.dropna()             # drop a row if ANY values are missing\n",
    "print ufo.dropna().shape\n",
    "ufo.dropna(how='all')    # drop a row only if ALL values are missing\n",
    "print ufo.dropna(how='all').shape"
   ]
  },
  {
   "cell_type": "code",
   "execution_count": 101,
   "metadata": {
    "collapsed": false
   },
   "outputs": [
    {
     "data": {
      "text/html": [
       "<div>\n",
       "<table border=\"1\" class=\"dataframe\">\n",
       "  <thead>\n",
       "    <tr style=\"text-align: right;\">\n",
       "      <th></th>\n",
       "      <th>Colors</th>\n",
       "      <th>Shape</th>\n",
       "      <th>Time</th>\n",
       "      <th>Location</th>\n",
       "    </tr>\n",
       "  </thead>\n",
       "  <tbody>\n",
       "    <tr>\n",
       "      <th>0</th>\n",
       "      <td>NaN</td>\n",
       "      <td>TRIANGLE</td>\n",
       "      <td>6/1/1930 22:00</td>\n",
       "      <td>Ithaca, NY</td>\n",
       "    </tr>\n",
       "    <tr>\n",
       "      <th>1</th>\n",
       "      <td>NaN</td>\n",
       "      <td>OTHER</td>\n",
       "      <td>6/30/1930 20:00</td>\n",
       "      <td>Willingboro, NJ</td>\n",
       "    </tr>\n",
       "    <tr>\n",
       "      <th>2</th>\n",
       "      <td>NaN</td>\n",
       "      <td>OVAL</td>\n",
       "      <td>2/15/1931 14:00</td>\n",
       "      <td>Holyoke, CO</td>\n",
       "    </tr>\n",
       "    <tr>\n",
       "      <th>3</th>\n",
       "      <td>NaN</td>\n",
       "      <td>DISK</td>\n",
       "      <td>6/1/1931 13:00</td>\n",
       "      <td>Abilene, KS</td>\n",
       "    </tr>\n",
       "    <tr>\n",
       "      <th>4</th>\n",
       "      <td>NaN</td>\n",
       "      <td>LIGHT</td>\n",
       "      <td>4/18/1933 19:00</td>\n",
       "      <td>New York Worlds Fair, NY</td>\n",
       "    </tr>\n",
       "  </tbody>\n",
       "</table>\n",
       "</div>"
      ],
      "text/plain": [
       "  Colors     Shape             Time                  Location\n",
       "0    NaN  TRIANGLE   6/1/1930 22:00                Ithaca, NY\n",
       "1    NaN     OTHER  6/30/1930 20:00           Willingboro, NJ\n",
       "2    NaN      OVAL  2/15/1931 14:00               Holyoke, CO\n",
       "3    NaN      DISK   6/1/1931 13:00               Abilene, KS\n",
       "4    NaN     LIGHT  4/18/1933 19:00  New York Worlds Fair, NY"
      ]
     },
     "execution_count": 101,
     "metadata": {},
     "output_type": "execute_result"
    }
   ],
   "source": [
    "ufo.head()                      # Without an inplace=True, the dataframe is unaffected!"
   ]
  },
  {
   "cell_type": "code",
   "execution_count": 109,
   "metadata": {
    "collapsed": true
   },
   "outputs": [],
   "source": [
    "ufo.Colors.fillna(value='Unknown', inplace=True) # Permanent"
   ]
  },
  {
   "cell_type": "code",
   "execution_count": 110,
   "metadata": {
    "collapsed": false
   },
   "outputs": [
    {
     "data": {
      "text/html": [
       "<div>\n",
       "<table border=\"1\" class=\"dataframe\">\n",
       "  <thead>\n",
       "    <tr style=\"text-align: right;\">\n",
       "      <th></th>\n",
       "      <th>Colors</th>\n",
       "      <th>Shape</th>\n",
       "      <th>Time</th>\n",
       "      <th>Location</th>\n",
       "    </tr>\n",
       "  </thead>\n",
       "  <tbody>\n",
       "    <tr>\n",
       "      <th>0</th>\n",
       "      <td>Unknown</td>\n",
       "      <td>TRIANGLE</td>\n",
       "      <td>6/1/1930 22:00</td>\n",
       "      <td>Ithaca, NY</td>\n",
       "    </tr>\n",
       "    <tr>\n",
       "      <th>1</th>\n",
       "      <td>Unknown</td>\n",
       "      <td>OTHER</td>\n",
       "      <td>6/30/1930 20:00</td>\n",
       "      <td>Willingboro, NJ</td>\n",
       "    </tr>\n",
       "    <tr>\n",
       "      <th>2</th>\n",
       "      <td>Unknown</td>\n",
       "      <td>OVAL</td>\n",
       "      <td>2/15/1931 14:00</td>\n",
       "      <td>Holyoke, CO</td>\n",
       "    </tr>\n",
       "    <tr>\n",
       "      <th>3</th>\n",
       "      <td>Unknown</td>\n",
       "      <td>DISK</td>\n",
       "      <td>6/1/1931 13:00</td>\n",
       "      <td>Abilene, KS</td>\n",
       "    </tr>\n",
       "    <tr>\n",
       "      <th>4</th>\n",
       "      <td>Unknown</td>\n",
       "      <td>LIGHT</td>\n",
       "      <td>4/18/1933 19:00</td>\n",
       "      <td>New York Worlds Fair, NY</td>\n",
       "    </tr>\n",
       "    <tr>\n",
       "      <th>5</th>\n",
       "      <td>Unknown</td>\n",
       "      <td>DISK</td>\n",
       "      <td>9/15/1934 15:30</td>\n",
       "      <td>Valley City, ND</td>\n",
       "    </tr>\n",
       "    <tr>\n",
       "      <th>6</th>\n",
       "      <td>Unknown</td>\n",
       "      <td>CIRCLE</td>\n",
       "      <td>6/15/1935 0:00</td>\n",
       "      <td>Crater Lake, CA</td>\n",
       "    </tr>\n",
       "    <tr>\n",
       "      <th>7</th>\n",
       "      <td>Unknown</td>\n",
       "      <td>DISK</td>\n",
       "      <td>7/15/1936 0:00</td>\n",
       "      <td>Alma, MI</td>\n",
       "    </tr>\n",
       "    <tr>\n",
       "      <th>8</th>\n",
       "      <td>Unknown</td>\n",
       "      <td>CIGAR</td>\n",
       "      <td>10/15/1936 17:00</td>\n",
       "      <td>Eklutna, AK</td>\n",
       "    </tr>\n",
       "    <tr>\n",
       "      <th>9</th>\n",
       "      <td>Unknown</td>\n",
       "      <td>CYLINDER</td>\n",
       "      <td>6/15/1937 0:00</td>\n",
       "      <td>Hubbard, OR</td>\n",
       "    </tr>\n",
       "  </tbody>\n",
       "</table>\n",
       "</div>"
      ],
      "text/plain": [
       "    Colors     Shape              Time                  Location\n",
       "0  Unknown  TRIANGLE    6/1/1930 22:00                Ithaca, NY\n",
       "1  Unknown     OTHER   6/30/1930 20:00           Willingboro, NJ\n",
       "2  Unknown      OVAL   2/15/1931 14:00               Holyoke, CO\n",
       "3  Unknown      DISK    6/1/1931 13:00               Abilene, KS\n",
       "4  Unknown     LIGHT   4/18/1933 19:00  New York Worlds Fair, NY\n",
       "5  Unknown      DISK   9/15/1934 15:30           Valley City, ND\n",
       "6  Unknown    CIRCLE    6/15/1935 0:00           Crater Lake, CA\n",
       "7  Unknown      DISK    7/15/1936 0:00                  Alma, MI\n",
       "8  Unknown     CIGAR  10/15/1936 17:00               Eklutna, AK\n",
       "9  Unknown  CYLINDER    6/15/1937 0:00               Hubbard, OR"
      ]
     },
     "execution_count": 110,
     "metadata": {},
     "output_type": "execute_result"
    }
   ],
   "source": [
    "ufo.head(10)"
   ]
  },
  {
   "cell_type": "code",
   "execution_count": 111,
   "metadata": {
    "collapsed": true
   },
   "outputs": [],
   "source": [
    "ufo.fillna(value = 'Unknown', inplace = True)   # Permanent for the entire dataframe"
   ]
  },
  {
   "cell_type": "code",
   "execution_count": 114,
   "metadata": {
    "collapsed": false
   },
   "outputs": [
    {
     "data": {
      "text/html": [
       "<div>\n",
       "<table border=\"1\" class=\"dataframe\">\n",
       "  <thead>\n",
       "    <tr style=\"text-align: right;\">\n",
       "      <th></th>\n",
       "      <th>City</th>\n",
       "      <th>Colors Reported</th>\n",
       "      <th>Shape Reported</th>\n",
       "      <th>State</th>\n",
       "      <th>Time</th>\n",
       "      <th>Month</th>\n",
       "      <th>Day</th>\n",
       "      <th>Year</th>\n",
       "    </tr>\n",
       "  </thead>\n",
       "  <tbody>\n",
       "    <tr>\n",
       "      <th>0</th>\n",
       "      <td>Ithaca</td>\n",
       "      <td>NaN</td>\n",
       "      <td>TRIANGLE</td>\n",
       "      <td>NY</td>\n",
       "      <td>6/1/1930 22:00</td>\n",
       "      <td>6</td>\n",
       "      <td>1</td>\n",
       "      <td>1930</td>\n",
       "    </tr>\n",
       "    <tr>\n",
       "      <th>1</th>\n",
       "      <td>Willingboro</td>\n",
       "      <td>NaN</td>\n",
       "      <td>OTHER</td>\n",
       "      <td>NJ</td>\n",
       "      <td>6/30/1930 20:00</td>\n",
       "      <td>6</td>\n",
       "      <td>30</td>\n",
       "      <td>1930</td>\n",
       "    </tr>\n",
       "    <tr>\n",
       "      <th>2</th>\n",
       "      <td>Holyoke</td>\n",
       "      <td>NaN</td>\n",
       "      <td>OVAL</td>\n",
       "      <td>CO</td>\n",
       "      <td>2/15/1931 14:00</td>\n",
       "      <td>2</td>\n",
       "      <td>15</td>\n",
       "      <td>1931</td>\n",
       "    </tr>\n",
       "    <tr>\n",
       "      <th>3</th>\n",
       "      <td>Abilene</td>\n",
       "      <td>NaN</td>\n",
       "      <td>DISK</td>\n",
       "      <td>KS</td>\n",
       "      <td>6/1/1931 13:00</td>\n",
       "      <td>6</td>\n",
       "      <td>1</td>\n",
       "      <td>1931</td>\n",
       "    </tr>\n",
       "    <tr>\n",
       "      <th>4</th>\n",
       "      <td>New York Worlds Fair</td>\n",
       "      <td>NaN</td>\n",
       "      <td>LIGHT</td>\n",
       "      <td>NY</td>\n",
       "      <td>4/18/1933 19:00</td>\n",
       "      <td>4</td>\n",
       "      <td>18</td>\n",
       "      <td>1933</td>\n",
       "    </tr>\n",
       "  </tbody>\n",
       "</table>\n",
       "</div>"
      ],
      "text/plain": [
       "                   City Colors Reported Shape Reported State             Time  \\\n",
       "0                Ithaca             NaN       TRIANGLE    NY   6/1/1930 22:00   \n",
       "1           Willingboro             NaN          OTHER    NJ  6/30/1930 20:00   \n",
       "2               Holyoke             NaN           OVAL    CO  2/15/1931 14:00   \n",
       "3               Abilene             NaN           DISK    KS   6/1/1931 13:00   \n",
       "4  New York Worlds Fair             NaN          LIGHT    NY  4/18/1933 19:00   \n",
       "\n",
       "   Month  Day  Year  \n",
       "0      6    1  1930  \n",
       "1      6   30  1930  \n",
       "2      2   15  1931  \n",
       "3      6    1  1931  \n",
       "4      4   18  1933  "
      ]
     },
     "execution_count": 114,
     "metadata": {},
     "output_type": "execute_result"
    }
   ],
   "source": [
    "''' Fun Stuff '''\n",
    "\n",
    "ufo = pd.read_csv('../data/ufo.csv')\n",
    "\n",
    "# Make a new month column\n",
    "ufo['Month'] = ufo['Time'].apply(lambda x:int(x.split('/')[0]))\n",
    "\n",
    "'''\n",
    "the apply function applys the lambda funciton to every element in the Series\n",
    "lambda x:x.split('/')[0] will take in x and split it by '/' and return the first element\n",
    "so if we pass in say 9/3/2014 01:22 into the function we would get:\n",
    "9                i.e. the month\n",
    "'''\n",
    "\n",
    "# similar for day\n",
    "ufo['Day'] = ufo['Time'].apply(lambda x:int(x.split('/')[1]))\n",
    "\n",
    "# for year, I need the [:4] at the end to remove the time\n",
    "ufo['Year'] = ufo['Time'].apply(lambda x:int(x.split('/')[2][:4]))\n",
    "ufo.head()"
   ]
  },
  {
   "cell_type": "code",
   "execution_count": 115,
   "metadata": {
    "collapsed": false
   },
   "outputs": [
    {
     "data": {
      "text/plain": [
       "<matplotlib.axes._subplots.AxesSubplot at 0x11e73b910>"
      ]
     },
     "execution_count": 115,
     "metadata": {},
     "output_type": "execute_result"
    },
    {
     "data": {
      "image/png": "[encoded data removed]",
      "text/plain": [
       "<matplotlib.figure.Figure at 0x11e7508d0>"
      ]
     },
     "metadata": {},
     "output_type": "display_data"
    }
   ],
   "source": [
    "sightings_per_year = ufo.groupby('Year').City.count()\n",
    "\n",
    "sightings_per_year.plot(kind='line', \n",
    "                        color='r', \n",
    "                        linewidth=1, \n",
    "                        title='UFO Sightings by year')"
   ]
  },
  {
   "cell_type": "code",
   "execution_count": 116,
   "metadata": {
    "collapsed": false
   },
   "outputs": [
    {
     "data": {
      "text/plain": [
       "<matplotlib.axes._subplots.AxesSubplot at 0x11ac11890>"
      ]
     },
     "execution_count": 116,
     "metadata": {},
     "output_type": "execute_result"
    },
    {
     "data": {
      "image/png": "[encoded data removed]",
      "text/plain": [
       "<matplotlib.figure.Figure at 0x11a8cfcd0>"
      ]
     },
     "metadata": {},
     "output_type": "display_data"
    }
   ],
   "source": [
    "# -----Analysis-----\n",
    "# Clearly, Aliens love the X-Files (which came out in 1993).\n",
    "# Aliens are a natural extension of the target demographic so it makes sense.\n",
    "\n",
    "# Well hold on Sinan, the US population is always increasing\n",
    "# So maybe there's a jump in population which would make sense!\n",
    "# US Population data from 1930 as taken from the Census\n",
    "\n",
    "us_population = pd.read_csv('../data/us_population.csv')\n",
    "us_population.plot(x = 'Date', y = 'Population', legend = False)\n",
    "# Seems like a steady increase to me..\n"
   ]
  },
  {
   "cell_type": "code",
   "execution_count": null,
   "metadata": {
    "collapsed": false
   },
   "outputs": [],
   "source": []
  },
  {
   "cell_type": "code",
   "execution_count": 117,
   "metadata": {
    "collapsed": false
   },
   "outputs": [
    {
     "data": {
      "text/plain": [
       "<matplotlib.axes._subplots.AxesSubplot at 0x11f0e2d50>"
      ]
     },
     "execution_count": 117,
     "metadata": {},
     "output_type": "execute_result"
    },
    {
     "data": {
      "image/png": "[encoded data removed]",
      "text/plain": [
       "<matplotlib.figure.Figure at 0x11fdddc90>"
      ]
     },
     "metadata": {},
     "output_type": "display_data"
    }
   ],
   "source": [
    "# Plot the sightings in in July \n",
    "ufo[(ufo.Year==2014) & (ufo.Month == 7)].groupby('Day').City.count().plot(  kind='bar',\n",
    "                                                        color='b', \n",
    "                                                        title='UFO Sightings in July 2014')\n",
    "                                                        \n",
    "\n",
    "# -----Analysis-----\n",
    "# Aliens are love the 4th of July. The White House is still standing. Therefore\n",
    "# it follows that Aliens are just here for the party.\n",
    "\n",
    "# Well maybe it's just 2014?"
   ]
  },
  {
   "cell_type": "code",
   "execution_count": 118,
   "metadata": {
    "collapsed": false
   },
   "outputs": [
    {
     "data": {
      "text/plain": [
       "array([<matplotlib.axes._subplots.AxesSubplot object at 0x11fe25a50>,\n",
       "       <matplotlib.axes._subplots.AxesSubplot object at 0x1208b9390>,\n",
       "       <matplotlib.axes._subplots.AxesSubplot object at 0x12093a950>,\n",
       "       <matplotlib.axes._subplots.AxesSubplot object at 0x12099f8d0>], dtype=object)"
      ]
     },
     "execution_count": 118,
     "metadata": {},
     "output_type": "execute_result"
    },
    {
     "data": {
      "image/png": "[encoded data removed]",
      "text/plain": [
       "<matplotlib.figure.Figure at 0x1204cb690>"
      ]
     },
     "metadata": {},
     "output_type": "display_data"
    }
   ],
   "source": [
    "# Plot multiple plots on the same plot (plots neeed to be in column format)\n",
    "ufo_fourth = ufo[(ufo.Year.isin([2011, 2012, 2013, 2014])) & (ufo.Month == 7)]\n",
    "\n",
    "\n",
    "# unstack will take a groupby of multiple indices and split it by column (mainly great for sub plotting)\n",
    "\n",
    "# Hmm let's make that prettier by making it 4 seperate charts\n",
    "ufo_fourth.groupby(['Year', 'Day']).City.count().unstack(0).plot(\n",
    "                                        kind = 'bar',\n",
    "                                        subplots=True, \n",
    "                                        figsize = (7,9))\n"
   ]
  },
  {
   "cell_type": "code",
   "execution_count": null,
   "metadata": {
    "collapsed": true
   },
   "outputs": [],
   "source": []
  },
  {
   "cell_type": "code",
   "execution_count": null,
   "metadata": {
    "collapsed": false
   },
   "outputs": [],
   "source": []
  },
  {
   "cell_type": "code",
   "execution_count": null,
   "metadata": {
    "collapsed": true
   },
   "outputs": [],
   "source": []
  },
  {
   "cell_type": "code",
   "execution_count": null,
   "metadata": {
    "collapsed": true
   },
   "outputs": [],
   "source": []
  },
  {
   "cell_type": "code",
   "execution_count": 63,
   "metadata": {
    "collapsed": true
   },
   "outputs": [],
   "source": [
    "\n",
    "'''\n",
    "Further Exploration\n",
    "'''\n",
    "\n",
    "'''\n",
    "Joining Data\n",
    "\n",
    "MovieLens 100k data:\n",
    "    main page: http://grouplens.org/datasets/movielens/\n",
    "    data dictionary: http://files.grouplens.org/datasets/movielens/ml-100k-README.txt\n",
    "    files: u.user, u.data, u.item\n",
    "'''\n",
    "\n",
    "# read 'u.data' into 'ratings'\n",
    "r_cols = ['user_id', 'movie_id', 'rating', 'unix_timestamp']\n",
    "ratings = pd.read_table('https://raw.githubusercontent.com/sinanuozdemir/sfdat26/master/data/u.data', header=None, names=r_cols, sep='\\t')\n",
    "\n",
    "# read 'u.item' into 'movies'\n",
    "m_cols = ['movie_id', 'title']\n",
    "movies = pd.read_table('https://raw.githubusercontent.com/sinanuozdemir/sfdat26/master/data/u.item', header=None, names=m_cols, sep='|', usecols=[0,1])"
   ]
  },
  {
   "cell_type": "code",
   "execution_count": 64,
   "metadata": {
    "collapsed": false
   },
   "outputs": [
    {
     "data": {
      "text/html": [
       "<div>\n",
       "<table border=\"1\" class=\"dataframe\">\n",
       "  <thead>\n",
       "    <tr style=\"text-align: right;\">\n",
       "      <th></th>\n",
       "      <th>movie_id</th>\n",
       "      <th>title</th>\n",
       "    </tr>\n",
       "  </thead>\n",
       "  <tbody>\n",
       "    <tr>\n",
       "      <th>0</th>\n",
       "      <td>1</td>\n",
       "      <td>Toy Story (1995)</td>\n",
       "    </tr>\n",
       "    <tr>\n",
       "      <th>1</th>\n",
       "      <td>2</td>\n",
       "      <td>GoldenEye (1995)</td>\n",
       "    </tr>\n",
       "    <tr>\n",
       "      <th>2</th>\n",
       "      <td>3</td>\n",
       "      <td>Four Rooms (1995)</td>\n",
       "    </tr>\n",
       "    <tr>\n",
       "      <th>3</th>\n",
       "      <td>4</td>\n",
       "      <td>Get Shorty (1995)</td>\n",
       "    </tr>\n",
       "    <tr>\n",
       "      <th>4</th>\n",
       "      <td>5</td>\n",
       "      <td>Copycat (1995)</td>\n",
       "    </tr>\n",
       "  </tbody>\n",
       "</table>\n",
       "</div>"
      ],
      "text/plain": [
       "   movie_id              title\n",
       "0         1   Toy Story (1995)\n",
       "1         2   GoldenEye (1995)\n",
       "2         3  Four Rooms (1995)\n",
       "3         4  Get Shorty (1995)\n",
       "4         5     Copycat (1995)"
      ]
     },
     "execution_count": 64,
     "metadata": {},
     "output_type": "execute_result"
    }
   ],
   "source": [
    "movies.head()"
   ]
  },
  {
   "cell_type": "code",
   "execution_count": 65,
   "metadata": {
    "collapsed": false
   },
   "outputs": [
    {
     "data": {
      "text/html": [
       "<div>\n",
       "<table border=\"1\" class=\"dataframe\">\n",
       "  <thead>\n",
       "    <tr style=\"text-align: right;\">\n",
       "      <th></th>\n",
       "      <th>user_id</th>\n",
       "      <th>movie_id</th>\n",
       "      <th>rating</th>\n",
       "      <th>unix_timestamp</th>\n",
       "    </tr>\n",
       "  </thead>\n",
       "  <tbody>\n",
       "    <tr>\n",
       "      <th>0</th>\n",
       "      <td>196</td>\n",
       "      <td>242</td>\n",
       "      <td>3</td>\n",
       "      <td>881250949</td>\n",
       "    </tr>\n",
       "    <tr>\n",
       "      <th>1</th>\n",
       "      <td>186</td>\n",
       "      <td>302</td>\n",
       "      <td>3</td>\n",
       "      <td>891717742</td>\n",
       "    </tr>\n",
       "    <tr>\n",
       "      <th>2</th>\n",
       "      <td>22</td>\n",
       "      <td>377</td>\n",
       "      <td>1</td>\n",
       "      <td>878887116</td>\n",
       "    </tr>\n",
       "    <tr>\n",
       "      <th>3</th>\n",
       "      <td>244</td>\n",
       "      <td>51</td>\n",
       "      <td>2</td>\n",
       "      <td>880606923</td>\n",
       "    </tr>\n",
       "    <tr>\n",
       "      <th>4</th>\n",
       "      <td>166</td>\n",
       "      <td>346</td>\n",
       "      <td>1</td>\n",
       "      <td>886397596</td>\n",
       "    </tr>\n",
       "  </tbody>\n",
       "</table>\n",
       "</div>"
      ],
      "text/plain": [
       "   user_id  movie_id  rating  unix_timestamp\n",
       "0      196       242       3       881250949\n",
       "1      186       302       3       891717742\n",
       "2       22       377       1       878887116\n",
       "3      244        51       2       880606923\n",
       "4      166       346       1       886397596"
      ]
     },
     "execution_count": 65,
     "metadata": {},
     "output_type": "execute_result"
    }
   ],
   "source": [
    "ratings.head()"
   ]
  },
  {
   "cell_type": "code",
   "execution_count": 66,
   "metadata": {
    "collapsed": false
   },
   "outputs": [
    {
     "data": {
      "text/html": [
       "<div>\n",
       "<table border=\"1\" class=\"dataframe\">\n",
       "  <thead>\n",
       "    <tr style=\"text-align: right;\">\n",
       "      <th></th>\n",
       "      <th>movie_id</th>\n",
       "      <th>title</th>\n",
       "      <th>user_id</th>\n",
       "      <th>rating</th>\n",
       "      <th>unix_timestamp</th>\n",
       "    </tr>\n",
       "  </thead>\n",
       "  <tbody>\n",
       "    <tr>\n",
       "      <th>0</th>\n",
       "      <td>1</td>\n",
       "      <td>Toy Story (1995)</td>\n",
       "      <td>308</td>\n",
       "      <td>4</td>\n",
       "      <td>887736532</td>\n",
       "    </tr>\n",
       "    <tr>\n",
       "      <th>1</th>\n",
       "      <td>1</td>\n",
       "      <td>Toy Story (1995)</td>\n",
       "      <td>287</td>\n",
       "      <td>5</td>\n",
       "      <td>875334088</td>\n",
       "    </tr>\n",
       "    <tr>\n",
       "      <th>2</th>\n",
       "      <td>1</td>\n",
       "      <td>Toy Story (1995)</td>\n",
       "      <td>148</td>\n",
       "      <td>4</td>\n",
       "      <td>877019411</td>\n",
       "    </tr>\n",
       "    <tr>\n",
       "      <th>3</th>\n",
       "      <td>1</td>\n",
       "      <td>Toy Story (1995)</td>\n",
       "      <td>280</td>\n",
       "      <td>4</td>\n",
       "      <td>891700426</td>\n",
       "    </tr>\n",
       "    <tr>\n",
       "      <th>4</th>\n",
       "      <td>1</td>\n",
       "      <td>Toy Story (1995)</td>\n",
       "      <td>66</td>\n",
       "      <td>3</td>\n",
       "      <td>883601324</td>\n",
       "    </tr>\n",
       "  </tbody>\n",
       "</table>\n",
       "</div>"
      ],
      "text/plain": [
       "   movie_id             title  user_id  rating  unix_timestamp\n",
       "0         1  Toy Story (1995)      308       4       887736532\n",
       "1         1  Toy Story (1995)      287       5       875334088\n",
       "2         1  Toy Story (1995)      148       4       877019411\n",
       "3         1  Toy Story (1995)      280       4       891700426\n",
       "4         1  Toy Story (1995)       66       3       883601324"
      ]
     },
     "execution_count": 66,
     "metadata": {},
     "output_type": "execute_result"
    }
   ],
   "source": [
    "# merge 'movies' and 'ratings' (inner join on 'movie_id')\n",
    "movie_ratings = pd.merge(movies, ratings)\n",
    "movie_ratings.head()"
   ]
  },
  {
   "cell_type": "code",
   "execution_count": 67,
   "metadata": {
    "collapsed": false
   },
   "outputs": [
    {
     "data": {
      "text/plain": [
       "Star Wars (1977)                                      583\n",
       "Contact (1997)                                        509\n",
       "Fargo (1996)                                          508\n",
       "Return of the Jedi (1983)                             507\n",
       "Liar Liar (1997)                                      485\n",
       "English Patient, The (1996)                           481\n",
       "Scream (1996)                                         478\n",
       "Toy Story (1995)                                      452\n",
       "Air Force One (1997)                                  431\n",
       "Independence Day (ID4) (1996)                         429\n",
       "Raiders of the Lost Ark (1981)                        420\n",
       "Godfather, The (1972)                                 413\n",
       "Pulp Fiction (1994)                                   394\n",
       "Twelve Monkeys (1995)                                 392\n",
       "Silence of the Lambs, The (1991)                      390\n",
       "Jerry Maguire (1996)                                  384\n",
       "Chasing Amy (1997)                                    379\n",
       "Rock, The (1996)                                      378\n",
       "Empire Strikes Back, The (1980)                       367\n",
       "Star Trek: First Contact (1996)                       365\n",
       "Back to the Future (1985)                             350\n",
       "Titanic (1997)                                        350\n",
       "Mission: Impossible (1996)                            344\n",
       "Fugitive, The (1993)                                  336\n",
       "Indiana Jones and the Last Crusade (1989)             331\n",
       "Willy Wonka and the Chocolate Factory (1971)          326\n",
       "Princess Bride, The (1987)                            324\n",
       "Forrest Gump (1994)                                   321\n",
       "Monty Python and the Holy Grail (1974)                316\n",
       "Saint, The (1997)                                     316\n",
       "                                                     ... \n",
       "Brother's Kiss, A (1997)                                1\n",
       "Coldblooded (1995)                                      1\n",
       "Silence of the Palace, The (Saimt el Qusur) (1994)      1\n",
       "Century (1993)                                          1\n",
       "Homage (1995)                                           1\n",
       "Hana-bi (1997)                                          1\n",
       "Symphonie pastorale, La (1946)                          1\n",
       "They Made Me a Criminal (1939)                          1\n",
       "Brothers in Trouble (1995)                              1\n",
       "Girls Town (1996)                                       1\n",
       "Touki Bouki (Journey of the Hyena) (1973)               1\n",
       "Marlene Dietrich: Shadow and Light (1996)               1\n",
       "Sleepover (1995)                                        1\n",
       "Sunchaser, The (1996)                                   1\n",
       "Nothing Personal (1995)                                 1\n",
       "Niagara, Niagara (1997)                                 1\n",
       "Further Gesture, A (1996)                               1\n",
       "Great Day in Harlem, A (1994)                           1\n",
       "Eye of Vichy, The (Oeil de Vichy, L') (1993)            1\n",
       "Daens (1992)                                            1\n",
       "Woman in Question, The (1950)                           1\n",
       "Someone Else's America (1995)                           1\n",
       "Man from Down Under, The (1943)                         1\n",
       "Jupiter's Wife (1994)                                   1\n",
       "Spanish Prisoner, The (1997)                            1\n",
       "Next Step, The (1995)                                   1\n",
       "I, Worst of All (Yo, la peor de todas) (1990)           1\n",
       "Two Friends (1986)                                      1\n",
       "Gate of Heavenly Peace, The (1995)                      1\n",
       "Crude Oasis, The (1995)                                 1\n",
       "Name: title, dtype: int64"
      ]
     },
     "execution_count": 67,
     "metadata": {},
     "output_type": "execute_result"
    }
   ],
   "source": [
    "# for each movie, count number of ratings\n",
    "movie_ratings.title.value_counts()"
   ]
  },
  {
   "cell_type": "code",
   "execution_count": 68,
   "metadata": {
    "collapsed": false
   },
   "outputs": [
    {
     "name": "stderr",
     "output_type": "stream",
     "text": [
      "/Users/sinanozdemir/anaconda/envs/sfdat26-env/lib/python2.7/site-packages/ipykernel/__main__.py:1: FutureWarning: order is deprecated, use sort_values(...)\n",
      "  if __name__ == '__main__':\n"
     ]
    },
    {
     "data": {
      "text/plain": [
       "title\n",
       "Marlene Dietrich: Shadow and Light (1996)                 5.000000\n",
       "Prefontaine (1997)                                        5.000000\n",
       "Santa with Muscles (1996)                                 5.000000\n",
       "Star Kid (1997)                                           5.000000\n",
       "Someone Else's America (1995)                             5.000000\n",
       "Entertaining Angels: The Dorothy Day Story (1996)         5.000000\n",
       "Saint of Fort Washington, The (1993)                      5.000000\n",
       "Great Day in Harlem, A (1994)                             5.000000\n",
       "They Made Me a Criminal (1939)                            5.000000\n",
       "Aiqing wansui (1994)                                      5.000000\n",
       "Pather Panchali (1955)                                    4.625000\n",
       "Anna (1996)                                               4.500000\n",
       "Everest (1998)                                            4.500000\n",
       "Maya Lin: A Strong Clear Vision (1994)                    4.500000\n",
       "Some Mother's Son (1996)                                  4.500000\n",
       "Close Shave, A (1995)                                     4.491071\n",
       "Schindler's List (1993)                                   4.466443\n",
       "Wrong Trousers, The (1993)                                4.466102\n",
       "Casablanca (1942)                                         4.456790\n",
       "Wallace & Gromit: The Best of Aardman Animation (1996)    4.447761\n",
       "Shawshank Redemption, The (1994)                          4.445230\n",
       "Rear Window (1954)                                        4.387560\n",
       "Usual Suspects, The (1995)                                4.385768\n",
       "Star Wars (1977)                                          4.358491\n",
       "12 Angry Men (1957)                                       4.344000\n",
       "Third Man, The (1949)                                     4.333333\n",
       "Letter From Death Row, A (1998)                           4.333333\n",
       "Bitter Sugar (Azucar Amargo) (1996)                       4.333333\n",
       "Citizen Kane (1941)                                       4.292929\n",
       "Some Folks Call It a Sling Blade (1993)                   4.292683\n",
       "                                                            ...   \n",
       "Symphonie pastorale, La (1946)                            1.000000\n",
       "Baton Rouge (1988)                                        1.000000\n",
       "Boys in Venice (1996)                                     1.000000\n",
       "Tigrero: A Film That Was Never Made (1994)                1.000000\n",
       "Office Killer (1997)                                      1.000000\n",
       "T-Men (1947)                                              1.000000\n",
       "Terror in a Texas Town (1958)                             1.000000\n",
       "Nobody Loves Me (Keiner liebt mich) (1994)                1.000000\n",
       "The Courtyard (1995)                                      1.000000\n",
       "King of New York (1990)                                   1.000000\n",
       "Liebelei (1933)                                           1.000000\n",
       "Stefano Quantestorie (1993)                               1.000000\n",
       "Hostile Intentions (1994)                                 1.000000\n",
       "Pharaoh's Army (1995)                                     1.000000\n",
       "New Age, The (1994)                                       1.000000\n",
       "Hungarian Fairy Tale, A (1987)                            1.000000\n",
       "Death in the Garden (Mort en ce jardin, La) (1956)        1.000000\n",
       "Promise, The (Versprechen, Das) (1994)                    1.000000\n",
       "I, Worst of All (Yo, la peor de todas) (1990)             1.000000\n",
       "Power 98 (1995)                                           1.000000\n",
       "Police Story 4: Project S (Chao ji ji hua) (1993)         1.000000\n",
       "Low Life, The (1994)                                      1.000000\n",
       "Somebody to Love (1994)                                   1.000000\n",
       "Invitation, The (Zaproszenie) (1986)                      1.000000\n",
       "Lotto Land (1995)                                         1.000000\n",
       "Touki Bouki (Journey of the Hyena) (1973)                 1.000000\n",
       "JLG/JLG - autoportrait de d�cembre (1994)                 1.000000\n",
       "Daens (1992)                                              1.000000\n",
       "Butterfly Kiss (1995)                                     1.000000\n",
       "Eye of Vichy, The (Oeil de Vichy, L') (1993)              1.000000\n",
       "Name: rating, dtype: float64"
      ]
     },
     "execution_count": 68,
     "metadata": {},
     "output_type": "execute_result"
    }
   ],
   "source": [
    "movie_ratings.groupby('title').rating.mean().order(ascending=False)"
   ]
  },
  {
   "cell_type": "code",
   "execution_count": null,
   "metadata": {
    "collapsed": true
   },
   "outputs": [],
   "source": []
  }
 ],
 "metadata": {
  "anaconda-cloud": {},
  "kernelspec": {
   "display_name": "Python [Root]",
   "language": "python",
   "name": "Python [Root]"
  },
  "language_info": {
   "codemirror_mode": {
    "name": "ipython",
    "version": 2
   },
   "file_extension": ".py",
   "mimetype": "text/x-python",
   "name": "python",
   "nbconvert_exporter": "python",
   "pygments_lexer": "ipython2",
   "version": "2.7.12"
  }
 },
 "nbformat": 4,
 "nbformat_minor": 0
}
