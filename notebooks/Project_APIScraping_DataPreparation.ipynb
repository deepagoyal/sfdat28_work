{
 "cells": [
  {
   "cell_type": "code",
   "execution_count": 1,
   "metadata": {
    "collapsed": false
   },
   "outputs": [],
   "source": [
    "##\n",
    "##Script to get List of categories available in Yelp that list restraurants in ranking\n",
    "##\n",
    "import pandas as pd\n",
    "import numpy as np\n",
    "#for creating geo coordinate combinations\n",
    "import itertools  as it\n",
    "from yelpapi import YelpAPI\n",
    "import requests     # how python goes onto the internet!\n",
    "import re           # regex\n",
    "from bs4 import BeautifulSoup # a python HTML parser (version 3)\n",
    "from urllib2 import Request, urlopen\n",
    "import json\n",
    "from pandas.io.json import json_normalize\n",
    "%matplotlib inline"
   ]
  },
  {
   "cell_type": "markdown",
   "metadata": {},
   "source": [
    "#### https://www.yelp.com/developers/v2/manage_api_keys refresh to generate new keys"
   ]
  },
  {
   "cell_type": "code",
   "execution_count": 2,
   "metadata": {
    "collapsed": true
   },
   "outputs": [],
   "source": [
    "api_key = 'SD5ybcet2QSwWXz2N7M5lw'\n",
    "api_secret = 'EJBXJBAFgEka0br1ynT6HwWJVT8'\n",
    "access_token = 'EESADq5kSfBL4XkbxzwJxsqhZIgQHbJs'\n",
    "access_secret = 'JMU-eh8i0eVUUYxJcjelLkZEfTY'"
   ]
  },
  {
   "cell_type": "markdown",
   "metadata": {
    "collapsed": true
   },
   "source": [
    "#### activate yelpapi with personal keys"
   ]
  },
  {
   "cell_type": "code",
   "execution_count": 3,
   "metadata": {
    "collapsed": true
   },
   "outputs": [],
   "source": [
    "yelp_api = YelpAPI(api_key, api_secret, access_token, access_secret)"
   ]
  },
  {
   "cell_type": "markdown",
   "metadata": {},
   "source": [
    "#### Build index of all the field we care about"
   ]
  },
  {
   "cell_type": "code",
   "execution_count": 519,
   "metadata": {
    "collapsed": false
   },
   "outputs": [
    {
     "data": {
      "text/plain": [
       "{'categories': 'True',\n",
       " 'display_phone': 'True',\n",
       " 'id': 'True',\n",
       " 'image_url': 'True',\n",
       " 'is_closed': 'True',\n",
       " 'location_address': 'True',\n",
       " 'location_city': 'True',\n",
       " 'location_coordinate': 'True',\n",
       " 'location_country_code': 'True',\n",
       " 'location_cross_streets': 'True',\n",
       " 'location_display_address': 'True',\n",
       " 'location_neighborhoods': 'True',\n",
       " 'location_postal_code': 'True',\n",
       " 'location_state_code': 'True',\n",
       " 'mobile_url': 'True',\n",
       " 'name': 'True',\n",
       " 'phone': 'True',\n",
       " 'rating': 'True',\n",
       " 'review_count': 'True',\n",
       " 'snippet_text': 'True',\n",
       " 'url': 'True'}"
      ]
     },
     "execution_count": 519,
     "metadata": {},
     "output_type": "execute_result"
    }
   ],
   "source": [
    "index = {'id':'True','is_closed':'True','name':'True','image_url':'True', 'url':'True','mobile_url':'True','phone':'True', 'display_phone':'True', 'review_count':'True','categories':'True', 'rating':'True', 'snippet_text':'True', 'location_address':'True', 'location_display_address':'True', 'location_city':'True','location_state_code':'True','location_postal_code':'True','location_country_code':'True','location_cross_streets':'True','location_cross_streets':'True','location_neighborhoods':'True','location_coordinate':'True'}\n",
    "index"
   ]
  },
  {
   "cell_type": "markdown",
   "metadata": {
    "collapsed": false
   },
   "source": [
    "## Create a method to grab yelp business with a keyword in a lat-long bound"
   ]
  },
  {
   "cell_type": "code",
   "execution_count": 554,
   "metadata": {
    "collapsed": false
   },
   "outputs": [],
   "source": [
    "#Create method to return json to row\n",
    "def parse_restaurant(rest_json):\n",
    "    index = {'id':'True','is_closed':'True','name':'True','image_url':'True', 'url':'True','mobile_url':'True','phone':'True', 'display_phone':'True', 'review_count':'True','categories':'True', 'rating':'True', 'snippet_text':'True', 'location_address':'True', 'location_display_address':'True', 'location_city':'True','location_state_code':'True','location_postal_code':'True','location_country_code':'True','location_cross_streets':'True','location_neighborhoods':'True','location_coordinate':'True'}\n",
    "    if 'id' in index: \n",
    "        _id = rest_json.get('id')\n",
    "    else: _id = 'NaN'\n",
    "    if 'is_closed' in index: \n",
    "        is_closed = rest_json.get('is_closed')\n",
    "    else: is_closed = 'NaN'\n",
    "    if 'name' in index:\n",
    "        name = rest_json.get('name')\n",
    "    else: name = 'NaN'\n",
    "    if 'image_url' in index:\n",
    "        image_url = rest_json.get('image_url')\n",
    "    else: image_url = 'NaN'\n",
    "    if 'url' in index:\n",
    "        url = rest_json.get('url')\n",
    "    else: url = 'NaN'\n",
    "    if 'mobile_url' in index:\n",
    "        mobile_url = rest_json.get('mobile_url')\n",
    "    else: mobile_url = 'NaN'\n",
    "    if 'phone' in index:\n",
    "        phone = rest_json.get('phone')\n",
    "    else: phone = 'NaN'\n",
    "    if 'display_phone' in index:\n",
    "        display_phone = rest_json.get('display_phone')\n",
    "    else: display_phone = 'NaN'\n",
    "    if 'review_count' in index:\n",
    "        review_count = rest_json.get('review_count')\n",
    "    else: review_count = 'NaN'\n",
    "    if 'categories' in index:\n",
    "        categories = rest_json.get('categories')\n",
    "    else: categories = 'NaN'\n",
    "    if 'rating' in index:\n",
    "        rating = rest_json.get('rating')\n",
    "    else: rating = 'NaN'\n",
    "    if 'snippet_text' in index:\n",
    "        snippet_text = rest_json.get('snippet_text')\n",
    "    else: snippet_text = 'NaN'\n",
    "    if 'location_address' in index:\n",
    "        location_address = rest_json['location'].get('address')\n",
    "    else: location_address = 'NaN'\n",
    "    if 'location_display_address' in index:\n",
    "        location_display_address = rest_json['location'].get('display_address')\n",
    "    else: location_display_address = 'NaN'\n",
    "    if 'location_city' in index:\n",
    "        location_city = rest_json['location'].get('city')\n",
    "    else: location_city = 'NaN'\n",
    "    if 'location_state_code' in index:\n",
    "        location_state_code = rest_json['location'].get('state_code')\n",
    "    else: location_state_code= 'Nan'        \n",
    "    if 'location_postal_code' in index:\n",
    "        location_postal_code = rest_json['location'].get('postal_code')\n",
    "    else: location_postal_code = 'Nan'\n",
    "    if 'location_country_code' in index:\n",
    "        location_country_code = rest_json['location'].get('country_code')\n",
    "    else: location_country_code = 'Nan'        \n",
    "    if 'location_cross_streets' in index:\n",
    "        location_cross_streets = rest_json['location'].get('cross_streets')\n",
    "    else: location_cross_streets = 'Nan'\n",
    "    if 'location_neighborhoods' in index:\n",
    "        location_neighborhoods = rest_json['location'].get('neighborhoods')\n",
    "    else: location_neighborhoods = 'Nan'\n",
    "    if 'location_coordinate' in index:\n",
    "        location_coordinate = rest_json['location'].get('coordinate')  \n",
    "    else: location_coordinate= 'Nan'\n",
    "    #good thing about get function is that it returns if there is a result and doesn't break if there isn't\n",
    "    return [_id,is_closed, name,image_url,url,mobile_url,phone,display_phone,review_count,categories,rating,snippet_text,location_address, location_display_address, location_city,location_state_code,location_postal_code,location_country_code,location_cross_streets,location_neighborhoods,location_coordinate]"
   ]
  },
  {
   "cell_type": "code",
   "execution_count": 565,
   "metadata": {
    "collapsed": true
   },
   "outputs": [],
   "source": [
    "#Create method to call yelp api with term and bound filters\n",
    "def getbiz(term, bounds):\n",
    "    search_results_df = pd.DataFrame({})\n",
    "    offset = 0\n",
    "    while offset<= 980:\n",
    "        temp_dict = yelp_api.search_query(term= term, bounds=bounds, offset=offset)\n",
    "        rows_of_df = []\n",
    "        for bar_json in temp_dict['businesses']:\n",
    "            new_row = parse_restaurant(bar_json)\n",
    "            rows_of_df.append(new_row)\n",
    "        temp_df = pd.DataFrame(rows_of_df, columns=['id','is_closed','name','image_url', 'url','mobile_url','phone', 'display_phone', 'review_count','categories', 'rating', 'snippet_text', 'location_address', 'location_display_address', 'location_city','location_state_code','location_postal_code','location_country_code','location_cross_streets','location_neighborhoods','location_coordinate'])\n",
    "        search_results_df = search_results_df.append(temp_df, ignore_index=True)\n",
    "        if temp_df.shape[0]<20:\n",
    "            print 'Results exhausted at '+ str(temp_df.shape[0]+offset)+' results at offset '+str(offset)\n",
    "            break;\n",
    "        offset += 20\n",
    "    return search_results_df;"
   ]
  },
  {
   "cell_type": "code",
   "execution_count": 567,
   "metadata": {
    "collapsed": false
   },
   "outputs": [],
   "source": [
    "#Function to get 1 if a number is not a multiple of something \n",
    "import math\n",
    "def rem(x,y):\n",
    "    res = x % y\n",
    "    return math.copysign(res,x)\n"
   ]
  },
  {
   "cell_type": "code",
   "execution_count": 588,
   "metadata": {
    "collapsed": false,
    "scrolled": false
   },
   "outputs": [],
   "source": [
    "#create method to get list of bounds\n",
    "\n",
    "def get_bounds(nw_latitude, nw_longitude, se_latitude, se_longitude):\n",
    "    #Specify how many rows and columns you wish to devide the geographical bounds into\n",
    "    block = 15\n",
    "\n",
    "    #Find latitude and longitude blocks coordinates\n",
    "    lat = np.arange(se_latitude, nw_latitude, (nw_latitude-se_latitude)/block)\n",
    "    lon = np.arange(se_longitude, nw_longitude, (nw_longitude-se_longitude)/block)\n",
    "\n",
    "    #build a block squared list of coordinates\n",
    "    import itertools\n",
    "    listoflist = lat,lon\n",
    "\n",
    "    #make all combinations of bounds required for calculation\n",
    "    comb  = list(itertools.product(*listoflist))\n",
    "\n",
    "    #sequence the list of coordinates to run north (east to west) to south (east to west)\n",
    "    comb = comb[::-1]\n",
    "    \n",
    "    i=0\n",
    "    bounds = []\n",
    "    #print (block*(block-1)-1)\n",
    "    while i<=(block*(block-1)-1):\n",
    "        if rem(i,block) != (block-1):\n",
    "            bounds = bounds + [str(comb[i][0])+','+str(comb[i][1])+'|'+str(comb[i+1+block][0])+','+str(comb[i+1+block][1])]\n",
    "            #print len(bounds)\n",
    "            i += 1\n",
    "        elif rem(i,block) == (block-1):\n",
    "            i += 1\n",
    "    return bounds;\n",
    "    \n"
   ]
  },
  {
   "cell_type": "code",
   "execution_count": null,
   "metadata": {
    "collapsed": true
   },
   "outputs": [],
   "source": [
    "#Specify the keyword to search\n",
    "term = 'bar'\n",
    "\n",
    "#Specify the lat lon to specify bounds\n",
    "nw_latitude=37.810298\n",
    "nw_longitude=-122.522450\n",
    "se_latitude=37.704093\n",
    "se_longitude=-122.375803\n",
    "\n",
    "bounds = get_bounds(nw_latitude, nw_longitude, se_latitude, se_longitude)"
   ]
  },
  {
   "cell_type": "code",
   "execution_count": 589,
   "metadata": {
    "collapsed": false
   },
   "outputs": [
    {
     "data": {
      "text/plain": [
       "196"
      ]
     },
     "execution_count": 589,
     "metadata": {},
     "output_type": "execute_result"
    }
   ],
   "source": [
    "len(bounds)"
   ]
  },
  {
   "cell_type": "code",
   "execution_count": 569,
   "metadata": {
    "collapsed": false,
    "scrolled": false
   },
   "outputs": [
    {
     "name": "stdout",
     "output_type": "stream",
     "text": [
      "Results exhausted at 0 results at offset 0\n",
      "0\n",
      "Results exhausted at 0 results at offset 0\n",
      "1\n",
      "Results exhausted at 0 results at offset 0\n",
      "2\n",
      "Results exhausted at 1 results at offset 0\n",
      "3\n",
      "Results exhausted at 6 results at offset 0\n",
      "4\n",
      "Results exhausted at 7 results at offset 0\n",
      "5\n",
      "Results exhausted at 5 results at offset 0\n",
      "6\n",
      "Results exhausted at 56 results at offset 40\n",
      "7\n",
      "Results exhausted at 22 results at offset 20\n",
      "8\n",
      "Results exhausted at 25 results at offset 20\n",
      "9\n",
      "Results exhausted at 91 results at offset 80\n",
      "10\n",
      "Results exhausted at 46 results at offset 40\n",
      "11\n",
      "Results exhausted at 2 results at offset 0\n",
      "12\n",
      "Results exhausted at 0 results at offset 0\n",
      "13\n",
      "Results exhausted at 0 results at offset 0\n",
      "14\n",
      "Results exhausted at 0 results at offset 0\n",
      "15\n",
      "Results exhausted at 1 results at offset 0\n",
      "16\n",
      "Results exhausted at 1 results at offset 0\n",
      "17\n",
      "Results exhausted at 2 results at offset 0\n",
      "18\n",
      "Results exhausted at 3 results at offset 0\n",
      "19\n",
      "Results exhausted at 3 results at offset 0\n",
      "20\n",
      "Results exhausted at 3 results at offset 0\n",
      "21\n",
      "Results exhausted at 2 results at offset 0\n",
      "22\n",
      "Results exhausted at 59 results at offset 40\n",
      "23\n",
      "Results exhausted at 67 results at offset 60\n",
      "24\n",
      "Results exhausted at 121 results at offset 120\n",
      "25\n",
      "Results exhausted at 29 results at offset 20\n",
      "26\n",
      "Results exhausted at 0 results at offset 0\n",
      "27\n",
      "Results exhausted at 3 results at offset 0\n",
      "28\n",
      "Results exhausted at 2 results at offset 0\n",
      "29\n",
      "Results exhausted at 2 results at offset 0\n",
      "30\n",
      "Results exhausted at 6 results at offset 0\n",
      "31\n",
      "Results exhausted at 12 results at offset 0\n",
      "32\n",
      "Results exhausted at 11 results at offset 0\n",
      "33\n",
      "Results exhausted at 18 results at offset 0\n",
      "34\n",
      "Results exhausted at 15 results at offset 0\n",
      "35\n",
      "Results exhausted at 47 results at offset 40\n",
      "36\n",
      "Results exhausted at 73 results at offset 60\n",
      "37\n",
      "Results exhausted at 182 results at offset 180\n",
      "38\n",
      "Results exhausted at 112 results at offset 100\n",
      "39\n",
      "Results exhausted at 22 results at offset 20\n",
      "40\n",
      "Results exhausted at 0 results at offset 0\n",
      "41\n",
      "Results exhausted at 5 results at offset 0\n",
      "42\n",
      "Results exhausted at 7 results at offset 0\n",
      "43\n",
      "Results exhausted at 9 results at offset 0\n",
      "44\n",
      "Results exhausted at 12 results at offset 0\n",
      "45\n",
      "Results exhausted at 6 results at offset 0\n",
      "46\n",
      "Results exhausted at 17 results at offset 0\n",
      "47\n",
      "Results exhausted at 5 results at offset 0\n",
      "48\n",
      "Results exhausted at 16 results at offset 0\n",
      "49\n",
      "Results exhausted at 14 results at offset 0\n",
      "50\n",
      "Results exhausted at 151 results at offset 140\n",
      "51\n",
      "Results exhausted at 64 results at offset 60\n",
      "52\n",
      "Results exhausted at 31 results at offset 20\n",
      "53\n",
      "Results exhausted at 49 results at offset 40\n",
      "54\n",
      "Results exhausted at 1 results at offset 0\n",
      "55\n",
      "Results exhausted at 2 results at offset 0\n",
      "56\n",
      "Results exhausted at 1 results at offset 0\n",
      "57\n",
      "Results exhausted at 5 results at offset 0\n",
      "58\n",
      "Results exhausted at 6 results at offset 0\n",
      "59\n",
      "Results exhausted at 6 results at offset 0\n",
      "60\n",
      "Results exhausted at 3 results at offset 0\n",
      "61\n",
      "Results exhausted at 24 results at offset 20\n",
      "62\n",
      "Results exhausted at 13 results at offset 0\n",
      "63\n",
      "Results exhausted at 32 results at offset 20\n",
      "64\n",
      "Results exhausted at 49 results at offset 40\n",
      "65\n",
      "Results exhausted at 59 results at offset 40\n",
      "66\n",
      "Results exhausted at 9 results at offset 0\n",
      "67\n",
      "Results exhausted at 7 results at offset 0\n",
      "68\n",
      "Results exhausted at 1 results at offset 0\n",
      "69\n",
      "Results exhausted at 1 results at offset 0\n",
      "70\n",
      "Results exhausted at 2 results at offset 0\n",
      "71\n",
      "Results exhausted at 1 results at offset 0\n",
      "72\n",
      "Results exhausted at 7 results at offset 0\n",
      "73\n",
      "Results exhausted at 20 results at offset 20\n",
      "74\n",
      "Results exhausted at 8 results at offset 0\n",
      "75\n",
      "Results exhausted at 10 results at offset 0\n",
      "76\n",
      "Results exhausted at 15 results at offset 0\n",
      "77\n",
      "Results exhausted at 67 results at offset 60\n",
      "78\n",
      "Results exhausted at 67 results at offset 60\n",
      "79\n",
      "Results exhausted at 20 results at offset 20\n",
      "80\n",
      "Results exhausted at 35 results at offset 20\n",
      "81\n",
      "Results exhausted at 8 results at offset 0\n",
      "82\n",
      "Results exhausted at 1 results at offset 0\n",
      "83\n",
      "Results exhausted at 7 results at offset 0\n",
      "84\n",
      "Results exhausted at 5 results at offset 0\n",
      "85\n",
      "Results exhausted at 1 results at offset 0\n",
      "86\n",
      "Results exhausted at 6 results at offset 0\n",
      "87\n",
      "Results exhausted at 3 results at offset 0\n",
      "88\n",
      "Results exhausted at 2 results at offset 0\n",
      "89\n",
      "Results exhausted at 2 results at offset 0\n",
      "90\n",
      "Results exhausted at 9 results at offset 0\n",
      "91\n",
      "Results exhausted at 3 results at offset 0\n",
      "92\n",
      "Results exhausted at 85 results at offset 80\n",
      "93\n",
      "Results exhausted at 14 results at offset 0\n",
      "94\n",
      "Results exhausted at 2 results at offset 0\n",
      "95\n",
      "Results exhausted at 18 results at offset 0\n",
      "96\n",
      "Results exhausted at 1 results at offset 0\n",
      "97\n",
      "Results exhausted at 4 results at offset 0\n",
      "98\n",
      "Results exhausted at 3 results at offset 0\n",
      "99\n",
      "Results exhausted at 3 results at offset 0\n",
      "100\n",
      "Results exhausted at 3 results at offset 0\n",
      "101\n",
      "Results exhausted at 2 results at offset 0\n",
      "102\n",
      "Results exhausted at 1 results at offset 0\n",
      "103\n",
      "Results exhausted at 1 results at offset 0\n",
      "104\n",
      "Results exhausted at 3 results at offset 0\n",
      "105\n",
      "Results exhausted at 17 results at offset 0\n",
      "106\n",
      "Results exhausted at 35 results at offset 20\n",
      "107\n",
      "Results exhausted at 15 results at offset 0\n",
      "108\n",
      "Results exhausted at 3 results at offset 0\n",
      "109\n",
      "Results exhausted at 4 results at offset 0\n",
      "110\n",
      "Results exhausted at 0 results at offset 0\n",
      "111\n",
      "Results exhausted at 2 results at offset 0\n",
      "112\n",
      "Results exhausted at 19 results at offset 0\n",
      "113\n",
      "Results exhausted at 5 results at offset 0\n",
      "114\n",
      "Results exhausted at 8 results at offset 0\n",
      "115\n",
      "Results exhausted at 13 results at offset 0\n",
      "116\n",
      "Results exhausted at 3 results at offset 0\n",
      "117\n",
      "Results exhausted at 2 results at offset 0\n",
      "118\n",
      "Results exhausted at 2 results at offset 0\n",
      "119\n",
      "Results exhausted at 6 results at offset 0\n",
      "120\n",
      "Results exhausted at 25 results at offset 20\n",
      "121\n",
      "Results exhausted at 5 results at offset 0\n",
      "122\n",
      "Results exhausted at 4 results at offset 0\n",
      "123\n",
      "Results exhausted at 1 results at offset 0\n",
      "124\n",
      "Results exhausted at 8 results at offset 0\n",
      "125\n",
      "Results exhausted at 3 results at offset 0\n",
      "126\n",
      "Results exhausted at 1 results at offset 0\n",
      "127\n",
      "Results exhausted at 13 results at offset 0\n",
      "128\n",
      "Results exhausted at 3 results at offset 0\n",
      "129\n",
      "Results exhausted at 5 results at offset 0\n",
      "130\n",
      "Results exhausted at 1 results at offset 0\n",
      "131\n",
      "Results exhausted at 2 results at offset 0\n",
      "132\n",
      "Results exhausted at 2 results at offset 0\n",
      "133\n",
      "Results exhausted at 6 results at offset 0\n",
      "134\n",
      "Results exhausted at 10 results at offset 0\n",
      "135\n",
      "Results exhausted at 1 results at offset 0\n",
      "136\n",
      "Results exhausted at 7 results at offset 0\n",
      "137\n",
      "Results exhausted at 5 results at offset 0\n",
      "138\n",
      "Results exhausted at 1 results at offset 0\n",
      "139\n",
      "Results exhausted at 0 results at offset 0\n",
      "140\n",
      "Results exhausted at 2 results at offset 0\n",
      "141\n",
      "Results exhausted at 0 results at offset 0\n",
      "142\n",
      "Results exhausted at 7 results at offset 0\n",
      "143\n",
      "Results exhausted at 8 results at offset 0\n",
      "144\n",
      "Results exhausted at 2 results at offset 0\n",
      "145\n",
      "Results exhausted at 3 results at offset 0\n",
      "146\n",
      "Results exhausted at 10 results at offset 0\n",
      "147\n",
      "Results exhausted at 5 results at offset 0\n",
      "148\n",
      "Results exhausted at 2 results at offset 0\n",
      "149\n",
      "Results exhausted at 4 results at offset 0\n",
      "150\n",
      "Results exhausted at 4 results at offset 0\n",
      "151\n",
      "Results exhausted at 3 results at offset 0\n",
      "152\n",
      "Results exhausted at 2 results at offset 0\n",
      "153\n",
      "Results exhausted at 0 results at offset 0\n",
      "154\n",
      "Results exhausted at 1 results at offset 0\n",
      "155\n",
      "Results exhausted at 2 results at offset 0\n",
      "156\n",
      "Results exhausted at 5 results at offset 0\n",
      "157\n",
      "Results exhausted at 1 results at offset 0\n",
      "158\n",
      "Results exhausted at 7 results at offset 0\n",
      "159\n",
      "Results exhausted at 2 results at offset 0\n",
      "160\n",
      "Results exhausted at 10 results at offset 0\n",
      "161\n",
      "Results exhausted at 2 results at offset 0\n",
      "162\n",
      "Results exhausted at 1 results at offset 0\n",
      "163\n",
      "Results exhausted at 6 results at offset 0\n",
      "164\n",
      "Results exhausted at 2 results at offset 0\n",
      "165\n",
      "Results exhausted at 3 results at offset 0\n",
      "166\n",
      "Results exhausted at 0 results at offset 0\n",
      "167\n",
      "Results exhausted at 0 results at offset 0\n",
      "168\n",
      "Results exhausted at 1 results at offset 0\n",
      "169\n",
      "Results exhausted at 1 results at offset 0\n",
      "170\n",
      "Results exhausted at 3 results at offset 0\n",
      "171\n",
      "Results exhausted at 7 results at offset 0\n",
      "172\n",
      "Results exhausted at 3 results at offset 0\n",
      "173\n",
      "Results exhausted at 5 results at offset 0\n",
      "174\n",
      "Results exhausted at 8 results at offset 0\n",
      "175\n",
      "Results exhausted at 2 results at offset 0\n",
      "176\n",
      "Results exhausted at 2 results at offset 0\n",
      "177\n",
      "Results exhausted at 2 results at offset 0\n",
      "178\n",
      "Results exhausted at 4 results at offset 0\n",
      "179\n",
      "Results exhausted at 1 results at offset 0\n",
      "180\n",
      "Results exhausted at 2 results at offset 0\n",
      "181\n",
      "Results exhausted at 0 results at offset 0\n",
      "182\n",
      "Results exhausted at 0 results at offset 0\n",
      "183\n",
      "Results exhausted at 2 results at offset 0\n",
      "184\n",
      "Results exhausted at 0 results at offset 0\n",
      "185\n",
      "Results exhausted at 3 results at offset 0\n",
      "186\n",
      "Results exhausted at 7 results at offset 0\n",
      "187\n",
      "Results exhausted at 1 results at offset 0\n",
      "188\n",
      "Results exhausted at 1 results at offset 0\n",
      "189\n",
      "Results exhausted at 2 results at offset 0\n",
      "190\n",
      "Results exhausted at 4 results at offset 0\n",
      "191\n",
      "Results exhausted at 1 results at offset 0\n",
      "192\n",
      "Results exhausted at 2 results at offset 0\n",
      "193\n",
      "Results exhausted at 1 results at offset 0\n",
      "194\n",
      "Results exhausted at 0 results at offset 0\n",
      "195\n"
     ]
    },
    {
     "data": {
      "text/plain": [
       "(2497, 21)"
      ]
     },
     "execution_count": 569,
     "metadata": {},
     "output_type": "execute_result"
    }
   ],
   "source": [
    "#Run getbiz method for each element in bounds\n",
    "b = 0\n",
    "biz=pd.DataFrame({})\n",
    "while b <= (len(bounds)-1):\n",
    "    biz = biz.append(getbiz(term,bounds[b]), ignore_index=True)\n",
    "    print b\n",
    "    b+=1\n",
    "biz.shape"
   ]
  },
  {
   "cell_type": "code",
   "execution_count": 561,
   "metadata": {
    "collapsed": false
   },
   "outputs": [
    {
     "data": {
      "text/plain": [
       "(2497, 21)"
      ]
     },
     "execution_count": 561,
     "metadata": {},
     "output_type": "execute_result"
    }
   ],
   "source": [
    "biz.shape"
   ]
  },
  {
   "cell_type": "code",
   "execution_count": 564,
   "metadata": {
    "collapsed": false
   },
   "outputs": [
    {
     "data": {
      "text/html": [
       "<div>\n",
       "<table border=\"1\" class=\"dataframe\">\n",
       "  <thead>\n",
       "    <tr style=\"text-align: right;\">\n",
       "      <th></th>\n",
       "      <th>id</th>\n",
       "      <th>name</th>\n",
       "      <th>is_closed</th>\n",
       "      <th>image_url</th>\n",
       "      <th>url</th>\n",
       "      <th>mobile_url</th>\n",
       "      <th>phone</th>\n",
       "      <th>display_phone</th>\n",
       "      <th>review_count</th>\n",
       "      <th>categories</th>\n",
       "      <th>...</th>\n",
       "      <th>snippet_text</th>\n",
       "      <th>location_address</th>\n",
       "      <th>location_display_address</th>\n",
       "      <th>location_city</th>\n",
       "      <th>location_state_code</th>\n",
       "      <th>location_postal_code</th>\n",
       "      <th>location_country_code</th>\n",
       "      <th>location_cross_streets</th>\n",
       "      <th>location_neighborhoods</th>\n",
       "      <th>location_coordinate</th>\n",
       "    </tr>\n",
       "  </thead>\n",
       "  <tbody>\n",
       "    <tr>\n",
       "      <th>0</th>\n",
       "      <td>fort-scott-field-at-the-presidio-san-francisco</td>\n",
       "      <td>False</td>\n",
       "      <td>Fort Scott Field at the Presidio</td>\n",
       "      <td>https://s3-media4.fl.yelpcdn.com/bphoto/LZVhxP...</td>\n",
       "      <td>https://www.yelp.com/biz/fort-scott-field-at-t...</td>\n",
       "      <td>https://m.yelp.com/biz/fort-scott-field-at-the...</td>\n",
       "      <td>4155614200</td>\n",
       "      <td>+1-415-561-4200</td>\n",
       "      <td>6.0</td>\n",
       "      <td>[[Recreation Centers, recreation], [Soccer, fo...</td>\n",
       "      <td>...</td>\n",
       "      <td>Presidio Habitats has / had an art installatio...</td>\n",
       "      <td>[]</td>\n",
       "      <td>[Presidio, San Francisco, CA 94129]</td>\n",
       "      <td>San Francisco</td>\n",
       "      <td>CA</td>\n",
       "      <td>94129</td>\n",
       "      <td>US</td>\n",
       "      <td>None</td>\n",
       "      <td>[Presidio]</td>\n",
       "      <td>{u'latitude': 37.8031542208, u'longitude': -12...</td>\n",
       "    </tr>\n",
       "    <tr>\n",
       "      <th>1</th>\n",
       "      <td>kharma-sucre-san-francisco</td>\n",
       "      <td>False</td>\n",
       "      <td>Kharma Sucre</td>\n",
       "      <td>https://s3-media1.fl.yelpcdn.com/bphoto/sjeS8g...</td>\n",
       "      <td>https://www.yelp.com/biz/kharma-sucre-san-fran...</td>\n",
       "      <td>https://m.yelp.com/biz/kharma-sucre-san-franci...</td>\n",
       "      <td>4156526162</td>\n",
       "      <td>+1-415-652-6162</td>\n",
       "      <td>1.0</td>\n",
       "      <td>[[Caterers, catering]]</td>\n",
       "      <td>...</td>\n",
       "      <td>I rarely leave reviews, but I had such a great...</td>\n",
       "      <td>[101 Horne Ave.]</td>\n",
       "      <td>[101 Horne Ave., Bayview-Hunters Point, San Fr...</td>\n",
       "      <td>San Francisco</td>\n",
       "      <td>CA</td>\n",
       "      <td>94124</td>\n",
       "      <td>US</td>\n",
       "      <td>None</td>\n",
       "      <td>[Bayview-Hunters Point]</td>\n",
       "      <td>{u'latitude': 37.727329693, u'longitude': -122...</td>\n",
       "    </tr>\n",
       "    <tr>\n",
       "      <th>2</th>\n",
       "      <td>doggie-time-san-francisco-2</td>\n",
       "      <td>False</td>\n",
       "      <td>Doggie Time</td>\n",
       "      <td>https://s3-media4.fl.yelpcdn.com/bphoto/rU3Yzs...</td>\n",
       "      <td>https://www.yelp.com/biz/doggie-time-san-franc...</td>\n",
       "      <td>https://m.yelp.com/biz/doggie-time-san-francis...</td>\n",
       "      <td>4152506951</td>\n",
       "      <td>+1-415-250-6951</td>\n",
       "      <td>12.0</td>\n",
       "      <td>[[Dog Walkers, dogwalkers]]</td>\n",
       "      <td>...</td>\n",
       "      <td>Theo is what all dog owners could want in a do...</td>\n",
       "      <td>[3245 Geary Blvd]</td>\n",
       "      <td>[3245 Geary Blvd, Laurel Heights, San Francisc...</td>\n",
       "      <td>San Francisco</td>\n",
       "      <td>CA</td>\n",
       "      <td>94118</td>\n",
       "      <td>US</td>\n",
       "      <td>Spruce St &amp; Parker Ave</td>\n",
       "      <td>[Laurel Heights, Inner Richmond]</td>\n",
       "      <td>{u'latitude': 37.7813, u'longitude': -122.45382}</td>\n",
       "    </tr>\n",
       "    <tr>\n",
       "      <th>3</th>\n",
       "      <td>presidio-nursery-san-francisco</td>\n",
       "      <td>False</td>\n",
       "      <td>Presidio Nursery</td>\n",
       "      <td>https://s3-media1.fl.yelpcdn.com/bphoto/qKvyb1...</td>\n",
       "      <td>https://www.yelp.com/biz/presidio-nursery-san-...</td>\n",
       "      <td>https://m.yelp.com/biz/presidio-nursery-san-fr...</td>\n",
       "      <td>4155614826</td>\n",
       "      <td>+1-415-561-4826</td>\n",
       "      <td>5.0</td>\n",
       "      <td>[[Nurseries &amp; Gardening, gardening]]</td>\n",
       "      <td>...</td>\n",
       "      <td>I went here a couple of times in the past mont...</td>\n",
       "      <td>[1249 Appleton St]</td>\n",
       "      <td>[1249 Appleton St, Presidio, San Francisco, CA...</td>\n",
       "      <td>San Francisco</td>\n",
       "      <td>CA</td>\n",
       "      <td>94129</td>\n",
       "      <td>US</td>\n",
       "      <td>None</td>\n",
       "      <td>[Presidio]</td>\n",
       "      <td>{u'latitude': 37.80084332, u'longitude': -122....</td>\n",
       "    </tr>\n",
       "    <tr>\n",
       "      <th>4</th>\n",
       "      <td>balance-san-francisco</td>\n",
       "      <td>False</td>\n",
       "      <td>Balance</td>\n",
       "      <td>https://s3-media1.fl.yelpcdn.com/bphoto/V-6nW9...</td>\n",
       "      <td>https://www.yelp.com/biz/balance-san-francisco...</td>\n",
       "      <td>https://m.yelp.com/biz/balance-san-francisco?a...</td>\n",
       "      <td>4407594347</td>\n",
       "      <td>+1-440-759-4347</td>\n",
       "      <td>5.0</td>\n",
       "      <td>[[Fitness &amp; Instruction, fitness]]</td>\n",
       "      <td>...</td>\n",
       "      <td>I have been seeing Danielle for a couple of mo...</td>\n",
       "      <td>[]</td>\n",
       "      <td>[Presidio, San Francisco, CA 94129]</td>\n",
       "      <td>San Francisco</td>\n",
       "      <td>CA</td>\n",
       "      <td>94129</td>\n",
       "      <td>US</td>\n",
       "      <td>None</td>\n",
       "      <td>[Presidio]</td>\n",
       "      <td>{u'latitude': 37.8011017, u'longitude': -122.4...</td>\n",
       "    </tr>\n",
       "  </tbody>\n",
       "</table>\n",
       "<p>5 rows × 21 columns</p>\n",
       "</div>"
      ],
      "text/plain": [
       "                                               id   name  \\\n",
       "0  fort-scott-field-at-the-presidio-san-francisco  False   \n",
       "1                      kharma-sucre-san-francisco  False   \n",
       "2                     doggie-time-san-francisco-2  False   \n",
       "3                  presidio-nursery-san-francisco  False   \n",
       "4                           balance-san-francisco  False   \n",
       "\n",
       "                          is_closed  \\\n",
       "0  Fort Scott Field at the Presidio   \n",
       "1                      Kharma Sucre   \n",
       "2                       Doggie Time   \n",
       "3                  Presidio Nursery   \n",
       "4                           Balance   \n",
       "\n",
       "                                           image_url  \\\n",
       "0  https://s3-media4.fl.yelpcdn.com/bphoto/LZVhxP...   \n",
       "1  https://s3-media1.fl.yelpcdn.com/bphoto/sjeS8g...   \n",
       "2  https://s3-media4.fl.yelpcdn.com/bphoto/rU3Yzs...   \n",
       "3  https://s3-media1.fl.yelpcdn.com/bphoto/qKvyb1...   \n",
       "4  https://s3-media1.fl.yelpcdn.com/bphoto/V-6nW9...   \n",
       "\n",
       "                                                 url  \\\n",
       "0  https://www.yelp.com/biz/fort-scott-field-at-t...   \n",
       "1  https://www.yelp.com/biz/kharma-sucre-san-fran...   \n",
       "2  https://www.yelp.com/biz/doggie-time-san-franc...   \n",
       "3  https://www.yelp.com/biz/presidio-nursery-san-...   \n",
       "4  https://www.yelp.com/biz/balance-san-francisco...   \n",
       "\n",
       "                                          mobile_url       phone  \\\n",
       "0  https://m.yelp.com/biz/fort-scott-field-at-the...  4155614200   \n",
       "1  https://m.yelp.com/biz/kharma-sucre-san-franci...  4156526162   \n",
       "2  https://m.yelp.com/biz/doggie-time-san-francis...  4152506951   \n",
       "3  https://m.yelp.com/biz/presidio-nursery-san-fr...  4155614826   \n",
       "4  https://m.yelp.com/biz/balance-san-francisco?a...  4407594347   \n",
       "\n",
       "     display_phone  review_count  \\\n",
       "0  +1-415-561-4200           6.0   \n",
       "1  +1-415-652-6162           1.0   \n",
       "2  +1-415-250-6951          12.0   \n",
       "3  +1-415-561-4826           5.0   \n",
       "4  +1-440-759-4347           5.0   \n",
       "\n",
       "                                          categories  \\\n",
       "0  [[Recreation Centers, recreation], [Soccer, fo...   \n",
       "1                             [[Caterers, catering]]   \n",
       "2                        [[Dog Walkers, dogwalkers]]   \n",
       "3               [[Nurseries & Gardening, gardening]]   \n",
       "4                 [[Fitness & Instruction, fitness]]   \n",
       "\n",
       "                         ...                          \\\n",
       "0                        ...                           \n",
       "1                        ...                           \n",
       "2                        ...                           \n",
       "3                        ...                           \n",
       "4                        ...                           \n",
       "\n",
       "                                        snippet_text    location_address  \\\n",
       "0  Presidio Habitats has / had an art installatio...                  []   \n",
       "1  I rarely leave reviews, but I had such a great...    [101 Horne Ave.]   \n",
       "2  Theo is what all dog owners could want in a do...   [3245 Geary Blvd]   \n",
       "3  I went here a couple of times in the past mont...  [1249 Appleton St]   \n",
       "4  I have been seeing Danielle for a couple of mo...                  []   \n",
       "\n",
       "                            location_display_address  location_city  \\\n",
       "0                [Presidio, San Francisco, CA 94129]  San Francisco   \n",
       "1  [101 Horne Ave., Bayview-Hunters Point, San Fr...  San Francisco   \n",
       "2  [3245 Geary Blvd, Laurel Heights, San Francisc...  San Francisco   \n",
       "3  [1249 Appleton St, Presidio, San Francisco, CA...  San Francisco   \n",
       "4                [Presidio, San Francisco, CA 94129]  San Francisco   \n",
       "\n",
       "  location_state_code location_postal_code location_country_code  \\\n",
       "0                  CA                94129                    US   \n",
       "1                  CA                94124                    US   \n",
       "2                  CA                94118                    US   \n",
       "3                  CA                94129                    US   \n",
       "4                  CA                94129                    US   \n",
       "\n",
       "   location_cross_streets            location_neighborhoods  \\\n",
       "0                    None                        [Presidio]   \n",
       "1                    None           [Bayview-Hunters Point]   \n",
       "2  Spruce St & Parker Ave  [Laurel Heights, Inner Richmond]   \n",
       "3                    None                        [Presidio]   \n",
       "4                    None                        [Presidio]   \n",
       "\n",
       "                                 location_coordinate  \n",
       "0  {u'latitude': 37.8031542208, u'longitude': -12...  \n",
       "1  {u'latitude': 37.727329693, u'longitude': -122...  \n",
       "2   {u'latitude': 37.7813, u'longitude': -122.45382}  \n",
       "3  {u'latitude': 37.80084332, u'longitude': -122....  \n",
       "4  {u'latitude': 37.8011017, u'longitude': -122.4...  \n",
       "\n",
       "[5 rows x 21 columns]"
      ]
     },
     "execution_count": 564,
     "metadata": {},
     "output_type": "execute_result"
    }
   ],
   "source": []
  },
  {
   "cell_type": "code",
   "execution_count": 562,
   "metadata": {
    "collapsed": false
   },
   "outputs": [],
   "source": [
    "#Export to csv\n",
    "biz.to_csv('../data/yelp_businesses.csv',encoding='utf-8')"
   ]
  },
  {
   "cell_type": "markdown",
   "metadata": {},
   "source": [
    "# debugging code:"
   ]
  },
  {
   "cell_type": "code",
   "execution_count": 568,
   "metadata": {
    "collapsed": false
   },
   "outputs": [],
   "source": [
    "#Create a list of all bounds to pass through getbiz() method\n",
    "\n",
    "i=0\n",
    "bounds = []\n",
    "#print (block*(block-1)-1)\n",
    "while i<=(block*(block-1)-1):\n",
    "    if rem(i,block) != (block-1):\n",
    "        bounds = bounds + [str(comb[i][0])+','+str(comb[i][1])+'|'+str(comb[i+1+block][0])+','+str(comb[i+1+block][1])]\n",
    "        #print len(bounds)\n",
    "        i += 1\n",
    "    elif rem(i,block) == (block-1):\n",
    "        i += 1\n",
    "        #print 'this is where im at'+str(i)"
   ]
  },
  {
   "cell_type": "code",
   "execution_count": 15,
   "metadata": {
    "collapsed": true
   },
   "outputs": [],
   "source": [
    "from pprint import pprint"
   ]
  },
  {
   "cell_type": "code",
   "execution_count": 513,
   "metadata": {
    "collapsed": false
   },
   "outputs": [],
   "source": [
    "biz = yelp_api.search_query(term= 'bar', bounds=bounds[0])"
   ]
  },
  {
   "cell_type": "code",
   "execution_count": 514,
   "metadata": {
    "collapsed": false
   },
   "outputs": [
    {
     "ename": "IndexError",
     "evalue": "list index out of range",
     "output_type": "error",
     "traceback": [
      "\u001b[0;31m---------------------------------------------------------------------------\u001b[0m",
      "\u001b[0;31mIndexError\u001b[0m                                Traceback (most recent call last)",
      "\u001b[0;32m<ipython-input-514-bcb385b1925e>\u001b[0m in \u001b[0;36m<module>\u001b[0;34m()\u001b[0m\n\u001b[0;32m----> 1\u001b[0;31m \u001b[0mpprint\u001b[0m\u001b[0;34m(\u001b[0m\u001b[0mbiz\u001b[0m\u001b[0;34m[\u001b[0m\u001b[0;34m'businesses'\u001b[0m\u001b[0;34m]\u001b[0m\u001b[0;34m[\u001b[0m\u001b[0;36m0\u001b[0m\u001b[0;34m]\u001b[0m\u001b[0;34m[\u001b[0m\u001b[0;34m'image_url'\u001b[0m\u001b[0;34m]\u001b[0m\u001b[0;34m)\u001b[0m\u001b[0;34m\u001b[0m\u001b[0m\n\u001b[0m",
      "\u001b[0;31mIndexError\u001b[0m: list index out of range"
     ]
    }
   ],
   "source": [
    "pprint(biz['businesses'][0]['image_url'])"
   ]
  },
  {
   "cell_type": "code",
   "execution_count": 515,
   "metadata": {
    "collapsed": false
   },
   "outputs": [
    {
     "name": "stdout",
     "output_type": "stream",
     "text": [
      "0\n"
     ]
    }
   ],
   "source": [
    "pprint(biz['total'])"
   ]
  },
  {
   "cell_type": "code",
   "execution_count": 496,
   "metadata": {
    "collapsed": false
   },
   "outputs": [
    {
     "ename": "SyntaxError",
     "evalue": "invalid syntax (<ipython-input-496-38c3826c8558>, line 1)",
     "output_type": "error",
     "traceback": [
      "\u001b[0;36m  File \u001b[0;32m\"<ipython-input-496-38c3826c8558>\"\u001b[0;36m, line \u001b[0;32m1\u001b[0m\n\u001b[0;31m    biz['businesses'].\u001b[0m\n\u001b[0m                      ^\u001b[0m\n\u001b[0;31mSyntaxError\u001b[0m\u001b[0;31m:\u001b[0m invalid syntax\n"
     ]
    }
   ],
   "source": [
    "biz['businesses'].\n",
    "rest_json['id'].get(index,'')"
   ]
  },
  {
   "cell_type": "code",
   "execution_count": 256,
   "metadata": {
    "collapsed": false
   },
   "outputs": [
    {
     "ename": "AttributeError",
     "evalue": "'list' object has no attribute 'get'",
     "output_type": "error",
     "traceback": [
      "\u001b[0;31m---------------------------------------------------------------------------\u001b[0m",
      "\u001b[0;31mAttributeError\u001b[0m                            Traceback (most recent call last)",
      "\u001b[0;32m<ipython-input-256-87ad7a6e9734>\u001b[0m in \u001b[0;36m<module>\u001b[0;34m()\u001b[0m\n\u001b[0;32m----> 1\u001b[0;31m \u001b[0mbiz\u001b[0m\u001b[0;34m[\u001b[0m\u001b[0;34m'businesses'\u001b[0m\u001b[0;34m]\u001b[0m\u001b[0;34m.\u001b[0m\u001b[0mget\u001b[0m\u001b[0;34m(\u001b[0m\u001b[0;34m'phone'\u001b[0m\u001b[0;34m)\u001b[0m\u001b[0;34m\u001b[0m\u001b[0m\n\u001b[0m",
      "\u001b[0;31mAttributeError\u001b[0m: 'list' object has no attribute 'get'"
     ]
    }
   ],
   "source": [
    "biz['businesses'].get('phone')"
   ]
  },
  {
   "cell_type": "code",
   "execution_count": 396,
   "metadata": {
    "collapsed": false
   },
   "outputs": [
    {
     "name": "stdout",
     "output_type": "stream",
     "text": [
      "0    mangiare-san-francisco\n",
      "Name: id, dtype: object\n"
     ]
    }
   ],
   "source": [
    "index = {'id':'True','is_closed':'True','name':'True'} #,'image_url', 'url','mobile_url','phone', 'display_phone', 'review_count','categories', 'rating', 'snippet_text', 'location_address', 'location_display_address', 'location_city','location_state_code','location_postal_code','location_country_code','location_cross_streets','location_cross_streets','location_neighborhoods','location_coordinate'}\n",
    "if 'id' in index: \n",
    "    print biz.get('id')"
   ]
  },
  {
   "cell_type": "code",
   "execution_count": 397,
   "metadata": {
    "collapsed": false
   },
   "outputs": [],
   "source": [
    "def parse_restaurant(rest_json): \n",
    "    if 'id' in index: \n",
    "        _id = rest_json['id']\n",
    "    else _id = 'NaN'\n",
    "    if 'is_closed' in index: \n",
    "        is_closed = rest_json['is_closed']\n",
    "    if 'name' in index:\n",
    "        name = rest_json['name']\n",
    "    image_url = rest_json['image_url']\n",
    "    url = rest_json['url']\n",
    "    mobile_url = rest_json['mobile_url']\n",
    "    phone = rest_json['phone']\n",
    "    #rest_json['phone']\n",
    "    display_phone = rest_json['display_phone']\n",
    "    #rest_json['display_phone']\n",
    "    review_count = rest_json['review_count']\n",
    "    categories = rest_json['categories']\n",
    "    rating = rest_json['rating']\n",
    "    snippet_text = rest_json['snippet_text']\n",
    "    location_address = rest_json['location'].get('address')\n",
    "    location_display_address = rest_json['location'].get('display_address')[1]\n",
    "    location_city = rest_json['location'].get('city')\n",
    "    location_state_code = rest_json['location'].get('state_code')\n",
    "    location_postal_code = rest_json['location'].get('postal_code')\n",
    "    location_country_code = rest_json['location'].get('country_code')\n",
    "    location_cross_streets = rest_json['location'].get('cross_streets')\n",
    "    location_neighborhoods = rest_json['location'].get('neighborhoods')\n",
    "    location_coordinate = rest_json['location'].get('coordinate')  \n",
    "    #good thing about get function is that it returns if there is a result and doesn't break if there isn't\n",
    "    return [_id,is_closed, name,image_url,url,mobile_url,phone,display_phone,review_count,categories,rating,snippet_text,location_address, location_display_address, location_city,location_state_code,location_postal_code,location_country_code,location_cross_streets,location_cross_streets,location_neighborhoods,location_coordinate]"
   ]
  },
  {
   "cell_type": "code",
   "execution_count": 471,
   "metadata": {
    "collapsed": false
   },
   "outputs": [
    {
     "name": "stdout",
     "output_type": "stream",
     "text": [
      "{u'businesses': [{u'categories': [[u'Recreation Centers', u'recreation'],\n",
      "                                  [u'Soccer', u'football']],\n",
      "                  u'display_phone': u'+1-415-561-4200',\n",
      "                  u'id': u'fort-scott-field-at-the-presidio-san-francisco',\n",
      "                  u'image_url': u'https://s3-media4.fl.yelpcdn.com/bphoto/LZVhxPq2TpTpq4AGFd8jHg/ms.jpg',\n",
      "                  u'is_claimed': True,\n",
      "                  u'is_closed': False,\n",
      "                  u'location': {u'address': [],\n",
      "                                u'city': u'San Francisco',\n",
      "                                u'coordinate': {u'latitude': 37.8031542208,\n",
      "                                                u'longitude': -122.474578895},\n",
      "                                u'country_code': u'US',\n",
      "                                u'display_address': [u'Presidio',\n",
      "                                                     u'San Francisco, CA 94129'],\n",
      "                                u'geo_accuracy': 9.5,\n",
      "                                u'neighborhoods': [u'Presidio'],\n",
      "                                u'postal_code': u'94129',\n",
      "                                u'state_code': u'CA'},\n",
      "                  u'mobile_url': u'https://m.yelp.com/biz/fort-scott-field-at-the-presidio-san-francisco?adjust_creative=SD5ybcet2QSwWXz2N7M5lw&utm_campaign=yelp_api&utm_medium=api_v2_search&utm_source=SD5ybcet2QSwWXz2N7M5lw',\n",
      "                  u'name': u'Fort Scott Field at the Presidio',\n",
      "                  u'phone': u'4155614200',\n",
      "                  u'rating': 3.0,\n",
      "                  u'rating_img_url': u'https://s3-media3.fl.yelpcdn.com/assets/2/www/img/34bc8086841c/ico/stars/v1/stars_3.png',\n",
      "                  u'rating_img_url_large': u'https://s3-media1.fl.yelpcdn.com/assets/2/www/img/e8b5b79d37ed/ico/stars/v1/stars_large_3.png',\n",
      "                  u'rating_img_url_small': u'https://s3-media3.fl.yelpcdn.com/assets/2/www/img/902abeed0983/ico/stars/v1/stars_small_3.png',\n",
      "                  u'review_count': 6,\n",
      "                  u'snippet_image_url': u'https://s3-media2.fl.yelpcdn.com/photo/wXkqjRTkUTbYGDkXpvsRcg/ms.jpg',\n",
      "                  u'snippet_text': u'Presidio Habitats has / had an art installation here... basically funky looking chairs waist deep in grass. You are meant to sit, ponder, and observe our...',\n",
      "                  u'url': u'https://www.yelp.com/biz/fort-scott-field-at-the-presidio-san-francisco?adjust_creative=SD5ybcet2QSwWXz2N7M5lw&utm_campaign=yelp_api&utm_medium=api_v2_search&utm_source=SD5ybcet2QSwWXz2N7M5lw'}],\n",
      " u'region': {u'center': {u'latitude': 37.7996775, u'longitude': -122.4784559},\n",
      "             u'span': {u'latitude_delta': 0.007080333399997585,\n",
      "                       u'longitude_delta': 0.009776466000005257}},\n",
      " u'total': 1}\n"
     ]
    }
   ],
   "source": [
    "pprint(biz)"
   ]
  },
  {
   "cell_type": "code",
   "execution_count": null,
   "metadata": {
    "collapsed": false
   },
   "outputs": [],
   "source": []
  },
  {
   "cell_type": "code",
   "execution_count": 516,
   "metadata": {
    "collapsed": false
   },
   "outputs": [],
   "source": [
    "# Sinan's code\n",
    "rows_of_df = []\n",
    "for bar_json in biz['businesses']:\n",
    "    new_row = parse_restaurant(bar_json)\n",
    "    rows_of_df.append(new_row)"
   ]
  },
  {
   "cell_type": "code",
   "execution_count": 517,
   "metadata": {
    "collapsed": false
   },
   "outputs": [
    {
     "data": {
      "text/html": [
       "<div>\n",
       "<table border=\"1\" class=\"dataframe\">\n",
       "  <thead>\n",
       "    <tr style=\"text-align: right;\">\n",
       "      <th></th>\n",
       "      <th>id</th>\n",
       "      <th>is_closed</th>\n",
       "      <th>name</th>\n",
       "      <th>image_url</th>\n",
       "      <th>url</th>\n",
       "      <th>mobile_url</th>\n",
       "      <th>phone</th>\n",
       "      <th>display_phone</th>\n",
       "      <th>review_count</th>\n",
       "      <th>categories</th>\n",
       "      <th>...</th>\n",
       "      <th>location_address</th>\n",
       "      <th>location_display_address</th>\n",
       "      <th>location_city</th>\n",
       "      <th>location_state_code</th>\n",
       "      <th>location_postal_code</th>\n",
       "      <th>location_country_code</th>\n",
       "      <th>location_cross_streets</th>\n",
       "      <th>location_cross_streets</th>\n",
       "      <th>location_neighborhoods</th>\n",
       "      <th>location_coordinate</th>\n",
       "    </tr>\n",
       "  </thead>\n",
       "  <tbody>\n",
       "  </tbody>\n",
       "</table>\n",
       "<p>0 rows × 22 columns</p>\n",
       "</div>"
      ],
      "text/plain": [
       "Empty DataFrame\n",
       "Columns: [id, is_closed, name, image_url, url, mobile_url, phone, display_phone, review_count, categories, rating, snippet_text, location_address, location_display_address, location_city, location_state_code, location_postal_code, location_country_code, location_cross_streets, location_cross_streets, location_neighborhoods, location_coordinate]\n",
       "Index: []\n",
       "\n",
       "[0 rows x 22 columns]"
      ]
     },
     "execution_count": 517,
     "metadata": {},
     "output_type": "execute_result"
    }
   ],
   "source": [
    "# Sinan's code\n",
    "pd.DataFrame(rows_of_df, columns=['id','is_closed','name','image_url', 'url','mobile_url','phone', 'display_phone', 'review_count','categories', 'rating', 'snippet_text', 'location_address', 'location_display_address', 'location_city','location_state_code','location_postal_code','location_country_code','location_cross_streets','location_cross_streets','location_neighborhoods','location_coordinate'])"
   ]
  },
  {
   "cell_type": "code",
   "execution_count": 59,
   "metadata": {
    "collapsed": true
   },
   "outputs": [],
   "source": [
    "# Sinan's code\n",
    "def parse_restaurant(rest_json):\n",
    "    _id = rest_json['id']\n",
    "    name = rest_json['name']\n",
    "    location = rest_json['location'].get('address')[0]\n",
    "    #good thing about get function is that it returns if there is a result and doesn't break if there isn't\n",
    "    return [_id, name, location]\n",
    "    "
   ]
  },
  {
   "cell_type": "code",
   "execution_count": 141,
   "metadata": {
    "collapsed": false
   },
   "outputs": [
    {
     "name": "stdout",
     "output_type": "stream",
     "text": [
      "{u'categories': [[u'Cocktail Bars', u'cocktailbars'],\n",
      "                 [u'Lounges', u'lounges']],\n",
      " u'display_phone': u'+1-415-757-0290',\n",
      " u'id': u'topsys-fun-house-san-francisco',\n",
      " u'image_url': u'https://s3-media1.fl.yelpcdn.com/bphoto/rIThdpt70JhgOufkK5jArg/ms.jpg',\n",
      " u'is_claimed': True,\n",
      " u'is_closed': False,\n",
      " u'location': {u'address': [u'260 Kearny St'],\n",
      "               u'city': u'San Francisco',\n",
      "               u'coordinate': {u'latitude': 37.7905828,\n",
      "                               u'longitude': -122.4038175},\n",
      "               u'country_code': u'US',\n",
      "               u'cross_streets': u'Bush St & Hardie Pl',\n",
      "               u'display_address': [u'260 Kearny St',\n",
      "                                    u'Financial District',\n",
      "                                    u'San Francisco, CA 94108'],\n",
      "               u'geo_accuracy': 9.5,\n",
      "               u'neighborhoods': [u'Financial District'],\n",
      "               u'postal_code': u'94108',\n",
      "               u'state_code': u'CA'},\n",
      " u'mobile_url': u'https://m.yelp.com/biz/topsys-fun-house-san-francisco?adjust_creative=SD5ybcet2QSwWXz2N7M5lw&utm_campaign=yelp_api&utm_medium=api_v2_search&utm_source=SD5ybcet2QSwWXz2N7M5lw',\n",
      " u'name': u\"Topsy's Fun House\",\n",
      " u'phone': u'4157570290',\n",
      " u'rating': 4.5,\n",
      " u'rating_img_url': u'https://s3-media2.fl.yelpcdn.com/assets/2/www/img/99493c12711e/ico/stars/v1/stars_4_half.png',\n",
      " u'rating_img_url_large': u'https://s3-media4.fl.yelpcdn.com/assets/2/www/img/9f83790ff7f6/ico/stars/v1/stars_large_4_half.png',\n",
      " u'rating_img_url_small': u'https://s3-media2.fl.yelpcdn.com/assets/2/www/img/a5221e66bc70/ico/stars/v1/stars_small_4_half.png',\n",
      " u'review_count': 262,\n",
      " u'snippet_image_url': u'https://s3-media1.fl.yelpcdn.com/photo/H9dWBP705XqMUXh4UcHt0g/ms.jpg',\n",
      " u'snippet_text': u'What a strange, but awesome place. The bartenders are attractive and friendly, and you never feel ignored.\\nTHE BARSTOOLS ARE GIANT SPRINGS. Sit on them....',\n",
      " u'url': u'https://www.yelp.com/biz/topsys-fun-house-san-francisco?adjust_creative=SD5ybcet2QSwWXz2N7M5lw&utm_campaign=yelp_api&utm_medium=api_v2_search&utm_source=SD5ybcet2QSwWXz2N7M5lw'}\n"
     ]
    }
   ],
   "source": [
    "pprint(biz['businesses'][2])"
   ]
  },
  {
   "cell_type": "code",
   "execution_count": 38,
   "metadata": {
    "collapsed": false
   },
   "outputs": [
    {
     "ename": "NameError",
     "evalue": "name 'tweepy' is not defined",
     "output_type": "error",
     "traceback": [
      "\u001b[0;31m---------------------------------------------------------------------------\u001b[0m",
      "\u001b[0;31mNameError\u001b[0m                                 Traceback (most recent call last)",
      "\u001b[0;32m<ipython-input-38-791710975ae0>\u001b[0m in \u001b[0;36m<module>\u001b[0;34m()\u001b[0m\n\u001b[1;32m      1\u001b[0m \u001b[0;34m\u001b[0m\u001b[0m\n\u001b[1;32m      2\u001b[0m \u001b[0mtweets\u001b[0m \u001b[0;34m=\u001b[0m \u001b[0;34m[\u001b[0m\u001b[0;34m]\u001b[0m\u001b[0;34m\u001b[0m\u001b[0m\n\u001b[0;32m----> 3\u001b[0;31m \u001b[0;32mfor\u001b[0m \u001b[0mi\u001b[0m \u001b[0;32min\u001b[0m \u001b[0mtweepy\u001b[0m\u001b[0;34m(\u001b[0m\u001b[0mapi\u001b[0m\u001b[0;34m)\u001b[0m\u001b[0;34m:\u001b[0m\u001b[0;34m\u001b[0m\u001b[0m\n\u001b[0m\u001b[1;32m      4\u001b[0m     \u001b[0me\u001b[0m \u001b[0;34m=\u001b[0m \u001b[0;34m[\u001b[0m\u001b[0;34m]\u001b[0m\u001b[0;34m\u001b[0m\u001b[0m\n\u001b[1;32m      5\u001b[0m     \u001b[0me\u001b[0m\u001b[0;34m.\u001b[0m\u001b[0mappend\u001b[0m\u001b[0;34m(\u001b[0m\u001b[0mtweet\u001b[0m\u001b[0;34m[\u001b[0m\u001b[0;34m\"text\"\u001b[0m\u001b[0;34m]\u001b[0m\u001b[0;34m)\u001b[0m\u001b[0;34m\u001b[0m\u001b[0m\n",
      "\u001b[0;31mNameError\u001b[0m: name 'tweepy' is not defined"
     ]
    }
   ],
   "source": [
    "#george's code\n",
    "tweets = []\n",
    "for i in tweepy(api):\n",
    "    e = []\n",
    "    e.append(tweet[\"text\"])\n",
    "    e.append(tweet[\"entities\"][\"hashtags\"])\n",
    "    tweets.append(e)"
   ]
  },
  {
   "cell_type": "code",
   "execution_count": null,
   "metadata": {
    "collapsed": true
   },
   "outputs": [],
   "source": []
  }
 ],
 "metadata": {
  "kernelspec": {
   "display_name": "Python 2",
   "language": "python",
   "name": "python2"
  },
  "language_info": {
   "codemirror_mode": {
    "name": "ipython",
    "version": 2
   },
   "file_extension": ".py",
   "mimetype": "text/x-python",
   "name": "python",
   "nbconvert_exporter": "python",
   "pygments_lexer": "ipython2",
   "version": "2.7.11"
  }
 },
 "nbformat": 4,
 "nbformat_minor": 0
}
