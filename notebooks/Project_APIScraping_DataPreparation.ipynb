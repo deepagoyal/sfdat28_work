{
 "cells": [
  {
   "cell_type": "code",
   "execution_count": 5,
   "metadata": {
    "collapsed": false
   },
   "outputs": [],
   "source": [
    "##\n",
    "##Script to get List of categories available in Yelp that list restraurants in ranking\n",
    "##\n",
    "import pandas as pd\n",
    "import numpy as np\n",
    "#for creating geo coordinate combinations\n",
    "import itertools  as it\n",
    "from yelpapi import YelpAPI\n",
    "import requests     # how python goes onto the internet!\n",
    "import re           # regex\n",
    "from bs4 import BeautifulSoup # a python HTML parser (version 3)\n",
    "from urllib2 import Request, urlopen\n",
    "import json\n",
    "from pandas.io.json import json_normalize\n",
    "%matplotlib inline"
   ]
  },
  {
   "cell_type": "markdown",
   "metadata": {},
   "source": [
    "#### https://www.yelp.com/developers/v2/manage_api_keys refresh to generate new keys"
   ]
  },
  {
   "cell_type": "code",
   "execution_count": 6,
   "metadata": {
    "collapsed": true
   },
   "outputs": [],
   "source": [
    "api_key = 'SD5ybcet2QSwWXz2N7M5lw'\n",
    "api_secret = 'EJBXJBAFgEka0br1ynT6HwWJVT8'\n",
    "access_token = 'EESADq5kSfBL4XkbxzwJxsqhZIgQHbJs'\n",
    "access_secret = 'JMU-eh8i0eVUUYxJcjelLkZEfTY'"
   ]
  },
  {
   "cell_type": "markdown",
   "metadata": {
    "collapsed": true
   },
   "source": [
    "#### activate yelpapi with personal keys"
   ]
  },
  {
   "cell_type": "code",
   "execution_count": 7,
   "metadata": {
    "collapsed": true
   },
   "outputs": [],
   "source": [
    "yelp_api = YelpAPI(api_key, api_secret, access_token, access_secret)"
   ]
  },
  {
   "cell_type": "markdown",
   "metadata": {},
   "source": [
    "#### Build index of all the field we care about"
   ]
  },
  {
   "cell_type": "code",
   "execution_count": 8,
   "metadata": {
    "collapsed": false
   },
   "outputs": [
    {
     "data": {
      "text/plain": [
       "{'categories': 'True',\n",
       " 'display_phone': 'True',\n",
       " 'id': 'True',\n",
       " 'image_url': 'True',\n",
       " 'is_closed': 'True',\n",
       " 'location_address': 'True',\n",
       " 'location_city': 'True',\n",
       " 'location_coordinate': 'True',\n",
       " 'location_country_code': 'True',\n",
       " 'location_cross_streets': 'True',\n",
       " 'location_display_address': 'True',\n",
       " 'location_neighborhoods': 'True',\n",
       " 'location_postal_code': 'True',\n",
       " 'location_state_code': 'True',\n",
       " 'mobile_url': 'True',\n",
       " 'name': 'True',\n",
       " 'phone': 'True',\n",
       " 'rating': 'True',\n",
       " 'review_count': 'True',\n",
       " 'snippet_text': 'True',\n",
       " 'url': 'True'}"
      ]
     },
     "execution_count": 8,
     "metadata": {},
     "output_type": "execute_result"
    }
   ],
   "source": [
    "index = {'id':'True','is_closed':'True','name':'True','image_url':'True', 'url':'True','mobile_url':'True','phone':'True', 'display_phone':'True', 'review_count':'True','categories':'True', 'rating':'True', 'snippet_text':'True', 'location_address':'True', 'location_display_address':'True', 'location_city':'True','location_state_code':'True','location_postal_code':'True','location_country_code':'True','location_cross_streets':'True','location_cross_streets':'True','location_neighborhoods':'True','location_coordinate':'True'}\n",
    "index"
   ]
  },
  {
   "cell_type": "markdown",
   "metadata": {
    "collapsed": false
   },
   "source": [
    "## Create a method to grab yelp business with a keyword in a lat-long bound"
   ]
  },
  {
   "cell_type": "code",
   "execution_count": 9,
   "metadata": {
    "collapsed": false
   },
   "outputs": [],
   "source": [
    "#Create method to return json to row\n",
    "def parse_restaurant(rest_json):\n",
    "    index = {'id':'True','is_closed':'True','name':'True','image_url':'True', 'url':'True','mobile_url':'True','phone':'True', 'display_phone':'True', 'review_count':'True','categories':'True', 'rating':'True', 'snippet_text':'True', 'location_address':'True', 'location_display_address':'True', 'location_city':'True','location_state_code':'True','location_postal_code':'True','location_country_code':'True','location_cross_streets':'True','location_neighborhoods':'True','location_coordinate':'True'}\n",
    "    if 'id' in index: \n",
    "        _id = rest_json.get('id')\n",
    "    else: _id = 'NaN'\n",
    "    if 'is_closed' in index: \n",
    "        is_closed = rest_json.get('is_closed')\n",
    "    else: is_closed = 'NaN'\n",
    "    if 'name' in index:\n",
    "        name = rest_json.get('name')\n",
    "    else: name = 'NaN'\n",
    "    if 'image_url' in index:\n",
    "        image_url = rest_json.get('image_url')\n",
    "    else: image_url = 'NaN'\n",
    "    if 'url' in index:\n",
    "        url = rest_json.get('url')\n",
    "    else: url = 'NaN'\n",
    "    if 'mobile_url' in index:\n",
    "        mobile_url = rest_json.get('mobile_url')\n",
    "    else: mobile_url = 'NaN'\n",
    "    if 'phone' in index:\n",
    "        phone = rest_json.get('phone')\n",
    "    else: phone = 'NaN'\n",
    "    if 'display_phone' in index:\n",
    "        display_phone = rest_json.get('display_phone')\n",
    "    else: display_phone = 'NaN'\n",
    "    if 'review_count' in index:\n",
    "        review_count = rest_json.get('review_count')\n",
    "    else: review_count = 'NaN'\n",
    "    if 'categories' in index:\n",
    "        categories = rest_json.get('categories')\n",
    "    else: categories = 'NaN'\n",
    "    if 'rating' in index:\n",
    "        rating = rest_json.get('rating')\n",
    "    else: rating = 'NaN'\n",
    "    if 'snippet_text' in index:\n",
    "        snippet_text = rest_json.get('snippet_text')\n",
    "    else: snippet_text = 'NaN'\n",
    "    if 'location_address' in index:\n",
    "        location_address = rest_json['location'].get('address')\n",
    "    else: location_address = 'NaN'\n",
    "    if 'location_display_address' in index:\n",
    "        location_display_address = rest_json['location'].get('display_address')\n",
    "    else: location_display_address = 'NaN'\n",
    "    if 'location_city' in index:\n",
    "        location_city = rest_json['location'].get('city')\n",
    "    else: location_city = 'NaN'\n",
    "    if 'location_state_code' in index:\n",
    "        location_state_code = rest_json['location'].get('state_code')\n",
    "    else: location_state_code= 'Nan'        \n",
    "    if 'location_postal_code' in index:\n",
    "        location_postal_code = rest_json['location'].get('postal_code')\n",
    "    else: location_postal_code = 'Nan'\n",
    "    if 'location_country_code' in index:\n",
    "        location_country_code = rest_json['location'].get('country_code')\n",
    "    else: location_country_code = 'Nan'        \n",
    "    if 'location_cross_streets' in index:\n",
    "        location_cross_streets = rest_json['location'].get('cross_streets')\n",
    "    else: location_cross_streets = 'Nan'\n",
    "    if 'location_neighborhoods' in index:\n",
    "        location_neighborhoods = rest_json['location'].get('neighborhoods')\n",
    "    else: location_neighborhoods = 'Nan'\n",
    "    if 'location_coordinate' in index:\n",
    "        location_coordinate = rest_json['location'].get('coordinate')  \n",
    "    else: location_coordinate= 'Nan'\n",
    "    #good thing about get function is that it returns if there is a result and doesn't break if there isn't\n",
    "    return [_id,is_closed, name,image_url,url,mobile_url,phone,display_phone,review_count,categories,rating,snippet_text,location_address, location_display_address, location_city,location_state_code,location_postal_code,location_country_code,location_cross_streets,location_neighborhoods,location_coordinate]"
   ]
  },
  {
   "cell_type": "code",
   "execution_count": 10,
   "metadata": {
    "collapsed": true
   },
   "outputs": [],
   "source": [
    "#Create method to call yelp api with term and bound filters\n",
    "def getbiz(term, bounds):\n",
    "    search_results_df = pd.DataFrame({})\n",
    "    offset = 0\n",
    "    while offset<= 980:\n",
    "        temp_dict = yelp_api.search_query(term= term, bounds=bounds, offset=offset)\n",
    "        rows_of_df = []\n",
    "        for bar_json in temp_dict['businesses']:\n",
    "            new_row = parse_restaurant(bar_json)\n",
    "            rows_of_df.append(new_row)\n",
    "        temp_df = pd.DataFrame(rows_of_df, columns=['id','is_closed','name','image_url', 'url','mobile_url','phone', 'display_phone', 'review_count','categories', 'rating', 'snippet_text', 'location_address', 'location_display_address', 'location_city','location_state_code','location_postal_code','location_country_code','location_cross_streets','location_neighborhoods','location_coordinate'])\n",
    "        search_results_df = search_results_df.append(temp_df, ignore_index=True)\n",
    "        if temp_df.shape[0]<20:\n",
    "            print 'Results exhausted at '+ str(temp_df.shape[0]+offset)+' results at offset '+str(offset)\n",
    "            break;\n",
    "        offset += 20\n",
    "    return search_results_df;"
   ]
  },
  {
   "cell_type": "code",
   "execution_count": 11,
   "metadata": {
    "collapsed": false
   },
   "outputs": [],
   "source": [
    "#Function to get 1 if a number is not a multiple of something \n",
    "import math\n",
    "def rem(x,y):\n",
    "    res = x % y\n",
    "    return math.copysign(res,x)\n"
   ]
  },
  {
   "cell_type": "code",
   "execution_count": 50,
   "metadata": {
    "collapsed": false,
    "scrolled": false
   },
   "outputs": [],
   "source": [
    "#create method to get list of bounds\n",
    "\n",
    "def get_bounds(nw_latitude, nw_longitude, se_latitude, se_longitude,block):\n",
    "    #Specify how many rows and columns you wish to devide the geographical bounds into\n",
    "    #block = 15\n",
    "    increment_lat = (nw_latitude-se_latitude)/block\n",
    "    increment_lon = (nw_longitude-se_longitude)/block\n",
    "\n",
    "    #Find latitude and longitude blocks coordinates\n",
    "    lat = np.arange(se_latitude, nw_latitude, increment_lat)\n",
    "    lon = np.arange(se_longitude, nw_longitude, increment_lon)\n",
    "\n",
    "    #build a block squared list of coordinates\n",
    "    import itertools\n",
    "    listoflist = lat,lon\n",
    "\n",
    "    #make all combinations of bounds required for calculation\n",
    "    comb  = list(itertools.product(*listoflist))\n",
    "\n",
    "    #sequence the list of coordinates to run north (east to west) to south (east to west)\n",
    "    comb = comb[::-1]\n",
    "    \n",
    "    i=0\n",
    "    bounds = []\n",
    "    #print (block*(block-1)-1)\n",
    "    while i<=(block*(block-1)-1):\n",
    "    #while i<=block*block:\n",
    "        if rem(i,block) != (block-1):\n",
    "            bounds = bounds + [str(comb[i][0])+','+str(comb[i][1])+'|'+str(comb[i+1+block][0])+','+str(comb[i+1+block][1])]\n",
    "            #print len(bounds)\n",
    "            i += 1\n",
    "        elif rem(i,block) == (block-1):\n",
    "            i += 1\n",
    "    return bounds;\n",
    "    \n"
   ]
  },
  {
   "cell_type": "code",
   "execution_count": 51,
   "metadata": {
    "collapsed": true
   },
   "outputs": [],
   "source": [
    "def getall(term, nw_latitude, nw_longitude, se_latitude, se_longitude, block):\n",
    "    bounds = get_bounds(nw_latitude, nw_longitude, se_latitude, se_longitude, block)\n",
    "    #Run getbiz method for each element in bounds\n",
    "    b = 0\n",
    "    biz=pd.DataFrame({})\n",
    "    while b <= (len(bounds)-1):\n",
    "        biz = biz.append(getbiz(term,bounds[b]), ignore_index=True)\n",
    "        #print b\n",
    "        b+=1\n",
    "    return biz;"
   ]
  },
  {
   "cell_type": "code",
   "execution_count": null,
   "metadata": {
    "collapsed": false
   },
   "outputs": [
    {
     "name": "stdout",
     "output_type": "stream",
     "text": [
      "Results exhausted at 159 results at offset 140\n",
      "Results exhausted at 159 results at offset 140\n",
      "Results exhausted at 499 results at offset 480\n",
      "Results exhausted at 199 results at offset 180\n",
      "Results exhausted at 79 results at offset 60\n",
      "Results exhausted at 79 results at offset 60\n",
      "Results exhausted at 399 results at offset 380\n",
      "Results exhausted at 59 results at offset 40\n",
      "Results exhausted at 86 results at offset 80\n"
     ]
    }
   ],
   "source": [
    "#Specify the keyword to search\n",
    "term = 'wine'\n",
    "\n",
    "#Specify the lat lon to specify bounds\n",
    "nw_latitude=37.810298\n",
    "nw_longitude=-122.522450\n",
    "se_latitude=37.704093\n",
    "se_longitude=-122.375803\n",
    "block = 5\n",
    "\n",
    "#Get bounds list using method\n",
    "#bounds = get_bounds(nw_latitude, nw_longitude, se_latitude, se_longitude, block)\n",
    "\n",
    "#Get\n",
    "wine = getall(term,nw_latitude, nw_longitude, se_latitude, se_longitude, block)"
   ]
  },
  {
   "cell_type": "code",
   "execution_count": 49,
   "metadata": {
    "collapsed": false
   },
   "outputs": [
    {
     "name": "stdout",
     "output_type": "stream",
     "text": [
      "Results exhausted at 119 results at offset 100\n",
      "Results exhausted at 249 results at offset 240\n",
      "Results exhausted at 499 results at offset 480\n",
      "Results exhausted at 219 results at offset 200\n",
      "Results exhausted at 110 results at offset 100\n",
      "Results exhausted at 79 results at offset 60\n",
      "Results exhausted at 379 results at offset 360\n",
      "Results exhausted at 59 results at offset 40\n"
     ]
    },
    {
     "ename": "KeyboardInterrupt",
     "evalue": "",
     "output_type": "error",
     "traceback": [
      "\u001b[0;31m---------------------------------------------------------------------------\u001b[0m",
      "\u001b[0;31mKeyboardInterrupt\u001b[0m                         Traceback (most recent call last)",
      "\u001b[0;32m<ipython-input-49-ea604d4e9508>\u001b[0m in \u001b[0;36m<module>\u001b[0;34m()\u001b[0m\n\u001b[0;32m----> 1\u001b[0;31m \u001b[0mwine\u001b[0m \u001b[0;34m=\u001b[0m \u001b[0mgetall\u001b[0m\u001b[0;34m(\u001b[0m\u001b[0mterm\u001b[0m\u001b[0;34m,\u001b[0m\u001b[0mbounds\u001b[0m\u001b[0;34m)\u001b[0m\u001b[0;34m\u001b[0m\u001b[0m\n\u001b[0m",
      "\u001b[0;32m<ipython-input-46-42d8e90faa86>\u001b[0m in \u001b[0;36mgetall\u001b[0;34m(term, bounds)\u001b[0m\n\u001b[1;32m      4\u001b[0m     \u001b[0mbiz\u001b[0m\u001b[0;34m=\u001b[0m\u001b[0mpd\u001b[0m\u001b[0;34m.\u001b[0m\u001b[0mDataFrame\u001b[0m\u001b[0;34m(\u001b[0m\u001b[0;34m{\u001b[0m\u001b[0;34m}\u001b[0m\u001b[0;34m)\u001b[0m\u001b[0;34m\u001b[0m\u001b[0m\n\u001b[1;32m      5\u001b[0m     \u001b[0;32mwhile\u001b[0m \u001b[0mb\u001b[0m \u001b[0;34m<=\u001b[0m \u001b[0;34m(\u001b[0m\u001b[0mlen\u001b[0m\u001b[0;34m(\u001b[0m\u001b[0mbounds\u001b[0m\u001b[0;34m)\u001b[0m\u001b[0;34m-\u001b[0m\u001b[0;36m1\u001b[0m\u001b[0;34m)\u001b[0m\u001b[0;34m:\u001b[0m\u001b[0;34m\u001b[0m\u001b[0m\n\u001b[0;32m----> 6\u001b[0;31m         \u001b[0mbiz\u001b[0m \u001b[0;34m=\u001b[0m \u001b[0mbiz\u001b[0m\u001b[0;34m.\u001b[0m\u001b[0mappend\u001b[0m\u001b[0;34m(\u001b[0m\u001b[0mgetbiz\u001b[0m\u001b[0;34m(\u001b[0m\u001b[0mterm\u001b[0m\u001b[0;34m,\u001b[0m\u001b[0mbounds\u001b[0m\u001b[0;34m[\u001b[0m\u001b[0mb\u001b[0m\u001b[0;34m]\u001b[0m\u001b[0;34m)\u001b[0m\u001b[0;34m,\u001b[0m \u001b[0mignore_index\u001b[0m\u001b[0;34m=\u001b[0m\u001b[0mTrue\u001b[0m\u001b[0;34m)\u001b[0m\u001b[0;34m\u001b[0m\u001b[0m\n\u001b[0m\u001b[1;32m      7\u001b[0m         \u001b[0;31m#print b\u001b[0m\u001b[0;34m\u001b[0m\u001b[0;34m\u001b[0m\u001b[0m\n\u001b[1;32m      8\u001b[0m         \u001b[0mb\u001b[0m\u001b[0;34m+=\u001b[0m\u001b[0;36m1\u001b[0m\u001b[0;34m\u001b[0m\u001b[0m\n",
      "\u001b[0;32m<ipython-input-10-f0bb3b1b7821>\u001b[0m in \u001b[0;36mgetbiz\u001b[0;34m(term, bounds)\u001b[0m\n\u001b[1;32m      4\u001b[0m     \u001b[0moffset\u001b[0m \u001b[0;34m=\u001b[0m \u001b[0;36m0\u001b[0m\u001b[0;34m\u001b[0m\u001b[0m\n\u001b[1;32m      5\u001b[0m     \u001b[0;32mwhile\u001b[0m \u001b[0moffset\u001b[0m\u001b[0;34m<=\u001b[0m \u001b[0;36m980\u001b[0m\u001b[0;34m:\u001b[0m\u001b[0;34m\u001b[0m\u001b[0m\n\u001b[0;32m----> 6\u001b[0;31m         \u001b[0mtemp_dict\u001b[0m \u001b[0;34m=\u001b[0m \u001b[0myelp_api\u001b[0m\u001b[0;34m.\u001b[0m\u001b[0msearch_query\u001b[0m\u001b[0;34m(\u001b[0m\u001b[0mterm\u001b[0m\u001b[0;34m=\u001b[0m \u001b[0mterm\u001b[0m\u001b[0;34m,\u001b[0m \u001b[0mbounds\u001b[0m\u001b[0;34m=\u001b[0m\u001b[0mbounds\u001b[0m\u001b[0;34m,\u001b[0m \u001b[0moffset\u001b[0m\u001b[0;34m=\u001b[0m\u001b[0moffset\u001b[0m\u001b[0;34m)\u001b[0m\u001b[0;34m\u001b[0m\u001b[0m\n\u001b[0m\u001b[1;32m      7\u001b[0m         \u001b[0mrows_of_df\u001b[0m \u001b[0;34m=\u001b[0m \u001b[0;34m[\u001b[0m\u001b[0;34m]\u001b[0m\u001b[0;34m\u001b[0m\u001b[0m\n\u001b[1;32m      8\u001b[0m         \u001b[0;32mfor\u001b[0m \u001b[0mbar_json\u001b[0m \u001b[0;32min\u001b[0m \u001b[0mtemp_dict\u001b[0m\u001b[0;34m[\u001b[0m\u001b[0;34m'businesses'\u001b[0m\u001b[0;34m]\u001b[0m\u001b[0;34m:\u001b[0m\u001b[0;34m\u001b[0m\u001b[0m\n",
      "\u001b[0;32m/Users/deepagoyal/anaconda/lib/python2.7/site-packages/yelpapi/yelpapi.pyc\u001b[0m in \u001b[0;36msearch_query\u001b[0;34m(self, **kwargs)\u001b[0m\n\u001b[1;32m     61\u001b[0m             \u001b[0mArbitrary\u001b[0m \u001b[0mkeywords\u001b[0m \u001b[0mcan\u001b[0m \u001b[0mbe\u001b[0m \u001b[0mpassed\u001b[0m \u001b[0;32min\u001b[0m\u001b[0;34m,\u001b[0m \u001b[0;32mand\u001b[0m \u001b[0ma\u001b[0m \u001b[0mdynamically\u001b[0m\u001b[0;34m-\u001b[0m\u001b[0mgenerated\u001b[0m \u001b[0mdict\u001b[0m \u001b[0mof\u001b[0m \u001b[0mbusinesses\u001b[0m \u001b[0mwill\u001b[0m \u001b[0mbe\u001b[0m \u001b[0mreturned\u001b[0m\u001b[0;34m.\u001b[0m\u001b[0;34m\u001b[0m\u001b[0m\n\u001b[1;32m     62\u001b[0m         \"\"\"\n\u001b[0;32m---> 63\u001b[0;31m         \u001b[0;32mreturn\u001b[0m \u001b[0mself\u001b[0m\u001b[0;34m.\u001b[0m\u001b[0m_query\u001b[0m\u001b[0;34m(\u001b[0m\u001b[0mSEARCH_API_URL\u001b[0m\u001b[0;34m,\u001b[0m \u001b[0;34m**\u001b[0m\u001b[0mkwargs\u001b[0m\u001b[0;34m)\u001b[0m\u001b[0;34m\u001b[0m\u001b[0m\n\u001b[0m\u001b[1;32m     64\u001b[0m \u001b[0;34m\u001b[0m\u001b[0m\n\u001b[1;32m     65\u001b[0m     \u001b[0;32mdef\u001b[0m \u001b[0mbusiness_query\u001b[0m\u001b[0;34m(\u001b[0m\u001b[0mself\u001b[0m\u001b[0;34m,\u001b[0m \u001b[0mid\u001b[0m\u001b[0;34m,\u001b[0m \u001b[0;34m**\u001b[0m\u001b[0mkwargs\u001b[0m\u001b[0;34m)\u001b[0m\u001b[0;34m:\u001b[0m\u001b[0;34m\u001b[0m\u001b[0m\n",
      "\u001b[0;32m/Users/deepagoyal/anaconda/lib/python2.7/site-packages/yelpapi/yelpapi.pyc\u001b[0m in \u001b[0;36m_query\u001b[0;34m(self, url, **kwargs)\u001b[0m\n\u001b[1;32m     93\u001b[0m         \"\"\"\n\u001b[1;32m     94\u001b[0m         \u001b[0mparameters\u001b[0m \u001b[0;34m=\u001b[0m \u001b[0mYelpAPI\u001b[0m\u001b[0;34m.\u001b[0m\u001b[0m_get_clean_parameters\u001b[0m\u001b[0;34m(\u001b[0m\u001b[0mkwargs\u001b[0m\u001b[0;34m)\u001b[0m\u001b[0;34m\u001b[0m\u001b[0m\n\u001b[0;32m---> 95\u001b[0;31m         \u001b[0mresponse\u001b[0m \u001b[0;34m=\u001b[0m \u001b[0mself\u001b[0m\u001b[0;34m.\u001b[0m\u001b[0m_yelp_session\u001b[0m\u001b[0;34m.\u001b[0m\u001b[0mget\u001b[0m\u001b[0;34m(\u001b[0m\u001b[0murl\u001b[0m\u001b[0;34m,\u001b[0m \u001b[0mparams\u001b[0m\u001b[0;34m=\u001b[0m\u001b[0mparameters\u001b[0m\u001b[0;34m)\u001b[0m\u001b[0;34m\u001b[0m\u001b[0m\n\u001b[0m\u001b[1;32m     96\u001b[0m         \u001b[0mresponse_json\u001b[0m \u001b[0;34m=\u001b[0m \u001b[0mresponse\u001b[0m\u001b[0;34m.\u001b[0m\u001b[0mjson\u001b[0m\u001b[0;34m(\u001b[0m\u001b[0;34m)\u001b[0m \u001b[0;31m# it shouldn't happen, but this will raise a ValueError if the response isn't JSON\u001b[0m\u001b[0;34m\u001b[0m\u001b[0m\n\u001b[1;32m     97\u001b[0m \u001b[0;34m\u001b[0m\u001b[0m\n",
      "\u001b[0;32m/Users/deepagoyal/anaconda/lib/python2.7/site-packages/requests/sessions.pyc\u001b[0m in \u001b[0;36mget\u001b[0;34m(self, url, **kwargs)\u001b[0m\n\u001b[1;32m    485\u001b[0m \u001b[0;34m\u001b[0m\u001b[0m\n\u001b[1;32m    486\u001b[0m         \u001b[0mkwargs\u001b[0m\u001b[0;34m.\u001b[0m\u001b[0msetdefault\u001b[0m\u001b[0;34m(\u001b[0m\u001b[0;34m'allow_redirects'\u001b[0m\u001b[0;34m,\u001b[0m \u001b[0mTrue\u001b[0m\u001b[0;34m)\u001b[0m\u001b[0;34m\u001b[0m\u001b[0m\n\u001b[0;32m--> 487\u001b[0;31m         \u001b[0;32mreturn\u001b[0m \u001b[0mself\u001b[0m\u001b[0;34m.\u001b[0m\u001b[0mrequest\u001b[0m\u001b[0;34m(\u001b[0m\u001b[0;34m'GET'\u001b[0m\u001b[0;34m,\u001b[0m \u001b[0murl\u001b[0m\u001b[0;34m,\u001b[0m \u001b[0;34m**\u001b[0m\u001b[0mkwargs\u001b[0m\u001b[0;34m)\u001b[0m\u001b[0;34m\u001b[0m\u001b[0m\n\u001b[0m\u001b[1;32m    488\u001b[0m \u001b[0;34m\u001b[0m\u001b[0m\n\u001b[1;32m    489\u001b[0m     \u001b[0;32mdef\u001b[0m \u001b[0moptions\u001b[0m\u001b[0;34m(\u001b[0m\u001b[0mself\u001b[0m\u001b[0;34m,\u001b[0m \u001b[0murl\u001b[0m\u001b[0;34m,\u001b[0m \u001b[0;34m**\u001b[0m\u001b[0mkwargs\u001b[0m\u001b[0;34m)\u001b[0m\u001b[0;34m:\u001b[0m\u001b[0;34m\u001b[0m\u001b[0m\n",
      "\u001b[0;32m/Users/deepagoyal/anaconda/lib/python2.7/site-packages/requests/sessions.pyc\u001b[0m in \u001b[0;36mrequest\u001b[0;34m(self, method, url, params, data, headers, cookies, files, auth, timeout, allow_redirects, proxies, hooks, stream, verify, cert, json)\u001b[0m\n\u001b[1;32m    473\u001b[0m         }\n\u001b[1;32m    474\u001b[0m         \u001b[0msend_kwargs\u001b[0m\u001b[0;34m.\u001b[0m\u001b[0mupdate\u001b[0m\u001b[0;34m(\u001b[0m\u001b[0msettings\u001b[0m\u001b[0;34m)\u001b[0m\u001b[0;34m\u001b[0m\u001b[0m\n\u001b[0;32m--> 475\u001b[0;31m         \u001b[0mresp\u001b[0m \u001b[0;34m=\u001b[0m \u001b[0mself\u001b[0m\u001b[0;34m.\u001b[0m\u001b[0msend\u001b[0m\u001b[0;34m(\u001b[0m\u001b[0mprep\u001b[0m\u001b[0;34m,\u001b[0m \u001b[0;34m**\u001b[0m\u001b[0msend_kwargs\u001b[0m\u001b[0;34m)\u001b[0m\u001b[0;34m\u001b[0m\u001b[0m\n\u001b[0m\u001b[1;32m    476\u001b[0m \u001b[0;34m\u001b[0m\u001b[0m\n\u001b[1;32m    477\u001b[0m         \u001b[0;32mreturn\u001b[0m \u001b[0mresp\u001b[0m\u001b[0;34m\u001b[0m\u001b[0m\n",
      "\u001b[0;32m/Users/deepagoyal/anaconda/lib/python2.7/site-packages/requests/sessions.pyc\u001b[0m in \u001b[0;36msend\u001b[0;34m(self, request, **kwargs)\u001b[0m\n\u001b[1;32m    583\u001b[0m \u001b[0;34m\u001b[0m\u001b[0m\n\u001b[1;32m    584\u001b[0m         \u001b[0;31m# Send the request\u001b[0m\u001b[0;34m\u001b[0m\u001b[0;34m\u001b[0m\u001b[0m\n\u001b[0;32m--> 585\u001b[0;31m         \u001b[0mr\u001b[0m \u001b[0;34m=\u001b[0m \u001b[0madapter\u001b[0m\u001b[0;34m.\u001b[0m\u001b[0msend\u001b[0m\u001b[0;34m(\u001b[0m\u001b[0mrequest\u001b[0m\u001b[0;34m,\u001b[0m \u001b[0;34m**\u001b[0m\u001b[0mkwargs\u001b[0m\u001b[0;34m)\u001b[0m\u001b[0;34m\u001b[0m\u001b[0m\n\u001b[0m\u001b[1;32m    586\u001b[0m \u001b[0;34m\u001b[0m\u001b[0m\n\u001b[1;32m    587\u001b[0m         \u001b[0;31m# Total elapsed time of the request (approximately)\u001b[0m\u001b[0;34m\u001b[0m\u001b[0;34m\u001b[0m\u001b[0m\n",
      "\u001b[0;32m/Users/deepagoyal/anaconda/lib/python2.7/site-packages/requests/adapters.pyc\u001b[0m in \u001b[0;36msend\u001b[0;34m(self, request, stream, timeout, verify, cert, proxies)\u001b[0m\n\u001b[1;32m    401\u001b[0m                     \u001b[0mdecode_content\u001b[0m\u001b[0;34m=\u001b[0m\u001b[0mFalse\u001b[0m\u001b[0;34m,\u001b[0m\u001b[0;34m\u001b[0m\u001b[0m\n\u001b[1;32m    402\u001b[0m                     \u001b[0mretries\u001b[0m\u001b[0;34m=\u001b[0m\u001b[0mself\u001b[0m\u001b[0;34m.\u001b[0m\u001b[0mmax_retries\u001b[0m\u001b[0;34m,\u001b[0m\u001b[0;34m\u001b[0m\u001b[0m\n\u001b[0;32m--> 403\u001b[0;31m                     \u001b[0mtimeout\u001b[0m\u001b[0;34m=\u001b[0m\u001b[0mtimeout\u001b[0m\u001b[0;34m\u001b[0m\u001b[0m\n\u001b[0m\u001b[1;32m    404\u001b[0m                 )\n\u001b[1;32m    405\u001b[0m \u001b[0;34m\u001b[0m\u001b[0m\n",
      "\u001b[0;32m/Users/deepagoyal/anaconda/lib/python2.7/site-packages/requests/packages/urllib3/connectionpool.pyc\u001b[0m in \u001b[0;36murlopen\u001b[0;34m(self, method, url, body, headers, retries, redirect, assert_same_host, timeout, pool_timeout, release_conn, chunked, **response_kw)\u001b[0m\n\u001b[1;32m    576\u001b[0m                                                   \u001b[0mtimeout\u001b[0m\u001b[0;34m=\u001b[0m\u001b[0mtimeout_obj\u001b[0m\u001b[0;34m,\u001b[0m\u001b[0;34m\u001b[0m\u001b[0m\n\u001b[1;32m    577\u001b[0m                                                   \u001b[0mbody\u001b[0m\u001b[0;34m=\u001b[0m\u001b[0mbody\u001b[0m\u001b[0;34m,\u001b[0m \u001b[0mheaders\u001b[0m\u001b[0;34m=\u001b[0m\u001b[0mheaders\u001b[0m\u001b[0;34m,\u001b[0m\u001b[0;34m\u001b[0m\u001b[0m\n\u001b[0;32m--> 578\u001b[0;31m                                                   chunked=chunked)\n\u001b[0m\u001b[1;32m    579\u001b[0m \u001b[0;34m\u001b[0m\u001b[0m\n\u001b[1;32m    580\u001b[0m             \u001b[0;31m# If we're going to release the connection in ``finally:``, then\u001b[0m\u001b[0;34m\u001b[0m\u001b[0;34m\u001b[0m\u001b[0m\n",
      "\u001b[0;32m/Users/deepagoyal/anaconda/lib/python2.7/site-packages/requests/packages/urllib3/connectionpool.pyc\u001b[0m in \u001b[0;36m_make_request\u001b[0;34m(self, conn, method, url, timeout, chunked, **httplib_request_kw)\u001b[0m\n\u001b[1;32m    383\u001b[0m         \u001b[0;32mtry\u001b[0m\u001b[0;34m:\u001b[0m\u001b[0;34m\u001b[0m\u001b[0m\n\u001b[1;32m    384\u001b[0m             \u001b[0;32mtry\u001b[0m\u001b[0;34m:\u001b[0m  \u001b[0;31m# Python 2.7, use buffering of HTTP responses\u001b[0m\u001b[0;34m\u001b[0m\u001b[0m\n\u001b[0;32m--> 385\u001b[0;31m                 \u001b[0mhttplib_response\u001b[0m \u001b[0;34m=\u001b[0m \u001b[0mconn\u001b[0m\u001b[0;34m.\u001b[0m\u001b[0mgetresponse\u001b[0m\u001b[0;34m(\u001b[0m\u001b[0mbuffering\u001b[0m\u001b[0;34m=\u001b[0m\u001b[0mTrue\u001b[0m\u001b[0;34m)\u001b[0m\u001b[0;34m\u001b[0m\u001b[0m\n\u001b[0m\u001b[1;32m    386\u001b[0m             \u001b[0;32mexcept\u001b[0m \u001b[0mTypeError\u001b[0m\u001b[0;34m:\u001b[0m  \u001b[0;31m# Python 2.6 and older\u001b[0m\u001b[0;34m\u001b[0m\u001b[0m\n\u001b[1;32m    387\u001b[0m                 \u001b[0mhttplib_response\u001b[0m \u001b[0;34m=\u001b[0m \u001b[0mconn\u001b[0m\u001b[0;34m.\u001b[0m\u001b[0mgetresponse\u001b[0m\u001b[0;34m(\u001b[0m\u001b[0;34m)\u001b[0m\u001b[0;34m\u001b[0m\u001b[0m\n",
      "\u001b[0;32m/Users/deepagoyal/anaconda/lib/python2.7/httplib.pyc\u001b[0m in \u001b[0;36mgetresponse\u001b[0;34m(self, buffering)\u001b[0m\n\u001b[1;32m   1134\u001b[0m \u001b[0;34m\u001b[0m\u001b[0m\n\u001b[1;32m   1135\u001b[0m         \u001b[0;32mtry\u001b[0m\u001b[0;34m:\u001b[0m\u001b[0;34m\u001b[0m\u001b[0m\n\u001b[0;32m-> 1136\u001b[0;31m             \u001b[0mresponse\u001b[0m\u001b[0;34m.\u001b[0m\u001b[0mbegin\u001b[0m\u001b[0;34m(\u001b[0m\u001b[0;34m)\u001b[0m\u001b[0;34m\u001b[0m\u001b[0m\n\u001b[0m\u001b[1;32m   1137\u001b[0m             \u001b[0;32massert\u001b[0m \u001b[0mresponse\u001b[0m\u001b[0;34m.\u001b[0m\u001b[0mwill_close\u001b[0m \u001b[0;34m!=\u001b[0m \u001b[0m_UNKNOWN\u001b[0m\u001b[0;34m\u001b[0m\u001b[0m\n\u001b[1;32m   1138\u001b[0m             \u001b[0mself\u001b[0m\u001b[0;34m.\u001b[0m\u001b[0m__state\u001b[0m \u001b[0;34m=\u001b[0m \u001b[0m_CS_IDLE\u001b[0m\u001b[0;34m\u001b[0m\u001b[0m\n",
      "\u001b[0;32m/Users/deepagoyal/anaconda/lib/python2.7/httplib.pyc\u001b[0m in \u001b[0;36mbegin\u001b[0;34m(self)\u001b[0m\n\u001b[1;32m    451\u001b[0m         \u001b[0;31m# read until we get a non-100 response\u001b[0m\u001b[0;34m\u001b[0m\u001b[0;34m\u001b[0m\u001b[0m\n\u001b[1;32m    452\u001b[0m         \u001b[0;32mwhile\u001b[0m \u001b[0mTrue\u001b[0m\u001b[0;34m:\u001b[0m\u001b[0;34m\u001b[0m\u001b[0m\n\u001b[0;32m--> 453\u001b[0;31m             \u001b[0mversion\u001b[0m\u001b[0;34m,\u001b[0m \u001b[0mstatus\u001b[0m\u001b[0;34m,\u001b[0m \u001b[0mreason\u001b[0m \u001b[0;34m=\u001b[0m \u001b[0mself\u001b[0m\u001b[0;34m.\u001b[0m\u001b[0m_read_status\u001b[0m\u001b[0;34m(\u001b[0m\u001b[0;34m)\u001b[0m\u001b[0;34m\u001b[0m\u001b[0m\n\u001b[0m\u001b[1;32m    454\u001b[0m             \u001b[0;32mif\u001b[0m \u001b[0mstatus\u001b[0m \u001b[0;34m!=\u001b[0m \u001b[0mCONTINUE\u001b[0m\u001b[0;34m:\u001b[0m\u001b[0;34m\u001b[0m\u001b[0m\n\u001b[1;32m    455\u001b[0m                 \u001b[0;32mbreak\u001b[0m\u001b[0;34m\u001b[0m\u001b[0m\n",
      "\u001b[0;32m/Users/deepagoyal/anaconda/lib/python2.7/httplib.pyc\u001b[0m in \u001b[0;36m_read_status\u001b[0;34m(self)\u001b[0m\n\u001b[1;32m    407\u001b[0m     \u001b[0;32mdef\u001b[0m \u001b[0m_read_status\u001b[0m\u001b[0;34m(\u001b[0m\u001b[0mself\u001b[0m\u001b[0;34m)\u001b[0m\u001b[0;34m:\u001b[0m\u001b[0;34m\u001b[0m\u001b[0m\n\u001b[1;32m    408\u001b[0m         \u001b[0;31m# Initialize with Simple-Response defaults\u001b[0m\u001b[0;34m\u001b[0m\u001b[0;34m\u001b[0m\u001b[0m\n\u001b[0;32m--> 409\u001b[0;31m         \u001b[0mline\u001b[0m \u001b[0;34m=\u001b[0m \u001b[0mself\u001b[0m\u001b[0;34m.\u001b[0m\u001b[0mfp\u001b[0m\u001b[0;34m.\u001b[0m\u001b[0mreadline\u001b[0m\u001b[0;34m(\u001b[0m\u001b[0m_MAXLINE\u001b[0m \u001b[0;34m+\u001b[0m \u001b[0;36m1\u001b[0m\u001b[0;34m)\u001b[0m\u001b[0;34m\u001b[0m\u001b[0m\n\u001b[0m\u001b[1;32m    410\u001b[0m         \u001b[0;32mif\u001b[0m \u001b[0mlen\u001b[0m\u001b[0;34m(\u001b[0m\u001b[0mline\u001b[0m\u001b[0;34m)\u001b[0m \u001b[0;34m>\u001b[0m \u001b[0m_MAXLINE\u001b[0m\u001b[0;34m:\u001b[0m\u001b[0;34m\u001b[0m\u001b[0m\n\u001b[1;32m    411\u001b[0m             \u001b[0;32mraise\u001b[0m \u001b[0mLineTooLong\u001b[0m\u001b[0;34m(\u001b[0m\u001b[0;34m\"header line\"\u001b[0m\u001b[0;34m)\u001b[0m\u001b[0;34m\u001b[0m\u001b[0m\n",
      "\u001b[0;32m/Users/deepagoyal/anaconda/lib/python2.7/socket.pyc\u001b[0m in \u001b[0;36mreadline\u001b[0;34m(self, size)\u001b[0m\n\u001b[1;32m    478\u001b[0m             \u001b[0;32mwhile\u001b[0m \u001b[0mTrue\u001b[0m\u001b[0;34m:\u001b[0m\u001b[0;34m\u001b[0m\u001b[0m\n\u001b[1;32m    479\u001b[0m                 \u001b[0;32mtry\u001b[0m\u001b[0;34m:\u001b[0m\u001b[0;34m\u001b[0m\u001b[0m\n\u001b[0;32m--> 480\u001b[0;31m                     \u001b[0mdata\u001b[0m \u001b[0;34m=\u001b[0m \u001b[0mself\u001b[0m\u001b[0;34m.\u001b[0m\u001b[0m_sock\u001b[0m\u001b[0;34m.\u001b[0m\u001b[0mrecv\u001b[0m\u001b[0;34m(\u001b[0m\u001b[0mself\u001b[0m\u001b[0;34m.\u001b[0m\u001b[0m_rbufsize\u001b[0m\u001b[0;34m)\u001b[0m\u001b[0;34m\u001b[0m\u001b[0m\n\u001b[0m\u001b[1;32m    481\u001b[0m                 \u001b[0;32mexcept\u001b[0m \u001b[0merror\u001b[0m\u001b[0;34m,\u001b[0m \u001b[0me\u001b[0m\u001b[0;34m:\u001b[0m\u001b[0;34m\u001b[0m\u001b[0m\n\u001b[1;32m    482\u001b[0m                     \u001b[0;32mif\u001b[0m \u001b[0me\u001b[0m\u001b[0;34m.\u001b[0m\u001b[0margs\u001b[0m\u001b[0;34m[\u001b[0m\u001b[0;36m0\u001b[0m\u001b[0;34m]\u001b[0m \u001b[0;34m==\u001b[0m \u001b[0mEINTR\u001b[0m\u001b[0;34m:\u001b[0m\u001b[0;34m\u001b[0m\u001b[0m\n",
      "\u001b[0;32m/Users/deepagoyal/anaconda/lib/python2.7/ssl.pyc\u001b[0m in \u001b[0;36mrecv\u001b[0;34m(self, buflen, flags)\u001b[0m\n\u001b[1;32m    754\u001b[0m                     \u001b[0;34m\"non-zero flags not allowed in calls to recv() on %s\"\u001b[0m \u001b[0;34m%\u001b[0m\u001b[0;34m\u001b[0m\u001b[0m\n\u001b[1;32m    755\u001b[0m                     self.__class__)\n\u001b[0;32m--> 756\u001b[0;31m             \u001b[0;32mreturn\u001b[0m \u001b[0mself\u001b[0m\u001b[0;34m.\u001b[0m\u001b[0mread\u001b[0m\u001b[0;34m(\u001b[0m\u001b[0mbuflen\u001b[0m\u001b[0;34m)\u001b[0m\u001b[0;34m\u001b[0m\u001b[0m\n\u001b[0m\u001b[1;32m    757\u001b[0m         \u001b[0;32melse\u001b[0m\u001b[0;34m:\u001b[0m\u001b[0;34m\u001b[0m\u001b[0m\n\u001b[1;32m    758\u001b[0m             \u001b[0;32mreturn\u001b[0m \u001b[0mself\u001b[0m\u001b[0;34m.\u001b[0m\u001b[0m_sock\u001b[0m\u001b[0;34m.\u001b[0m\u001b[0mrecv\u001b[0m\u001b[0;34m(\u001b[0m\u001b[0mbuflen\u001b[0m\u001b[0;34m,\u001b[0m \u001b[0mflags\u001b[0m\u001b[0;34m)\u001b[0m\u001b[0;34m\u001b[0m\u001b[0m\n",
      "\u001b[0;32m/Users/deepagoyal/anaconda/lib/python2.7/ssl.pyc\u001b[0m in \u001b[0;36mread\u001b[0;34m(self, len, buffer)\u001b[0m\n\u001b[1;32m    641\u001b[0m                 \u001b[0mv\u001b[0m \u001b[0;34m=\u001b[0m \u001b[0mself\u001b[0m\u001b[0;34m.\u001b[0m\u001b[0m_sslobj\u001b[0m\u001b[0;34m.\u001b[0m\u001b[0mread\u001b[0m\u001b[0;34m(\u001b[0m\u001b[0mlen\u001b[0m\u001b[0;34m,\u001b[0m \u001b[0mbuffer\u001b[0m\u001b[0;34m)\u001b[0m\u001b[0;34m\u001b[0m\u001b[0m\n\u001b[1;32m    642\u001b[0m             \u001b[0;32melse\u001b[0m\u001b[0;34m:\u001b[0m\u001b[0;34m\u001b[0m\u001b[0m\n\u001b[0;32m--> 643\u001b[0;31m                 \u001b[0mv\u001b[0m \u001b[0;34m=\u001b[0m \u001b[0mself\u001b[0m\u001b[0;34m.\u001b[0m\u001b[0m_sslobj\u001b[0m\u001b[0;34m.\u001b[0m\u001b[0mread\u001b[0m\u001b[0;34m(\u001b[0m\u001b[0mlen\u001b[0m\u001b[0;34m)\u001b[0m\u001b[0;34m\u001b[0m\u001b[0m\n\u001b[0m\u001b[1;32m    644\u001b[0m             \u001b[0;32mreturn\u001b[0m \u001b[0mv\u001b[0m\u001b[0;34m\u001b[0m\u001b[0m\n\u001b[1;32m    645\u001b[0m         \u001b[0;32mexcept\u001b[0m \u001b[0mSSLError\u001b[0m \u001b[0;32mas\u001b[0m \u001b[0mx\u001b[0m\u001b[0;34m:\u001b[0m\u001b[0;34m\u001b[0m\u001b[0m\n",
      "\u001b[0;31mKeyboardInterrupt\u001b[0m: "
     ]
    }
   ],
   "source": []
  },
  {
   "cell_type": "code",
   "execution_count": 9,
   "metadata": {
    "collapsed": false,
    "scrolled": false
   },
   "outputs": [
    {
     "name": "stdout",
     "output_type": "stream",
     "text": [
      "Results exhausted at 0 results at offset 0\n",
      "Results exhausted at 0 results at offset 0\n",
      "Results exhausted at 0 results at offset 0\n",
      "Results exhausted at 1 results at offset 0\n",
      "Results exhausted at 1 results at offset 0\n",
      "Results exhausted at 10 results at offset 0\n",
      "Results exhausted at 8 results at offset 0\n",
      "Results exhausted at 106 results at offset 100\n",
      "Results exhausted at 41 results at offset 40\n",
      "Results exhausted at 49 results at offset 40\n",
      "Results exhausted at 176 results at offset 160\n",
      "Results exhausted at 39 results at offset 20\n",
      "Results exhausted at 2 results at offset 0\n",
      "Results exhausted at 0 results at offset 0\n",
      "Results exhausted at 0 results at offset 0\n",
      "Results exhausted at 0 results at offset 0\n",
      "Results exhausted at 1 results at offset 0\n",
      "Results exhausted at 1 results at offset 0\n",
      "Results exhausted at 3 results at offset 0\n",
      "Results exhausted at 2 results at offset 0\n",
      "Results exhausted at 1 results at offset 0\n",
      "Results exhausted at 3 results at offset 0\n",
      "Results exhausted at 14 results at offset 0\n",
      "Results exhausted at 100 results at offset 100\n",
      "Results exhausted at 99 results at offset 80\n",
      "Results exhausted at 119 results at offset 100\n",
      "Results exhausted at 59 results at offset 40\n",
      "Results exhausted at 0 results at offset 0\n",
      "Results exhausted at 1 results at offset 0\n",
      "Results exhausted at 2 results at offset 0\n",
      "Results exhausted at 10 results at offset 0\n",
      "Results exhausted at 16 results at offset 0\n",
      "Results exhausted at 40 results at offset 40\n",
      "Results exhausted at 25 results at offset 20\n",
      "Results exhausted at 26 results at offset 20\n",
      "Results exhausted at 39 results at offset 20\n",
      "Results exhausted at 104 results at offset 100\n",
      "Results exhausted at 108 results at offset 100\n",
      "Results exhausted at 179 results at offset 160\n",
      "Results exhausted at 99 results at offset 80\n",
      "Results exhausted at 26 results at offset 20\n",
      "Results exhausted at 0 results at offset 0\n",
      "Results exhausted at 2 results at offset 0\n",
      "Results exhausted at 24 results at offset 20\n",
      "Results exhausted at 21 results at offset 20\n",
      "Results exhausted at 50 results at offset 40\n",
      "Results exhausted at 24 results at offset 20\n",
      "Results exhausted at 37 results at offset 20\n",
      "Results exhausted at 14 results at offset 0\n",
      "Results exhausted at 31 results at offset 20\n",
      "Results exhausted at 29 results at offset 20\n",
      "Results exhausted at 118 results at offset 100\n",
      "Results exhausted at 80 results at offset 80\n",
      "Results exhausted at 39 results at offset 20\n",
      "Results exhausted at 59 results at offset 40\n",
      "Results exhausted at 0 results at offset 0\n",
      "Results exhausted at 6 results at offset 0\n",
      "Results exhausted at 0 results at offset 0\n",
      "Results exhausted at 2 results at offset 0\n",
      "Results exhausted at 1 results at offset 0\n",
      "Results exhausted at 10 results at offset 0\n",
      "Results exhausted at 1 results at offset 0\n",
      "Results exhausted at 41 results at offset 40\n",
      "Results exhausted at 35 results at offset 20\n",
      "Results exhausted at 59 results at offset 40\n",
      "Results exhausted at 68 results at offset 60\n",
      "Results exhausted at 58 results at offset 40\n",
      "Results exhausted at 21 results at offset 20\n",
      "Results exhausted at 12 results at offset 0\n",
      "Results exhausted at 1 results at offset 0\n",
      "Results exhausted at 1 results at offset 0\n",
      "Results exhausted at 6 results at offset 0\n",
      "Results exhausted at 4 results at offset 0\n",
      "Results exhausted at 23 results at offset 20\n",
      "Results exhausted at 57 results at offset 40\n",
      "Results exhausted at 16 results at offset 0\n",
      "Results exhausted at 25 results at offset 20\n",
      "Results exhausted at 29 results at offset 20\n",
      "Results exhausted at 203 results at offset 200\n",
      "Results exhausted at 121 results at offset 120\n",
      "Results exhausted at 27 results at offset 20\n",
      "Results exhausted at 34 results at offset 20\n",
      "Results exhausted at 9 results at offset 0\n",
      "Results exhausted at 1 results at offset 0\n",
      "Results exhausted at 15 results at offset 0\n",
      "Results exhausted at 1 results at offset 0\n",
      "Results exhausted at 5 results at offset 0\n",
      "Results exhausted at 16 results at offset 0\n",
      "Results exhausted at 2 results at offset 0\n",
      "Results exhausted at 0 results at offset 0\n",
      "Results exhausted at 1 results at offset 0\n",
      "Results exhausted at 18 results at offset 0\n",
      "Results exhausted at 11 results at offset 0\n",
      "Results exhausted at 99 results at offset 80\n",
      "Results exhausted at 39 results at offset 20\n",
      "Results exhausted at 7 results at offset 0\n",
      "Results exhausted at 30 results at offset 20\n",
      "Results exhausted at 1 results at offset 0\n",
      "Results exhausted at 8 results at offset 0\n",
      "Results exhausted at 0 results at offset 0\n",
      "Results exhausted at 3 results at offset 0\n",
      "Results exhausted at 1 results at offset 0\n",
      "Results exhausted at 1 results at offset 0\n",
      "Results exhausted at 4 results at offset 0\n",
      "Results exhausted at 1 results at offset 0\n",
      "Results exhausted at 9 results at offset 0\n",
      "Results exhausted at 37 results at offset 20\n",
      "Results exhausted at 70 results at offset 60\n",
      "Results exhausted at 47 results at offset 40\n",
      "Results exhausted at 1 results at offset 0\n",
      "Results exhausted at 4 results at offset 0\n",
      "Results exhausted at 0 results at offset 0\n",
      "Results exhausted at 3 results at offset 0\n",
      "Results exhausted at 9 results at offset 0\n",
      "Results exhausted at 15 results at offset 0\n",
      "Results exhausted at 18 results at offset 0\n",
      "Results exhausted at 22 results at offset 20\n",
      "Results exhausted at 0 results at offset 0\n",
      "Results exhausted at 5 results at offset 0\n",
      "Results exhausted at 6 results at offset 0\n",
      "Results exhausted at 14 results at offset 0\n",
      "Results exhausted at 42 results at offset 40\n",
      "Results exhausted at 4 results at offset 0\n",
      "Results exhausted at 7 results at offset 0\n",
      "Results exhausted at 2 results at offset 0\n",
      "Results exhausted at 5 results at offset 0\n",
      "Results exhausted at 2 results at offset 0\n",
      "Results exhausted at 6 results at offset 0\n",
      "Results exhausted at 1 results at offset 0\n",
      "Results exhausted at 2 results at offset 0\n",
      "Results exhausted at 16 results at offset 0\n",
      "Results exhausted at 2 results at offset 0\n",
      "Results exhausted at 3 results at offset 0\n",
      "Results exhausted at 1 results at offset 0\n",
      "Results exhausted at 13 results at offset 0\n",
      "Results exhausted at 17 results at offset 0\n",
      "Results exhausted at 7 results at offset 0\n",
      "Results exhausted at 1 results at offset 0\n",
      "Results exhausted at 9 results at offset 0\n",
      "Results exhausted at 1 results at offset 0\n",
      "Results exhausted at 0 results at offset 0\n",
      "Results exhausted at 0 results at offset 0\n",
      "Results exhausted at 0 results at offset 0\n",
      "Results exhausted at 10 results at offset 0\n",
      "Results exhausted at 2 results at offset 0\n",
      "Results exhausted at 2 results at offset 0\n",
      "Results exhausted at 8 results at offset 0\n",
      "Results exhausted at 3 results at offset 0\n",
      "Results exhausted at 9 results at offset 0\n",
      "Results exhausted at 2 results at offset 0\n",
      "Results exhausted at 1 results at offset 0\n",
      "Results exhausted at 7 results at offset 0\n",
      "Results exhausted at 8 results at offset 0\n",
      "Results exhausted at 2 results at offset 0\n",
      "Results exhausted at 0 results at offset 0\n",
      "Results exhausted at 1 results at offset 0\n",
      "Results exhausted at 0 results at offset 0\n",
      "Results exhausted at 5 results at offset 0\n",
      "Results exhausted at 1 results at offset 0\n",
      "Results exhausted at 9 results at offset 0\n",
      "Results exhausted at 2 results at offset 0\n",
      "Results exhausted at 17 results at offset 0\n",
      "Results exhausted at 2 results at offset 0\n",
      "Results exhausted at 0 results at offset 0\n",
      "Results exhausted at 5 results at offset 0\n",
      "Results exhausted at 1 results at offset 0\n",
      "Results exhausted at 2 results at offset 0\n",
      "Results exhausted at 0 results at offset 0\n",
      "Results exhausted at 0 results at offset 0\n",
      "Results exhausted at 2 results at offset 0\n",
      "Results exhausted at 1 results at offset 0\n",
      "Results exhausted at 3 results at offset 0\n",
      "Results exhausted at 3 results at offset 0\n",
      "Results exhausted at 1 results at offset 0\n",
      "Results exhausted at 2 results at offset 0\n",
      "Results exhausted at 12 results at offset 0\n",
      "Results exhausted at 2 results at offset 0\n",
      "Results exhausted at 0 results at offset 0\n",
      "Results exhausted at 0 results at offset 0\n",
      "Results exhausted at 1 results at offset 0\n",
      "Results exhausted at 1 results at offset 0\n",
      "Results exhausted at 0 results at offset 0\n",
      "Results exhausted at 0 results at offset 0\n",
      "Results exhausted at 0 results at offset 0\n",
      "Results exhausted at 1 results at offset 0\n",
      "Results exhausted at 0 results at offset 0\n",
      "Results exhausted at 2 results at offset 0\n",
      "Results exhausted at 7 results at offset 0\n",
      "Results exhausted at 3 results at offset 0\n",
      "Results exhausted at 2 results at offset 0\n",
      "Results exhausted at 1 results at offset 0\n",
      "Results exhausted at 5 results at offset 0\n",
      "Results exhausted at 6 results at offset 0\n",
      "Results exhausted at 3 results at offset 0\n",
      "Results exhausted at 0 results at offset 0\n",
      "Results exhausted at 0 results at offset 0\n",
      "196\n"
     ]
    },
    {
     "data": {
      "text/plain": [
       "(3730, 21)"
      ]
     },
     "execution_count": 9,
     "metadata": {},
     "output_type": "execute_result"
    }
   ],
   "source": [
    "#Specify the keyword to search\n",
    "term = 'wine'\n",
    "\n",
    "#Specify the lat lon to specify bounds\n",
    "nw_latitude=37.810298\n",
    "nw_longitude=-122.522450\n",
    "se_latitude=37.704093\n",
    "se_longitude=-122.375803\n",
    "block = 15\n",
    "\n",
    "#Get bounds list using method\n",
    "bounds = get_bounds(nw_latitude, nw_longitude, se_latitude, se_longitude, block)\n",
    "\n",
    "#Run getbiz method for each element in bounds\n",
    "b = 0\n",
    "biz=pd.DataFrame({})\n",
    "while b <= (len(bounds)-1):\n",
    "    biz = biz.append(getbiz(term,bounds[b]), ignore_index=True)\n",
    "    #print b\n",
    "    b+=1\n",
    "print b\n",
    "biz.shape"
   ]
  },
  {
   "cell_type": "code",
   "execution_count": 11,
   "metadata": {
    "collapsed": false
   },
   "outputs": [
    {
     "data": {
      "text/html": [
       "<div>\n",
       "<table border=\"1\" class=\"dataframe\">\n",
       "  <thead>\n",
       "    <tr style=\"text-align: right;\">\n",
       "      <th></th>\n",
       "      <th>id</th>\n",
       "      <th>is_closed</th>\n",
       "      <th>name</th>\n",
       "      <th>image_url</th>\n",
       "      <th>url</th>\n",
       "      <th>mobile_url</th>\n",
       "      <th>phone</th>\n",
       "      <th>display_phone</th>\n",
       "      <th>review_count</th>\n",
       "      <th>categories</th>\n",
       "      <th>...</th>\n",
       "      <th>snippet_text</th>\n",
       "      <th>location_address</th>\n",
       "      <th>location_display_address</th>\n",
       "      <th>location_city</th>\n",
       "      <th>location_state_code</th>\n",
       "      <th>location_postal_code</th>\n",
       "      <th>location_country_code</th>\n",
       "      <th>location_cross_streets</th>\n",
       "      <th>location_neighborhoods</th>\n",
       "      <th>location_coordinate</th>\n",
       "    </tr>\n",
       "  </thead>\n",
       "  <tbody>\n",
       "    <tr>\n",
       "      <th>0</th>\n",
       "      <td>baker-beach-sand-ladder-san-francisco-2</td>\n",
       "      <td>False</td>\n",
       "      <td>Baker Beach Sand Ladder</td>\n",
       "      <td>https://s3-media2.fl.yelpcdn.com/bphoto/N7LaQl...</td>\n",
       "      <td>https://www.yelp.com/biz/baker-beach-sand-ladd...</td>\n",
       "      <td>https://m.yelp.com/biz/baker-beach-sand-ladder...</td>\n",
       "      <td>None</td>\n",
       "      <td>None</td>\n",
       "      <td>27.0</td>\n",
       "      <td>[[Local Flavor, localflavor]]</td>\n",
       "      <td>...</td>\n",
       "      <td>Did you know about the Sand Ladder?  If you di...</td>\n",
       "      <td>[Baker Beach, Lincoln Blvd]</td>\n",
       "      <td>[Baker Beach, Lincoln Blvd, Presidio, San Fran...</td>\n",
       "      <td>San Francisco</td>\n",
       "      <td>CA</td>\n",
       "      <td>94129</td>\n",
       "      <td>US</td>\n",
       "      <td>None</td>\n",
       "      <td>[Presidio]</td>\n",
       "      <td>{u'latitude': 37.7967685093, u'longitude': -12...</td>\n",
       "    </tr>\n",
       "    <tr>\n",
       "      <th>1</th>\n",
       "      <td>doughbies-san-francisco</td>\n",
       "      <td>False</td>\n",
       "      <td>Doughbies</td>\n",
       "      <td>https://s3-media2.fl.yelpcdn.com/bphoto/1dl5h7...</td>\n",
       "      <td>https://www.yelp.com/biz/doughbies-san-francis...</td>\n",
       "      <td>https://m.yelp.com/biz/doughbies-san-francisco...</td>\n",
       "      <td>2016769602</td>\n",
       "      <td>+1-201-676-9602</td>\n",
       "      <td>186.0</td>\n",
       "      <td>[[Bakeries, bakeries], [Food Delivery Services...</td>\n",
       "      <td>...</td>\n",
       "      <td>I felt compelled to write a review because the...</td>\n",
       "      <td>[]</td>\n",
       "      <td>[Financial District, San Francisco, CA 94104]</td>\n",
       "      <td>San Francisco</td>\n",
       "      <td>CA</td>\n",
       "      <td>94104</td>\n",
       "      <td>US</td>\n",
       "      <td>None</td>\n",
       "      <td>[Financial District]</td>\n",
       "      <td>{u'latitude': 37.7915267944, u'longitude': -12...</td>\n",
       "    </tr>\n",
       "    <tr>\n",
       "      <th>2</th>\n",
       "      <td>he-commissary-san-francisco</td>\n",
       "      <td>False</td>\n",
       "      <td>The Commissary</td>\n",
       "      <td>https://s3-media4.fl.yelpcdn.com/bphoto/srMW70...</td>\n",
       "      <td>https://www.yelp.com/biz/he-commissary-san-fra...</td>\n",
       "      <td>https://m.yelp.com/biz/he-commissary-san-franc...</td>\n",
       "      <td>4155613600</td>\n",
       "      <td>+1-415-561-3600</td>\n",
       "      <td>257.0</td>\n",
       "      <td>[[Spanish, spanish], [American (New), newameri...</td>\n",
       "      <td>...</td>\n",
       "      <td>My friends and I had a recent dinner club at T...</td>\n",
       "      <td>[101 Montgomery St]</td>\n",
       "      <td>[101 Montgomery St, Presidio, San Francisco, C...</td>\n",
       "      <td>San Francisco</td>\n",
       "      <td>CA</td>\n",
       "      <td>94129</td>\n",
       "      <td>US</td>\n",
       "      <td>None</td>\n",
       "      <td>[Presidio]</td>\n",
       "      <td>{u'latitude': 37.799758721, u'longitude': -122...</td>\n",
       "    </tr>\n",
       "    <tr>\n",
       "      <th>3</th>\n",
       "      <td>american-lamb-jam-san-francisco</td>\n",
       "      <td>False</td>\n",
       "      <td>American Lamb Jam</td>\n",
       "      <td>https://s3-media3.fl.yelpcdn.com/bphoto/YMo-s1...</td>\n",
       "      <td>https://www.yelp.com/biz/american-lamb-jam-san...</td>\n",
       "      <td>https://m.yelp.com/biz/american-lamb-jam-san-f...</td>\n",
       "      <td>None</td>\n",
       "      <td>None</td>\n",
       "      <td>19.0</td>\n",
       "      <td>[[Specialty Food, gourmet], [Wineries, wineries]]</td>\n",
       "      <td>...</td>\n",
       "      <td>Just got home from the second year in a row at...</td>\n",
       "      <td>[135 Fisher Lp]</td>\n",
       "      <td>[135 Fisher Lp, Presidio, San Francisco, CA 94...</td>\n",
       "      <td>San Francisco</td>\n",
       "      <td>CA</td>\n",
       "      <td>94123</td>\n",
       "      <td>US</td>\n",
       "      <td>None</td>\n",
       "      <td>[Presidio]</td>\n",
       "      <td>{u'latitude': 37.7999573, u'longitude': -122.4...</td>\n",
       "    </tr>\n",
       "    <tr>\n",
       "      <th>4</th>\n",
       "      <td>transit-san-francisco-2</td>\n",
       "      <td>False</td>\n",
       "      <td>TRANSIT</td>\n",
       "      <td>https://s3-media4.fl.yelpcdn.com/bphoto/yvt4m6...</td>\n",
       "      <td>https://www.yelp.com/biz/transit-san-francisco...</td>\n",
       "      <td>https://m.yelp.com/biz/transit-san-francisco-2...</td>\n",
       "      <td>4155614435</td>\n",
       "      <td>+1-415-561-4435</td>\n",
       "      <td>56.0</td>\n",
       "      <td>[[Cafes, cafes], [Coffee &amp; Tea, coffee], [Amer...</td>\n",
       "      <td>...</td>\n",
       "      <td>man, what a gem.  a partial, but great view of...</td>\n",
       "      <td>[215 Lincoln Blvd]</td>\n",
       "      <td>[215 Lincoln Blvd, Presidio, San Francisco, CA...</td>\n",
       "      <td>San Francisco</td>\n",
       "      <td>CA</td>\n",
       "      <td>94129</td>\n",
       "      <td>US</td>\n",
       "      <td>Ralston Ave &amp; Merchant Rd</td>\n",
       "      <td>[Presidio]</td>\n",
       "      <td>{u'latitude': 37.8015004, u'longitude': -122.4...</td>\n",
       "    </tr>\n",
       "  </tbody>\n",
       "</table>\n",
       "<p>5 rows × 21 columns</p>\n",
       "</div>"
      ],
      "text/plain": [
       "                                        id is_closed                     name  \\\n",
       "0  baker-beach-sand-ladder-san-francisco-2     False  Baker Beach Sand Ladder   \n",
       "1                  doughbies-san-francisco     False                Doughbies   \n",
       "2              he-commissary-san-francisco     False           The Commissary   \n",
       "3          american-lamb-jam-san-francisco     False        American Lamb Jam   \n",
       "4                  transit-san-francisco-2     False                  TRANSIT   \n",
       "\n",
       "                                           image_url  \\\n",
       "0  https://s3-media2.fl.yelpcdn.com/bphoto/N7LaQl...   \n",
       "1  https://s3-media2.fl.yelpcdn.com/bphoto/1dl5h7...   \n",
       "2  https://s3-media4.fl.yelpcdn.com/bphoto/srMW70...   \n",
       "3  https://s3-media3.fl.yelpcdn.com/bphoto/YMo-s1...   \n",
       "4  https://s3-media4.fl.yelpcdn.com/bphoto/yvt4m6...   \n",
       "\n",
       "                                                 url  \\\n",
       "0  https://www.yelp.com/biz/baker-beach-sand-ladd...   \n",
       "1  https://www.yelp.com/biz/doughbies-san-francis...   \n",
       "2  https://www.yelp.com/biz/he-commissary-san-fra...   \n",
       "3  https://www.yelp.com/biz/american-lamb-jam-san...   \n",
       "4  https://www.yelp.com/biz/transit-san-francisco...   \n",
       "\n",
       "                                          mobile_url       phone  \\\n",
       "0  https://m.yelp.com/biz/baker-beach-sand-ladder...        None   \n",
       "1  https://m.yelp.com/biz/doughbies-san-francisco...  2016769602   \n",
       "2  https://m.yelp.com/biz/he-commissary-san-franc...  4155613600   \n",
       "3  https://m.yelp.com/biz/american-lamb-jam-san-f...        None   \n",
       "4  https://m.yelp.com/biz/transit-san-francisco-2...  4155614435   \n",
       "\n",
       "     display_phone  review_count  \\\n",
       "0             None          27.0   \n",
       "1  +1-201-676-9602         186.0   \n",
       "2  +1-415-561-3600         257.0   \n",
       "3             None          19.0   \n",
       "4  +1-415-561-4435          56.0   \n",
       "\n",
       "                                          categories  \\\n",
       "0                      [[Local Flavor, localflavor]]   \n",
       "1  [[Bakeries, bakeries], [Food Delivery Services...   \n",
       "2  [[Spanish, spanish], [American (New), newameri...   \n",
       "3  [[Specialty Food, gourmet], [Wineries, wineries]]   \n",
       "4  [[Cafes, cafes], [Coffee & Tea, coffee], [Amer...   \n",
       "\n",
       "                         ...                          \\\n",
       "0                        ...                           \n",
       "1                        ...                           \n",
       "2                        ...                           \n",
       "3                        ...                           \n",
       "4                        ...                           \n",
       "\n",
       "                                        snippet_text  \\\n",
       "0  Did you know about the Sand Ladder?  If you di...   \n",
       "1  I felt compelled to write a review because the...   \n",
       "2  My friends and I had a recent dinner club at T...   \n",
       "3  Just got home from the second year in a row at...   \n",
       "4  man, what a gem.  a partial, but great view of...   \n",
       "\n",
       "              location_address  \\\n",
       "0  [Baker Beach, Lincoln Blvd]   \n",
       "1                           []   \n",
       "2          [101 Montgomery St]   \n",
       "3              [135 Fisher Lp]   \n",
       "4           [215 Lincoln Blvd]   \n",
       "\n",
       "                            location_display_address  location_city  \\\n",
       "0  [Baker Beach, Lincoln Blvd, Presidio, San Fran...  San Francisco   \n",
       "1      [Financial District, San Francisco, CA 94104]  San Francisco   \n",
       "2  [101 Montgomery St, Presidio, San Francisco, C...  San Francisco   \n",
       "3  [135 Fisher Lp, Presidio, San Francisco, CA 94...  San Francisco   \n",
       "4  [215 Lincoln Blvd, Presidio, San Francisco, CA...  San Francisco   \n",
       "\n",
       "  location_state_code location_postal_code location_country_code  \\\n",
       "0                  CA                94129                    US   \n",
       "1                  CA                94104                    US   \n",
       "2                  CA                94129                    US   \n",
       "3                  CA                94123                    US   \n",
       "4                  CA                94129                    US   \n",
       "\n",
       "      location_cross_streets location_neighborhoods  \\\n",
       "0                       None             [Presidio]   \n",
       "1                       None   [Financial District]   \n",
       "2                       None             [Presidio]   \n",
       "3                       None             [Presidio]   \n",
       "4  Ralston Ave & Merchant Rd             [Presidio]   \n",
       "\n",
       "                                 location_coordinate  \n",
       "0  {u'latitude': 37.7967685093, u'longitude': -12...  \n",
       "1  {u'latitude': 37.7915267944, u'longitude': -12...  \n",
       "2  {u'latitude': 37.799758721, u'longitude': -122...  \n",
       "3  {u'latitude': 37.7999573, u'longitude': -122.4...  \n",
       "4  {u'latitude': 37.8015004, u'longitude': -122.4...  \n",
       "\n",
       "[5 rows x 21 columns]"
      ]
     },
     "execution_count": 11,
     "metadata": {},
     "output_type": "execute_result"
    }
   ],
   "source": [
    "biz.head()"
   ]
  },
  {
   "cell_type": "code",
   "execution_count": 562,
   "metadata": {
    "collapsed": false
   },
   "outputs": [],
   "source": [
    "#Export to csv\n",
    "#Previous = pd.read_csv('../data/yelp_businesses.csv', parse_dates=True)\n",
    "biz.to_csv('../data/yelp_businesses.csv',encoding='utf-8')"
   ]
  },
  {
   "cell_type": "markdown",
   "metadata": {},
   "source": [
    "# debugging code:"
   ]
  },
  {
   "cell_type": "code",
   "execution_count": 568,
   "metadata": {
    "collapsed": false
   },
   "outputs": [],
   "source": [
    "#Create a list of all bounds to pass through getbiz() method\n",
    "\n",
    "i=0\n",
    "bounds = []\n",
    "#print (block*(block-1)-1)\n",
    "while i<=(block*(block-1)-1):\n",
    "    if rem(i,block) != (block-1):\n",
    "        bounds = bounds + [str(comb[i][0])+','+str(comb[i][1])+'|'+str(comb[i+1+block][0])+','+str(comb[i+1+block][1])]\n",
    "        #print len(bounds)\n",
    "        i += 1\n",
    "    elif rem(i,block) == (block-1):\n",
    "        i += 1\n",
    "        #print 'this is where im at'+str(i)"
   ]
  },
  {
   "cell_type": "code",
   "execution_count": 15,
   "metadata": {
    "collapsed": true
   },
   "outputs": [],
   "source": [
    "from pprint import pprint"
   ]
  },
  {
   "cell_type": "code",
   "execution_count": 513,
   "metadata": {
    "collapsed": false
   },
   "outputs": [],
   "source": [
    "biz = yelp_api.search_query(term= 'bar', bounds=bounds[0])"
   ]
  },
  {
   "cell_type": "code",
   "execution_count": 514,
   "metadata": {
    "collapsed": false
   },
   "outputs": [
    {
     "ename": "IndexError",
     "evalue": "list index out of range",
     "output_type": "error",
     "traceback": [
      "\u001b[0;31m---------------------------------------------------------------------------\u001b[0m",
      "\u001b[0;31mIndexError\u001b[0m                                Traceback (most recent call last)",
      "\u001b[0;32m<ipython-input-514-bcb385b1925e>\u001b[0m in \u001b[0;36m<module>\u001b[0;34m()\u001b[0m\n\u001b[0;32m----> 1\u001b[0;31m \u001b[0mpprint\u001b[0m\u001b[0;34m(\u001b[0m\u001b[0mbiz\u001b[0m\u001b[0;34m[\u001b[0m\u001b[0;34m'businesses'\u001b[0m\u001b[0;34m]\u001b[0m\u001b[0;34m[\u001b[0m\u001b[0;36m0\u001b[0m\u001b[0;34m]\u001b[0m\u001b[0;34m[\u001b[0m\u001b[0;34m'image_url'\u001b[0m\u001b[0;34m]\u001b[0m\u001b[0;34m)\u001b[0m\u001b[0;34m\u001b[0m\u001b[0m\n\u001b[0m",
      "\u001b[0;31mIndexError\u001b[0m: list index out of range"
     ]
    }
   ],
   "source": [
    "pprint(biz['businesses'][0]['image_url'])"
   ]
  },
  {
   "cell_type": "code",
   "execution_count": 515,
   "metadata": {
    "collapsed": false
   },
   "outputs": [
    {
     "name": "stdout",
     "output_type": "stream",
     "text": [
      "0\n"
     ]
    }
   ],
   "source": [
    "pprint(biz['total'])"
   ]
  },
  {
   "cell_type": "code",
   "execution_count": 496,
   "metadata": {
    "collapsed": false
   },
   "outputs": [
    {
     "ename": "SyntaxError",
     "evalue": "invalid syntax (<ipython-input-496-38c3826c8558>, line 1)",
     "output_type": "error",
     "traceback": [
      "\u001b[0;36m  File \u001b[0;32m\"<ipython-input-496-38c3826c8558>\"\u001b[0;36m, line \u001b[0;32m1\u001b[0m\n\u001b[0;31m    biz['businesses'].\u001b[0m\n\u001b[0m                      ^\u001b[0m\n\u001b[0;31mSyntaxError\u001b[0m\u001b[0;31m:\u001b[0m invalid syntax\n"
     ]
    }
   ],
   "source": [
    "biz['businesses'].\n",
    "rest_json['id'].get(index,'')"
   ]
  },
  {
   "cell_type": "code",
   "execution_count": 256,
   "metadata": {
    "collapsed": false
   },
   "outputs": [
    {
     "ename": "AttributeError",
     "evalue": "'list' object has no attribute 'get'",
     "output_type": "error",
     "traceback": [
      "\u001b[0;31m---------------------------------------------------------------------------\u001b[0m",
      "\u001b[0;31mAttributeError\u001b[0m                            Traceback (most recent call last)",
      "\u001b[0;32m<ipython-input-256-87ad7a6e9734>\u001b[0m in \u001b[0;36m<module>\u001b[0;34m()\u001b[0m\n\u001b[0;32m----> 1\u001b[0;31m \u001b[0mbiz\u001b[0m\u001b[0;34m[\u001b[0m\u001b[0;34m'businesses'\u001b[0m\u001b[0;34m]\u001b[0m\u001b[0;34m.\u001b[0m\u001b[0mget\u001b[0m\u001b[0;34m(\u001b[0m\u001b[0;34m'phone'\u001b[0m\u001b[0;34m)\u001b[0m\u001b[0;34m\u001b[0m\u001b[0m\n\u001b[0m",
      "\u001b[0;31mAttributeError\u001b[0m: 'list' object has no attribute 'get'"
     ]
    }
   ],
   "source": [
    "biz['businesses'].get('phone')"
   ]
  },
  {
   "cell_type": "code",
   "execution_count": 396,
   "metadata": {
    "collapsed": false
   },
   "outputs": [
    {
     "name": "stdout",
     "output_type": "stream",
     "text": [
      "0    mangiare-san-francisco\n",
      "Name: id, dtype: object\n"
     ]
    }
   ],
   "source": [
    "index = {'id':'True','is_closed':'True','name':'True'} #,'image_url', 'url','mobile_url','phone', 'display_phone', 'review_count','categories', 'rating', 'snippet_text', 'location_address', 'location_display_address', 'location_city','location_state_code','location_postal_code','location_country_code','location_cross_streets','location_cross_streets','location_neighborhoods','location_coordinate'}\n",
    "if 'id' in index: \n",
    "    print biz.get('id')"
   ]
  },
  {
   "cell_type": "code",
   "execution_count": 397,
   "metadata": {
    "collapsed": false
   },
   "outputs": [],
   "source": [
    "def parse_restaurant(rest_json): \n",
    "    if 'id' in index: \n",
    "        _id = rest_json['id']\n",
    "    else _id = 'NaN'\n",
    "    if 'is_closed' in index: \n",
    "        is_closed = rest_json['is_closed']\n",
    "    if 'name' in index:\n",
    "        name = rest_json['name']\n",
    "    image_url = rest_json['image_url']\n",
    "    url = rest_json['url']\n",
    "    mobile_url = rest_json['mobile_url']\n",
    "    phone = rest_json['phone']\n",
    "    #rest_json['phone']\n",
    "    display_phone = rest_json['display_phone']\n",
    "    #rest_json['display_phone']\n",
    "    review_count = rest_json['review_count']\n",
    "    categories = rest_json['categories']\n",
    "    rating = rest_json['rating']\n",
    "    snippet_text = rest_json['snippet_text']\n",
    "    location_address = rest_json['location'].get('address')\n",
    "    location_display_address = rest_json['location'].get('display_address')[1]\n",
    "    location_city = rest_json['location'].get('city')\n",
    "    location_state_code = rest_json['location'].get('state_code')\n",
    "    location_postal_code = rest_json['location'].get('postal_code')\n",
    "    location_country_code = rest_json['location'].get('country_code')\n",
    "    location_cross_streets = rest_json['location'].get('cross_streets')\n",
    "    location_neighborhoods = rest_json['location'].get('neighborhoods')\n",
    "    location_coordinate = rest_json['location'].get('coordinate')  \n",
    "    #good thing about get function is that it returns if there is a result and doesn't break if there isn't\n",
    "    return [_id,is_closed, name,image_url,url,mobile_url,phone,display_phone,review_count,categories,rating,snippet_text,location_address, location_display_address, location_city,location_state_code,location_postal_code,location_country_code,location_cross_streets,location_cross_streets,location_neighborhoods,location_coordinate]"
   ]
  },
  {
   "cell_type": "code",
   "execution_count": 471,
   "metadata": {
    "collapsed": false
   },
   "outputs": [
    {
     "name": "stdout",
     "output_type": "stream",
     "text": [
      "{u'businesses': [{u'categories': [[u'Recreation Centers', u'recreation'],\n",
      "                                  [u'Soccer', u'football']],\n",
      "                  u'display_phone': u'+1-415-561-4200',\n",
      "                  u'id': u'fort-scott-field-at-the-presidio-san-francisco',\n",
      "                  u'image_url': u'https://s3-media4.fl.yelpcdn.com/bphoto/LZVhxPq2TpTpq4AGFd8jHg/ms.jpg',\n",
      "                  u'is_claimed': True,\n",
      "                  u'is_closed': False,\n",
      "                  u'location': {u'address': [],\n",
      "                                u'city': u'San Francisco',\n",
      "                                u'coordinate': {u'latitude': 37.8031542208,\n",
      "                                                u'longitude': -122.474578895},\n",
      "                                u'country_code': u'US',\n",
      "                                u'display_address': [u'Presidio',\n",
      "                                                     u'San Francisco, CA 94129'],\n",
      "                                u'geo_accuracy': 9.5,\n",
      "                                u'neighborhoods': [u'Presidio'],\n",
      "                                u'postal_code': u'94129',\n",
      "                                u'state_code': u'CA'},\n",
      "                  u'mobile_url': u'https://m.yelp.com/biz/fort-scott-field-at-the-presidio-san-francisco?adjust_creative=SD5ybcet2QSwWXz2N7M5lw&utm_campaign=yelp_api&utm_medium=api_v2_search&utm_source=SD5ybcet2QSwWXz2N7M5lw',\n",
      "                  u'name': u'Fort Scott Field at the Presidio',\n",
      "                  u'phone': u'4155614200',\n",
      "                  u'rating': 3.0,\n",
      "                  u'rating_img_url': u'https://s3-media3.fl.yelpcdn.com/assets/2/www/img/34bc8086841c/ico/stars/v1/stars_3.png',\n",
      "                  u'rating_img_url_large': u'https://s3-media1.fl.yelpcdn.com/assets/2/www/img/e8b5b79d37ed/ico/stars/v1/stars_large_3.png',\n",
      "                  u'rating_img_url_small': u'https://s3-media3.fl.yelpcdn.com/assets/2/www/img/902abeed0983/ico/stars/v1/stars_small_3.png',\n",
      "                  u'review_count': 6,\n",
      "                  u'snippet_image_url': u'https://s3-media2.fl.yelpcdn.com/photo/wXkqjRTkUTbYGDkXpvsRcg/ms.jpg',\n",
      "                  u'snippet_text': u'Presidio Habitats has / had an art installation here... basically funky looking chairs waist deep in grass. You are meant to sit, ponder, and observe our...',\n",
      "                  u'url': u'https://www.yelp.com/biz/fort-scott-field-at-the-presidio-san-francisco?adjust_creative=SD5ybcet2QSwWXz2N7M5lw&utm_campaign=yelp_api&utm_medium=api_v2_search&utm_source=SD5ybcet2QSwWXz2N7M5lw'}],\n",
      " u'region': {u'center': {u'latitude': 37.7996775, u'longitude': -122.4784559},\n",
      "             u'span': {u'latitude_delta': 0.007080333399997585,\n",
      "                       u'longitude_delta': 0.009776466000005257}},\n",
      " u'total': 1}\n"
     ]
    }
   ],
   "source": [
    "pprint(biz)"
   ]
  },
  {
   "cell_type": "code",
   "execution_count": null,
   "metadata": {
    "collapsed": false
   },
   "outputs": [],
   "source": []
  },
  {
   "cell_type": "code",
   "execution_count": 516,
   "metadata": {
    "collapsed": false
   },
   "outputs": [],
   "source": [
    "# Sinan's code\n",
    "rows_of_df = []\n",
    "for bar_json in biz['businesses']:\n",
    "    new_row = parse_restaurant(bar_json)\n",
    "    rows_of_df.append(new_row)"
   ]
  },
  {
   "cell_type": "code",
   "execution_count": 517,
   "metadata": {
    "collapsed": false
   },
   "outputs": [
    {
     "data": {
      "text/html": [
       "<div>\n",
       "<table border=\"1\" class=\"dataframe\">\n",
       "  <thead>\n",
       "    <tr style=\"text-align: right;\">\n",
       "      <th></th>\n",
       "      <th>id</th>\n",
       "      <th>is_closed</th>\n",
       "      <th>name</th>\n",
       "      <th>image_url</th>\n",
       "      <th>url</th>\n",
       "      <th>mobile_url</th>\n",
       "      <th>phone</th>\n",
       "      <th>display_phone</th>\n",
       "      <th>review_count</th>\n",
       "      <th>categories</th>\n",
       "      <th>...</th>\n",
       "      <th>location_address</th>\n",
       "      <th>location_display_address</th>\n",
       "      <th>location_city</th>\n",
       "      <th>location_state_code</th>\n",
       "      <th>location_postal_code</th>\n",
       "      <th>location_country_code</th>\n",
       "      <th>location_cross_streets</th>\n",
       "      <th>location_cross_streets</th>\n",
       "      <th>location_neighborhoods</th>\n",
       "      <th>location_coordinate</th>\n",
       "    </tr>\n",
       "  </thead>\n",
       "  <tbody>\n",
       "  </tbody>\n",
       "</table>\n",
       "<p>0 rows × 22 columns</p>\n",
       "</div>"
      ],
      "text/plain": [
       "Empty DataFrame\n",
       "Columns: [id, is_closed, name, image_url, url, mobile_url, phone, display_phone, review_count, categories, rating, snippet_text, location_address, location_display_address, location_city, location_state_code, location_postal_code, location_country_code, location_cross_streets, location_cross_streets, location_neighborhoods, location_coordinate]\n",
       "Index: []\n",
       "\n",
       "[0 rows x 22 columns]"
      ]
     },
     "execution_count": 517,
     "metadata": {},
     "output_type": "execute_result"
    }
   ],
   "source": [
    "# Sinan's code\n",
    "pd.DataFrame(rows_of_df, columns=['id','is_closed','name','image_url', 'url','mobile_url','phone', 'display_phone', 'review_count','categories', 'rating', 'snippet_text', 'location_address', 'location_display_address', 'location_city','location_state_code','location_postal_code','location_country_code','location_cross_streets','location_cross_streets','location_neighborhoods','location_coordinate'])"
   ]
  },
  {
   "cell_type": "code",
   "execution_count": 59,
   "metadata": {
    "collapsed": true
   },
   "outputs": [],
   "source": [
    "# Sinan's code\n",
    "def parse_restaurant(rest_json):\n",
    "    _id = rest_json['id']\n",
    "    name = rest_json['name']\n",
    "    location = rest_json['location'].get('address')[0]\n",
    "    #good thing about get function is that it returns if there is a result and doesn't break if there isn't\n",
    "    return [_id, name, location]\n",
    "    "
   ]
  },
  {
   "cell_type": "code",
   "execution_count": 141,
   "metadata": {
    "collapsed": false
   },
   "outputs": [
    {
     "name": "stdout",
     "output_type": "stream",
     "text": [
      "{u'categories': [[u'Cocktail Bars', u'cocktailbars'],\n",
      "                 [u'Lounges', u'lounges']],\n",
      " u'display_phone': u'+1-415-757-0290',\n",
      " u'id': u'topsys-fun-house-san-francisco',\n",
      " u'image_url': u'https://s3-media1.fl.yelpcdn.com/bphoto/rIThdpt70JhgOufkK5jArg/ms.jpg',\n",
      " u'is_claimed': True,\n",
      " u'is_closed': False,\n",
      " u'location': {u'address': [u'260 Kearny St'],\n",
      "               u'city': u'San Francisco',\n",
      "               u'coordinate': {u'latitude': 37.7905828,\n",
      "                               u'longitude': -122.4038175},\n",
      "               u'country_code': u'US',\n",
      "               u'cross_streets': u'Bush St & Hardie Pl',\n",
      "               u'display_address': [u'260 Kearny St',\n",
      "                                    u'Financial District',\n",
      "                                    u'San Francisco, CA 94108'],\n",
      "               u'geo_accuracy': 9.5,\n",
      "               u'neighborhoods': [u'Financial District'],\n",
      "               u'postal_code': u'94108',\n",
      "               u'state_code': u'CA'},\n",
      " u'mobile_url': u'https://m.yelp.com/biz/topsys-fun-house-san-francisco?adjust_creative=SD5ybcet2QSwWXz2N7M5lw&utm_campaign=yelp_api&utm_medium=api_v2_search&utm_source=SD5ybcet2QSwWXz2N7M5lw',\n",
      " u'name': u\"Topsy's Fun House\",\n",
      " u'phone': u'4157570290',\n",
      " u'rating': 4.5,\n",
      " u'rating_img_url': u'https://s3-media2.fl.yelpcdn.com/assets/2/www/img/99493c12711e/ico/stars/v1/stars_4_half.png',\n",
      " u'rating_img_url_large': u'https://s3-media4.fl.yelpcdn.com/assets/2/www/img/9f83790ff7f6/ico/stars/v1/stars_large_4_half.png',\n",
      " u'rating_img_url_small': u'https://s3-media2.fl.yelpcdn.com/assets/2/www/img/a5221e66bc70/ico/stars/v1/stars_small_4_half.png',\n",
      " u'review_count': 262,\n",
      " u'snippet_image_url': u'https://s3-media1.fl.yelpcdn.com/photo/H9dWBP705XqMUXh4UcHt0g/ms.jpg',\n",
      " u'snippet_text': u'What a strange, but awesome place. The bartenders are attractive and friendly, and you never feel ignored.\\nTHE BARSTOOLS ARE GIANT SPRINGS. Sit on them....',\n",
      " u'url': u'https://www.yelp.com/biz/topsys-fun-house-san-francisco?adjust_creative=SD5ybcet2QSwWXz2N7M5lw&utm_campaign=yelp_api&utm_medium=api_v2_search&utm_source=SD5ybcet2QSwWXz2N7M5lw'}\n"
     ]
    }
   ],
   "source": [
    "pprint(biz['businesses'][2])"
   ]
  },
  {
   "cell_type": "code",
   "execution_count": 38,
   "metadata": {
    "collapsed": false
   },
   "outputs": [
    {
     "ename": "NameError",
     "evalue": "name 'tweepy' is not defined",
     "output_type": "error",
     "traceback": [
      "\u001b[0;31m---------------------------------------------------------------------------\u001b[0m",
      "\u001b[0;31mNameError\u001b[0m                                 Traceback (most recent call last)",
      "\u001b[0;32m<ipython-input-38-791710975ae0>\u001b[0m in \u001b[0;36m<module>\u001b[0;34m()\u001b[0m\n\u001b[1;32m      1\u001b[0m \u001b[0;34m\u001b[0m\u001b[0m\n\u001b[1;32m      2\u001b[0m \u001b[0mtweets\u001b[0m \u001b[0;34m=\u001b[0m \u001b[0;34m[\u001b[0m\u001b[0;34m]\u001b[0m\u001b[0;34m\u001b[0m\u001b[0m\n\u001b[0;32m----> 3\u001b[0;31m \u001b[0;32mfor\u001b[0m \u001b[0mi\u001b[0m \u001b[0;32min\u001b[0m \u001b[0mtweepy\u001b[0m\u001b[0;34m(\u001b[0m\u001b[0mapi\u001b[0m\u001b[0;34m)\u001b[0m\u001b[0;34m:\u001b[0m\u001b[0;34m\u001b[0m\u001b[0m\n\u001b[0m\u001b[1;32m      4\u001b[0m     \u001b[0me\u001b[0m \u001b[0;34m=\u001b[0m \u001b[0;34m[\u001b[0m\u001b[0;34m]\u001b[0m\u001b[0;34m\u001b[0m\u001b[0m\n\u001b[1;32m      5\u001b[0m     \u001b[0me\u001b[0m\u001b[0;34m.\u001b[0m\u001b[0mappend\u001b[0m\u001b[0;34m(\u001b[0m\u001b[0mtweet\u001b[0m\u001b[0;34m[\u001b[0m\u001b[0;34m\"text\"\u001b[0m\u001b[0;34m]\u001b[0m\u001b[0;34m)\u001b[0m\u001b[0;34m\u001b[0m\u001b[0m\n",
      "\u001b[0;31mNameError\u001b[0m: name 'tweepy' is not defined"
     ]
    }
   ],
   "source": [
    "#george's code\n",
    "tweets = []\n",
    "for i in tweepy(api):\n",
    "    e = []\n",
    "    e.append(tweet[\"text\"])\n",
    "    e.append(tweet[\"entities\"][\"hashtags\"])\n",
    "    tweets.append(e)"
   ]
  },
  {
   "cell_type": "code",
   "execution_count": null,
   "metadata": {
    "collapsed": true
   },
   "outputs": [],
   "source": []
  }
 ],
 "metadata": {
  "kernelspec": {
   "display_name": "Python [Root]",
   "language": "python",
   "name": "Python [Root]"
  },
  "language_info": {
   "codemirror_mode": {
    "name": "ipython",
    "version": 2
   },
   "file_extension": ".py",
   "mimetype": "text/x-python",
   "name": "python",
   "nbconvert_exporter": "python",
   "pygments_lexer": "ipython2",
   "version": "2.7.12"
  }
 },
 "nbformat": 4,
 "nbformat_minor": 0
}
