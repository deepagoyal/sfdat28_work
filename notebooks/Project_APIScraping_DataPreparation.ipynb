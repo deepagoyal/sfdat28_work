{
 "cells": [
  {
   "cell_type": "code",
   "execution_count": 436,
   "metadata": {
    "collapsed": false
   },
   "outputs": [],
   "source": [
    "##\n",
    "##Script to get List of categories available in Yelp that list restraurants in ranking\n",
    "##\n",
    "import pandas as pd\n",
    "import numpy as np\n",
    "#for creating geo coordinate combinations\n",
    "import itertools  as it\n",
    "from yelpapi import YelpAPI\n",
    "import requests     # how python goes onto the internet!\n",
    "import re           # regex\n",
    "from bs4 import BeautifulSoup # a python HTML parser (version 3)\n",
    "from urllib2 import Request, urlopen\n",
    "import json\n",
    "from pandas.io.json import json_normalize\n",
    "%matplotlib inline"
   ]
  },
  {
   "cell_type": "markdown",
   "metadata": {},
   "source": [
    "#### https://www.yelp.com/developers/v2/manage_api_keys refresh to generate new keys"
   ]
  },
  {
   "cell_type": "code",
   "execution_count": 437,
   "metadata": {
    "collapsed": true
   },
   "outputs": [],
   "source": [
    "api_key = 'SD5ybcet2QSwWXz2N7M5lw'\n",
    "api_secret = 'EJBXJBAFgEka0br1ynT6HwWJVT8'\n",
    "access_token = 'EESADq5kSfBL4XkbxzwJxsqhZIgQHbJs'\n",
    "access_secret = 'JMU-eh8i0eVUUYxJcjelLkZEfTY'"
   ]
  },
  {
   "cell_type": "markdown",
   "metadata": {
    "collapsed": true
   },
   "source": [
    "#### activate yelpapi with personal keys"
   ]
  },
  {
   "cell_type": "code",
   "execution_count": 438,
   "metadata": {
    "collapsed": true
   },
   "outputs": [],
   "source": [
    "yelp_api = YelpAPI(api_key, api_secret, access_token, access_secret)"
   ]
  },
  {
   "cell_type": "markdown",
   "metadata": {},
   "source": [
    "#### Invoke a presaved dataset, this is optional since the method creates new dataframe"
   ]
  },
  {
   "cell_type": "code",
   "execution_count": 459,
   "metadata": {
    "collapsed": false
   },
   "outputs": [],
   "source": [
    "East = pd.read_csv('../data/yelp_east.csv', parse_dates=True)\n",
    "East = East.head(0)"
   ]
  },
  {
   "cell_type": "markdown",
   "metadata": {
    "collapsed": false
   },
   "source": [
    "## Create a method to grab yelp business with a keyword in a lat-long bound"
   ]
  },
  {
   "cell_type": "code",
   "execution_count": 477,
   "metadata": {
    "collapsed": true
   },
   "outputs": [],
   "source": [
    "#def getbiz(term, nw_latitude, nw_longitude,se_latitude, se_longitude):\n",
    "#   #Create the first base dataframe\n",
    "#  bounds = str(se_latitude)+','+str(se_longitude)+'|'+str(nw_latitude)+','+str(nw_longitude)\n",
    "def getbiz(term, bounds):\n",
    "\n",
    "    #Create the first base dataframe\n",
    "    search_results_dict = yelp_api.search_query(term= term, bounds=bounds)\n",
    "    search_results_df = {}\n",
    "    \n",
    "    if len(search_results_dict['businesses']) >0:\n",
    "        search_results_df = json_normalize(search_results_dict['businesses'])\n",
    "        offset = 0\n",
    "        while offset<= 980:\n",
    "            temp_dict = yelp_api.search_query(term= term, bounds=bounds, offset=offset)\n",
    "            [n['id'] for n in search_results_dict['businesses']]\n",
    "            temp_df = json_normalize(temp_dict['businesses'])\n",
    "            #print offset\n",
    "            \n",
    "            if temp_df.shape[0] < 20:\n",
    "                #YELPAPI gives upto 1000 results\n",
    "                print 'Results exhausted at '+ str(temp_df.shape[0]+offset)+' results at offset '+str(offset)\n",
    "                break\n",
    "            #search_results_df = search_results_df.append(temp_df, ignore_index=True)\n",
    "            search_results_df = pd.concat([search_results_df, temp_df], ignore_index=True)\n",
    "            offset += 20"
   ]
  },
  {
   "cell_type": "code",
   "execution_count": 478,
   "metadata": {
    "collapsed": false,
    "scrolled": false
   },
   "outputs": [],
   "source": [
    "\n",
    "#Specify the keyword to search\n",
    "term = 'bar'\n",
    "\n",
    "#Specify the lat lon to specify bounds\n",
    "nw_latitude=37.810298\n",
    "nw_longitude=-122.522450\n",
    "se_latitude=37.704093\n",
    "se_longitude=-122.375803\n",
    "\n",
    "#Specify how many rows and columns you wish to devide the geographical bounds into\n",
    "block = 15\n",
    "\n",
    "#Find latitude and longitude blocks coordinates\n",
    "lat = np.arange(se_latitude, nw_latitude, (nw_latitude-se_latitude)/block)\n",
    "lon = np.arange(se_longitude, nw_longitude, (nw_longitude-se_longitude)/block)\n",
    "\n",
    "#build a block squared list of coordinates\n",
    "import itertools\n",
    "listoflist = lat,lon\n",
    "\n",
    "#make all combinations of bounds required for calculation\n",
    "comb  = list(itertools.product(*listoflist))\n",
    "\n",
    "#sequence the list of coordinates to run north (east to west) to south (east to west)\n",
    "comb = comb[::-1]"
   ]
  },
  {
   "cell_type": "code",
   "execution_count": 479,
   "metadata": {
    "collapsed": false
   },
   "outputs": [],
   "source": [
    "#Function to get 1 if a number is not a multiple of something \n",
    "import math\n",
    "def rem(x,y):\n",
    "    res = x % y\n",
    "    return math.copysign(res,x)\n"
   ]
  },
  {
   "cell_type": "code",
   "execution_count": 480,
   "metadata": {
    "collapsed": false
   },
   "outputs": [],
   "source": [
    "#Create a list of all bounds to pass through getbiz() method\n",
    "\n",
    "i=0\n",
    "bounds = []\n",
    "#print (block*(block-1)-1)\n",
    "while i<=(block*(block-1)-1):\n",
    "    if rem(i,block) != (block-1):\n",
    "        bounds = bounds + [str(comb[i][0])+','+str(comb[i][1])+'|'+str(comb[i+1+block][0])+','+str(comb[i+1+block][1])]\n",
    "        #print len(bounds)\n",
    "        i += 1\n",
    "    elif rem(i,block) == (block-1):\n",
    "        i += 1\n",
    "        #print 'this is where im at'+str(i)"
   ]
  },
  {
   "cell_type": "code",
   "execution_count": 481,
   "metadata": {
    "collapsed": false
   },
   "outputs": [
    {
     "name": "stdout",
     "output_type": "stream",
     "text": [
      "196\n",
      "(200, 45)\n"
     ]
    }
   ],
   "source": [
    "print len(bounds)\n",
    "print East.shape"
   ]
  },
  {
   "cell_type": "code",
   "execution_count": 482,
   "metadata": {
    "collapsed": false,
    "scrolled": false
   },
   "outputs": [
    {
     "name": "stdout",
     "output_type": "stream",
     "text": [
      "Results exhausted at 4 results at offset 0\n",
      "191\n",
      "Results exhausted at 1 results at offset 0\n",
      "192\n",
      "Results exhausted at 2 results at offset 0\n",
      "193\n",
      "Results exhausted at 1 results at offset 0\n",
      "194\n",
      "195\n"
     ]
    },
    {
     "data": {
      "text/plain": [
       "(400, 45)"
      ]
     },
     "execution_count": 482,
     "metadata": {},
     "output_type": "execute_result"
    }
   ],
   "source": [
    "#Run getbiz() for every Bound\n",
    "\n",
    "b = 191\n",
    "#10, 24, 80\n",
    "#64, 127, 196\n",
    "while b <= (len(bounds)-1):\n",
    "    getbiz(term,bounds[b])\n",
    "    East = pd.concat([East,search_results_df], ignore_index=True)\n",
    "    print b\n",
    "    b+=1\n",
    "East.shape"
   ]
  },
  {
   "cell_type": "code",
   "execution_count": 483,
   "metadata": {
    "collapsed": false
   },
   "outputs": [],
   "source": [
    "#Export to csv\n",
    "#East.to_csv('../data/yelp_east3.csv',encoding='utf-8')"
   ]
  },
  {
   "cell_type": "code",
   "execution_count": 484,
   "metadata": {
    "collapsed": false
   },
   "outputs": [
    {
     "data": {
      "text/plain": [
       "196"
      ]
     },
     "execution_count": 484,
     "metadata": {},
     "output_type": "execute_result"
    }
   ],
   "source": [
    "len(bounds)"
   ]
  },
  {
   "cell_type": "code",
   "execution_count": 485,
   "metadata": {
    "collapsed": false
   },
   "outputs": [
    {
     "data": {
      "text/plain": [
       "Index([u'Unnamed: 0', u'Unnamed: 0.1', u'categories', u'deals',\n",
       "       u'display_phone', u'gift_certificates', u'id', u'image_url',\n",
       "       u'is_claimed', u'is_closed', u'location.address', u'location.city',\n",
       "       u'location.coordinate.latitude', u'location.coordinate.longitude',\n",
       "       u'location.country_code', u'location.cross_streets',\n",
       "       u'location.display_address', u'location.geo_accuracy',\n",
       "       u'location.neighborhoods', u'location.postal_code',\n",
       "       u'location.state_code', u'location_address', u'location_city',\n",
       "       u'location_coordinate_latitude', u'location_coordinate_longitude',\n",
       "       u'location_country_code', u'location_cross_streets',\n",
       "       u'location_display_address', u'location_geo_accuracy',\n",
       "       u'location_neighborhoods', u'location_postal_code',\n",
       "       u'location_state_code', u'menu_date_updated', u'menu_provider',\n",
       "       u'mobile_url', u'name', u'phone', u'rating', u'rating_img_url',\n",
       "       u'rating_img_url_large', u'rating_img_url_small', u'review_count',\n",
       "       u'snippet_image_url', u'snippet_text', u'url'],\n",
       "      dtype='object')"
      ]
     },
     "execution_count": 485,
     "metadata": {},
     "output_type": "execute_result"
    }
   ],
   "source": [
    "East.columns"
   ]
  },
  {
   "cell_type": "code",
   "execution_count": 486,
   "metadata": {
    "collapsed": false
   },
   "outputs": [
    {
     "data": {
      "text/plain": [
       "baiano-pizzeria-san-francisco                  20\n",
       "crawstation-san-francisco-3                    20\n",
       "sensi-luxury-nails-and-spa-san-francisco       20\n",
       "roxies-market-and-deli-san-francisco           20\n",
       "judah-ninth-avenue-liquors-san-francisco       20\n",
       "snowbird-coffee-san-francisco                  20\n",
       "nan-king-road-bistro-san-francisco             20\n",
       "sunset-laundry-and-cleaner-san-francisco       20\n",
       "donut-world-san-francisco                      20\n",
       "cybelles-front-room-san-francisco              20\n",
       "sunset-bakery-san-francisco                    20\n",
       "arizmendi-bakery-san-francisco                 20\n",
       "juns-beauty-salon-san-francisco                20\n",
       "enjoy-vegetarian-restaurant-san-francisco-3    20\n",
       "masala-dosa-san-francisco                      20\n",
       "hing-wang-bakery-san-francisco                 20\n",
       "meshi-sushi-san-francisco                      20\n",
       "happy-donuts-san-francisco-5                   20\n",
       "pierres-auto-body-san-francisco                20\n",
       "holy-gelato-san-francisco                      20\n",
       "Name: id, dtype: int64"
      ]
     },
     "execution_count": 486,
     "metadata": {},
     "output_type": "execute_result"
    }
   ],
   "source": [
    "East.id.value_counts()"
   ]
  },
  {
   "cell_type": "code",
   "execution_count": 389,
   "metadata": {
    "collapsed": false
   },
   "outputs": [],
   "source": [
    "East = East.drop_duplicates('id')"
   ]
  },
  {
   "cell_type": "code",
   "execution_count": 391,
   "metadata": {
    "collapsed": false
   },
   "outputs": [
    {
     "data": {
      "text/plain": [
       "(904, 45)"
      ]
     },
     "execution_count": 391,
     "metadata": {},
     "output_type": "execute_result"
    }
   ],
   "source": [
    "East.shape"
   ]
  },
  {
   "cell_type": "markdown",
   "metadata": {},
   "source": [
    "# Test Code"
   ]
  },
  {
   "cell_type": "code",
   "execution_count": 308,
   "metadata": {
    "collapsed": false
   },
   "outputs": [
    {
     "ename": "IndexError",
     "evalue": "string index out of range",
     "output_type": "error",
     "traceback": [
      "\u001b[0;31m---------------------------------------------------------------------------\u001b[0m",
      "\u001b[0;31mIndexError\u001b[0m                                Traceback (most recent call last)",
      "\u001b[0;32m<ipython-input-308-68293d7d21e6>\u001b[0m in \u001b[0;36m<module>\u001b[0;34m()\u001b[0m\n\u001b[1;32m      1\u001b[0m \u001b[0mterm\u001b[0m \u001b[0;34m=\u001b[0m \u001b[0;34m'bar'\u001b[0m\u001b[0;34m\u001b[0m\u001b[0m\n\u001b[0;32m----> 2\u001b[0;31m \u001b[0mcoordinates\u001b[0m \u001b[0;34m=\u001b[0m \u001b[0mbounds\u001b[0m\u001b[0;34m[\u001b[0m\u001b[0;36m127\u001b[0m\u001b[0;34m]\u001b[0m\u001b[0;34m\u001b[0m\u001b[0m\n\u001b[0m\u001b[1;32m      3\u001b[0m \u001b[0myelp_api\u001b[0m\u001b[0;34m.\u001b[0m\u001b[0msearch_query\u001b[0m\u001b[0;34m(\u001b[0m\u001b[0mterm\u001b[0m\u001b[0;34m=\u001b[0m \u001b[0mterm\u001b[0m\u001b[0;34m,\u001b[0m \u001b[0mbounds\u001b[0m\u001b[0;34m=\u001b[0m\u001b[0mcoordinates\u001b[0m\u001b[0;34m)\u001b[0m\u001b[0;34m\u001b[0m\u001b[0m\n\u001b[1;32m      4\u001b[0m \u001b[0;31m#search_results_df = {}\u001b[0m\u001b[0;34m\u001b[0m\u001b[0;34m\u001b[0m\u001b[0m\n",
      "\u001b[0;31mIndexError\u001b[0m: string index out of range"
     ]
    }
   ],
   "source": [
    "term = 'bar'\n",
    "coordinates = bounds[127]\n",
    "yelp_api.search_query(term= term, bounds=coordinates)\n",
    "#search_results_df = {}"
   ]
  },
  {
   "cell_type": "code",
   "execution_count": 309,
   "metadata": {
    "collapsed": false
   },
   "outputs": [
    {
     "ename": "IndexError",
     "evalue": "string index out of range",
     "output_type": "error",
     "traceback": [
      "\u001b[0;31m---------------------------------------------------------------------------\u001b[0m",
      "\u001b[0;31mIndexError\u001b[0m                                Traceback (most recent call last)",
      "\u001b[0;32m<ipython-input-309-af4ae1035fab>\u001b[0m in \u001b[0;36m<module>\u001b[0;34m()\u001b[0m\n\u001b[1;32m      1\u001b[0m \u001b[0mterm\u001b[0m \u001b[0;34m=\u001b[0m \u001b[0;34m'bar'\u001b[0m\u001b[0;34m\u001b[0m\u001b[0m\n\u001b[0;32m----> 2\u001b[0;31m \u001b[0mbounds\u001b[0m \u001b[0;34m=\u001b[0m \u001b[0mbounds\u001b[0m\u001b[0;34m[\u001b[0m\u001b[0;36m13\u001b[0m\u001b[0;34m]\u001b[0m\u001b[0;34m\u001b[0m\u001b[0m\n\u001b[0m\u001b[1;32m      3\u001b[0m \u001b[0msearch_results_dict\u001b[0m \u001b[0;34m=\u001b[0m \u001b[0myelp_api\u001b[0m\u001b[0;34m.\u001b[0m\u001b[0msearch_query\u001b[0m\u001b[0;34m(\u001b[0m\u001b[0mterm\u001b[0m\u001b[0;34m=\u001b[0m \u001b[0mterm\u001b[0m\u001b[0;34m,\u001b[0m \u001b[0mbounds\u001b[0m\u001b[0;34m=\u001b[0m\u001b[0mbounds\u001b[0m\u001b[0;34m)\u001b[0m\u001b[0;34m\u001b[0m\u001b[0m\n",
      "\u001b[0;31mIndexError\u001b[0m: string index out of range"
     ]
    }
   ],
   "source": [
    "term = 'bar'\n",
    "bounds = bounds[13]\n",
    "search_results_dict = yelp_api.search_query(term= term, bounds=bounds)\n"
   ]
  },
  {
   "cell_type": "code",
   "execution_count": 199,
   "metadata": {
    "collapsed": true
   },
   "outputs": [],
   "source": [
    "search_results_df = json_normalize(search_results_dict['businesses'])"
   ]
  },
  {
   "cell_type": "code",
   "execution_count": 200,
   "metadata": {
    "collapsed": false
   },
   "outputs": [
    {
     "data": {
      "text/plain": [
       "[u'crawstation-san-francisco-3',\n",
       " u'cybelles-front-room-san-francisco',\n",
       " u'donut-world-san-francisco',\n",
       " u'arizmendi-bakery-san-francisco',\n",
       " u'roxies-market-and-deli-san-francisco',\n",
       " u'meshi-sushi-san-francisco',\n",
       " u'baiano-pizzeria-san-francisco',\n",
       " u'enjoy-vegetarian-restaurant-san-francisco-3',\n",
       " u'snowbird-coffee-san-francisco',\n",
       " u'masala-dosa-san-francisco',\n",
       " u'nan-king-road-bistro-san-francisco',\n",
       " u'holy-gelato-san-francisco',\n",
       " u'hing-wang-bakery-san-francisco',\n",
       " u'sensi-luxury-nails-and-spa-san-francisco',\n",
       " u'juns-beauty-salon-san-francisco',\n",
       " u'sunset-laundry-and-cleaner-san-francisco',\n",
       " u'happy-donuts-san-francisco-5',\n",
       " u'sunset-bakery-san-francisco',\n",
       " u'judah-ninth-avenue-liquors-san-francisco',\n",
       " u'pierres-auto-body-san-francisco']"
      ]
     },
     "execution_count": 200,
     "metadata": {},
     "output_type": "execute_result"
    }
   ],
   "source": [
    "offset = 0\n",
    "temp_dict = yelp_api.search_query(term= term, bounds=coordinates, offset=offset)\n",
    "[n['id'] for n in search_results_dict['businesses']]"
   ]
  },
  {
   "cell_type": "code",
   "execution_count": 201,
   "metadata": {
    "collapsed": true
   },
   "outputs": [],
   "source": [
    "temp_df = json_normalize(temp_dict['businesses'])"
   ]
  },
  {
   "cell_type": "code",
   "execution_count": 202,
   "metadata": {
    "collapsed": false
   },
   "outputs": [
    {
     "data": {
      "text/plain": [
       "(20, 30)"
      ]
     },
     "execution_count": 202,
     "metadata": {},
     "output_type": "execute_result"
    }
   ],
   "source": [
    "temp_df.shape"
   ]
  },
  {
   "cell_type": "code",
   "execution_count": 203,
   "metadata": {
    "collapsed": true
   },
   "outputs": [],
   "source": [
    "search_results_df = search_results_df.append(temp_df, ignore_index=True)"
   ]
  },
  {
   "cell_type": "code",
   "execution_count": 204,
   "metadata": {
    "collapsed": false
   },
   "outputs": [
    {
     "ename": "SyntaxError",
     "evalue": "'break' outside loop (<ipython-input-204-b2a52044b467>, line 5)",
     "output_type": "error",
     "traceback": [
      "\u001b[0;36m  File \u001b[0;32m\"<ipython-input-204-b2a52044b467>\"\u001b[0;36m, line \u001b[0;32m5\u001b[0m\n\u001b[0;31m    break\u001b[0m\n\u001b[0;31mSyntaxError\u001b[0m\u001b[0;31m:\u001b[0m 'break' outside loop\n"
     ]
    }
   ],
   "source": [
    "offset += 20\n",
    "if temp_df.shape[0] < 20:\n",
    "            #YELPAPI gives upto 1000 results\n",
    "            print 'Results exhausted at '+ str(temp_df.shape[0])+' results at offset '+str(offset)\n",
    "            break"
   ]
  },
  {
   "cell_type": "code",
   "execution_count": null,
   "metadata": {
    "collapsed": true
   },
   "outputs": [],
   "source": [
    "if len(search_results_dict['businesses']) >=1:\n",
    "    search_results_df = json_normalize(search_results_dict['businesses'])\n",
    "    offset = 0\n",
    "    while offset<= 980:\n",
    "        temp_dict = yelp_api.search_query(term= term, bounds=coordinates, offset=offset)\n",
    "        [n['id'] for n in search_results_dict['businesses']]\n",
    "        temp_df = json_normalize(temp_dict['businesses'])\n",
    "        search_results_df = search_results_df.append(temp_df, ignore_index=True)\n",
    "        #print offset\n",
    "        offset += 20\n",
    "        if temp_df.shape[0] < 20:\n",
    "            #YELPAPI gives upto 1000 results\n",
    "            print 'Results exhausted at '+ str(temp_df.shape[0])+' results at offset '+str(offset)\n",
    "            break\n",
    "elif len(search_results_dict['businesses']) ==0:\n",
    "    search_results_df = {}\n",
    "search_results_df"
   ]
  }
 ],
 "metadata": {
  "kernelspec": {
   "display_name": "Python 2",
   "language": "python",
   "name": "python2"
  },
  "language_info": {
   "codemirror_mode": {
    "name": "ipython",
    "version": 2
   },
   "file_extension": ".py",
   "mimetype": "text/x-python",
   "name": "python",
   "nbconvert_exporter": "python",
   "pygments_lexer": "ipython2",
   "version": "2.7.11"
  }
 },
 "nbformat": 4,
 "nbformat_minor": 0
}
