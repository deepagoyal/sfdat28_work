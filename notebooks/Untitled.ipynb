{
 "cells": [
  {
   "cell_type": "code",
   "execution_count": 2,
   "metadata": {
    "collapsed": true
   },
   "outputs": [],
   "source": [
    "import requests\n",
    "from pprint import pprint"
   ]
  },
  {
   "cell_type": "code",
   "execution_count": 3,
   "metadata": {
    "collapsed": false
   },
   "outputs": [],
   "source": [
    "zwsid = 'X1-ZWz1fis6jvgtmz_5jgqp'\n",
    "zillow = requests.get('http://www.zillow.com/webservice/GetSearchResults.htm?zws-id=X1-ZWz1fis6jvgtmz_5jgqp&address=2114+Bigelow+Ave&citystatezip=Seattle%2C+WA')"
   ]
  },
  {
   "cell_type": "code",
   "execution_count": 4,
   "metadata": {
    "collapsed": false
   },
   "outputs": [
    {
     "data": {
      "text/plain": [
       "'<?xml version=\"1.0\" encoding=\"utf-8\"?><SearchResults:searchresults xsi:schemaLocation=\"http://www.zillow.com/static/xsd/SearchResults.xsd http://www.zillowstatic.com/vstatic/70a941d/static/xsd/SearchResults.xsd\" xmlns:xsi=\"http://www.w3.org/2001/XMLSchema-instance\" xmlns:SearchResults=\"http://www.zillow.com/static/xsd/SearchResults.xsd\"><request><address>2114 Bigelow Ave</address><citystatezip>Seattle, WA</citystatezip></request><message><text>Request successfully processed</text><code>0</code></message><response><results><result><zpid>48749425</zpid><links><homedetails>http://www.zillow.com/homedetails/2114-Bigelow-Ave-N-Seattle-WA-98109/48749425_zpid/</homedetails><graphsanddata>http://www.zillow.com/homedetails/2114-Bigelow-Ave-N-Seattle-WA-98109/48749425_zpid/#charts-and-data</graphsanddata><mapthishome>http://www.zillow.com/homes/48749425_zpid/</mapthishome><comparables>http://www.zillow.com/homes/comps/48749425_zpid/</comparables></links><address><street>2114 Bigelow Ave N</street><zipcode>98109</zipcode><city>Seattle</city><state>WA</state><latitude>47.637933</latitude><longitude>-122.347938</longitude></address><zestimate><amount currency=\"USD\">1565129</amount><last-updated>11/14/2016</last-updated><oneWeekChange deprecated=\"true\"></oneWeekChange><valueChange duration=\"30\" currency=\"USD\">-22605</valueChange><valuationRange><low currency=\"USD\">1486873</low><high currency=\"USD\">1643385</high></valuationRange><percentile>0</percentile></zestimate><localRealEstate><region name=\"East Queen Anne\" id=\"271856\" type=\"neighborhood\"><zindexValue>821,600</zindexValue><links><overview>http://www.zillow.com/local-info/WA-Seattle/East-Queen-Anne/r_271856/</overview><forSaleByOwner>http://www.zillow.com/east-queen-anne-seattle-wa/fsbo/</forSaleByOwner><forSale>http://www.zillow.com/east-queen-anne-seattle-wa/</forSale></links></region></localRealEstate></result></results></response></SearchResults:searchresults><!-- H:003  T:32ms  S:869  R:Tue Nov 15 17:35:54 PST 2016  B:5.0.36246-master.60030c1~hotfix_pre.654883f -->'"
      ]
     },
     "execution_count": 4,
     "metadata": {},
     "output_type": "execute_result"
    }
   ],
   "source": [
    "zillow.content"
   ]
  },
  {
   "cell_type": "code",
   "execution_count": 5,
   "metadata": {
    "collapsed": true
   },
   "outputs": [],
   "source": [
    "zillow = requests.get('http://www.zillow.com/webservice/GetSearchResults.htm?zws-id=X1-ZWz1fis6jvgtmz_5jgqp&citystatezip=94107')"
   ]
  },
  {
   "cell_type": "code",
   "execution_count": 6,
   "metadata": {
    "collapsed": false
   },
   "outputs": [
    {
     "data": {
      "text/plain": [
       "u'<?xml version=\"1.0\" encoding=\"utf-8\"?><SearchResults:searchresults xsi:schemaLocation=\"http://www.zillow.com/static/xsd/SearchResults.xsd http://www.zillowstatic.com/vstatic/70a941d/static/xsd/SearchResults.xsd\" xmlns:xsi=\"http://www.w3.org/2001/XMLSchema-instance\" xmlns:SearchResults=\"http://www.zillow.com/static/xsd/SearchResults.xsd\"><request><address></address><citystatezip>94107</citystatezip></request><message><text>Error: no address specified</text><code>500</code></message></SearchResults:searchresults><!-- H:001  T:1ms  S:150  R:Tue Nov 15 17:35:54 PST 2016  B:5.0.36246-master.60030c1~hotfix_pre.654883f -->'"
      ]
     },
     "execution_count": 6,
     "metadata": {},
     "output_type": "execute_result"
    }
   ],
   "source": [
    "zillow.text"
   ]
  },
  {
   "cell_type": "code",
   "execution_count": 7,
   "metadata": {
    "collapsed": false
   },
   "outputs": [
    {
     "data": {
      "text/plain": [
       "array([  1.2,   1.6,   2. ,   2.4,   2.8,   3.2,   3.6,   4. ,   4.4,\n",
       "         4.8,   5.2,   5.6,   6. ,   6.4,   6.8,   7.2,   7.6,   8. ,\n",
       "         8.4,   8.8,   9.2,   9.6,  10. ,  10.4,  10.8,  11.2,  11.6,\n",
       "        12. ,  12.4,  12.8,  13.2,  13.6,  14. ,  14.4,  14.8,  15.2,\n",
       "        15.6,  16. ,  16.4,  16.8,  17.2,  17.6,  18. ,  18.4,  18.8,\n",
       "        19.2,  19.6,  20. ])"
      ]
     },
     "execution_count": 7,
     "metadata": {},
     "output_type": "execute_result"
    }
   ],
   "source": [
    "import numpy as np\n",
    "np.arange(1.2,20+0.4, 0.4)"
   ]
  },
  {
   "cell_type": "code",
   "execution_count": 22,
   "metadata": {
    "collapsed": false
   },
   "outputs": [],
   "source": [
    "#Specify the lat lon to specify bounds\n",
    "nw_latitude=37.810298\n",
    "nw_longitude=-122.522450\n",
    "se_latitude=37.704093\n",
    "se_longitude=-122.375803\n",
    "block = 2\n",
    "\n",
    "increment_lat = (nw_latitude-se_latitude)/block\n",
    "increment_lon = (nw_longitude-se_longitude)/block\n",
    "\n",
    "#Find latitude and longitude blocks coordinates\n",
    "lat = np.arange(se_latitude-increment_lat, nw_latitude, increment_lat)\n",
    "lon = np.arange(se_longitude-increment_lon, nw_longitude, increment_lon)\n",
    "\n"
   ]
  },
  {
   "cell_type": "code",
   "execution_count": 23,
   "metadata": {
    "collapsed": false
   },
   "outputs": [
    {
     "data": {
      "text/plain": [
       "array([ 37.6509905,  37.704093 ,  37.7571955])"
      ]
     },
     "execution_count": 23,
     "metadata": {},
     "output_type": "execute_result"
    }
   ],
   "source": [
    "lat"
   ]
  },
  {
   "cell_type": "code",
   "execution_count": 24,
   "metadata": {
    "collapsed": false
   },
   "outputs": [
    {
     "data": {
      "text/plain": [
       "array([-122.3024795, -122.375803 , -122.4491265])"
      ]
     },
     "execution_count": 24,
     "metadata": {},
     "output_type": "execute_result"
    }
   ],
   "source": [
    "lon"
   ]
  },
  {
   "cell_type": "code",
   "execution_count": 25,
   "metadata": {
    "collapsed": false
   },
   "outputs": [],
   "source": [
    "import itertools\n",
    "listoflist = lat,lon\n",
    "\n",
    "#make all combinations of bounds required for calculation\n",
    "comb  = list(itertools.product(*listoflist))\n",
    "\n",
    "#sequence the list of coordinates to run north (east to west) to south (east to west)\n",
    "comb = comb[::-1]\n",
    "    \n"
   ]
  },
  {
   "cell_type": "code",
   "execution_count": 26,
   "metadata": {
    "collapsed": false
   },
   "outputs": [
    {
     "data": {
      "text/plain": [
       "[(37.757195500000002, -122.44912650000001),\n",
       " (37.757195500000002, -122.375803),\n",
       " (37.757195500000002, -122.3024795),\n",
       " (37.704093, -122.44912650000001),\n",
       " (37.704093, -122.375803),\n",
       " (37.704093, -122.3024795),\n",
       " (37.650990499999999, -122.44912650000001),\n",
       " (37.650990499999999, -122.375803),\n",
       " (37.650990499999999, -122.3024795)]"
      ]
     },
     "execution_count": 26,
     "metadata": {},
     "output_type": "execute_result"
    }
   ],
   "source": [
    "comb"
   ]
  },
  {
   "cell_type": "code",
   "execution_count": null,
   "metadata": {
    "collapsed": true
   },
   "outputs": [],
   "source": [
    "    i=0\n",
    "    bounds = []\n",
    "    #print (block*(block-1)-1)\n",
    "    while i<=(block*(block-1)-1):\n",
    "    #while i<=block*block:\n",
    "        if rem(i,block) != (block-1):\n",
    "            bounds = bounds + [str(comb[i][0])+','+str(comb[i][1])+'|'+str(comb[i+1+block][0])+','+str(comb[i+1+block][1])]\n",
    "            #print len(bounds)\n",
    "            i += 1\n",
    "        elif rem(i,block) == (block-1):\n",
    "            i += 1\n",
    "    return bounds;\n",
    "\n",
    "\n"
   ]
  }
 ],
 "metadata": {
  "anaconda-cloud": {},
  "kernelspec": {
   "display_name": "Python 2",
   "language": "python",
   "name": "python2"
  },
  "language_info": {
   "codemirror_mode": {
    "name": "ipython",
    "version": 2
   },
   "file_extension": ".py",
   "mimetype": "text/x-python",
   "name": "python",
   "nbconvert_exporter": "python",
   "pygments_lexer": "ipython2",
   "version": "2.7.11"
  }
 },
 "nbformat": 4,
 "nbformat_minor": 0
}
