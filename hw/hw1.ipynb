{
 "cells": [
  {
   "cell_type": "code",
   "execution_count": 175,
   "metadata": {
    "collapsed": true
   },
   "outputs": [],
   "source": [
    "import pandas as pd\n",
    "# pd.set_option('max_colwidth', 50)\n",
    "# set this if you need to\n",
    "import seaborn as sns\n",
    "import matplotlib.pyplot as plt\n",
    "%matplotlib inline"
   ]
  },
  {
   "cell_type": "markdown",
   "metadata": {},
   "source": [
    "The Health Department has developed an inspection report and scoring system. \n",
    "After conducting an inspection of the facility, the Health Inspector calculates a score based on the violations observed. \n",
    "Violations can fall into:\n",
    "- **high risk category**: records specific violations that directly relate to the transmission of food borne illnesses,the adulteration of food products and the contamination of food-contact surfaces.\n",
    "- **moderate risk category**: records specific violations that are of a moderate risk to the public health and safety.\n",
    "- **low risk category**: records violations that are low risk or have no immediate risk to the public health and safety."
   ]
  },
  {
   "cell_type": "code",
   "execution_count": 37,
   "metadata": {
    "collapsed": false
   },
   "outputs": [
    {
     "data": {
      "text/html": [
       "<div>\n",
       "<table border=\"1\" class=\"dataframe\">\n",
       "  <thead>\n",
       "    <tr style=\"text-align: right;\">\n",
       "      <th></th>\n",
       "      <th>business_id</th>\n",
       "      <th>name</th>\n",
       "      <th>address</th>\n",
       "      <th>city</th>\n",
       "      <th>postal_code</th>\n",
       "      <th>latitude</th>\n",
       "      <th>longitude</th>\n",
       "      <th>phone_number</th>\n",
       "      <th>TaxCode</th>\n",
       "      <th>business_certificate</th>\n",
       "      <th>application_date</th>\n",
       "      <th>owner_name</th>\n",
       "      <th>owner_address</th>\n",
       "      <th>owner_city</th>\n",
       "      <th>owner_state</th>\n",
       "      <th>owner_zip</th>\n",
       "    </tr>\n",
       "  </thead>\n",
       "  <tbody>\n",
       "    <tr>\n",
       "      <th>0</th>\n",
       "      <td>10</td>\n",
       "      <td>Tiramisu Kitchen</td>\n",
       "      <td>033 Belden Pl</td>\n",
       "      <td>San Francisco</td>\n",
       "      <td>94104</td>\n",
       "      <td>37.791116</td>\n",
       "      <td>-122.403816</td>\n",
       "      <td>NaN</td>\n",
       "      <td>H24</td>\n",
       "      <td>779059.0</td>\n",
       "      <td>NaN</td>\n",
       "      <td>Tiramisu LLC</td>\n",
       "      <td>33 Belden St</td>\n",
       "      <td>San Francisco</td>\n",
       "      <td>CA</td>\n",
       "      <td>94104</td>\n",
       "    </tr>\n",
       "    <tr>\n",
       "      <th>1</th>\n",
       "      <td>19</td>\n",
       "      <td>Nrgize Lifestyle Cafe</td>\n",
       "      <td>1200 Van Ness Ave, 3rd Floor</td>\n",
       "      <td>San Francisco</td>\n",
       "      <td>94109</td>\n",
       "      <td>37.786848</td>\n",
       "      <td>-122.421547</td>\n",
       "      <td>NaN</td>\n",
       "      <td>H24</td>\n",
       "      <td>NaN</td>\n",
       "      <td>NaN</td>\n",
       "      <td>24 Hour Fitness Inc</td>\n",
       "      <td>1200 Van Ness Ave, 3rd Floor</td>\n",
       "      <td>San Francisco</td>\n",
       "      <td>CA</td>\n",
       "      <td>94109</td>\n",
       "    </tr>\n",
       "    <tr>\n",
       "      <th>2</th>\n",
       "      <td>24</td>\n",
       "      <td>OMNI S.F. Hotel - 2nd Floor Pantry</td>\n",
       "      <td>500 California St, 2nd  Floor</td>\n",
       "      <td>San Francisco</td>\n",
       "      <td>94104</td>\n",
       "      <td>37.792888</td>\n",
       "      <td>-122.403135</td>\n",
       "      <td>NaN</td>\n",
       "      <td>H24</td>\n",
       "      <td>352312.0</td>\n",
       "      <td>NaN</td>\n",
       "      <td>OMNI San Francisco Hotel Corp</td>\n",
       "      <td>500 California St, 2nd Floor</td>\n",
       "      <td>San Francisco</td>\n",
       "      <td>CA</td>\n",
       "      <td>94104</td>\n",
       "    </tr>\n",
       "    <tr>\n",
       "      <th>3</th>\n",
       "      <td>31</td>\n",
       "      <td>Norman's Ice Cream and Freezes</td>\n",
       "      <td>2801 Leavenworth St</td>\n",
       "      <td>San Francisco</td>\n",
       "      <td>94133</td>\n",
       "      <td>37.807155</td>\n",
       "      <td>-122.419004</td>\n",
       "      <td>NaN</td>\n",
       "      <td>H24</td>\n",
       "      <td>346882.0</td>\n",
       "      <td>NaN</td>\n",
       "      <td>Norman Antiforda</td>\n",
       "      <td>2801 Leavenworth St</td>\n",
       "      <td>San Francisco</td>\n",
       "      <td>CA</td>\n",
       "      <td>94133</td>\n",
       "    </tr>\n",
       "    <tr>\n",
       "      <th>4</th>\n",
       "      <td>45</td>\n",
       "      <td>CHARLIE'S DELI CAFE</td>\n",
       "      <td>3202 FOLSOM St</td>\n",
       "      <td>S.F.</td>\n",
       "      <td>94110</td>\n",
       "      <td>37.747114</td>\n",
       "      <td>-122.413641</td>\n",
       "      <td>NaN</td>\n",
       "      <td>H24</td>\n",
       "      <td>340024.0</td>\n",
       "      <td>10/10/2001</td>\n",
       "      <td>HARB, CHARLES AND KRISTIN</td>\n",
       "      <td>1150 SANCHEZ</td>\n",
       "      <td>S.F.</td>\n",
       "      <td>CA</td>\n",
       "      <td>94114</td>\n",
       "    </tr>\n",
       "  </tbody>\n",
       "</table>\n",
       "</div>"
      ],
      "text/plain": [
       "   business_id                                name  \\\n",
       "0           10                    Tiramisu Kitchen   \n",
       "1           19               Nrgize Lifestyle Cafe   \n",
       "2           24  OMNI S.F. Hotel - 2nd Floor Pantry   \n",
       "3           31      Norman's Ice Cream and Freezes   \n",
       "4           45                 CHARLIE'S DELI CAFE   \n",
       "\n",
       "                         address           city postal_code   latitude  \\\n",
       "0                  033 Belden Pl  San Francisco       94104  37.791116   \n",
       "1   1200 Van Ness Ave, 3rd Floor  San Francisco       94109  37.786848   \n",
       "2  500 California St, 2nd  Floor  San Francisco       94104  37.792888   \n",
       "3           2801 Leavenworth St   San Francisco       94133  37.807155   \n",
       "4                3202 FOLSOM St            S.F.       94110  37.747114   \n",
       "\n",
       "    longitude phone_number TaxCode  business_certificate application_date  \\\n",
       "0 -122.403816          NaN     H24              779059.0              NaN   \n",
       "1 -122.421547          NaN     H24                   NaN              NaN   \n",
       "2 -122.403135          NaN     H24              352312.0              NaN   \n",
       "3 -122.419004          NaN     H24              346882.0              NaN   \n",
       "4 -122.413641          NaN     H24              340024.0       10/10/2001   \n",
       "\n",
       "                      owner_name                 owner_address     owner_city  \\\n",
       "0                   Tiramisu LLC                  33 Belden St  San Francisco   \n",
       "1            24 Hour Fitness Inc  1200 Van Ness Ave, 3rd Floor  San Francisco   \n",
       "2  OMNI San Francisco Hotel Corp  500 California St, 2nd Floor  San Francisco   \n",
       "3               Norman Antiforda           2801 Leavenworth St  San Francisco   \n",
       "4      HARB, CHARLES AND KRISTIN                  1150 SANCHEZ           S.F.   \n",
       "\n",
       "  owner_state owner_zip  \n",
       "0          CA     94104  \n",
       "1          CA     94109  \n",
       "2          CA     94104  \n",
       "3          CA     94133  \n",
       "4          CA     94114  "
      ]
     },
     "execution_count": 37,
     "metadata": {},
     "output_type": "execute_result"
    }
   ],
   "source": [
    "businesses = pd.read_csv('./data/businesses_plus.csv', parse_dates=True, dtype={'phone_number': str})\n",
    "businesses.head()\n",
    "# dtype casts the column as a specific data type"
   ]
  },
  {
   "cell_type": "code",
   "execution_count": 38,
   "metadata": {
    "collapsed": false
   },
   "outputs": [
    {
     "data": {
      "text/html": [
       "<div>\n",
       "<table border=\"1\" class=\"dataframe\">\n",
       "  <thead>\n",
       "    <tr style=\"text-align: right;\">\n",
       "      <th></th>\n",
       "      <th>business_id</th>\n",
       "      <th>Score</th>\n",
       "      <th>date</th>\n",
       "      <th>type</th>\n",
       "    </tr>\n",
       "  </thead>\n",
       "  <tbody>\n",
       "    <tr>\n",
       "      <th>0</th>\n",
       "      <td>10</td>\n",
       "      <td>NaN</td>\n",
       "      <td>20140807</td>\n",
       "      <td>Reinspection/Followup</td>\n",
       "    </tr>\n",
       "    <tr>\n",
       "      <th>1</th>\n",
       "      <td>10</td>\n",
       "      <td>94.0</td>\n",
       "      <td>20140729</td>\n",
       "      <td>Routine - Unscheduled</td>\n",
       "    </tr>\n",
       "    <tr>\n",
       "      <th>2</th>\n",
       "      <td>10</td>\n",
       "      <td>NaN</td>\n",
       "      <td>20140124</td>\n",
       "      <td>Reinspection/Followup</td>\n",
       "    </tr>\n",
       "    <tr>\n",
       "      <th>3</th>\n",
       "      <td>10</td>\n",
       "      <td>92.0</td>\n",
       "      <td>20140114</td>\n",
       "      <td>Routine - Unscheduled</td>\n",
       "    </tr>\n",
       "    <tr>\n",
       "      <th>4</th>\n",
       "      <td>19</td>\n",
       "      <td>94.0</td>\n",
       "      <td>20141110</td>\n",
       "      <td>Routine - Unscheduled</td>\n",
       "    </tr>\n",
       "  </tbody>\n",
       "</table>\n",
       "</div>"
      ],
      "text/plain": [
       "   business_id  Score      date                   type\n",
       "0           10    NaN  20140807  Reinspection/Followup\n",
       "1           10   94.0  20140729  Routine - Unscheduled\n",
       "2           10    NaN  20140124  Reinspection/Followup\n",
       "3           10   92.0  20140114  Routine - Unscheduled\n",
       "4           19   94.0  20141110  Routine - Unscheduled"
      ]
     },
     "execution_count": 38,
     "metadata": {},
     "output_type": "execute_result"
    }
   ],
   "source": [
    "inspections = pd.read_csv('./data/inspections_plus.csv', parse_dates=True)\n",
    "inspections.head()"
   ]
  },
  {
   "cell_type": "code",
   "execution_count": 39,
   "metadata": {
    "collapsed": false
   },
   "outputs": [
    {
     "data": {
      "text/html": [
       "<div>\n",
       "<table border=\"1\" class=\"dataframe\">\n",
       "  <thead>\n",
       "    <tr style=\"text-align: right;\">\n",
       "      <th></th>\n",
       "      <th>business_id</th>\n",
       "      <th>date</th>\n",
       "      <th>ViolationTypeID</th>\n",
       "      <th>risk_category</th>\n",
       "      <th>description</th>\n",
       "    </tr>\n",
       "  </thead>\n",
       "  <tbody>\n",
       "    <tr>\n",
       "      <th>0</th>\n",
       "      <td>10</td>\n",
       "      <td>20140114</td>\n",
       "      <td>103154</td>\n",
       "      <td>Low Risk</td>\n",
       "      <td>Unclean or degraded floors walls or ceilings</td>\n",
       "    </tr>\n",
       "    <tr>\n",
       "      <th>1</th>\n",
       "      <td>10</td>\n",
       "      <td>20140114</td>\n",
       "      <td>103119</td>\n",
       "      <td>Moderate Risk</td>\n",
       "      <td>Inadequate and inaccessible handwashing facili...</td>\n",
       "    </tr>\n",
       "    <tr>\n",
       "      <th>2</th>\n",
       "      <td>10</td>\n",
       "      <td>20140114</td>\n",
       "      <td>103145</td>\n",
       "      <td>Low Risk</td>\n",
       "      <td>Improper storage of equipment utensils or linens</td>\n",
       "    </tr>\n",
       "    <tr>\n",
       "      <th>3</th>\n",
       "      <td>10</td>\n",
       "      <td>20140729</td>\n",
       "      <td>103129</td>\n",
       "      <td>Moderate Risk</td>\n",
       "      <td>Insufficient hot water or running water</td>\n",
       "    </tr>\n",
       "    <tr>\n",
       "      <th>4</th>\n",
       "      <td>10</td>\n",
       "      <td>20140729</td>\n",
       "      <td>103144</td>\n",
       "      <td>Low Risk</td>\n",
       "      <td>Unapproved or unmaintained equipment or utensils</td>\n",
       "    </tr>\n",
       "  </tbody>\n",
       "</table>\n",
       "</div>"
      ],
      "text/plain": [
       "   business_id      date  ViolationTypeID  risk_category  \\\n",
       "0           10  20140114           103154       Low Risk   \n",
       "1           10  20140114           103119  Moderate Risk   \n",
       "2           10  20140114           103145       Low Risk   \n",
       "3           10  20140729           103129  Moderate Risk   \n",
       "4           10  20140729           103144       Low Risk   \n",
       "\n",
       "                                         description  \n",
       "0       Unclean or degraded floors walls or ceilings  \n",
       "1  Inadequate and inaccessible handwashing facili...  \n",
       "2   Improper storage of equipment utensils or linens  \n",
       "3            Insufficient hot water or running water  \n",
       "4   Unapproved or unmaintained equipment or utensils  "
      ]
     },
     "execution_count": 39,
     "metadata": {},
     "output_type": "execute_result"
    }
   ],
   "source": [
    "violations = pd.read_csv('./data/violations_plus.csv', parse_dates=True)\n",
    "violations.head()"
   ]
  },
  {
   "cell_type": "code",
   "execution_count": 40,
   "metadata": {
    "collapsed": false
   },
   "outputs": [
    {
     "data": {
      "text/plain": [
       "(7544, 16)"
      ]
     },
     "execution_count": 40,
     "metadata": {},
     "output_type": "execute_result"
    }
   ],
   "source": [
    "businesses.shape"
   ]
  },
  {
   "cell_type": "code",
   "execution_count": 41,
   "metadata": {
    "collapsed": false
   },
   "outputs": [
    {
     "data": {
      "text/plain": [
       "(39720, 5)"
      ]
     },
     "execution_count": 41,
     "metadata": {},
     "output_type": "execute_result"
    }
   ],
   "source": [
    "violations.shape"
   ]
  },
  {
   "cell_type": "code",
   "execution_count": 42,
   "metadata": {
    "collapsed": false
   },
   "outputs": [
    {
     "data": {
      "text/plain": [
       "(27285, 4)"
      ]
     },
     "execution_count": 42,
     "metadata": {},
     "output_type": "execute_result"
    }
   ],
   "source": [
    "inspections.shape"
   ]
  },
  {
   "cell_type": "code",
   "execution_count": 68,
   "metadata": {
    "collapsed": false
   },
   "outputs": [],
   "source": [
    "# 1 Combine the three dataframes into one data frame called restaurant_scores\n",
    "# Hint: http://pandas.pydata.org/pandas-docs/stable/merging.html\n",
    "\n",
    "#inspect is all business and inspections joined on business_id to get inspection detail for every business\n",
    "inspect = pd.merge(businesses, inspections, how='left', on=['business_id', 'business_id'])\n",
    "#restaurant_scores joins all the 3 dataframs\n",
    "restaurant_scores = pd.merge(inspect, violations, how='left', on=['business_id', 'date'])"
   ]
  },
  {
   "cell_type": "code",
   "execution_count": 69,
   "metadata": {
    "collapsed": false
   },
   "outputs": [
    {
     "data": {
      "text/html": [
       "<div>\n",
       "<table border=\"1\" class=\"dataframe\">\n",
       "  <thead>\n",
       "    <tr style=\"text-align: right;\">\n",
       "      <th></th>\n",
       "      <th>business_id</th>\n",
       "      <th>name</th>\n",
       "      <th>address</th>\n",
       "      <th>city</th>\n",
       "      <th>postal_code</th>\n",
       "      <th>latitude</th>\n",
       "      <th>longitude</th>\n",
       "      <th>phone_number</th>\n",
       "      <th>TaxCode</th>\n",
       "      <th>business_certificate</th>\n",
       "      <th>application_date</th>\n",
       "      <th>owner_name</th>\n",
       "      <th>owner_address</th>\n",
       "      <th>owner_city</th>\n",
       "      <th>owner_state</th>\n",
       "      <th>owner_zip</th>\n",
       "      <th>Score</th>\n",
       "      <th>date</th>\n",
       "      <th>type</th>\n",
       "    </tr>\n",
       "  </thead>\n",
       "  <tbody>\n",
       "    <tr>\n",
       "      <th>0</th>\n",
       "      <td>10</td>\n",
       "      <td>Tiramisu Kitchen</td>\n",
       "      <td>033 Belden Pl</td>\n",
       "      <td>San Francisco</td>\n",
       "      <td>94104</td>\n",
       "      <td>37.791116</td>\n",
       "      <td>-122.403816</td>\n",
       "      <td>NaN</td>\n",
       "      <td>H24</td>\n",
       "      <td>779059.0</td>\n",
       "      <td>NaN</td>\n",
       "      <td>Tiramisu LLC</td>\n",
       "      <td>33 Belden St</td>\n",
       "      <td>San Francisco</td>\n",
       "      <td>CA</td>\n",
       "      <td>94104</td>\n",
       "      <td>NaN</td>\n",
       "      <td>20140807.0</td>\n",
       "      <td>Reinspection/Followup</td>\n",
       "    </tr>\n",
       "    <tr>\n",
       "      <th>1</th>\n",
       "      <td>10</td>\n",
       "      <td>Tiramisu Kitchen</td>\n",
       "      <td>033 Belden Pl</td>\n",
       "      <td>San Francisco</td>\n",
       "      <td>94104</td>\n",
       "      <td>37.791116</td>\n",
       "      <td>-122.403816</td>\n",
       "      <td>NaN</td>\n",
       "      <td>H24</td>\n",
       "      <td>779059.0</td>\n",
       "      <td>NaN</td>\n",
       "      <td>Tiramisu LLC</td>\n",
       "      <td>33 Belden St</td>\n",
       "      <td>San Francisco</td>\n",
       "      <td>CA</td>\n",
       "      <td>94104</td>\n",
       "      <td>94.0</td>\n",
       "      <td>20140729.0</td>\n",
       "      <td>Routine - Unscheduled</td>\n",
       "    </tr>\n",
       "    <tr>\n",
       "      <th>2</th>\n",
       "      <td>10</td>\n",
       "      <td>Tiramisu Kitchen</td>\n",
       "      <td>033 Belden Pl</td>\n",
       "      <td>San Francisco</td>\n",
       "      <td>94104</td>\n",
       "      <td>37.791116</td>\n",
       "      <td>-122.403816</td>\n",
       "      <td>NaN</td>\n",
       "      <td>H24</td>\n",
       "      <td>779059.0</td>\n",
       "      <td>NaN</td>\n",
       "      <td>Tiramisu LLC</td>\n",
       "      <td>33 Belden St</td>\n",
       "      <td>San Francisco</td>\n",
       "      <td>CA</td>\n",
       "      <td>94104</td>\n",
       "      <td>NaN</td>\n",
       "      <td>20140124.0</td>\n",
       "      <td>Reinspection/Followup</td>\n",
       "    </tr>\n",
       "    <tr>\n",
       "      <th>3</th>\n",
       "      <td>10</td>\n",
       "      <td>Tiramisu Kitchen</td>\n",
       "      <td>033 Belden Pl</td>\n",
       "      <td>San Francisco</td>\n",
       "      <td>94104</td>\n",
       "      <td>37.791116</td>\n",
       "      <td>-122.403816</td>\n",
       "      <td>NaN</td>\n",
       "      <td>H24</td>\n",
       "      <td>779059.0</td>\n",
       "      <td>NaN</td>\n",
       "      <td>Tiramisu LLC</td>\n",
       "      <td>33 Belden St</td>\n",
       "      <td>San Francisco</td>\n",
       "      <td>CA</td>\n",
       "      <td>94104</td>\n",
       "      <td>92.0</td>\n",
       "      <td>20140114.0</td>\n",
       "      <td>Routine - Unscheduled</td>\n",
       "    </tr>\n",
       "    <tr>\n",
       "      <th>4</th>\n",
       "      <td>19</td>\n",
       "      <td>Nrgize Lifestyle Cafe</td>\n",
       "      <td>1200 Van Ness Ave, 3rd Floor</td>\n",
       "      <td>San Francisco</td>\n",
       "      <td>94109</td>\n",
       "      <td>37.786848</td>\n",
       "      <td>-122.421547</td>\n",
       "      <td>NaN</td>\n",
       "      <td>H24</td>\n",
       "      <td>NaN</td>\n",
       "      <td>NaN</td>\n",
       "      <td>24 Hour Fitness Inc</td>\n",
       "      <td>1200 Van Ness Ave, 3rd Floor</td>\n",
       "      <td>San Francisco</td>\n",
       "      <td>CA</td>\n",
       "      <td>94109</td>\n",
       "      <td>94.0</td>\n",
       "      <td>20141110.0</td>\n",
       "      <td>Routine - Unscheduled</td>\n",
       "    </tr>\n",
       "  </tbody>\n",
       "</table>\n",
       "</div>"
      ],
      "text/plain": [
       "   business_id                   name                       address  \\\n",
       "0           10       Tiramisu Kitchen                 033 Belden Pl   \n",
       "1           10       Tiramisu Kitchen                 033 Belden Pl   \n",
       "2           10       Tiramisu Kitchen                 033 Belden Pl   \n",
       "3           10       Tiramisu Kitchen                 033 Belden Pl   \n",
       "4           19  Nrgize Lifestyle Cafe  1200 Van Ness Ave, 3rd Floor   \n",
       "\n",
       "            city postal_code   latitude   longitude phone_number TaxCode  \\\n",
       "0  San Francisco       94104  37.791116 -122.403816          NaN     H24   \n",
       "1  San Francisco       94104  37.791116 -122.403816          NaN     H24   \n",
       "2  San Francisco       94104  37.791116 -122.403816          NaN     H24   \n",
       "3  San Francisco       94104  37.791116 -122.403816          NaN     H24   \n",
       "4  San Francisco       94109  37.786848 -122.421547          NaN     H24   \n",
       "\n",
       "   business_certificate application_date           owner_name  \\\n",
       "0              779059.0              NaN         Tiramisu LLC   \n",
       "1              779059.0              NaN         Tiramisu LLC   \n",
       "2              779059.0              NaN         Tiramisu LLC   \n",
       "3              779059.0              NaN         Tiramisu LLC   \n",
       "4                   NaN              NaN  24 Hour Fitness Inc   \n",
       "\n",
       "                  owner_address     owner_city owner_state owner_zip  Score  \\\n",
       "0                  33 Belden St  San Francisco          CA     94104    NaN   \n",
       "1                  33 Belden St  San Francisco          CA     94104   94.0   \n",
       "2                  33 Belden St  San Francisco          CA     94104    NaN   \n",
       "3                  33 Belden St  San Francisco          CA     94104   92.0   \n",
       "4  1200 Van Ness Ave, 3rd Floor  San Francisco          CA     94109   94.0   \n",
       "\n",
       "         date                   type  \n",
       "0  20140807.0  Reinspection/Followup  \n",
       "1  20140729.0  Routine - Unscheduled  \n",
       "2  20140124.0  Reinspection/Followup  \n",
       "3  20140114.0  Routine - Unscheduled  \n",
       "4  20141110.0  Routine - Unscheduled  "
      ]
     },
     "execution_count": 69,
     "metadata": {},
     "output_type": "execute_result"
    }
   ],
   "source": [
    "inspect.head()"
   ]
  },
  {
   "cell_type": "code",
   "execution_count": null,
   "metadata": {
    "collapsed": false
   },
   "outputs": [],
   "source": []
  },
  {
   "cell_type": "code",
   "execution_count": 70,
   "metadata": {
    "collapsed": false
   },
   "outputs": [
    {
     "data": {
      "text/plain": [
       "(58787, 22)"
      ]
     },
     "execution_count": 70,
     "metadata": {},
     "output_type": "execute_result"
    }
   ],
   "source": [
    "restaurant_scores.shape"
   ]
  },
  {
   "cell_type": "code",
   "execution_count": 71,
   "metadata": {
    "collapsed": false
   },
   "outputs": [
    {
     "data": {
      "text/plain": [
       "1775     21\n",
       "74374    20\n",
       "2505     20\n",
       "71618    19\n",
       "74131    19\n",
       "67154    19\n",
       "71804    19\n",
       "489      18\n",
       "7747     18\n",
       "65523    17\n",
       "Name: business_id, dtype: int64"
      ]
     },
     "execution_count": 71,
     "metadata": {},
     "output_type": "execute_result"
    }
   ],
   "source": [
    "# 2 Which ten business have had the most inspections?\n",
    "#inspections dataframe offers all the info needed here\n",
    "inspections.business_id.value_counts().head(10)"
   ]
  },
  {
   "cell_type": "code",
   "execution_count": 254,
   "metadata": {
    "collapsed": false
   },
   "outputs": [
    {
     "data": {
      "text/plain": [
       "Routine - Unscheduled                15481\n",
       "Reinspection/Followup                 5386\n",
       "New Ownership                         1877\n",
       "Complaint                             1634\n",
       "New Construction                      1613\n",
       "Non-inspection site visit              840\n",
       "Complaint Reinspection/Followup        163\n",
       "Structural Inspection                  120\n",
       "Foodborne Illness Investigation        100\n",
       "Routine - Scheduled                     63\n",
       "Administrative or Document Review        4\n",
       "Special Event                            2\n",
       "Multi-agency Investigation               2\n",
       "Name: type, dtype: int64"
      ]
     },
     "execution_count": 254,
     "metadata": {},
     "output_type": "execute_result"
    }
   ],
   "source": [
    "# 3 Group and count the inspections by type\n",
    "inspections.type.value_counts()"
   ]
  },
  {
   "cell_type": "code",
   "execution_count": 88,
   "metadata": {
    "collapsed": false
   },
   "outputs": [
    {
     "data": {
      "text/plain": [
       "Routine - Unscheduled                42054\n",
       "Reinspection/Followup                 6020\n",
       "Complaint                             3150\n",
       "New Ownership                         2660\n",
       "New Construction                      1635\n",
       "Non-inspection site visit             1003\n",
       "Foodborne Illness Investigation        246\n",
       "Complaint Reinspection/Followup        168\n",
       "Structural Inspection                  141\n",
       "Routine - Scheduled                    100\n",
       "Administrative or Document Review        4\n",
       "Special Event                            2\n",
       "Multi-agency Investigation               2\n",
       "Name: type, dtype: int64"
      ]
     },
     "execution_count": 88,
     "metadata": {},
     "output_type": "execute_result"
    }
   ],
   "source": [
    "#restaurant_scores.groupby('date').business_id.value_counts()\n",
    "restaurant_scores.type.value_counts()"
   ]
  },
  {
   "cell_type": "code",
   "execution_count": null,
   "metadata": {
    "collapsed": false
   },
   "outputs": [],
   "source": [
    "# 4 Create a plot that shows number of inspections per month\n",
    "# Bonus for creating a heatmap\n",
    "# http://stanford.edu/~mwaskom/software/seaborn/generated/seaborn.heatmap.html?highlight=heatmap\n",
    "#sns.heatmap(restaurant_scores.corr())\n",
    "#restaurant_scores.month\n",
    "import datetime\n",
    "#d = datetime.date.today()\n",
    "#d.month\n",
    "#restaurant_scores['month'] = \n",
    "#restaurant_scores['month'] =  restaurant_scores.date.apply(lambda x:str(x)[4:-4])\n",
    "#restaurant_scores.groupby('month').business_id.value_counts().plot(kind='bar', title='Businesses per Month')\n",
    "#plt.xlabel('Month')\n",
    "#plt.ylabel('Businesses')\n"
   ]
  },
  {
   "cell_type": "code",
   "execution_count": 339,
   "metadata": {
    "collapsed": false
   },
   "outputs": [
    {
     "data": {
      "text/plain": [
       "<matplotlib.text.Text at 0x1a1d2c7d0>"
      ]
     },
     "execution_count": 339,
     "metadata": {},
     "output_type": "execute_result"
    },
    {
     "data": {
      "image/png": "[encoded data removed]",
      "text/plain": [
       "<matplotlib.figure.Figure at 0x1a2382810>"
      ]
     },
     "metadata": {},
     "output_type": "display_data"
    }
   ],
   "source": [
    "# 5 Which zip code contains the most high risk violations?\n",
    "cols = ['postal_code', 'risk_category']\n",
    "restaurant_scores[(restaurant_scores.risk_category=='High Risk')&(restaurant_scores.date.notnull())].postal_code.value_counts().plot(kind='bar', title='High Risk Violations by Zipcode')\n",
    "plt.xlabel('Postal Code')\n",
    "plt.ylabel('Inspections')"
   ]
  },
  {
   "cell_type": "code",
   "execution_count": 341,
   "metadata": {
    "collapsed": false
   },
   "outputs": [
    {
     "data": {
      "text/plain": [
       "<matplotlib.axes._subplots.AxesSubplot at 0x1a25dcd10>"
      ]
     },
     "execution_count": 341,
     "metadata": {},
     "output_type": "execute_result"
    },
    {
     "data": {
      "image/png": "[encoded data removed]",
      "text/plain": [
       "<matplotlib.figure.Figure at 0x1a396a350>"
      ]
     },
     "metadata": {},
     "output_type": "display_data"
    }
   ],
   "source": [
    "restaurant_scores.groupby(['postal_code'])['business_id'].value_counts().sort_values(ascending=False).head(10).plot(kind='bar')"
   ]
  },
  {
   "cell_type": "code",
   "execution_count": null,
   "metadata": {
    "collapsed": true
   },
   "outputs": [],
   "source": [
    "# 6 If inspection is prompted by a change in restaurant ownership, \n",
    "# is the inspection more likely to be categorized as higher or lower risk?"
   ]
  },
  {
   "cell_type": "code",
   "execution_count": 338,
   "metadata": {
    "collapsed": false
   },
   "outputs": [
    {
     "data": {
      "text/html": [
       "<div>\n",
       "<table border=\"1\" class=\"dataframe\">\n",
       "  <thead>\n",
       "    <tr style=\"text-align: right;\">\n",
       "      <th></th>\n",
       "      <th>business_id</th>\n",
       "      <th>name</th>\n",
       "      <th>address</th>\n",
       "      <th>city</th>\n",
       "      <th>postal_code</th>\n",
       "      <th>latitude</th>\n",
       "      <th>longitude</th>\n",
       "      <th>phone_number</th>\n",
       "      <th>TaxCode</th>\n",
       "      <th>business_certificate</th>\n",
       "      <th>...</th>\n",
       "      <th>owner_city</th>\n",
       "      <th>owner_state</th>\n",
       "      <th>owner_zip</th>\n",
       "      <th>Score</th>\n",
       "      <th>date</th>\n",
       "      <th>type</th>\n",
       "      <th>ViolationTypeID</th>\n",
       "      <th>risk_category</th>\n",
       "      <th>description</th>\n",
       "      <th>month</th>\n",
       "    </tr>\n",
       "  </thead>\n",
       "  <tbody>\n",
       "    <tr>\n",
       "      <th>0</th>\n",
       "      <td>10</td>\n",
       "      <td>Tiramisu Kitchen</td>\n",
       "      <td>033 Belden Pl</td>\n",
       "      <td>San Francisco</td>\n",
       "      <td>94104</td>\n",
       "      <td>37.791116</td>\n",
       "      <td>-122.403816</td>\n",
       "      <td>NaN</td>\n",
       "      <td>H24</td>\n",
       "      <td>779059.0</td>\n",
       "      <td>...</td>\n",
       "      <td>San Francisco</td>\n",
       "      <td>CA</td>\n",
       "      <td>94104</td>\n",
       "      <td>NaN</td>\n",
       "      <td>20140807.0</td>\n",
       "      <td>Reinspection/Followup</td>\n",
       "      <td>NaN</td>\n",
       "      <td>NaN</td>\n",
       "      <td>NaN</td>\n",
       "      <td>08</td>\n",
       "    </tr>\n",
       "    <tr>\n",
       "      <th>1</th>\n",
       "      <td>10</td>\n",
       "      <td>Tiramisu Kitchen</td>\n",
       "      <td>033 Belden Pl</td>\n",
       "      <td>San Francisco</td>\n",
       "      <td>94104</td>\n",
       "      <td>37.791116</td>\n",
       "      <td>-122.403816</td>\n",
       "      <td>NaN</td>\n",
       "      <td>H24</td>\n",
       "      <td>779059.0</td>\n",
       "      <td>...</td>\n",
       "      <td>San Francisco</td>\n",
       "      <td>CA</td>\n",
       "      <td>94104</td>\n",
       "      <td>94.0</td>\n",
       "      <td>20140729.0</td>\n",
       "      <td>Routine - Unscheduled</td>\n",
       "      <td>103129.0</td>\n",
       "      <td>Moderate Risk</td>\n",
       "      <td>Insufficient hot water or running water</td>\n",
       "      <td>07</td>\n",
       "    </tr>\n",
       "    <tr>\n",
       "      <th>2</th>\n",
       "      <td>10</td>\n",
       "      <td>Tiramisu Kitchen</td>\n",
       "      <td>033 Belden Pl</td>\n",
       "      <td>San Francisco</td>\n",
       "      <td>94104</td>\n",
       "      <td>37.791116</td>\n",
       "      <td>-122.403816</td>\n",
       "      <td>NaN</td>\n",
       "      <td>H24</td>\n",
       "      <td>779059.0</td>\n",
       "      <td>...</td>\n",
       "      <td>San Francisco</td>\n",
       "      <td>CA</td>\n",
       "      <td>94104</td>\n",
       "      <td>94.0</td>\n",
       "      <td>20140729.0</td>\n",
       "      <td>Routine - Unscheduled</td>\n",
       "      <td>103144.0</td>\n",
       "      <td>Low Risk</td>\n",
       "      <td>Unapproved or unmaintained equipment or utensils</td>\n",
       "      <td>07</td>\n",
       "    </tr>\n",
       "    <tr>\n",
       "      <th>3</th>\n",
       "      <td>10</td>\n",
       "      <td>Tiramisu Kitchen</td>\n",
       "      <td>033 Belden Pl</td>\n",
       "      <td>San Francisco</td>\n",
       "      <td>94104</td>\n",
       "      <td>37.791116</td>\n",
       "      <td>-122.403816</td>\n",
       "      <td>NaN</td>\n",
       "      <td>H24</td>\n",
       "      <td>779059.0</td>\n",
       "      <td>...</td>\n",
       "      <td>San Francisco</td>\n",
       "      <td>CA</td>\n",
       "      <td>94104</td>\n",
       "      <td>NaN</td>\n",
       "      <td>20140124.0</td>\n",
       "      <td>Reinspection/Followup</td>\n",
       "      <td>NaN</td>\n",
       "      <td>NaN</td>\n",
       "      <td>NaN</td>\n",
       "      <td>01</td>\n",
       "    </tr>\n",
       "    <tr>\n",
       "      <th>4</th>\n",
       "      <td>10</td>\n",
       "      <td>Tiramisu Kitchen</td>\n",
       "      <td>033 Belden Pl</td>\n",
       "      <td>San Francisco</td>\n",
       "      <td>94104</td>\n",
       "      <td>37.791116</td>\n",
       "      <td>-122.403816</td>\n",
       "      <td>NaN</td>\n",
       "      <td>H24</td>\n",
       "      <td>779059.0</td>\n",
       "      <td>...</td>\n",
       "      <td>San Francisco</td>\n",
       "      <td>CA</td>\n",
       "      <td>94104</td>\n",
       "      <td>92.0</td>\n",
       "      <td>20140114.0</td>\n",
       "      <td>Routine - Unscheduled</td>\n",
       "      <td>103154.0</td>\n",
       "      <td>Low Risk</td>\n",
       "      <td>Unclean or degraded floors walls or ceilings</td>\n",
       "      <td>01</td>\n",
       "    </tr>\n",
       "  </tbody>\n",
       "</table>\n",
       "<p>5 rows × 23 columns</p>\n",
       "</div>"
      ],
      "text/plain": [
       "   business_id              name        address           city postal_code  \\\n",
       "0           10  Tiramisu Kitchen  033 Belden Pl  San Francisco       94104   \n",
       "1           10  Tiramisu Kitchen  033 Belden Pl  San Francisco       94104   \n",
       "2           10  Tiramisu Kitchen  033 Belden Pl  San Francisco       94104   \n",
       "3           10  Tiramisu Kitchen  033 Belden Pl  San Francisco       94104   \n",
       "4           10  Tiramisu Kitchen  033 Belden Pl  San Francisco       94104   \n",
       "\n",
       "    latitude   longitude phone_number TaxCode  business_certificate  ...    \\\n",
       "0  37.791116 -122.403816          NaN     H24              779059.0  ...     \n",
       "1  37.791116 -122.403816          NaN     H24              779059.0  ...     \n",
       "2  37.791116 -122.403816          NaN     H24              779059.0  ...     \n",
       "3  37.791116 -122.403816          NaN     H24              779059.0  ...     \n",
       "4  37.791116 -122.403816          NaN     H24              779059.0  ...     \n",
       "\n",
       "      owner_city owner_state owner_zip Score        date  \\\n",
       "0  San Francisco          CA     94104   NaN  20140807.0   \n",
       "1  San Francisco          CA     94104  94.0  20140729.0   \n",
       "2  San Francisco          CA     94104  94.0  20140729.0   \n",
       "3  San Francisco          CA     94104   NaN  20140124.0   \n",
       "4  San Francisco          CA     94104  92.0  20140114.0   \n",
       "\n",
       "                    type  ViolationTypeID  risk_category  \\\n",
       "0  Reinspection/Followup              NaN            NaN   \n",
       "1  Routine - Unscheduled         103129.0  Moderate Risk   \n",
       "2  Routine - Unscheduled         103144.0       Low Risk   \n",
       "3  Reinspection/Followup              NaN            NaN   \n",
       "4  Routine - Unscheduled         103154.0       Low Risk   \n",
       "\n",
       "                                        description  month  \n",
       "0                                               NaN     08  \n",
       "1           Insufficient hot water or running water     07  \n",
       "2  Unapproved or unmaintained equipment or utensils     07  \n",
       "3                                               NaN     01  \n",
       "4      Unclean or degraded floors walls or ceilings     01  \n",
       "\n",
       "[5 rows x 23 columns]"
      ]
     },
     "execution_count": 338,
     "metadata": {},
     "output_type": "execute_result"
    }
   ],
   "source": [
    "restaurant_scores.head()"
   ]
  },
  {
   "cell_type": "code",
   "execution_count": 348,
   "metadata": {
    "collapsed": false
   },
   "outputs": [
    {
     "data": {
      "text/plain": [
       "<matplotlib.text.Text at 0x1a46efa90>"
      ]
     },
     "execution_count": 348,
     "metadata": {},
     "output_type": "execute_result"
    },
    {
     "data": {
      "image/png": "[encoded data removed]",
      "text/plain": [
       "<matplotlib.figure.Figure at 0x1a4394810>"
      ]
     },
     "metadata": {},
     "output_type": "display_data"
    }
   ],
   "source": [
    "# 7 Examining the descriptions, what is the most common violation?\n",
    "#restaurant_scores.type.value_counts().hist(bins=25)\n",
    "\n",
    "restaurant_scores.description.value_counts().head(15).plot(kind='bar', title='High Risk Violations by Zipcode')\n",
    "plt.xlabel('A')\n",
    "plt.ylabel('B')"
   ]
  },
  {
   "cell_type": "code",
   "execution_count": 350,
   "metadata": {
    "collapsed": false
   },
   "outputs": [
    {
     "data": {
      "text/plain": [
       "Unclean or degraded floors walls or ceilings    3746\n",
       "Name: description, dtype: int64"
      ]
     },
     "execution_count": 350,
     "metadata": {},
     "output_type": "execute_result"
    }
   ],
   "source": [
    "restaurant_scores.description.value_counts().head(1)"
   ]
  },
  {
   "cell_type": "code",
   "execution_count": 356,
   "metadata": {
    "collapsed": false,
    "scrolled": true
   },
   "outputs": [
    {
     "data": {
      "text/plain": [
       "<matplotlib.axes._subplots.AxesSubplot at 0x1a5e8c910>"
      ]
     },
     "execution_count": 356,
     "metadata": {},
     "output_type": "execute_result"
    },
    {
     "data": {
      "image/png": "[encoded data removed]",
      "text/plain": [
       "<matplotlib.figure.Figure at 0x1a5ea9bd0>"
      ]
     },
     "metadata": {},
     "output_type": "display_data"
    }
   ],
   "source": [
    "# 8 Create a hist of the scores with 10 bins\n",
    "restaurant_scores.Score.hist(bins=10)"
   ]
  },
  {
   "cell_type": "code",
   "execution_count": 395,
   "metadata": {
    "collapsed": false,
    "scrolled": true
   },
   "outputs": [
    {
     "ename": "ValueError",
     "evalue": "Input contains NaN, infinity or a value too large for dtype('float64').",
     "output_type": "error",
     "traceback": [
      "\u001b[0;31m---------------------------------------------------------------------------\u001b[0m",
      "\u001b[0;31mValueError\u001b[0m                                Traceback (most recent call last)",
      "\u001b[0;32m<ipython-input-395-d8d1eaaa85a7>\u001b[0m in \u001b[0;36m<module>\u001b[0;34m()\u001b[0m\n\u001b[1;32m      6\u001b[0m \u001b[0mX\u001b[0m \u001b[0;34m=\u001b[0m \u001b[0mrestaurant_scores\u001b[0m\u001b[0;34m[\u001b[0m\u001b[0mfeature_cols\u001b[0m\u001b[0;34m]\u001b[0m\u001b[0;34m\u001b[0m\u001b[0m\n\u001b[1;32m      7\u001b[0m \u001b[0my\u001b[0m \u001b[0;34m=\u001b[0m \u001b[0mrestaurant_scores\u001b[0m\u001b[0;34m.\u001b[0m\u001b[0mrisk_category\u001b[0m\u001b[0;34m\u001b[0m\u001b[0m\n\u001b[0;32m----> 8\u001b[0;31m \u001b[0mlinreg\u001b[0m\u001b[0;34m.\u001b[0m\u001b[0mfit\u001b[0m\u001b[0;34m(\u001b[0m\u001b[0mX\u001b[0m\u001b[0;34m,\u001b[0m \u001b[0my\u001b[0m\u001b[0;34m)\u001b[0m\u001b[0;34m\u001b[0m\u001b[0m\n\u001b[0m",
      "\u001b[0;32m/Users/thakurs/anaconda2/lib/python2.7/site-packages/sklearn/linear_model/base.pyc\u001b[0m in \u001b[0;36mfit\u001b[0;34m(self, X, y, sample_weight)\u001b[0m\n\u001b[1;32m    425\u001b[0m         \u001b[0mn_jobs_\u001b[0m \u001b[0;34m=\u001b[0m \u001b[0mself\u001b[0m\u001b[0;34m.\u001b[0m\u001b[0mn_jobs\u001b[0m\u001b[0;34m\u001b[0m\u001b[0m\n\u001b[1;32m    426\u001b[0m         X, y = check_X_y(X, y, accept_sparse=['csr', 'csc', 'coo'],\n\u001b[0;32m--> 427\u001b[0;31m                          y_numeric=True, multi_output=True)\n\u001b[0m\u001b[1;32m    428\u001b[0m \u001b[0;34m\u001b[0m\u001b[0m\n\u001b[1;32m    429\u001b[0m         \u001b[0;32mif\u001b[0m \u001b[0;34m(\u001b[0m\u001b[0;34m(\u001b[0m\u001b[0msample_weight\u001b[0m \u001b[0;32mis\u001b[0m \u001b[0;32mnot\u001b[0m \u001b[0mNone\u001b[0m\u001b[0;34m)\u001b[0m \u001b[0;32mand\u001b[0m \u001b[0mnp\u001b[0m\u001b[0;34m.\u001b[0m\u001b[0matleast_1d\u001b[0m\u001b[0;34m(\u001b[0m\u001b[0msample_weight\u001b[0m\u001b[0;34m)\u001b[0m\u001b[0;34m.\u001b[0m\u001b[0mndim\u001b[0m \u001b[0;34m>\u001b[0m \u001b[0;36m1\u001b[0m\u001b[0;34m)\u001b[0m\u001b[0;34m:\u001b[0m\u001b[0;34m\u001b[0m\u001b[0m\n",
      "\u001b[0;32m/Users/thakurs/anaconda2/lib/python2.7/site-packages/sklearn/utils/validation.pyc\u001b[0m in \u001b[0;36mcheck_X_y\u001b[0;34m(X, y, accept_sparse, dtype, order, copy, force_all_finite, ensure_2d, allow_nd, multi_output, ensure_min_samples, ensure_min_features, y_numeric, warn_on_dtype, estimator)\u001b[0m\n\u001b[1;32m    508\u001b[0m     X = check_array(X, accept_sparse, dtype, order, copy, force_all_finite,\n\u001b[1;32m    509\u001b[0m                     \u001b[0mensure_2d\u001b[0m\u001b[0;34m,\u001b[0m \u001b[0mallow_nd\u001b[0m\u001b[0;34m,\u001b[0m \u001b[0mensure_min_samples\u001b[0m\u001b[0;34m,\u001b[0m\u001b[0;34m\u001b[0m\u001b[0m\n\u001b[0;32m--> 510\u001b[0;31m                     ensure_min_features, warn_on_dtype, estimator)\n\u001b[0m\u001b[1;32m    511\u001b[0m     \u001b[0;32mif\u001b[0m \u001b[0mmulti_output\u001b[0m\u001b[0;34m:\u001b[0m\u001b[0;34m\u001b[0m\u001b[0m\n\u001b[1;32m    512\u001b[0m         y = check_array(y, 'csr', force_all_finite=True, ensure_2d=False,\n",
      "\u001b[0;32m/Users/thakurs/anaconda2/lib/python2.7/site-packages/sklearn/utils/validation.pyc\u001b[0m in \u001b[0;36mcheck_array\u001b[0;34m(array, accept_sparse, dtype, order, copy, force_all_finite, ensure_2d, allow_nd, ensure_min_samples, ensure_min_features, warn_on_dtype, estimator)\u001b[0m\n\u001b[1;32m    396\u001b[0m                              % (array.ndim, estimator_name))\n\u001b[1;32m    397\u001b[0m         \u001b[0;32mif\u001b[0m \u001b[0mforce_all_finite\u001b[0m\u001b[0;34m:\u001b[0m\u001b[0;34m\u001b[0m\u001b[0m\n\u001b[0;32m--> 398\u001b[0;31m             \u001b[0m_assert_all_finite\u001b[0m\u001b[0;34m(\u001b[0m\u001b[0marray\u001b[0m\u001b[0;34m)\u001b[0m\u001b[0;34m\u001b[0m\u001b[0m\n\u001b[0m\u001b[1;32m    399\u001b[0m \u001b[0;34m\u001b[0m\u001b[0m\n\u001b[1;32m    400\u001b[0m     \u001b[0mshape_repr\u001b[0m \u001b[0;34m=\u001b[0m \u001b[0m_shape_repr\u001b[0m\u001b[0;34m(\u001b[0m\u001b[0marray\u001b[0m\u001b[0;34m.\u001b[0m\u001b[0mshape\u001b[0m\u001b[0;34m)\u001b[0m\u001b[0;34m\u001b[0m\u001b[0m\n",
      "\u001b[0;32m/Users/thakurs/anaconda2/lib/python2.7/site-packages/sklearn/utils/validation.pyc\u001b[0m in \u001b[0;36m_assert_all_finite\u001b[0;34m(X)\u001b[0m\n\u001b[1;32m     52\u001b[0m             and not np.isfinite(X).all()):\n\u001b[1;32m     53\u001b[0m         raise ValueError(\"Input contains NaN, infinity\"\n\u001b[0;32m---> 54\u001b[0;31m                          \" or a value too large for %r.\" % X.dtype)\n\u001b[0m\u001b[1;32m     55\u001b[0m \u001b[0;34m\u001b[0m\u001b[0m\n\u001b[1;32m     56\u001b[0m \u001b[0;34m\u001b[0m\u001b[0m\n",
      "\u001b[0;31mValueError\u001b[0m: Input contains NaN, infinity or a value too large for dtype('float64')."
     ]
    }
   ],
   "source": [
    "# 9 Can you predict risk category based on the other features in this dataset?\n",
    "restaurant_scores.Score.fillna(value='Unknown')\n",
    "from sklearn.linear_model import LinearRegression\n",
    "linreg = LinearRegression()\n",
    "feature_cols = ['Score']\n",
    "X = restaurant_scores[feature_cols]\n",
    "y = restaurant_scores.risk_category\n",
    "linreg.fit(X, y)"
   ]
  },
  {
   "cell_type": "code",
   "execution_count": 363,
   "metadata": {
    "collapsed": false
   },
   "outputs": [
    {
     "data": {
      "text/plain": [
       "33446    20\n",
       "Name: business_id, dtype: int64"
      ]
     },
     "execution_count": 363,
     "metadata": {},
     "output_type": "execute_result"
    }
   ],
   "source": [
    "# 10 Extra Credit:\n",
    "# Use Instagram location API to find pictures taken at the lat, long of the most High Risk restaurant\n",
    "# https://www.instagram.com/developer/endpoints/locations/\n",
    "restaurant_scores[restaurant_scores.risk_category=='High Risk'].business_id.value_counts().head(1)"
   ]
  },
  {
   "cell_type": "code",
   "execution_count": 369,
   "metadata": {
    "collapsed": false
   },
   "outputs": [
    {
     "data": {
      "text/html": [
       "<div>\n",
       "<table border=\"1\" class=\"dataframe\">\n",
       "  <thead>\n",
       "    <tr style=\"text-align: right;\">\n",
       "      <th></th>\n",
       "      <th>latitude</th>\n",
       "      <th>longitude</th>\n",
       "    </tr>\n",
       "  </thead>\n",
       "  <tbody>\n",
       "    <tr>\n",
       "      <th>26191</th>\n",
       "      <td>37.752678</td>\n",
       "      <td>-122.411722</td>\n",
       "    </tr>\n",
       "  </tbody>\n",
       "</table>\n",
       "</div>"
      ],
      "text/plain": [
       "        latitude   longitude\n",
       "26191  37.752678 -122.411722"
      ]
     },
     "execution_count": 369,
     "metadata": {},
     "output_type": "execute_result"
    }
   ],
   "source": [
    "restaurant_scores[restaurant_scores.business_id==33446][['latitude','longitude']].head(1)"
   ]
  },
  {
   "cell_type": "code",
   "execution_count": 408,
   "metadata": {
    "collapsed": false
   },
   "outputs": [
    {
     "data": {
      "text/plain": [
       "u'<!DOCTYPE html>\\n<!--[if lt IE 7]>      <html lang=\"en\" class=\"no-js lt-ie9 lt-ie8 lt-ie7 not-logged-in \"> <![endif]-->\\n<!--[if IE 7]>         <html lang=\"en\" class=\"no-js lt-ie9 lt-ie8 not-logged-in \"> <![endif]-->\\n<!--[if IE 8]>         <html lang=\"en\" class=\"no-js lt-ie9 not-logged-in \"> <![endif]-->\\n<!--[if gt IE 8]><!--> <html lang=\"en\" class=\"no-js not-logged-in \"> <!--<![endif]-->\\n    <head>\\n        \\n    <script type=\"text/javascript\">window._timings = {\"domLoading\": Date.now()}</script>\\n\\n        <meta charset=\"utf-8\">\\n        <meta http-equiv=\"X-UA-Compatible\" content=\"IE=edge\">\\n\\n        <title>\\n      \\n        Instagram\\n      \\n    </title>\\n\\n        <script type=\"text/javascript\">\\n  WebFontConfig = {\\n    custom: {\\n      families: [\\'proxima-nova:n3,n4,n6,n7\\'],\\n    }\\n  };\\n</script>\\n<script src=\"//instagramstatic-a.akamaihd.net/h1/scripts/webfont.js/c0456c81549b.js\" type=\"text/javascript\" async></script>\\n\\n<style type=\"text/css\">\\n  /* @license\\n   * MyFonts Webfont Build ID 2164953, 2012-03-23T23:06:30-0400\\n   *\\n   * The fonts listed in this notice are subject to the End User License\\n   * Agreement(s) entered into by the website owner. All other parties are\\n   * explicitly restricted from using the Licensed Webfonts(s).\\n   *\\n   * You may obtain a valid license at the URLs below.\\n   *\\n   *\\n   * Webfont: Proxima Nova Light by Mark Simonson\\n   * URL: http://www.myfonts.com/fonts/marksimonson/proxima-nova/light/\\n   * Licensed pageviews: unlimited\\n   *\\n   * Webfont: Proxima Nova Regular by Mark Simonson\\n   * URL: http://www.myfonts.com/fonts/marksimonson/proxima-nova/regular/\\n   * Licensed pageviews: unlimited\\n   *\\n   * Webfont: Proxima Nova Semibold by Mark Simonson\\n   * URL: http://www.myfonts.com/fonts/marksimonson/proxima-nova/semibold/\\n   * Licensed pageviews: unlimited\\n   *\\n   * Webfont: Proxima Nova Bold Italic by Mark Simonson\\n   * URL: http://www.myfonts.com/fonts/marksimonson/proxima-nova/bold-it/\\n   * Licensed pageviews: unlimited\\n   *\\n   * Webfont: Proxima Nova Bold by Mark Simonson\\n   * URL: http://www.myfonts.com/fonts/marksimonson/proxima-nova/bold/\\n   * Licensed pageviews: unlimited\\n   *\\n   * Webfont: Proxima Nova Italic by Mark Simonson\\n   * URL: http://www.myfonts.com/fonts/marksimonson/proxima-nova/regular-it/\\n   * Licensed pageviews: unlimited\\n   *\\n   *\\n   * License: http://www.myfonts.com/viewlicense?type=web&buildid=2164953\\n   * Webfonts copyright: Copyright (c) Mark Simonson, 2005. All rights reserved.\\n   *\\n   * (c) 2012 Bitstream Inc\\n   */\\n  @font-face {\\n    font-family: \\'proxima-nova\\';\\n    src: url(\\' //instagramstatic-a.akamaihd.net/h1/webfonts/proximanova-bold-webfont.eot/115b1f7f9c04.eot\\');\\n    src: url(\\' //instagramstatic-a.akamaihd.net/h1/webfonts/proximanova-bold-webfont.eot/115b1f7f9c04.eot?#iefix\\') format(\"embedded-opentype\"),\\n      url(\\' //instagramstatic-a.akamaihd.net/h1/webfonts/proximanova-bold-webfont.woff/618250d25a4d.woff\\') format(\"woff\"),\\n      url(\\' //instagramstatic-a.akamaihd.net/h1/webfonts/proximanova-bold-webfont.ttf/646346e03084.ttf\\') format(\"truetype\"),\\n      url(\\' //instagramstatic-a.akamaihd.net/h1/webfonts/proximanova-bold-webfont.svg/e55a9d6051e8.svg#ProximaNovaBold\\') format(\"svg\");\\n    font-weight: bold;\\n    font-style: normal; }\\n\\n  @font-face {\\n    font-family: \\'proxima-nova\\';\\n    src: url(\\' //instagramstatic-a.akamaihd.net/h1/webfonts/proximanova-boldit-webfont.eot/1cbb869da891.eot\\');\\n    src: url(\\' //instagramstatic-a.akamaihd.net/h1/webfonts/proximanova-boldit-webfont.eot/1cbb869da891.eot?#iefix\\') format(\"embedded-opentype\"),\\n      url(\\' //instagramstatic-a.akamaihd.net/h1/webfonts/proximanova-boldit-webfont.woff/b1cf049474c9.woff\\') format(\"woff\"),\\n      url(\\' //instagramstatic-a.akamaihd.net/h1/webfonts/proximanova-boldit-webfont.ttf/3adb020ceae3.ttf\\') format(\"truetype\"),\\n      url(\\' //instagramstatic-a.akamaihd.net/h1/webfonts/proximanova-boldit-webfont.svg/29948a2d3c58.svg#ProximaNovaBoldItalic\\') format(\"svg\");\\n    font-weight: bold;\\n    font-style: italic; }\\n\\n  @font-face {\\n    font-family: \\'proxima-nova\\';\\n    src: url(\\' //instagramstatic-a.akamaihd.net/h1/webfonts/proximanova-reg-webfont.eot/12af77715cee.eot\\');\\n    src: url(\\' //instagramstatic-a.akamaihd.net/h1/webfonts/proximanova-reg-webfont.eot/12af77715cee.eot?#iefix\\') format(\"embedded-opentype\"),\\n      url(\\' //instagramstatic-a.akamaihd.net/h1/webfonts/proximanova-reg-webfont.woff/a9a9773b8e29.woff\\') format(\"woff\"),\\n      url(\\' //instagramstatic-a.akamaihd.net/h1/webfonts/proximanova-reg-webfont.ttf/99e19808976a.ttf\\') format(\"truetype\"),\\n      url(\\' //instagramstatic-a.akamaihd.net/h1/webfonts/proximanova-reg-webfont.svg/c33d2fd56309.svg#ProximaNovaRegular\\') format(\"svg\");\\n    font-weight: normal;\\n    font-style: normal; }\\n\\n  @font-face {\\n    font-family: \\'proxima-nova\\';\\n    src: url(\\' //instagramstatic-a.akamaihd.net/h1/webfonts/proximanova-regit-webfont.eot/1bbbd1312b0d.eot\\');\\n    src: url(\\' //instagramstatic-a.akamaihd.net/h1/webfonts/proximanova-regit-webfont.eot/1bbbd1312b0d.eot?#iefix\\') format(\"embedded-opentype\"),\\n      url(\\' //instagramstatic-a.akamaihd.net/h1/webfonts/proximanova-regit-webfont.woff/9e306befca91.woff\\') format(\"woff\"),\\n      url(\\' //instagramstatic-a.akamaihd.net/h1/webfonts/proximanova-regit-webfont.ttf/4a8663684135.ttf\\') format(\"truetype\"),\\n      url(\\' //instagramstatic-a.akamaihd.net/h1/webfonts/proximanova-regit-webfont.svg/876278d4b189.svg#ProximaNovaRegularItalic\\') format(\"svg\");\\n    font-weight: normal;\\n    font-style: italic; }\\n\\n  @font-face {\\n    font-family: \\'proxima-nova\\';\\n    src: url(\\' //instagramstatic-a.akamaihd.net/h1/webfonts/proximanova-sbold-webfont.eot/5016edf79e1d.eot\\');\\n    src: url(\\' //instagramstatic-a.akamaihd.net/h1/webfonts/proximanova-sbold-webfont.eot/5016edf79e1d.eot?#iefix\\') format(\"embedded-opentype\"),\\n      url(\\' //instagramstatic-a.akamaihd.net/h1/webfonts/proximanova-sbold-webfont.woff/615c1b06d8fa.woff\\') format(\"woff\"),\\n      url(\\' //instagramstatic-a.akamaihd.net/h1/webfonts/proximanova-sbold-webfont.ttf/2973bd483f7a.ttf\\') format(\"truetype\"),\\n      url(\\' //instagramstatic-a.akamaihd.net/h1/webfonts/proximanova-sbold-webfont.svg/868597833e49.svg#ProximaNovaSemibold\\') format(\"svg\");\\n    font-weight: 600;\\n    font-style: normal; }\\n</style>\\n\\n  <style type=\"text/css\">\\n  @font-face {\\n    font-family: \\'proxima-nova\\';\\n    src: url(\\' //instagramstatic-a.akamaihd.net/h1/webfonts/proximanova-light-webfont.eot/63c84728610f.eot\\');\\n    src: url(\\' //instagramstatic-a.akamaihd.net/h1/webfonts/proximanova-light-webfont.eot/63c84728610f.eot?#iefix\\') format(\"embedded-opentype\"),\\n      url(\\' //instagramstatic-a.akamaihd.net/h1/webfonts/proximanova-light-webfont.woff/66bbe029f180.woff\\') format(\"woff\"),\\n      url(\\' //instagramstatic-a.akamaihd.net/h1/webfonts/proximanova-light-webfont.ttf/eb408516399b.ttf\\') format(\"truetype\"),\\n      url(\\' //instagramstatic-a.akamaihd.net/h1/webfonts/proximanova-light-webfont.svg/858f6a9b7ef3.svg#ProximaNovaLight\\') format(\"svg\");\\n    font-weight: 300;\\n    font-style: normal; }\\n</style>\\n\\n\\n        \\n    \\n        <meta name=\"robots\" content=\"noimageindex\">\\n        \\n    <meta name=\"mobile-web-app-capable\" content=\"yes\">\\n    <meta name=\"apple-mobile-web-app-capable\" content=\"yes\">\\n    <meta name=\"apple-mobile-web-app-status-bar-style\" content=\"black\">\\n\\n\\n        \\n    <meta id=\"viewport\" name=\"viewport\" content=\"width=device-width, user-scalable=no, initial-scale=1, minimum-scale=1, maximum-scale=1\">\\n\\n\\n        <script type=\"text/javascript\">\\n        (function() {\\n            var docElement = document.documentElement;\\n            var classRE = new RegExp(\\'(^|\\\\\\\\s)no-js(\\\\\\\\s|$)\\');\\n            var className = docElement.className;\\n            docElement.className = className.replace(classRE, \\'$1js$2\\');\\n        })();\\n        </script>\\n\\n        \\n    \\n    \\n        <link rel=\"apple-touch-icon-precomposed\" sizes=\"76x76\" href=\"//instagramstatic-a.akamaihd.net/h1/images/ico/apple-touch-icon-76x76-precomposed.png/932e4d9af891.png\">\\n        <link rel=\"apple-touch-icon-precomposed\" sizes=\"120x120\" href=\"//instagramstatic-a.akamaihd.net/h1/images/ico/apple-touch-icon-120x120-precomposed.png/004705c9353f.png\">\\n        <link rel=\"apple-touch-icon-precomposed\" sizes=\"152x152\" href=\"//instagramstatic-a.akamaihd.net/h1/images/ico/apple-touch-icon-152x152-precomposed.png/82467bc9bcce.png\">\\n        <link rel=\"apple-touch-icon-precomposed\" sizes=\"167x167\" href=\"//instagramstatic-a.akamaihd.net/h1/images/ico/apple-touch-icon-167x167-precomposed.png/515cb4eeeeee.png\">\\n        <link rel=\"apple-touch-icon-precomposed\" sizes=\"180x180\" href=\"//instagramstatic-a.akamaihd.net/h1/images/ico/apple-touch-icon-180x180-precomposed.png/94fd767f257b.png\">\\n        <link rel=\"icon\" sizes=\"192x192\" href=\"//instagramstatic-a.akamaihd.net/h1/images/ico/favicon-192.png/b407fa101800.png\">\\n    \\n    <link rel=\"mask-icon\" href=\"//instagramstatic-a.akamaihd.net/h1/images/ico/favicon.svg/9d8680ab8a3c.svg\" color=\"#262626\"><link rel=\"shortcut icon\" type=\"image/x-icon\" href=\"//instagramstatic-a.akamaihd.net/h1/images/ico/favicon.ico/dfa85bb1fd63.ico\">\\n    \\n    \\n    \\n        <style type=\"text/css\">/* @generated */\\n/* DO NOT CHANGE THIS FILE. INSTEAD, MODIFY \\'distillery/templates/main.css\\' */\\nbody{-webkit-font-smoothing:antialiased;background-color:#fafafa;font-family:\\'proxima-nova\\',\\'Helvetica Neue\\',Arial,Helvetica,sans-serif;margin:0}a{text-decoration:none}.-cx-PRIVATE-Page__body,.-cx-PRIVATE-Page__main,.-cx-PRIVATE-Page__root{display:-webkit-box;display:-ms-flexbox;display:flex;-webkit-box-orient:vertical;-webkit-box-direction:normal;-ms-flex-direction:column;flex-direction:column}.-cx-PRIVATE-Page__root{height:100vh}.-cx-PRIVATE-Page__body,.-cx-PRIVATE-Page__main{-webkit-box-flex:1;-ms-flex:1 0 auto;flex:1 0 auto}.-cx-PRIVATE-Page__main{margin-top:137px;position:relative}@media screen and (max-width:990px){.-cx-PRIVATE-Page__main{display:block;margin-top:0}}.-cx-PRIVATE-NavBar__root{background-color:#fff;border-bottom:1px solid #dbdbdb;height:77px;position:fixed;top:0;width:100%;z-index:100}.-cx-PRIVATE-NavBar__profilePic{display:none}.-cx-PRIVATE-NavBar__username{color:#003569;display:inline!important;float:right;font-weight:400;margin-right:2px;margin-top:12px}.-cx-PRIVATE-NavBar__signIn{display:inline-block;float:right;margin-right:2px;margin-top:12px}.-cx-PRIVATE-NavBar__signInText{color:#003569;font-weight:400}.-cx-PRIVATE-NavBar__logo{background-image:url(@@staticroot@@/images/branding/logoWhiteoutLockup.png);background-size:100%;height:35px;left:16px;position:absolute;text-indent:-9999em;top:6px;width:176px}.-cx-PRIVATE-NavBar__logo a{display:block;height:100%;width:100%}@media screen and (-webkit-min-device-pixel-ratio:1.5),screen and (min-resolution:1.5dppx){.-cx-PRIVATE-NavBar__logo{background-image:url(@@staticroot@@/images/branding/logoWhiteoutLockup@2x.png)}}.-cx-PRIVATE-NavBar__logoGroup{left:16px;position:absolute;top:6px}.-cx-PRIVATE-NavBar__logoGroup .-cx-PRIVATE-NavBar__logo{position:static}.-cx-PRIVATE-NavBar__wrapper{margin:0 auto;max-width:1026px;padding:0 16px;position:relative}.-cx-PRIVATE-NavBar__topBarActions,.-cx-PRIVATE-SidebarLayout__content li{list-style:none}.-cx-PRIVATE-NavBar__dropdown,.-cx-PRIVATE-NavBar__topBarLeft,.-cx-PRIVATE-SidebarLayout__content .separator,.-cx-PRIVATE-SidebarLayout__content .subtitle{display:none}.-cx-PRIVATE-SidebarLayout__content{border-right:1px solid #dbdbdb;height:100%;width:220px}.-cx-PRIVATE-SidebarLayout__content ul{margin:0;padding:0}@media screen and (max-width:990px){.-cx-PRIVATE-SidebarLayout__content{margin:0 px;border:none;width:100%}.-cx-PRIVATE-SidebarLayout__content ul{display:none}}.-cx-PRIVATE-SidebarLayout__root{box-sizing:border-box;height:100%;pointer-events:none;position:absolute;width:100%;z-index:1}@media screen and (max-width:990px){.-cx-PRIVATE-SidebarLayout__root{height:auto;padding-bottom:0;padding-top:78px;position:static}}.-cx-PRIVATE-SidebarLayout__contentWrapper,.-cx-PRIVATE-SidebarLayout__navWrapper{-webkit-box-flex:1;-ms-flex:1 0 auto;flex:1 0 auto;margin:0 auto;position:relative;width:992px}@media screen and (min-width:991px){.-cx-PRIVATE-SidebarLayout__navWrapper{height:100%}}@media screen and (max-width:990px){.-cx-PRIVATE-SidebarLayout__navWrapper{box-sizing:border-box;display:inline-block;height:auto;min-height:0;padding:0;width:100%}}.-cx-PRIVATE-SidebarLayout__nav{float:left;height:100%;padding-right:0;pointer-events:initial;width:256px}@media screen and (max-width:990px){.-cx-PRIVATE-SidebarLayout__nav{float:none;display:block;margin:0!important;background:0 0;border:none;width:100%}}.-cx-PRIVATE-SidebarLayout__contentWrapper{background-color:#fff;border:1px solid #dbdbdb;box-sizing:border-box;padding:0 16px 20px}@media screen and (min-width:991px){.-cx-PRIVATE-SidebarLayout__contentWrapper{border:1px solid #dbdbdb;border-radius:3px}}@media screen and (max-width:990px){.-cx-PRIVATE-SidebarLayout__contentWrapper{width:100%;box-sizing:border-box}.-cx-PRIVATE-SidebarLayout__pageContent .-cx-PRIVATE-SidebarLayout__contentWrapper{padding:0 10px}}.-cx-PRIVATE-SidebarLayout__pageContent{color:#262626;margin-left:205px;padding:30px 50px}@media screen and (max-width:990px){.-cx-PRIVATE-SidebarLayout__pageContent{margin-left:0;margin-right:0;padding:20px 0}}.-cx-PRIVATE-SidebarLayout__pageContent>:first-child{margin-top:0}.-cx-PRIVATE-SidebarLayout__pageContent a{color:#003569}.-cx-PRIVATE-SidebarLayout__pageContent h1{font-size:32px;font-weight:400;margin-bottom:20px;margin-top:28px}.-cx-PRIVATE-SidebarLayout__pageContent h2{font-size:24px;font-weight:400;margin-bottom:12px;margin-top:28px}.-cx-PRIVATE-SidebarLayout__pageContent h3{font-weight:600;margin-bottom:12px;margin-top:28px}.-cx-PRIVATE-SidebarLayout__pageContent li{padding-left:8px}.-cx-PRIVATE-SidebarLayout__pageContent li:not(:first-child){margin-top:8px}.-cx-PRIVATE-SidebarLayout__pageContent pre{white-space:pre-wrap}.-cx-PRIVATE-Navigation__header{color:#999;font-size:16px;font-weight:initial;margin:0;padding:16px;text-transform:uppercase}@media screen and (max-width:990px){.-cx-PRIVATE-Navigation__header:first-child{display:block}.-cx-PRIVATE-Navigation__header:not(:first-child){display:none}.-cx-PRIVATE-Navigation__header i{float:left;width:22px;height:18px;margin-right:8px;margin-left:10px;background:url(@@staticroot@@/images/glyphs/disclosure-down@2x.png) no-repeat center;background-size:14px 14px}.-cx-PRIVATE-SidebarLayout__content.active .-cx-PRIVATE-Navigation__header i{-webkit-transform:rotate(180deg);transform:rotate(180deg)}}.-cx-PRIVATE-Navigation__navLink,.-cx-PRIVATE-Navigation__navLink:active,.-cx-PRIVATE-Navigation__navLink:hover,.-cx-PRIVATE-Navigation__navLink:visited{border-left:2px solid transparent;box-sizing:border-box;color:#262626;font-size:16px;display:block;padding:16px 16px 16px 30px;width:100%}.-cx-PRIVATE-Navigation__navLink:hover{border-left-color:#dbdbdb}.-cx-PRIVATE-Navigation__active .-cx-PRIVATE-Navigation__navLink{border-left-color:#262626;font-weight:600}.-cx-PRIVATE-Footer__root{font-size:12px;height:77px}.-cx-PRIVATE-Footer__copyright{color:#262626;display:inline-block;float:right;font-weight:600;margin-top:20px;text-transform:uppercase}.-cx-PRIVATE-Footer__nav{display:inline-block}@media screen and (max-width:990px){.-cx-PRIVATE-Footer__copyright{text-align:center;width:100%}}.-cx-PRIVATE-Footer__navItems{margin:20px 0;padding:0;text-align:center}.-cx-PRIVATE-Footer__navItems li{display:inline-block;list-style:none}.-cx-PRIVATE-Footer__navItems li:not(:first-child){margin-left:15px}.-cx-PRIVATE-Footer__navItems a,.-cx-PRIVATE-Footer__navItems a:active,.-cx-PRIVATE-Footer__navItems a:focus,.-cx-PRIVATE-Footer__navItems a:hover,.-cx-PRIVATE-Footer__navItems a:visited{color:#003569;font-weight:600;text-transform:uppercase}.-cx-PRIVATE-Footer__wrapper{margin-left:auto;margin-right:auto;max-width:1026px;padding:0 20px}.-cx-PRIVATE-ErrorPage__errorContainer{text-align:center}@media (max-width:990px){.-cx-PRIVATE-ErrorPage__errorContainer{padding:100px 40px 0}}.-cx-PRIVATE-ErrorPage__errorContainer a,.-cx-PRIVATE-ErrorPage__errorContainer a:visited{color:#003569}.-cx-PRIVATE-Linkshim__followLink{background-color:#fff;color:#3897f0;border:1px solid #3897f0;border-radius:3px;display:inline-block;box-sizing:border-box;text-align:center;padding:8px;font:inherit;font-weight:700;width:90%}@media (min-width:736px){.-cx-PRIVATE-Linkshim__followLink{width:10%}}.-cx-PRIVATE-Linkshim__followLink:active{opacity:.5}.-cx-PRIVATE-Linkshim__followLink:focus{color:#1372cc;border:1px solid #1372cc}\\n</style>\\n    \\n\\n    \\n    <script src=\"//instagramstatic-a.akamaihd.net/h1/scripts/jquery.js/213ba890e802.js\" type=\"text/javascript\"></script>\\n    <script src=\"//instagramstatic-a.akamaihd.net/h1/scripts/bluebar.js/57733d51aed5.js\" type=\"text/javascript\"></script>\\n\\n\\n    </head>\\n    <body class=\" p-error dialog-404\">\\n        \\n    \\n        <div class=\"root -cx-PRIVATE-Page__root\">\\n        \\n            <div class=\"page -cx-PRIVATE-Page__body\">\\n                \\n                    \\n                        <header class=\"top-bar top-bar-new -cx-PRIVATE-NavBar__root\">\\n    <div class=\"top-bar-wrapper -cx-PRIVATE-NavBar__wrapper\">\\n        <div class=\"logo -cx-PRIVATE-NavBar__logo\"><a href=\"/\">Instagram</a></div>\\n\\n        <div class=\"top-bar-left -cx-PRIVATE-NavBar__topBarLeft\">\\n            <ul class=\"top-bar-actions\">\\n                <li>\\n                    <a class=\"top-bar-home\" href=\"/\" label=Home><i></i></a>\\n                </li>\\n            </ul>\\n        </div>\\n\\n        \\n            <div class=\"top-bar-right account-state\" id=\"top_bar_right\">\\n                <ul class=\"top-bar-actions -cx-PRIVATE-NavBar__topBarActions\">\\n                    \\n                    \\n                    <li id=\"link_profile\" class=\"link-signin -cx-PRIVATE-NavBar__signIn\">\\n                        <a href=\"/accounts/login/\" class=\"loginLink\">\\n                            <i></i>\\n                            <strong class=\"-cx-PRIVATE-NavBar__signInText\">Log in</strong>\\n                        </a>\\n                    </li>\\n                    \\n                </ul>\\n            </div>\\n        \\n    </div>\\n</header> <!-- .top-bar -->\\n                    \\n                \\n\\n                \\n                <div class=\"main -cx-PRIVATE-Page__main\">\\n                    \\n    <div class=\"error-container -cx-PRIVATE-ErrorPage__errorContainer\">\\n    \\n\\n    <h2>Sorry, this page isn&#39;t available.</h2>\\n\\n    <p>\\n        The link you followed may be broken, or the page may have been removed.\\n        <a href=\"/\">Go back to Instagram.</a>\\n    </p>\\n\\n\\n\\n    </div>\\n\\n                </div> <!-- .main -->\\n                \\n\\n            </div> <!-- .page -->\\n\\n            \\n            <footer class=\"page-footer -cx-PRIVATE-Footer__root\" role=\"contentinfo\">\\n                <div class=\"wrapper -cx-PRIVATE-Footer__wrapper\">\\n                    <nav class=\"-cx-PRIVATE-Footer__nav\">\\n                        <ul class=\"-cx-PRIVATE-Footer__navItems\">\\n                            <li><a href=\"/about/us/\">About us</a></li>\\n                            <li><a href=\"http://help.instagram.com/\">Support</a></li>\\n                            <li><a href=\"http://blog.instagram.com/\">Blog</a></li>\\n                            <li><a href=\"http://instagram.com/press/\">Press</a></li>\\n                            <li><a href=\"/developer/\">API</a></li>\\n                            <li><a href=\"/about/jobs/\">Jobs</a></li>\\n                            <li><a href=\"/legal/privacy/\">Privacy</a></li>\\n                            <li><a href=\"/legal/terms/\">Terms</a></li>\\n                        </ul>\\n                    </nav>\\n\\n                    <p class=\"copyright -cx-PRIVATE-Footer__copyright\">&copy; 2016 Instagram</p>\\n                </div>\\n            </footer>\\n            \\n        \\n        <div id=\"reactModalMountPoint\"></div>\\n    </div> <!-- .root -->\\n    \\n    \\n\\n        \\n    <script src=//instagramstatic-a.akamaihd.net/h1/scripts/polyfills/es5-shim.min.js/6514c5e08593.js></script>\\n<script src=//instagramstatic-a.akamaihd.net/h1/scripts/polyfills/es5-sham.min.js/fc3c22cf2d67.js></script>\\n<script type=\"text/javascript\">window._sharedData = {\"country_code\": \"US\", \"language_code\": \"en\", \"gatekeepers\": {\"cc\": true, \"ra\": true}, \"show_app_install\": true, \"static_root\": \"//instagramstatic-a.akamaihd.net/h1\", \"platform\": \"web\", \"activity_counts\": null, \"hostname\": \"www.instagram.com\", \"entry_data\": {}, \"qe\": {\"profile\": {\"p\": {}, \"g\": \"\"}, \"su_universe\": {\"p\": {}, \"g\": \"\"}, \"us\": {\"p\": {\"use_continue_text\": \"false\"}, \"g\": \"continue_vs_signup_text_control_03\"}, \"freq\": {\"p\": {}, \"g\": \"\"}, \"us_li\": {\"p\": {}, \"g\": \"\"}, \"discovery\": {\"p\": {}, \"g\": \"\"}}, \"display_properties_server_guess\": {\"viewport_width\": 360, \"pixel_ratio\": 1.5}, \"config\": {\"viewer\": null, \"csrf_token\": \"NOTPROVIDED\"}, \"environment_switcher_visible_server_guess\": true};</script>\\n\\n        \\n<script>\\n!function(f,b,e,v,n,t,s){if(f.fbq)return;n=f.fbq=function(){n.callMethod?\\nn.callMethod.apply(n,arguments):n.queue.push(arguments)};if(!f._fbq)f._fbq=n;\\nn.push=n;n.loaded=!0;n.version=\\'2.0\\';n.queue=[];t=b.createElement(e);t.async=!0;\\nt.src=v;s=b.getElementsByTagName(e)[0];s.parentNode.insertBefore(t,s)}(window,\\ndocument,\\'script\\',\\'//connect.facebook.net/en_US/fbevents.js\\');\\n\\nfbq(\\'init\\', \\'1425767024389221\\');\\n\\nfbq(\\'track\\', \\'PageView\\');\\n\\n\\n</script>\\n<noscript>\\n\\n\\n</noscript>\\n\\n    \\n    <script type=\"text/javascript\">window._timings.domInteractive = Date.now()</script>\\n\\n    </body>\\n</html>'"
      ]
     },
     "execution_count": 408,
     "metadata": {},
     "output_type": "execute_result"
    }
   ],
   "source": [
    "import requests  \n",
    "#r= requests.get('https://api.instagram.com/v1/locations/search?lat=37.752678&lng=-122.411722&access_token=ACCESS-TOKEN')\n",
    "client_id='89cd60036b3f4e8a90a77a79d67ba0e5'\n",
    "client_secret='c97998a94bca482882d43361db640004'\n",
    "payload = {'client_id': client_id, 'client_secret': client_secret, 'grant_type':'authorization_code'}\n",
    "r = requests.post(\"https://api.instagram.com/oauth2/token\", data = payload)\n",
    "#access_token = r.json()['access_token']\n",
    "r.text"
   ]
  },
  {
   "cell_type": "code",
   "execution_count": 405,
   "metadata": {
    "collapsed": false
   },
   "outputs": [],
   "source": [
    "s = requests.get('https://api.instagram.com/oauth/authorize/?client_id=CLIENT-ID&redirect_uri=REDIRECT-URI&response_type=code')"
   ]
  },
  {
   "cell_type": "code",
   "execution_count": 407,
   "metadata": {
    "collapsed": false
   },
   "outputs": [
    {
     "data": {
      "text/plain": [
       "u'<!DOCTYPE html>\\n<!--[if lt IE 7]>      <html lang=\"en\" class=\"no-js lt-ie9 lt-ie8 lt-ie7 not-logged-in \"> <![endif]-->\\n<!--[if IE 7]>         <html lang=\"en\" class=\"no-js lt-ie9 lt-ie8 not-logged-in \"> <![endif]-->\\n<!--[if IE 8]>         <html lang=\"en\" class=\"no-js lt-ie9 not-logged-in \"> <![endif]-->\\n<!--[if gt IE 8]><!--> <html lang=\"en\" class=\"no-js not-logged-in \"> <!--<![endif]-->\\n    <head>\\n        \\n    <script type=\"text/javascript\">window._timings = {\"domLoading\": Date.now()}</script>\\n\\n        <meta charset=\"utf-8\">\\n        <meta http-equiv=\"X-UA-Compatible\" content=\"IE=edge\">\\n\\n        <title>Log in &mdash; Instagram</title>\\n\\n        <script type=\"text/javascript\">\\n  WebFontConfig = {\\n    custom: {\\n      families: [\\'proxima-nova:n3,n4,n6,n7\\'],\\n    }\\n  };\\n</script>\\n<script src=\"//instagramstatic-a.akamaihd.net/h1/scripts/webfont.js/c0456c81549b.js\" type=\"text/javascript\" async></script>\\n\\n<style type=\"text/css\">\\n  /* @license\\n   * MyFonts Webfont Build ID 2164953, 2012-03-23T23:06:30-0400\\n   *\\n   * The fonts listed in this notice are subject to the End User License\\n   * Agreement(s) entered into by the website owner. All other parties are\\n   * explicitly restricted from using the Licensed Webfonts(s).\\n   *\\n   * You may obtain a valid license at the URLs below.\\n   *\\n   *\\n   * Webfont: Proxima Nova Light by Mark Simonson\\n   * URL: http://www.myfonts.com/fonts/marksimonson/proxima-nova/light/\\n   * Licensed pageviews: unlimited\\n   *\\n   * Webfont: Proxima Nova Regular by Mark Simonson\\n   * URL: http://www.myfonts.com/fonts/marksimonson/proxima-nova/regular/\\n   * Licensed pageviews: unlimited\\n   *\\n   * Webfont: Proxima Nova Semibold by Mark Simonson\\n   * URL: http://www.myfonts.com/fonts/marksimonson/proxima-nova/semibold/\\n   * Licensed pageviews: unlimited\\n   *\\n   * Webfont: Proxima Nova Bold Italic by Mark Simonson\\n   * URL: http://www.myfonts.com/fonts/marksimonson/proxima-nova/bold-it/\\n   * Licensed pageviews: unlimited\\n   *\\n   * Webfont: Proxima Nova Bold by Mark Simonson\\n   * URL: http://www.myfonts.com/fonts/marksimonson/proxima-nova/bold/\\n   * Licensed pageviews: unlimited\\n   *\\n   * Webfont: Proxima Nova Italic by Mark Simonson\\n   * URL: http://www.myfonts.com/fonts/marksimonson/proxima-nova/regular-it/\\n   * Licensed pageviews: unlimited\\n   *\\n   *\\n   * License: http://www.myfonts.com/viewlicense?type=web&buildid=2164953\\n   * Webfonts copyright: Copyright (c) Mark Simonson, 2005. All rights reserved.\\n   *\\n   * (c) 2012 Bitstream Inc\\n   */\\n  @font-face {\\n    font-family: \\'proxima-nova\\';\\n    src: url(\\' //instagramstatic-a.akamaihd.net/h1/webfonts/proximanova-bold-webfont.eot/115b1f7f9c04.eot\\');\\n    src: url(\\' //instagramstatic-a.akamaihd.net/h1/webfonts/proximanova-bold-webfont.eot/115b1f7f9c04.eot?#iefix\\') format(\"embedded-opentype\"),\\n      url(\\' //instagramstatic-a.akamaihd.net/h1/webfonts/proximanova-bold-webfont.woff/618250d25a4d.woff\\') format(\"woff\"),\\n      url(\\' //instagramstatic-a.akamaihd.net/h1/webfonts/proximanova-bold-webfont.ttf/646346e03084.ttf\\') format(\"truetype\"),\\n      url(\\' //instagramstatic-a.akamaihd.net/h1/webfonts/proximanova-bold-webfont.svg/e55a9d6051e8.svg#ProximaNovaBold\\') format(\"svg\");\\n    font-weight: bold;\\n    font-style: normal; }\\n\\n  @font-face {\\n    font-family: \\'proxima-nova\\';\\n    src: url(\\' //instagramstatic-a.akamaihd.net/h1/webfonts/proximanova-boldit-webfont.eot/1cbb869da891.eot\\');\\n    src: url(\\' //instagramstatic-a.akamaihd.net/h1/webfonts/proximanova-boldit-webfont.eot/1cbb869da891.eot?#iefix\\') format(\"embedded-opentype\"),\\n      url(\\' //instagramstatic-a.akamaihd.net/h1/webfonts/proximanova-boldit-webfont.woff/b1cf049474c9.woff\\') format(\"woff\"),\\n      url(\\' //instagramstatic-a.akamaihd.net/h1/webfonts/proximanova-boldit-webfont.ttf/3adb020ceae3.ttf\\') format(\"truetype\"),\\n      url(\\' //instagramstatic-a.akamaihd.net/h1/webfonts/proximanova-boldit-webfont.svg/29948a2d3c58.svg#ProximaNovaBoldItalic\\') format(\"svg\");\\n    font-weight: bold;\\n    font-style: italic; }\\n\\n  @font-face {\\n    font-family: \\'proxima-nova\\';\\n    src: url(\\' //instagramstatic-a.akamaihd.net/h1/webfonts/proximanova-reg-webfont.eot/12af77715cee.eot\\');\\n    src: url(\\' //instagramstatic-a.akamaihd.net/h1/webfonts/proximanova-reg-webfont.eot/12af77715cee.eot?#iefix\\') format(\"embedded-opentype\"),\\n      url(\\' //instagramstatic-a.akamaihd.net/h1/webfonts/proximanova-reg-webfont.woff/a9a9773b8e29.woff\\') format(\"woff\"),\\n      url(\\' //instagramstatic-a.akamaihd.net/h1/webfonts/proximanova-reg-webfont.ttf/99e19808976a.ttf\\') format(\"truetype\"),\\n      url(\\' //instagramstatic-a.akamaihd.net/h1/webfonts/proximanova-reg-webfont.svg/c33d2fd56309.svg#ProximaNovaRegular\\') format(\"svg\");\\n    font-weight: normal;\\n    font-style: normal; }\\n\\n  @font-face {\\n    font-family: \\'proxima-nova\\';\\n    src: url(\\' //instagramstatic-a.akamaihd.net/h1/webfonts/proximanova-regit-webfont.eot/1bbbd1312b0d.eot\\');\\n    src: url(\\' //instagramstatic-a.akamaihd.net/h1/webfonts/proximanova-regit-webfont.eot/1bbbd1312b0d.eot?#iefix\\') format(\"embedded-opentype\"),\\n      url(\\' //instagramstatic-a.akamaihd.net/h1/webfonts/proximanova-regit-webfont.woff/9e306befca91.woff\\') format(\"woff\"),\\n      url(\\' //instagramstatic-a.akamaihd.net/h1/webfonts/proximanova-regit-webfont.ttf/4a8663684135.ttf\\') format(\"truetype\"),\\n      url(\\' //instagramstatic-a.akamaihd.net/h1/webfonts/proximanova-regit-webfont.svg/876278d4b189.svg#ProximaNovaRegularItalic\\') format(\"svg\");\\n    font-weight: normal;\\n    font-style: italic; }\\n\\n  @font-face {\\n    font-family: \\'proxima-nova\\';\\n    src: url(\\' //instagramstatic-a.akamaihd.net/h1/webfonts/proximanova-sbold-webfont.eot/5016edf79e1d.eot\\');\\n    src: url(\\' //instagramstatic-a.akamaihd.net/h1/webfonts/proximanova-sbold-webfont.eot/5016edf79e1d.eot?#iefix\\') format(\"embedded-opentype\"),\\n      url(\\' //instagramstatic-a.akamaihd.net/h1/webfonts/proximanova-sbold-webfont.woff/615c1b06d8fa.woff\\') format(\"woff\"),\\n      url(\\' //instagramstatic-a.akamaihd.net/h1/webfonts/proximanova-sbold-webfont.ttf/2973bd483f7a.ttf\\') format(\"truetype\"),\\n      url(\\' //instagramstatic-a.akamaihd.net/h1/webfonts/proximanova-sbold-webfont.svg/868597833e49.svg#ProximaNovaSemibold\\') format(\"svg\");\\n    font-weight: 600;\\n    font-style: normal; }\\n</style>\\n\\n  <style type=\"text/css\">\\n  @font-face {\\n    font-family: \\'proxima-nova\\';\\n    src: url(\\' //instagramstatic-a.akamaihd.net/h1/webfonts/proximanova-light-webfont.eot/63c84728610f.eot\\');\\n    src: url(\\' //instagramstatic-a.akamaihd.net/h1/webfonts/proximanova-light-webfont.eot/63c84728610f.eot?#iefix\\') format(\"embedded-opentype\"),\\n      url(\\' //instagramstatic-a.akamaihd.net/h1/webfonts/proximanova-light-webfont.woff/66bbe029f180.woff\\') format(\"woff\"),\\n      url(\\' //instagramstatic-a.akamaihd.net/h1/webfonts/proximanova-light-webfont.ttf/eb408516399b.ttf\\') format(\"truetype\"),\\n      url(\\' //instagramstatic-a.akamaihd.net/h1/webfonts/proximanova-light-webfont.svg/858f6a9b7ef3.svg#ProximaNovaLight\\') format(\"svg\");\\n    font-weight: 300;\\n    font-style: normal; }\\n</style>\\n\\n\\n        \\n    \\n        <meta name=\"robots\" content=\"noimageindex\">\\n        \\n    <meta name=\"mobile-web-app-capable\" content=\"yes\">\\n    <meta name=\"apple-mobile-web-app-capable\" content=\"yes\">\\n    <meta name=\"apple-mobile-web-app-status-bar-style\" content=\"black\">\\n\\n\\n        \\n    <meta id=\"viewport\" name=\"viewport\" content=\"width=device-width, user-scalable=no, initial-scale=1, minimum-scale=1, maximum-scale=1\">\\n\\n\\n        <script type=\"text/javascript\">\\n        (function() {\\n            var docElement = document.documentElement;\\n            var classRE = new RegExp(\\'(^|\\\\\\\\s)no-js(\\\\\\\\s|$)\\');\\n            var className = docElement.className;\\n            docElement.className = className.replace(classRE, \\'$1js$2\\');\\n        })();\\n        </script>\\n\\n        \\n    \\n    \\n        <link rel=\"apple-touch-icon-precomposed\" sizes=\"76x76\" href=\"//instagramstatic-a.akamaihd.net/h1/images/ico/apple-touch-icon-76x76-precomposed.png/932e4d9af891.png\">\\n        <link rel=\"apple-touch-icon-precomposed\" sizes=\"120x120\" href=\"//instagramstatic-a.akamaihd.net/h1/images/ico/apple-touch-icon-120x120-precomposed.png/004705c9353f.png\">\\n        <link rel=\"apple-touch-icon-precomposed\" sizes=\"152x152\" href=\"//instagramstatic-a.akamaihd.net/h1/images/ico/apple-touch-icon-152x152-precomposed.png/82467bc9bcce.png\">\\n        <link rel=\"apple-touch-icon-precomposed\" sizes=\"167x167\" href=\"//instagramstatic-a.akamaihd.net/h1/images/ico/apple-touch-icon-167x167-precomposed.png/515cb4eeeeee.png\">\\n        <link rel=\"apple-touch-icon-precomposed\" sizes=\"180x180\" href=\"//instagramstatic-a.akamaihd.net/h1/images/ico/apple-touch-icon-180x180-precomposed.png/94fd767f257b.png\">\\n        <link rel=\"icon\" sizes=\"192x192\" href=\"//instagramstatic-a.akamaihd.net/h1/images/ico/favicon-192.png/b407fa101800.png\">\\n    \\n    <link rel=\"mask-icon\" href=\"//instagramstatic-a.akamaihd.net/h1/images/ico/favicon.svg/9d8680ab8a3c.svg\" color=\"#262626\"><link rel=\"shortcut icon\" type=\"image/x-icon\" href=\"//instagramstatic-a.akamaihd.net/h1/images/ico/favicon.ico/dfa85bb1fd63.ico\">\\n    \\n    \\n    <link href=\"//instagramstatic-a.akamaihd.net/h1/styles/distillery/dialog-main.css/26dbd0c65924.css\" type=\"text/css\" rel=\"stylesheet\"></link>\\n    <!--[if lt IE 9]>\\n    <style>\\n        .dialog-outer {\\n            min-height: 0;\\n        }\\n    </style>\\n    <![endif]-->\\n\\n    \\n<script src=\"//instagramstatic-a.akamaihd.net/h1/scripts/jquery.js/213ba890e802.js\" type=\"text/javascript\"></script>\\n<script src=\"//instagramstatic-a.akamaihd.net/h1/scripts/bluebar.js/57733d51aed5.js\" type=\"text/javascript\"></script>\\n<script type=\"text/javascript\">\\n    $(document).ready(function() {\\n        $(\"#id_username\").focus();\\n    });\\n</script>\\n\\n\\n    </head>\\n    <body class=\"p-dialog oauth-login\">\\n        \\n    \\n        <div class=\"root -cx-PRIVATE-Page__root\">\\n        \\n<section class=\"dialog-outer\">\\n    <div class=\"dialog\">\\n        <header>\\n            <h1 class=\"logo\">Instagram</h1>\\n        </header>\\n        <div class=\"dialog-main\">\\n            \\n\\n\\n\\n\\n\\n\\n<form method=\"POST\" id=\"login-form\" class=\"adjacent\" action=\"/accounts/login/?force_classic_login=&amp;next=/oauth/authorize/%3Fclient_id%3DCLIENT-ID%26redirect_uri%3DREDIRECT-URI%26response_type%3Dcode\">\\n    <input type=\"hidden\" name=\"csrfmiddlewaretoken\" value=\"I9fCzBxk2DGlD2kG8mzt9JTm9B3HzWMB\"/>\\n    <p><label for=\"id_username\">Username:</label> <input autocapitalize=\"off\" autocorrect=\"off\" id=\"id_username\" maxlength=\"30\" name=\"username\" type=\"text\" /></p>\\n<p><label for=\"id_password\">Password:</label> <input autocapitalize=\"off\" autocorrect=\"off\" id=\"id_password\" name=\"password\" type=\"password\" /></p>\\n    <p class=\"form-actions\">\\n        <a href=\"/accounts/password/reset/\">Forgot password?</a>\\n        <input type=\"submit\" class=\"button-green\" value=\"Log in\" />\\n    </p>\\n</form>\\n\\n<script>\\n    $(window).load(\\n        function() {\\n            $(\"#id_username\").focus();\\n        }\\n    );\\n</script>\\n        </div>\\n    </div>\\n</section>\\n\\n        <div id=\"reactModalMountPoint\"></div>\\n    </div> <!-- .root -->\\n    \\n    \\n\\n        \\n    <script src=//instagramstatic-a.akamaihd.net/h1/scripts/polyfills/es5-shim.min.js/6514c5e08593.js></script>\\n<script src=//instagramstatic-a.akamaihd.net/h1/scripts/polyfills/es5-sham.min.js/fc3c22cf2d67.js></script>\\n<script type=\"text/javascript\">window._sharedData = {\"country_code\": \"US\", \"language_code\": \"en\", \"gatekeepers\": {\"cc\": true, \"ra\": true}, \"show_app_install\": true, \"static_root\": \"//instagramstatic-a.akamaihd.net/h1\", \"platform\": \"web\", \"activity_counts\": null, \"hostname\": \"www.instagram.com\", \"entry_data\": {}, \"qe\": {\"profile\": {\"p\": {}, \"g\": \"\"}, \"su_universe\": {\"p\": {}, \"g\": \"\"}, \"us\": {\"p\": {\"display_reg_on_pill\": \"false\"}, \"g\": \"logged_out_mobile_pill_upsell_control_02\"}, \"freq\": {\"p\": {}, \"g\": \"\"}, \"us_li\": {\"p\": {}, \"g\": \"\"}, \"discovery\": {\"p\": {}, \"g\": \"\"}}, \"display_properties_server_guess\": {\"viewport_width\": 360, \"pixel_ratio\": 1.5}, \"config\": {\"viewer\": null, \"csrf_token\": \"I9fCzBxk2DGlD2kG8mzt9JTm9B3HzWMB\"}, \"environment_switcher_visible_server_guess\": true};</script>\\n\\n        \\n<script>\\n!function(f,b,e,v,n,t,s){if(f.fbq)return;n=f.fbq=function(){n.callMethod?\\nn.callMethod.apply(n,arguments):n.queue.push(arguments)};if(!f._fbq)f._fbq=n;\\nn.push=n;n.loaded=!0;n.version=\\'2.0\\';n.queue=[];t=b.createElement(e);t.async=!0;\\nt.src=v;s=b.getElementsByTagName(e)[0];s.parentNode.insertBefore(t,s)}(window,\\ndocument,\\'script\\',\\'//connect.facebook.net/en_US/fbevents.js\\');\\n\\nfbq(\\'init\\', \\'1425767024389221\\');\\n\\nfbq(\\'track\\', \\'PageView\\');\\n\\nfbq(\\'track\\', \"ViewContent\");\\n\\n\\nfbq(\\'track\\', \"6021483118929\", {\\'value\\':\"0.00\",\\'currency\\':\"USD\"});\\n\\n</script>\\n<noscript>\\n\\n<img height=\"1\" width=\"1\" style=\"display:none\"\\nsrc=\"https://www.facebook.com/tr?id=1425767024389221&amp;ev=ViewContent&amp;noscript=1\"\\n/>\\n\\n\\n<img height=\"1\" width=\"1\" alt=\"\" style=\"display:none\" src=\"https://www.facebook.com/tr?ev=6021483118929&amp;cd[value]=0.00&amp;cd[currency]=USD&amp;noscript=1\" />\\n\\n</noscript>\\n\\n    \\n    <script type=\"text/javascript\">window._timings.domInteractive = Date.now()</script>\\n\\n    </body>\\n</html>'"
      ]
     },
     "execution_count": 407,
     "metadata": {},
     "output_type": "execute_result"
    }
   ],
   "source": [
    "s.text"
   ]
  },
  {
   "cell_type": "code",
   "execution_count": null,
   "metadata": {
    "collapsed": true
   },
   "outputs": [],
   "source": [
    "############################\n",
    "### A Little More Morbid ###\n",
    "############################"
   ]
  },
  {
   "cell_type": "code",
   "execution_count": 148,
   "metadata": {
    "collapsed": false
   },
   "outputs": [
    {
     "data": {
      "text/html": [
       "<div>\n",
       "<table border=\"1\" class=\"dataframe\">\n",
       "  <thead>\n",
       "    <tr style=\"text-align: right;\">\n",
       "      <th></th>\n",
       "      <th>Unnamed: 0</th>\n",
       "      <th>name</th>\n",
       "      <th>age</th>\n",
       "      <th>gender</th>\n",
       "      <th>raceethnicity</th>\n",
       "      <th>month</th>\n",
       "      <th>day</th>\n",
       "      <th>year</th>\n",
       "      <th>streetaddress</th>\n",
       "      <th>city</th>\n",
       "      <th>state</th>\n",
       "      <th>lawenforcementagency</th>\n",
       "      <th>cause</th>\n",
       "      <th>armed</th>\n",
       "      <th>county_income</th>\n",
       "    </tr>\n",
       "  </thead>\n",
       "  <tbody>\n",
       "    <tr>\n",
       "      <th>0</th>\n",
       "      <td>0</td>\n",
       "      <td>A'donte Washington</td>\n",
       "      <td>16</td>\n",
       "      <td>Male</td>\n",
       "      <td>Black</td>\n",
       "      <td>February</td>\n",
       "      <td>23</td>\n",
       "      <td>2015</td>\n",
       "      <td>Clearview Ln</td>\n",
       "      <td>Millbrook</td>\n",
       "      <td>AL</td>\n",
       "      <td>Millbrook Police Department</td>\n",
       "      <td>Gunshot</td>\n",
       "      <td>No</td>\n",
       "      <td>54766</td>\n",
       "    </tr>\n",
       "    <tr>\n",
       "      <th>1</th>\n",
       "      <td>1</td>\n",
       "      <td>Aaron Rutledge</td>\n",
       "      <td>27</td>\n",
       "      <td>Male</td>\n",
       "      <td>White</td>\n",
       "      <td>April</td>\n",
       "      <td>2</td>\n",
       "      <td>2015</td>\n",
       "      <td>300 block Iris Park Dr</td>\n",
       "      <td>Pineville</td>\n",
       "      <td>LA</td>\n",
       "      <td>Rapides Parish Sheriff's Office</td>\n",
       "      <td>Gunshot</td>\n",
       "      <td>No</td>\n",
       "      <td>40930</td>\n",
       "    </tr>\n",
       "    <tr>\n",
       "      <th>2</th>\n",
       "      <td>2</td>\n",
       "      <td>Aaron Siler</td>\n",
       "      <td>26</td>\n",
       "      <td>Male</td>\n",
       "      <td>White</td>\n",
       "      <td>March</td>\n",
       "      <td>14</td>\n",
       "      <td>2015</td>\n",
       "      <td>22nd Ave and 56th St</td>\n",
       "      <td>Kenosha</td>\n",
       "      <td>WI</td>\n",
       "      <td>Kenosha Police Department</td>\n",
       "      <td>Gunshot</td>\n",
       "      <td>No</td>\n",
       "      <td>54930</td>\n",
       "    </tr>\n",
       "    <tr>\n",
       "      <th>3</th>\n",
       "      <td>3</td>\n",
       "      <td>Aaron Valdez</td>\n",
       "      <td>25</td>\n",
       "      <td>Male</td>\n",
       "      <td>Hispanic/Latino</td>\n",
       "      <td>March</td>\n",
       "      <td>11</td>\n",
       "      <td>2015</td>\n",
       "      <td>3000 Seminole Ave</td>\n",
       "      <td>South Gate</td>\n",
       "      <td>CA</td>\n",
       "      <td>South Gate Police Department</td>\n",
       "      <td>Gunshot</td>\n",
       "      <td>Firearm</td>\n",
       "      <td>55909</td>\n",
       "    </tr>\n",
       "    <tr>\n",
       "      <th>4</th>\n",
       "      <td>4</td>\n",
       "      <td>Adam Jovicic</td>\n",
       "      <td>29</td>\n",
       "      <td>Male</td>\n",
       "      <td>White</td>\n",
       "      <td>March</td>\n",
       "      <td>19</td>\n",
       "      <td>2015</td>\n",
       "      <td>364 Hiwood Ave</td>\n",
       "      <td>Munroe Falls</td>\n",
       "      <td>OH</td>\n",
       "      <td>Kent Police Department</td>\n",
       "      <td>Gunshot</td>\n",
       "      <td>No</td>\n",
       "      <td>49669</td>\n",
       "    </tr>\n",
       "  </tbody>\n",
       "</table>\n",
       "</div>"
      ],
      "text/plain": [
       "   Unnamed: 0                name  age gender    raceethnicity     month  day  \\\n",
       "0           0  A'donte Washington   16   Male            Black  February   23   \n",
       "1           1      Aaron Rutledge   27   Male            White     April    2   \n",
       "2           2         Aaron Siler   26   Male            White     March   14   \n",
       "3           3        Aaron Valdez   25   Male  Hispanic/Latino     March   11   \n",
       "4           4        Adam Jovicic   29   Male            White     March   19   \n",
       "\n",
       "   year           streetaddress          city state  \\\n",
       "0  2015            Clearview Ln     Millbrook    AL   \n",
       "1  2015  300 block Iris Park Dr     Pineville    LA   \n",
       "2  2015    22nd Ave and 56th St       Kenosha    WI   \n",
       "3  2015       3000 Seminole Ave    South Gate    CA   \n",
       "4  2015          364 Hiwood Ave  Munroe Falls    OH   \n",
       "\n",
       "              lawenforcementagency    cause    armed  county_income  \n",
       "0      Millbrook Police Department  Gunshot       No          54766  \n",
       "1  Rapides Parish Sheriff's Office  Gunshot       No          40930  \n",
       "2        Kenosha Police Department  Gunshot       No          54930  \n",
       "3     South Gate Police Department  Gunshot  Firearm          55909  \n",
       "4           Kent Police Department  Gunshot       No          49669  "
      ]
     },
     "execution_count": 148,
     "metadata": {},
     "output_type": "execute_result"
    }
   ],
   "source": [
    "killings = pd.read_csv('./data/police-killings.csv')\n",
    "killings.head()"
   ]
  },
  {
   "cell_type": "code",
   "execution_count": 149,
   "metadata": {
    "collapsed": false
   },
   "outputs": [
    {
     "data": {
      "text/html": [
       "<div>\n",
       "<table border=\"1\" class=\"dataframe\">\n",
       "  <thead>\n",
       "    <tr style=\"text-align: right;\">\n",
       "      <th></th>\n",
       "      <th>Unnamed: 0</th>\n",
       "      <th>age</th>\n",
       "      <th>day</th>\n",
       "      <th>year</th>\n",
       "      <th>county_income</th>\n",
       "    </tr>\n",
       "  </thead>\n",
       "  <tbody>\n",
       "    <tr>\n",
       "      <th>count</th>\n",
       "      <td>467.000000</td>\n",
       "      <td>467.000000</td>\n",
       "      <td>467.000000</td>\n",
       "      <td>467.0</td>\n",
       "      <td>467.000000</td>\n",
       "    </tr>\n",
       "    <tr>\n",
       "      <th>mean</th>\n",
       "      <td>233.000000</td>\n",
       "      <td>37.351178</td>\n",
       "      <td>15.830835</td>\n",
       "      <td>2015.0</td>\n",
       "      <td>52527.331906</td>\n",
       "    </tr>\n",
       "    <tr>\n",
       "      <th>std</th>\n",
       "      <td>134.955548</td>\n",
       "      <td>12.944617</td>\n",
       "      <td>8.658970</td>\n",
       "      <td>0.0</td>\n",
       "      <td>12948.263811</td>\n",
       "    </tr>\n",
       "    <tr>\n",
       "      <th>min</th>\n",
       "      <td>0.000000</td>\n",
       "      <td>16.000000</td>\n",
       "      <td>1.000000</td>\n",
       "      <td>2015.0</td>\n",
       "      <td>22545.000000</td>\n",
       "    </tr>\n",
       "    <tr>\n",
       "      <th>25%</th>\n",
       "      <td>116.500000</td>\n",
       "      <td>28.000000</td>\n",
       "      <td>8.000000</td>\n",
       "      <td>2015.0</td>\n",
       "      <td>43804.000000</td>\n",
       "    </tr>\n",
       "    <tr>\n",
       "      <th>50%</th>\n",
       "      <td>233.000000</td>\n",
       "      <td>35.000000</td>\n",
       "      <td>16.000000</td>\n",
       "      <td>2015.0</td>\n",
       "      <td>50856.000000</td>\n",
       "    </tr>\n",
       "    <tr>\n",
       "      <th>75%</th>\n",
       "      <td>349.500000</td>\n",
       "      <td>45.000000</td>\n",
       "      <td>23.000000</td>\n",
       "      <td>2015.0</td>\n",
       "      <td>56832.000000</td>\n",
       "    </tr>\n",
       "    <tr>\n",
       "      <th>max</th>\n",
       "      <td>466.000000</td>\n",
       "      <td>87.000000</td>\n",
       "      <td>31.000000</td>\n",
       "      <td>2015.0</td>\n",
       "      <td>110292.000000</td>\n",
       "    </tr>\n",
       "  </tbody>\n",
       "</table>\n",
       "</div>"
      ],
      "text/plain": [
       "       Unnamed: 0         age         day    year  county_income\n",
       "count  467.000000  467.000000  467.000000   467.0     467.000000\n",
       "mean   233.000000   37.351178   15.830835  2015.0   52527.331906\n",
       "std    134.955548   12.944617    8.658970     0.0   12948.263811\n",
       "min      0.000000   16.000000    1.000000  2015.0   22545.000000\n",
       "25%    116.500000   28.000000    8.000000  2015.0   43804.000000\n",
       "50%    233.000000   35.000000   16.000000  2015.0   50856.000000\n",
       "75%    349.500000   45.000000   23.000000  2015.0   56832.000000\n",
       "max    466.000000   87.000000   31.000000  2015.0  110292.000000"
      ]
     },
     "execution_count": 149,
     "metadata": {},
     "output_type": "execute_result"
    }
   ],
   "source": [
    "killings.describe()"
   ]
  },
  {
   "cell_type": "code",
   "execution_count": 150,
   "metadata": {
    "collapsed": false
   },
   "outputs": [
    {
     "data": {
      "text/plain": [
       "Index([u'Unnamed: 0', u'name', u'age', u'gender', u'race', u'month', u'day',\n",
       "       u'year', u'streetaddress', u'city', u'state', u'agency', u'cause',\n",
       "       u'armed', u'county_income'],\n",
       "      dtype='object')"
      ]
     },
     "execution_count": 150,
     "metadata": {},
     "output_type": "execute_result"
    }
   ],
   "source": [
    "# 1. Make the following changed to column names:\n",
    "# lawenforcementagency -> agency\n",
    "# raceethnicity        -> race\n",
    "killings.columns = killings.columns.str.replace('lawenforcementagency','agency')\n",
    "killings.columns = killings.columns.str.replace('raceethnicity','race')\n",
    "killings.columns"
   ]
  },
  {
   "cell_type": "code",
   "execution_count": 151,
   "metadata": {
    "collapsed": false
   },
   "outputs": [
    {
     "data": {
      "text/plain": [
       "Unnamed: 0       0\n",
       "name             0\n",
       "age              0\n",
       "gender           0\n",
       "race             0\n",
       "month            0\n",
       "day              0\n",
       "year             0\n",
       "streetaddress    4\n",
       "city             0\n",
       "state            0\n",
       "agency           0\n",
       "cause            0\n",
       "armed            0\n",
       "county_income    0\n",
       "dtype: int64"
      ]
     },
     "execution_count": 151,
     "metadata": {},
     "output_type": "execute_result"
    }
   ],
   "source": [
    "# 2. Show the count of missing values in each column\n",
    "killings.isnull().sum()"
   ]
  },
  {
   "cell_type": "code",
   "execution_count": 152,
   "metadata": {
    "collapsed": false
   },
   "outputs": [],
   "source": [
    "# 3. replace each null value in the dataframe with the string \"Unknown\"\n",
    "#killings[killings.streetaddress.isnull()].streetaddress\n",
    "killings = killings.fillna(value='Unknown')"
   ]
  },
  {
   "cell_type": "code",
   "execution_count": 153,
   "metadata": {
    "collapsed": false
   },
   "outputs": [
    {
     "data": {
      "text/html": [
       "<div>\n",
       "<table border=\"1\" class=\"dataframe\">\n",
       "  <thead>\n",
       "    <tr style=\"text-align: right;\">\n",
       "      <th></th>\n",
       "      <th>Unnamed: 0</th>\n",
       "      <th>age</th>\n",
       "      <th>day</th>\n",
       "      <th>year</th>\n",
       "      <th>county_income</th>\n",
       "    </tr>\n",
       "  </thead>\n",
       "  <tbody>\n",
       "    <tr>\n",
       "      <th>count</th>\n",
       "      <td>467.000000</td>\n",
       "      <td>467.000000</td>\n",
       "      <td>467.000000</td>\n",
       "      <td>467.0</td>\n",
       "      <td>467.000000</td>\n",
       "    </tr>\n",
       "    <tr>\n",
       "      <th>mean</th>\n",
       "      <td>233.000000</td>\n",
       "      <td>37.351178</td>\n",
       "      <td>15.830835</td>\n",
       "      <td>2015.0</td>\n",
       "      <td>52527.331906</td>\n",
       "    </tr>\n",
       "    <tr>\n",
       "      <th>std</th>\n",
       "      <td>134.955548</td>\n",
       "      <td>12.944617</td>\n",
       "      <td>8.658970</td>\n",
       "      <td>0.0</td>\n",
       "      <td>12948.263811</td>\n",
       "    </tr>\n",
       "    <tr>\n",
       "      <th>min</th>\n",
       "      <td>0.000000</td>\n",
       "      <td>16.000000</td>\n",
       "      <td>1.000000</td>\n",
       "      <td>2015.0</td>\n",
       "      <td>22545.000000</td>\n",
       "    </tr>\n",
       "    <tr>\n",
       "      <th>25%</th>\n",
       "      <td>116.500000</td>\n",
       "      <td>28.000000</td>\n",
       "      <td>8.000000</td>\n",
       "      <td>2015.0</td>\n",
       "      <td>43804.000000</td>\n",
       "    </tr>\n",
       "    <tr>\n",
       "      <th>50%</th>\n",
       "      <td>233.000000</td>\n",
       "      <td>35.000000</td>\n",
       "      <td>16.000000</td>\n",
       "      <td>2015.0</td>\n",
       "      <td>50856.000000</td>\n",
       "    </tr>\n",
       "    <tr>\n",
       "      <th>75%</th>\n",
       "      <td>349.500000</td>\n",
       "      <td>45.000000</td>\n",
       "      <td>23.000000</td>\n",
       "      <td>2015.0</td>\n",
       "      <td>56832.000000</td>\n",
       "    </tr>\n",
       "    <tr>\n",
       "      <th>max</th>\n",
       "      <td>466.000000</td>\n",
       "      <td>87.000000</td>\n",
       "      <td>31.000000</td>\n",
       "      <td>2015.0</td>\n",
       "      <td>110292.000000</td>\n",
       "    </tr>\n",
       "  </tbody>\n",
       "</table>\n",
       "</div>"
      ],
      "text/plain": [
       "       Unnamed: 0         age         day    year  county_income\n",
       "count  467.000000  467.000000  467.000000   467.0     467.000000\n",
       "mean   233.000000   37.351178   15.830835  2015.0   52527.331906\n",
       "std    134.955548   12.944617    8.658970     0.0   12948.263811\n",
       "min      0.000000   16.000000    1.000000  2015.0   22545.000000\n",
       "25%    116.500000   28.000000    8.000000  2015.0   43804.000000\n",
       "50%    233.000000   35.000000   16.000000  2015.0   50856.000000\n",
       "75%    349.500000   45.000000   23.000000  2015.0   56832.000000\n",
       "max    466.000000   87.000000   31.000000  2015.0  110292.000000"
      ]
     },
     "execution_count": 153,
     "metadata": {},
     "output_type": "execute_result"
    }
   ],
   "source": [
    "#validation\n",
    "#killings.isnull().sum()\n",
    "killings.describe()"
   ]
  },
  {
   "cell_type": "code",
   "execution_count": 163,
   "metadata": {
    "collapsed": false
   },
   "outputs": [
    {
     "data": {
      "text/plain": [
       "2015    467\n",
       "Name: year, dtype: int64"
      ]
     },
     "execution_count": 163,
     "metadata": {},
     "output_type": "execute_result"
    }
   ],
   "source": [
    "# 4. How many killings were there so far in 2015?\n",
    "killings[killings.year==2015].year.value_counts()"
   ]
  },
  {
   "cell_type": "code",
   "execution_count": 172,
   "metadata": {
    "collapsed": false
   },
   "outputs": [
    {
     "data": {
      "text/plain": [
       "Male      445\n",
       "Female     22\n",
       "Name: gender, dtype: int64"
      ]
     },
     "execution_count": 172,
     "metadata": {},
     "output_type": "execute_result"
    }
   ],
   "source": [
    "# 5. Of all killings, how many were male and how many female?\n",
    "killings.gender.value_counts()"
   ]
  },
  {
   "cell_type": "code",
   "execution_count": 176,
   "metadata": {
    "collapsed": false
   },
   "outputs": [
    {
     "data": {
      "text/plain": [
       "<matplotlib.text.Text at 0x1279030d0>"
      ]
     },
     "execution_count": 176,
     "metadata": {},
     "output_type": "execute_result"
    },
    {
     "data": {
      "image/png": "[encoded data removed]",
      "text/plain": [
       "<matplotlib.figure.Figure at 0x12a27ca90>"
      ]
     },
     "metadata": {},
     "output_type": "display_data"
    }
   ],
   "source": [
    "killings.gender.value_counts().plot(kind='bar', title='Killings by gender')\n",
    "plt.xlabel('Gender')\n",
    "plt.ylabel('Killings')"
   ]
  },
  {
   "cell_type": "code",
   "execution_count": 180,
   "metadata": {
    "collapsed": false
   },
   "outputs": [
    {
     "data": {
      "text/plain": [
       "Firearm               230\n",
       "No                    102\n",
       "Knife                  68\n",
       "Other                  26\n",
       "Vehicle                18\n",
       "Non-lethal firearm     14\n",
       "Unknown                 7\n",
       "Disputed                2\n",
       "Name: armed, dtype: int64"
      ]
     },
     "execution_count": 180,
     "metadata": {},
     "output_type": "execute_result"
    }
   ],
   "source": [
    "# 6. How many killings were of unarmed people?\n",
    "killings.armed.value_counts()"
   ]
  },
  {
   "cell_type": "code",
   "execution_count": 181,
   "metadata": {
    "collapsed": false
   },
   "outputs": [
    {
     "data": {
      "text/plain": [
       "<matplotlib.text.Text at 0x12a167710>"
      ]
     },
     "execution_count": 181,
     "metadata": {},
     "output_type": "execute_result"
    },
    {
     "data": {
      "image/png": "[encoded data removed]",
      "text/plain": [
       "<matplotlib.figure.Figure at 0x128cd7510>"
      ]
     },
     "metadata": {},
     "output_type": "display_data"
    }
   ],
   "source": [
    "killings.armed.value_counts().plot(kind='bar', title='Killings by armed')\n",
    "plt.xlabel('Armed')\n",
    "plt.ylabel('Killings')"
   ]
  },
  {
   "cell_type": "code",
   "execution_count": 325,
   "metadata": {
    "collapsed": false
   },
   "outputs": [
    {
     "data": {
      "text/plain": [
       "No    21.841542\n",
       "Name: armed, dtype: float64"
      ]
     },
     "execution_count": 325,
     "metadata": {},
     "output_type": "execute_result"
    }
   ],
   "source": [
    "# 7. What percentage of all killings were unarmed?\n",
    "100* (killings.armed[killings.armed=='No'].value_counts() /killings.armed.count())"
   ]
  },
  {
   "cell_type": "code",
   "execution_count": 184,
   "metadata": {
    "collapsed": false
   },
   "outputs": [
    {
     "data": {
      "text/plain": [
       "CA    74\n",
       "TX    46\n",
       "FL    29\n",
       "AZ    25\n",
       "OK    22\n",
       "Name: state, dtype: int64"
      ]
     },
     "execution_count": 184,
     "metadata": {},
     "output_type": "execute_result"
    }
   ],
   "source": [
    "# 8. What are the 5 states with the most killings?\n",
    "killings.state.value_counts().head(5)"
   ]
  },
  {
   "cell_type": "code",
   "execution_count": 185,
   "metadata": {
    "collapsed": false
   },
   "outputs": [
    {
     "data": {
      "text/plain": [
       "White                     236\n",
       "Black                     135\n",
       "Hispanic/Latino            67\n",
       "Unknown                    15\n",
       "Asian/Pacific Islander     10\n",
       "Native American             4\n",
       "Name: race, dtype: int64"
      ]
     },
     "execution_count": 185,
     "metadata": {},
     "output_type": "execute_result"
    }
   ],
   "source": [
    "# 9. Show a value counts of deaths for each race\n",
    "killings.race.value_counts()"
   ]
  },
  {
   "cell_type": "code",
   "execution_count": 192,
   "metadata": {
    "collapsed": false
   },
   "outputs": [
    {
     "data": {
      "text/plain": [
       "<matplotlib.axes._subplots.AxesSubplot at 0x127a8c810>"
      ]
     },
     "execution_count": 192,
     "metadata": {},
     "output_type": "execute_result"
    },
    {
     "data": {
      "image/png": "[encoded data removed]",
      "text/plain": [
       "<matplotlib.figure.Figure at 0x12760dad0>"
      ]
     },
     "metadata": {},
     "output_type": "display_data"
    }
   ],
   "source": [
    "# 10. Display a histogram of ages of all killings\n",
    "killings.age.hist(bins=25)"
   ]
  },
  {
   "cell_type": "code",
   "execution_count": 198,
   "metadata": {
    "collapsed": false
   },
   "outputs": [
    {
     "data": {
      "text/plain": [
       "array([[<matplotlib.axes._subplots.AxesSubplot object at 0x11da2d1d0>,\n",
       "        <matplotlib.axes._subplots.AxesSubplot object at 0x12125e0d0>],\n",
       "       [<matplotlib.axes._subplots.AxesSubplot object at 0x1212de4d0>,\n",
       "        <matplotlib.axes._subplots.AxesSubplot object at 0x121340210>],\n",
       "       [<matplotlib.axes._subplots.AxesSubplot object at 0x1213c4490>,\n",
       "        <matplotlib.axes._subplots.AxesSubplot object at 0x121410b10>]], dtype=object)"
      ]
     },
     "execution_count": 198,
     "metadata": {},
     "output_type": "execute_result"
    },
    {
     "data": {
      "image/png": "[encoded data removed]",
      "text/plain": [
       "<matplotlib.figure.Figure at 0x11d668cd0>"
      ]
     },
     "metadata": {},
     "output_type": "display_data"
    }
   ],
   "source": [
    "# 11. Show 6 histograms of ages by race\n",
    "killings.age.hist(by=killings.race, bins=10, sharex=True, sharey=True)"
   ]
  },
  {
   "cell_type": "code",
   "execution_count": 203,
   "metadata": {
    "collapsed": false
   },
   "outputs": [
    {
     "data": {
      "text/plain": [
       "race\n",
       "Asian/Pacific Islander    40.800000\n",
       "Black                     34.044444\n",
       "Hispanic/Latino           31.716418\n",
       "Native American           27.750000\n",
       "Unknown                   43.533333\n",
       "White                     40.466102\n",
       "Name: age, dtype: float64"
      ]
     },
     "execution_count": 203,
     "metadata": {},
     "output_type": "execute_result"
    }
   ],
   "source": [
    "# 12. What is the average age of death by race?\n",
    "killings.groupby('race').age.mean()"
   ]
  },
  {
   "cell_type": "code",
   "execution_count": 208,
   "metadata": {
    "collapsed": false
   },
   "outputs": [
    {
     "data": {
      "text/plain": [
       "<matplotlib.text.Text at 0x122a2eb10>"
      ]
     },
     "execution_count": 208,
     "metadata": {},
     "output_type": "execute_result"
    },
    {
     "data": {
      "image/png": "[encoded data removed]",
      "text/plain": [
       "<matplotlib.figure.Figure at 0x11d526850>"
      ]
     },
     "metadata": {},
     "output_type": "display_data"
    }
   ],
   "source": [
    "# 13. Show a bar chart with counts of deaths every month\n",
    "killings.month.value_counts().plot(kind='bar', title='Killings by Month')\n",
    "plt.xlabel('Month')\n",
    "plt.ylabel('Killings')"
   ]
  },
  {
   "cell_type": "code",
   "execution_count": 209,
   "metadata": {
    "collapsed": true
   },
   "outputs": [],
   "source": [
    "###################\n",
    "### Less Morbid ###\n",
    "###################"
   ]
  },
  {
   "cell_type": "code",
   "execution_count": 229,
   "metadata": {
    "collapsed": false
   },
   "outputs": [
    {
     "data": {
      "text/html": [
       "<div>\n",
       "<table border=\"1\" class=\"dataframe\">\n",
       "  <thead>\n",
       "    <tr style=\"text-align: right;\">\n",
       "      <th></th>\n",
       "      <th>Unnamed: 0</th>\n",
       "      <th>Major_code</th>\n",
       "      <th>Major</th>\n",
       "      <th>Major_category</th>\n",
       "      <th>Total</th>\n",
       "      <th>Employed</th>\n",
       "      <th>Employed_full_time_year_round</th>\n",
       "      <th>Unemployed</th>\n",
       "      <th>Unemployment_rate</th>\n",
       "      <th>Median</th>\n",
       "      <th>P25th</th>\n",
       "      <th>P75th</th>\n",
       "    </tr>\n",
       "  </thead>\n",
       "  <tbody>\n",
       "    <tr>\n",
       "      <th>0</th>\n",
       "      <td>0</td>\n",
       "      <td>1100</td>\n",
       "      <td>GENERAL AGRICULTURE</td>\n",
       "      <td>Agriculture &amp; Natural Resources</td>\n",
       "      <td>128148</td>\n",
       "      <td>90245</td>\n",
       "      <td>74078</td>\n",
       "      <td>2423</td>\n",
       "      <td>0.026147</td>\n",
       "      <td>50000</td>\n",
       "      <td>34000</td>\n",
       "      <td>80000.0</td>\n",
       "    </tr>\n",
       "    <tr>\n",
       "      <th>1</th>\n",
       "      <td>1</td>\n",
       "      <td>1101</td>\n",
       "      <td>AGRICULTURE PRODUCTION AND MANAGEMENT</td>\n",
       "      <td>Agriculture &amp; Natural Resources</td>\n",
       "      <td>95326</td>\n",
       "      <td>76865</td>\n",
       "      <td>64240</td>\n",
       "      <td>2266</td>\n",
       "      <td>0.028636</td>\n",
       "      <td>54000</td>\n",
       "      <td>36000</td>\n",
       "      <td>80000.0</td>\n",
       "    </tr>\n",
       "    <tr>\n",
       "      <th>2</th>\n",
       "      <td>2</td>\n",
       "      <td>1102</td>\n",
       "      <td>AGRICULTURAL ECONOMICS</td>\n",
       "      <td>Agriculture &amp; Natural Resources</td>\n",
       "      <td>33955</td>\n",
       "      <td>26321</td>\n",
       "      <td>22810</td>\n",
       "      <td>821</td>\n",
       "      <td>0.030248</td>\n",
       "      <td>63000</td>\n",
       "      <td>40000</td>\n",
       "      <td>98000.0</td>\n",
       "    </tr>\n",
       "    <tr>\n",
       "      <th>3</th>\n",
       "      <td>3</td>\n",
       "      <td>1103</td>\n",
       "      <td>ANIMAL SCIENCES</td>\n",
       "      <td>Agriculture &amp; Natural Resources</td>\n",
       "      <td>103549</td>\n",
       "      <td>81177</td>\n",
       "      <td>64937</td>\n",
       "      <td>3619</td>\n",
       "      <td>0.042679</td>\n",
       "      <td>46000</td>\n",
       "      <td>30000</td>\n",
       "      <td>72000.0</td>\n",
       "    </tr>\n",
       "    <tr>\n",
       "      <th>4</th>\n",
       "      <td>4</td>\n",
       "      <td>1104</td>\n",
       "      <td>FOOD SCIENCE</td>\n",
       "      <td>Agriculture &amp; Natural Resources</td>\n",
       "      <td>24280</td>\n",
       "      <td>17281</td>\n",
       "      <td>12722</td>\n",
       "      <td>894</td>\n",
       "      <td>0.049188</td>\n",
       "      <td>62000</td>\n",
       "      <td>38500</td>\n",
       "      <td>90000.0</td>\n",
       "    </tr>\n",
       "  </tbody>\n",
       "</table>\n",
       "</div>"
      ],
      "text/plain": [
       "   Unnamed: 0  Major_code                                  Major  \\\n",
       "0           0        1100                    GENERAL AGRICULTURE   \n",
       "1           1        1101  AGRICULTURE PRODUCTION AND MANAGEMENT   \n",
       "2           2        1102                 AGRICULTURAL ECONOMICS   \n",
       "3           3        1103                        ANIMAL SCIENCES   \n",
       "4           4        1104                           FOOD SCIENCE   \n",
       "\n",
       "                    Major_category   Total  Employed  \\\n",
       "0  Agriculture & Natural Resources  128148     90245   \n",
       "1  Agriculture & Natural Resources   95326     76865   \n",
       "2  Agriculture & Natural Resources   33955     26321   \n",
       "3  Agriculture & Natural Resources  103549     81177   \n",
       "4  Agriculture & Natural Resources   24280     17281   \n",
       "\n",
       "   Employed_full_time_year_round  Unemployed  Unemployment_rate  Median  \\\n",
       "0                          74078        2423           0.026147   50000   \n",
       "1                          64240        2266           0.028636   54000   \n",
       "2                          22810         821           0.030248   63000   \n",
       "3                          64937        3619           0.042679   46000   \n",
       "4                          12722         894           0.049188   62000   \n",
       "\n",
       "   P25th    P75th  \n",
       "0  34000  80000.0  \n",
       "1  36000  80000.0  \n",
       "2  40000  98000.0  \n",
       "3  30000  72000.0  \n",
       "4  38500  90000.0  "
      ]
     },
     "execution_count": 229,
     "metadata": {},
     "output_type": "execute_result"
    }
   ],
   "source": [
    "majors = pd.read_csv('./data/college-majors.csv')\n",
    "majors.head()"
   ]
  },
  {
   "cell_type": "code",
   "execution_count": 230,
   "metadata": {
    "collapsed": false
   },
   "outputs": [
    {
     "data": {
      "text/plain": [
       "12"
      ]
     },
     "execution_count": 230,
     "metadata": {},
     "output_type": "execute_result"
    }
   ],
   "source": [
    "len(majors.columns)"
   ]
  },
  {
   "cell_type": "code",
   "execution_count": 231,
   "metadata": {
    "collapsed": false
   },
   "outputs": [],
   "source": [
    "# 1. Delete the columns (employed_full_time_year_round, major_code)\n",
    "#majors = majors.drop('employed_full_time_year_round', 1) \n",
    "\n",
    "majors.drop(['Employed_full_time_year_round', 'Major_code'],inplace=True,axis=1)"
   ]
  },
  {
   "cell_type": "code",
   "execution_count": 232,
   "metadata": {
    "collapsed": false
   },
   "outputs": [
    {
     "data": {
      "text/plain": [
       "10"
      ]
     },
     "execution_count": 232,
     "metadata": {},
     "output_type": "execute_result"
    }
   ],
   "source": [
    "len(majors.columns)"
   ]
  },
  {
   "cell_type": "code",
   "execution_count": 234,
   "metadata": {
    "collapsed": false
   },
   "outputs": [
    {
     "data": {
      "text/plain": [
       "Unnamed: 0           0\n",
       "Major                0\n",
       "Major_category       0\n",
       "Total                0\n",
       "Employed             0\n",
       "Unemployed           0\n",
       "Unemployment_rate    0\n",
       "Median               0\n",
       "P25th                0\n",
       "P75th                0\n",
       "dtype: int64"
      ]
     },
     "execution_count": 234,
     "metadata": {},
     "output_type": "execute_result"
    }
   ],
   "source": [
    "# 2. Show the cout of missing values in each column\n",
    "majors.isnull().sum()"
   ]
  },
  {
   "cell_type": "code",
   "execution_count": 378,
   "metadata": {
    "collapsed": false
   },
   "outputs": [
    {
     "data": {
      "text/html": [
       "<div>\n",
       "<table border=\"1\" class=\"dataframe\">\n",
       "  <thead>\n",
       "    <tr style=\"text-align: right;\">\n",
       "      <th></th>\n",
       "      <th>Major</th>\n",
       "      <th>P75th</th>\n",
       "    </tr>\n",
       "  </thead>\n",
       "  <tbody>\n",
       "    <tr>\n",
       "      <th>59</th>\n",
       "      <td>PETROLEUM ENGINEERING</td>\n",
       "      <td>210000.0</td>\n",
       "    </tr>\n",
       "    <tr>\n",
       "      <th>97</th>\n",
       "      <td>MATHEMATICS AND COMPUTER SCIENCE</td>\n",
       "      <td>136000.0</td>\n",
       "    </tr>\n",
       "    <tr>\n",
       "      <th>58</th>\n",
       "      <td>NUCLEAR ENGINEERING</td>\n",
       "      <td>128000.0</td>\n",
       "    </tr>\n",
       "    <tr>\n",
       "      <th>154</th>\n",
       "      <td>PHARMACY PHARMACEUTICAL SCIENCES AND ADMINISTR...</td>\n",
       "      <td>125000.0</td>\n",
       "    </tr>\n",
       "    <tr>\n",
       "      <th>51</th>\n",
       "      <td>GEOLOGICAL AND GEOPHYSICAL ENGINEERING</td>\n",
       "      <td>125000.0</td>\n",
       "    </tr>\n",
       "    <tr>\n",
       "      <th>57</th>\n",
       "      <td>NAVAL ARCHITECTURE AND MARINE ENGINEERING</td>\n",
       "      <td>125000.0</td>\n",
       "    </tr>\n",
       "    <tr>\n",
       "      <th>56</th>\n",
       "      <td>MINING AND MINERAL ENGINEERING</td>\n",
       "      <td>124000.0</td>\n",
       "    </tr>\n",
       "    <tr>\n",
       "      <th>55</th>\n",
       "      <td>METALLURGICAL ENGINEERING</td>\n",
       "      <td>123000.0</td>\n",
       "    </tr>\n",
       "    <tr>\n",
       "      <th>45</th>\n",
       "      <td>CHEMICAL ENGINEERING</td>\n",
       "      <td>120000.0</td>\n",
       "    </tr>\n",
       "    <tr>\n",
       "      <th>48</th>\n",
       "      <td>ELECTRICAL ENGINEERING</td>\n",
       "      <td>116000.0</td>\n",
       "    </tr>\n",
       "  </tbody>\n",
       "</table>\n",
       "</div>"
      ],
      "text/plain": [
       "                                                 Major     P75th\n",
       "59                               PETROLEUM ENGINEERING  210000.0\n",
       "97                    MATHEMATICS AND COMPUTER SCIENCE  136000.0\n",
       "58                                 NUCLEAR ENGINEERING  128000.0\n",
       "154  PHARMACY PHARMACEUTICAL SCIENCES AND ADMINISTR...  125000.0\n",
       "51              GEOLOGICAL AND GEOPHYSICAL ENGINEERING  125000.0\n",
       "57           NAVAL ARCHITECTURE AND MARINE ENGINEERING  125000.0\n",
       "56                      MINING AND MINERAL ENGINEERING  124000.0\n",
       "55                           METALLURGICAL ENGINEERING  123000.0\n",
       "45                                CHEMICAL ENGINEERING  120000.0\n",
       "48                              ELECTRICAL ENGINEERING  116000.0"
      ]
     },
     "execution_count": 378,
     "metadata": {},
     "output_type": "execute_result"
    }
   ],
   "source": [
    "# 3. What are the top 10 highest paying majors?\n",
    "majors.sort_values(by='P75th', ascending=[False])[['Major','P75th']].head(10)"
   ]
  },
  {
   "cell_type": "code",
   "execution_count": 248,
   "metadata": {
    "collapsed": false
   },
   "outputs": [
    {
     "data": {
      "text/plain": [
       "' awesome'"
      ]
     },
     "execution_count": 248,
     "metadata": {},
     "output_type": "execute_result"
    }
   ],
   "source": []
  },
  {
   "cell_type": "code",
   "execution_count": 379,
   "metadata": {
    "collapsed": false
   },
   "outputs": [
    {
     "data": {
      "text/plain": [
       "<matplotlib.axes._subplots.AxesSubplot at 0x1a4531310>"
      ]
     },
     "execution_count": 379,
     "metadata": {},
     "output_type": "execute_result"
    },
    {
     "data": {
      "image/png": "[encoded data removed]",
      "text/plain": [
       "<matplotlib.figure.Figure at 0x1a615cf50>"
      ]
     },
     "metadata": {},
     "output_type": "display_data"
    }
   ],
   "source": [
    "# 4. Plot the data from the last question in a bar chart, include proper title, and labels!\n",
    "majors.sort_values(by='P75th', ascending=[False])[['Major','P75th']].head(10).plot(kind='bar')"
   ]
  },
  {
   "cell_type": "code",
   "execution_count": 380,
   "metadata": {
    "collapsed": false
   },
   "outputs": [
    {
     "data": {
      "text/plain": [
       "Major_category\n",
       "Agriculture & Natural Resources        55000.000000\n",
       "Arts                                   43525.000000\n",
       "Biology & Life Science                 50821.428571\n",
       "Business                               60615.384615\n",
       "Communications & Journalism            49500.000000\n",
       "Computers & Mathematics                66272.727273\n",
       "Education                              43831.250000\n",
       "Engineering                            77758.620690\n",
       "Health                                 56458.333333\n",
       "Humanities & Liberal Arts              46080.000000\n",
       "Industrial Arts & Consumer Services    52642.857143\n",
       "Interdisciplinary                      43000.000000\n",
       "Law & Public Policy                    52800.000000\n",
       "Physical Sciences                      62400.000000\n",
       "Psychology & Social Work               44555.555556\n",
       "Social Science                         53222.222222\n",
       "Name: Median, dtype: float64"
      ]
     },
     "execution_count": 380,
     "metadata": {},
     "output_type": "execute_result"
    }
   ],
   "source": [
    "# 5. What is the average median salary for each major category?\n",
    "majors.groupby('Major_category')['Median'].mean()\n"
   ]
  },
  {
   "cell_type": "code",
   "execution_count": 381,
   "metadata": {
    "collapsed": false
   },
   "outputs": [
    {
     "data": {
      "text/plain": [
       "Major_category\n",
       "Health                     56458.333333\n",
       "Business                   60615.384615\n",
       "Physical Sciences          62400.000000\n",
       "Computers & Mathematics    66272.727273\n",
       "Engineering                77758.620690\n",
       "Name: Median, dtype: float64"
      ]
     },
     "execution_count": 381,
     "metadata": {},
     "output_type": "execute_result"
    }
   ],
   "source": [
    "# 6. Show only the top 5 paying major categories\n",
    "majors.groupby('Major_category')['Median'].mean().sort_values().tail()"
   ]
  },
  {
   "cell_type": "code",
   "execution_count": 382,
   "metadata": {
    "collapsed": false
   },
   "outputs": [
    {
     "data": {
      "text/plain": [
       "<matplotlib.axes._subplots.AxesSubplot at 0x1a406c810>"
      ]
     },
     "execution_count": 382,
     "metadata": {},
     "output_type": "execute_result"
    },
    {
     "data": {
      "image/png": "[encoded data removed]",
      "text/plain": [
       "<matplotlib.figure.Figure at 0x1af645250>"
      ]
     },
     "metadata": {},
     "output_type": "display_data"
    }
   ],
   "source": [
    "# 7. Plot a histogram of the distribution of median salaries\n",
    "majors['Median'].hist()"
   ]
  },
  {
   "cell_type": "code",
   "execution_count": 383,
   "metadata": {
    "collapsed": false
   },
   "outputs": [
    {
     "data": {
      "text/plain": [
       "<matplotlib.axes._subplots.AxesSubplot at 0x1924de850>"
      ]
     },
     "execution_count": 383,
     "metadata": {},
     "output_type": "execute_result"
    },
    {
     "data": {
      "image/png": "[encoded data removed]",
      "text/plain": [
       "<matplotlib.figure.Figure at 0x192368ad0>"
      ]
     },
     "metadata": {},
     "output_type": "display_data"
    }
   ],
   "source": [
    "# 8. Plot a histogram of the distribution of median salaries by major category\n",
    "majors.groupby('Major_category')['Median'].mean().sort_values().hist()"
   ]
  },
  {
   "cell_type": "code",
   "execution_count": 384,
   "metadata": {
    "collapsed": false
   },
   "outputs": [
    {
     "data": {
      "text/plain": [
       "51         GEOLOGICAL AND GEOPHYSICAL ENGINEERING\n",
       "26     EDUCATIONAL ADMINISTRATION AND SUPERVISION\n",
       "85                                   PHARMACOLOGY\n",
       "111                             MATERIALS SCIENCE\n",
       "97               MATHEMATICS AND COMPUTER SCIENCE\n",
       "27                      SCHOOL STUDENT COUNSELING\n",
       "93                          MILITARY TECHNOLOGIES\n",
       "83                                       GENETICS\n",
       "103                             PHYSICAL SCIENCES\n",
       "7                       MISCELLANEOUS AGRICULTURE\n",
       "Name: Major, dtype: object"
      ]
     },
     "execution_count": 384,
     "metadata": {},
     "output_type": "execute_result"
    }
   ],
   "source": [
    "# 9. What are the top 10 most UNemployed majors?\n",
    "majors.sort_values(by=\"Unemployed\")['Major'].head(10)"
   ]
  },
  {
   "cell_type": "code",
   "execution_count": 385,
   "metadata": {
    "collapsed": false
   },
   "outputs": [
    {
     "data": {
      "text/plain": [
       "26     0.000000\n",
       "51     0.000000\n",
       "85     0.016111\n",
       "111    0.022333\n",
       "97     0.024900\n",
       "0      0.026147\n",
       "155    0.026292\n",
       "153    0.026797\n",
       "1      0.028636\n",
       "2      0.030248\n",
       "150    0.031357\n",
       "5      0.031791\n",
       "29     0.032983\n",
       "36     0.033357\n",
       "80     0.034024\n",
       "154    0.034358\n",
       "151    0.036210\n",
       "105    0.036726\n",
       "28     0.038359\n",
       "103    0.038953\n",
       "39     0.039215\n",
       "7      0.039230\n",
       "57     0.040309\n",
       "38     0.040973\n",
       "83     0.041591\n",
       "41     0.041971\n",
       "32     0.042200\n",
       "59     0.042205\n",
       "102    0.042505\n",
       "9      0.042563\n",
       "         ...   \n",
       "172    0.073500\n",
       "74     0.073615\n",
       "142    0.073920\n",
       "95     0.074330\n",
       "101    0.075020\n",
       "22     0.075046\n",
       "115    0.075631\n",
       "94     0.077269\n",
       "76     0.077844\n",
       "128    0.078176\n",
       "44     0.079036\n",
       "123    0.079217\n",
       "139    0.080274\n",
       "67     0.081348\n",
       "120    0.082009\n",
       "15     0.083005\n",
       "118    0.083629\n",
       "145    0.083714\n",
       "17     0.085009\n",
       "143    0.085619\n",
       "11     0.085991\n",
       "104    0.086022\n",
       "119    0.087336\n",
       "19     0.090264\n",
       "141    0.094658\n",
       "77     0.094843\n",
       "27     0.101746\n",
       "93     0.101796\n",
       "116    0.102712\n",
       "146    0.156147\n",
       "Name: Unemployment_rate, dtype: float64"
      ]
     },
     "execution_count": 385,
     "metadata": {},
     "output_type": "execute_result"
    }
   ],
   "source": [
    "# What are the unemployment rates?\n",
    "majors.sort_values(by=\"Unemployment_rate\")['Unemployment_rate']"
   ]
  },
  {
   "cell_type": "code",
   "execution_count": 386,
   "metadata": {
    "collapsed": false
   },
   "outputs": [
    {
     "data": {
      "text/plain": [
       "Major_category\n",
       "Agriculture & Natural Resources        0.039569\n",
       "Arts                                   0.087601\n",
       "Biology & Life Science                 0.049936\n",
       "Business                               0.054496\n",
       "Communications & Journalism            0.069125\n",
       "Computers & Mathematics                0.059437\n",
       "Education                              0.046762\n",
       "Engineering                            0.050630\n",
       "Health                                 0.047209\n",
       "Humanities & Liberal Arts              0.069429\n",
       "Industrial Arts & Consumer Services    0.058546\n",
       "Interdisciplinary                      0.077269\n",
       "Law & Public Policy                    0.067854\n",
       "Physical Sciences                      0.054541\n",
       "Psychology & Social Work               0.077867\n",
       "Social Science                         0.065686\n",
       "Name: Unemployment_rate, dtype: float64"
      ]
     },
     "execution_count": 386,
     "metadata": {},
     "output_type": "execute_result"
    }
   ],
   "source": [
    "# 10. What are the top 10 most UNemployed majors CATEGORIES? Use the mean for each category\n",
    "# What are the unemployment rates?\n",
    "majors.groupby('Major_category')['Unemployment_rate'].mean()"
   ]
  },
  {
   "cell_type": "code",
   "execution_count": 388,
   "metadata": {
    "collapsed": false
   },
   "outputs": [
    {
     "data": {
      "text/plain": [
       "0    0.704225\n",
       "1    0.806338\n",
       "2    0.775173\n",
       "3    0.783948\n",
       "4    0.711738\n",
       "Name: sample_employment_rate, dtype: float64"
      ]
     },
     "execution_count": 388,
     "metadata": {},
     "output_type": "execute_result"
    }
   ],
   "source": [
    "# 11. the total and employed column refer to the people that were surveyed.\n",
    "# Create a new column showing the emlpoyment rate of the people surveyed for each major\n",
    "# call it \"sample_employment_rate\"\n",
    "# Example the first row has total: 128148 and employed: 90245. it's \n",
    "# sample_employment_rate should be 90245.0 / 128148.0 = .7042\n",
    "majors['sample_employment_rate'] = majors['Employed'] / majors['Total']\n",
    "majors.sample_employment_rate.head()"
   ]
  },
  {
   "cell_type": "code",
   "execution_count": 391,
   "metadata": {
    "collapsed": false
   },
   "outputs": [
    {
     "data": {
      "text/plain": [
       "0    0.295775\n",
       "1    0.193662\n",
       "2    0.224827\n",
       "3    0.216052\n",
       "4    0.288262\n",
       "Name: sample_unemployment_rate, dtype: float64"
      ]
     },
     "execution_count": 391,
     "metadata": {},
     "output_type": "execute_result"
    }
   ],
   "source": [
    "# 12. Create a \"sample_unemployment_rate\" column\n",
    "# this column should be 1 - \"sample_employment_rate\"\n",
    "majors['sample_unemployment_rate'] = (majors['Total']-majors['Employed']) / majors['Total']\n",
    "majors.sample_unemployment_rate.head()"
   ]
  },
  {
   "cell_type": "code",
   "execution_count": null,
   "metadata": {
    "collapsed": true
   },
   "outputs": [],
   "source": []
  }
 ],
 "metadata": {
  "anaconda-cloud": {},
  "kernelspec": {
   "display_name": "Python 2",
   "language": "python",
   "name": "python2"
  },
  "language_info": {
   "codemirror_mode": {
    "name": "ipython",
    "version": 2
   },
   "file_extension": ".py",
   "mimetype": "text/x-python",
   "name": "python",
   "nbconvert_exporter": "python",
   "pygments_lexer": "ipython2",
   "version": "2.7.11"
  }
 },
 "nbformat": 4,
 "nbformat_minor": 0
}
